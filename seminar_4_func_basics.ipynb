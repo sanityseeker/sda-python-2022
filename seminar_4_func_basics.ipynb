{
 "cells": [
  {
   "cell_type": "markdown",
   "id": "4c83beca-5bd3-4ecb-801d-7b7ada59362f",
   "metadata": {},
   "source": [
    "# Functions"
   ]
  },
  {
   "cell_type": "markdown",
   "id": "cb92c99b-0a8c-4888-95f0-f7d0db5c47d0",
   "metadata": {},
   "source": [
    "Functions -- \"first class objects\":\n",
    "    \n",
    "    - создаются в рантайме\n",
    "    - присваиваются переменным или элементам в структурах данных\n",
    "    - используются как аргумент в других функциях\n",
    "    - возвращаются как результат работы функций\n",
    "    \n",
    "Ровно так же работают, например, string, list и прочие рассмотренные ранее примеры "
   ]
  },
  {
   "cell_type": "markdown",
   "id": "2f20e3cd-d190-4303-8e79-f41b78b8b7be",
   "metadata": {},
   "source": [
    "## Базовый синтаксис"
   ]
  },
  {
   "cell_type": "markdown",
   "id": "8565ed53-a8df-4193-a3c1-02e7f4601197",
   "metadata": {},
   "source": [
    "### Аргументы и вызов"
   ]
  },
  {
   "cell_type": "code",
   "execution_count": null,
   "id": "6b6db521-a5aa-48ae-9c99-fcf535b01dd3",
   "metadata": {},
   "outputs": [],
   "source": [
    "def func():  # name and function arguments\n",
    "    '''\n",
    "    Doc string to be shown in help\n",
    "    '''\n",
    "    print(\"Hello, world!\") # body\n",
    "\n",
    "func()"
   ]
  },
  {
   "cell_type": "code",
   "execution_count": null,
   "id": "9b63d95d-a5b8-4136-aa45-a0f49e800de3",
   "metadata": {},
   "outputs": [],
   "source": [
    "help(func)"
   ]
  },
  {
   "cell_type": "code",
   "execution_count": null,
   "id": "0cfb16af-8a4b-42ee-85c1-4623802b8b80",
   "metadata": {},
   "outputs": [],
   "source": [
    "func.__doc__"
   ]
  },
  {
   "cell_type": "markdown",
   "id": "63e400b7-4f0b-47fa-a4bf-bb710c633fbe",
   "metadata": {},
   "source": [
    "Пример простейшей функции с аргументами"
   ]
  },
  {
   "cell_type": "code",
   "execution_count": null,
   "id": "848843da-0050-40ad-98c9-ae34a1ea7bb1",
   "metadata": {},
   "outputs": [],
   "source": [
    "def func(a, b):\n",
    "    print(a + b)\n",
    "\n",
    "func([1, 2], [4, 5])"
   ]
  },
  {
   "cell_type": "markdown",
   "id": "4e617658-c989-4f22-8df1-706c2e4925b2",
   "metadata": {},
   "source": [
    "Аргументы функций могут иметь дефолтные значения"
   ]
  },
  {
   "cell_type": "code",
   "execution_count": null,
   "id": "ec3fc541-35fb-4e5f-b132-39af640a1db2",
   "metadata": {},
   "outputs": [],
   "source": [
    "def func(a, b='value'):\n",
    "    print(a, b)"
   ]
  },
  {
   "cell_type": "code",
   "execution_count": null,
   "id": "cd1a9f2d-36b0-4969-a4e3-a588fb97edcd",
   "metadata": {},
   "outputs": [],
   "source": [
    "func(1)  # value -- дефолтное значение"
   ]
  },
  {
   "cell_type": "markdown",
   "id": "7cf21fe7-8ba1-4b96-9cc5-51d93eb20d11",
   "metadata": {},
   "source": [
    "При вызове функции мы оперируем понятиями `positional argument` и `keyword argument`"
   ]
  },
  {
   "cell_type": "code",
   "execution_count": null,
   "id": "7e769e67-59ec-4fe7-89eb-e94c300b6f81",
   "metadata": {},
   "outputs": [],
   "source": [
    "func(a=10, b='another_value')  # Вызвали с использованием keyword arguments"
   ]
  },
  {
   "cell_type": "code",
   "execution_count": null,
   "id": "984fc931-8d07-420c-92e5-e95c0291f07f",
   "metadata": {},
   "outputs": [],
   "source": [
    "func(10, 'another_value')  # Вызвали с использованием positional arguments"
   ]
  },
  {
   "cell_type": "markdown",
   "id": "a1c307cb-bbc2-482f-b621-db57f65dcdee",
   "metadata": {},
   "source": [
    "В сигнатуре можно явно задать необходимость указания аргументов по имени"
   ]
  },
  {
   "cell_type": "code",
   "execution_count": null,
   "id": "97fcdd98-64cc-43a2-b417-74691054f10b",
   "metadata": {},
   "outputs": [],
   "source": [
    "def func(a, b='value', *, c='important named arg'):\n",
    "    print(a, b, c)"
   ]
  },
  {
   "cell_type": "code",
   "execution_count": null,
   "id": "66b8f605-b1ad-4b83-9bcd-3302cee6bda2",
   "metadata": {},
   "outputs": [],
   "source": [
    "func(1, 'val', 'val2')"
   ]
  },
  {
   "cell_type": "code",
   "execution_count": null,
   "id": "4827d54c-019e-4c3a-94fa-bbe911bfce0c",
   "metadata": {},
   "outputs": [],
   "source": [
    "func(1, 'val')"
   ]
  },
  {
   "cell_type": "code",
   "execution_count": null,
   "id": "d01f8b22-dbbf-47cd-b743-8f75771fd88c",
   "metadata": {},
   "outputs": [],
   "source": [
    "func(1, 'val', c='val2')"
   ]
  },
  {
   "cell_type": "markdown",
   "id": "be5e1a11-1320-406d-ac14-20a7dc968ccd",
   "metadata": {},
   "source": [
    "### return"
   ]
  },
  {
   "cell_type": "markdown",
   "id": "bdf11541-2b4b-4b5b-9204-4d49ca82ea56",
   "metadata": {},
   "source": [
    "Функция может возвращать что-то"
   ]
  },
  {
   "cell_type": "code",
   "execution_count": null,
   "id": "4a6c39ef-25e5-428e-aa44-d609af5464c8",
   "metadata": {},
   "outputs": [],
   "source": [
    "def func(a, b='value', *, c='important named arg'):\n",
    "    return a, b"
   ]
  },
  {
   "cell_type": "code",
   "execution_count": null,
   "id": "ffec2e2d-f614-4714-b136-00dadc837451",
   "metadata": {},
   "outputs": [],
   "source": [
    "a = 1\n",
    "b = 'some_val'\n",
    "\n",
    "c, d = func(a, b)"
   ]
  },
  {
   "cell_type": "code",
   "execution_count": null,
   "id": "2c81d2cd-3901-419a-8176-cd52540c603c",
   "metadata": {},
   "outputs": [],
   "source": [
    "id(a), id(b)"
   ]
  },
  {
   "cell_type": "code",
   "execution_count": null,
   "id": "63c524a9-4e05-4d43-96f4-5bf0baf3bb61",
   "metadata": {},
   "outputs": [],
   "source": [
    "id(c), id(d)"
   ]
  },
  {
   "cell_type": "code",
   "execution_count": null,
   "id": "78e0fff4-0c41-42bb-ae66-9959e2a56e0e",
   "metadata": {},
   "outputs": [],
   "source": [
    "def change_list(a: list):\n",
    "    a.append(10)"
   ]
  },
  {
   "cell_type": "markdown",
   "id": "ca993042-358f-4256-bb2f-ee6c462c9508",
   "metadata": {},
   "source": [
    "## Higher order functions"
   ]
  },
  {
   "cell_type": "markdown",
   "id": "dcd24aaf-0adc-4494-bcf2-92d9aa7168f2",
   "metadata": {},
   "source": [
    "Что-то там было про функции в качестве аргументов и возвращаемых значений..."
   ]
  },
  {
   "cell_type": "markdown",
   "id": "5a5bffc0-1f26-4dde-89a9-e3631cdf8b6f",
   "metadata": {},
   "source": [
    "Рассмотрим пример на списке, у которого элементы имеют разные типы"
   ]
  },
  {
   "cell_type": "code",
   "execution_count": null,
   "id": "0051b79e-f5d6-4b81-9ee3-cfe6a0bf5db0",
   "metadata": {},
   "outputs": [],
   "source": [
    "sample_list = [1, [2.], '3 ', (4, 5), 8.]\n",
    "sample_list"
   ]
  },
  {
   "cell_type": "markdown",
   "id": "95597896-49df-4263-a801-62e2304924fe",
   "metadata": {},
   "source": [
    "Как бы нам его посортировать..."
   ]
  },
  {
   "cell_type": "code",
   "execution_count": null,
   "id": "3a30403b-56b7-46e8-9d9c-97a0fdb3fef5",
   "metadata": {},
   "outputs": [],
   "source": [
    "sorted(sample_list)"
   ]
  },
  {
   "cell_type": "markdown",
   "id": "4633ab2d-a615-4fda-8cf2-dbdda27e8f78",
   "metadata": {},
   "source": [
    "Не понятно, как сравнивать разные типы. Но теперь-то мы можем создавать свои функции, давайте исправим. Какие варианты вы можете предложить?"
   ]
  },
  {
   "cell_type": "code",
   "execution_count": null,
   "id": "76d7da92-f01a-41b2-b35b-6829679185b4",
   "metadata": {},
   "outputs": [],
   "source": [
    "def my_key(element):\n",
    "    # your_code\n",
    "\n",
    "sorted(sample_list, key=my_key)"
   ]
  },
  {
   "cell_type": "markdown",
   "id": "40785fdf-23c1-4602-99de-0be5352d7780",
   "metadata": {},
   "source": [
    "Еще один пример -- функция **map**"
   ]
  },
  {
   "cell_type": "code",
   "execution_count": null,
   "id": "9182aa23-9ad7-464a-b6f7-033b7de08de9",
   "metadata": {},
   "outputs": [],
   "source": [
    "int_texts = '123456'\n",
    "map(int, int_texts)"
   ]
  },
  {
   "cell_type": "markdown",
   "id": "ed11e940-3f5e-4a35-8fa2-5215a88fad57",
   "metadata": {},
   "source": [
    "Возвращает объект, по которому нужно проитерироваться"
   ]
  },
  {
   "cell_type": "code",
   "execution_count": null,
   "id": "c6f6a504-8924-49af-8276-49d1e0468da5",
   "metadata": {},
   "outputs": [],
   "source": [
    "for elem in map(int, int_texts):\n",
    "    print(elem)"
   ]
  },
  {
   "cell_type": "code",
   "execution_count": null,
   "id": "b5016ed4-ea81-4299-b739-af464dfddfad",
   "metadata": {},
   "outputs": [],
   "source": [
    "list(map(int, int_texts))"
   ]
  },
  {
   "cell_type": "markdown",
   "id": "3684833f-21d3-4d7b-93fe-e8f464bd2bcd",
   "metadata": {},
   "source": [
    "## Рекурсия"
   ]
  },
  {
   "cell_type": "markdown",
   "id": "306911e8-afd4-4500-8067-26f9f1c4f356",
   "metadata": {},
   "source": [
    "Функция может вызывать саму себя внутри. Классический пример -- вычисление факториала"
   ]
  },
  {
   "cell_type": "code",
   "execution_count": null,
   "id": "30d62324-eba7-4529-ada6-84802a9f719f",
   "metadata": {},
   "outputs": [],
   "source": [
    "def fact(n):\n",
    "    if n == 0:\n",
    "        return 1  # условие выхода из рекурсии\n",
    "    return n * fact(n - 1)"
   ]
  },
  {
   "cell_type": "code",
   "execution_count": null,
   "id": "17d1a091-0c24-48bb-8184-5115e0bdbf8d",
   "metadata": {},
   "outputs": [],
   "source": [
    "fact(4)"
   ]
  },
  {
   "cell_type": "code",
   "execution_count": null,
   "id": "d0c7479a-4db3-44da-9d34-1cb908344744",
   "metadata": {},
   "outputs": [],
   "source": [
    "1 * 2 * 3 * 4"
   ]
  },
  {
   "cell_type": "markdown",
   "id": "eac02ae0-f371-4931-9440-591165cfd828",
   "metadata": {},
   "source": [
    "### Annotations"
   ]
  },
  {
   "cell_type": "markdown",
   "id": "dadfdba3-1441-404b-8199-8d900f6d9b01",
   "metadata": {},
   "source": [
    "В Python можно назначить метаданные для аргументов и выходного значения функции "
   ]
  },
  {
   "cell_type": "code",
   "execution_count": null,
   "id": "f20b6cee",
   "metadata": {},
   "outputs": [],
   "source": [
    "def test_str(s: str, max_len: int = 10, name: str = 'test') -> int:\n",
    "    some_var = 0\n",
    "    other_var = '10'\n",
    "    return s[:max_len]"
   ]
  },
  {
   "cell_type": "markdown",
   "id": "a36ccedd-0f7a-4ba7-9de1-53dff8635d10",
   "metadata": {},
   "source": [
    "Аннотации могут быть любым выражением. Они игнорируются во время выполнения программы. Доступ можно получить через поле `__annotations__`"
   ]
  },
  {
   "cell_type": "code",
   "execution_count": null,
   "id": "bc703b26",
   "metadata": {},
   "outputs": [],
   "source": [
    "test_str.__annotations__"
   ]
  },
  {
   "cell_type": "markdown",
   "id": "d6a5b592-f74f-435a-885f-0cc22dc58859",
   "metadata": {},
   "source": [
    "Эту информацию могут использовать декораторы, ide или библиотеки (например, для проверки синтаксиса)"
   ]
  },
  {
   "cell_type": "code",
   "execution_count": null,
   "id": "9eee2347",
   "metadata": {},
   "outputs": [],
   "source": [
    "from inspect import signature"
   ]
  },
  {
   "cell_type": "code",
   "execution_count": null,
   "id": "f5f6044d",
   "metadata": {},
   "outputs": [],
   "source": [
    "sig = signature(test_str)"
   ]
  },
  {
   "cell_type": "code",
   "execution_count": null,
   "id": "534ccf30",
   "metadata": {},
   "outputs": [],
   "source": [
    "sig.return_annotation"
   ]
  },
  {
   "cell_type": "code",
   "execution_count": null,
   "id": "ffc2ddd5",
   "metadata": {},
   "outputs": [],
   "source": [
    "sig.parameters.values()"
   ]
  },
  {
   "cell_type": "markdown",
   "id": "c2a73962-3a9a-4a4f-9bed-5d081feb81b3",
   "metadata": {},
   "source": [
    "### Variable scope"
   ]
  },
  {
   "cell_type": "code",
   "execution_count": null,
   "id": "0721073b",
   "metadata": {},
   "outputs": [],
   "source": [
    "def func_1(a):\n",
    "    print(a)\n",
    "    print(b)\n",
    "    \n",
    "func_1(42)"
   ]
  },
  {
   "cell_type": "markdown",
   "id": "1b5f6bbe-bdd4-41b7-a505-d3823d534f62",
   "metadata": {},
   "source": [
    "Логичная ошибка"
   ]
  },
  {
   "cell_type": "code",
   "execution_count": null,
   "id": "057fd931",
   "metadata": {},
   "outputs": [],
   "source": [
    "b = 1337\n",
    "\n",
    "func_1(42)"
   ]
  },
  {
   "cell_type": "markdown",
   "id": "d6cf8807-1976-4e6a-8b3f-ad4833508819",
   "metadata": {},
   "source": [
    "А что если?"
   ]
  },
  {
   "cell_type": "code",
   "execution_count": null,
   "id": "0872028b",
   "metadata": {},
   "outputs": [],
   "source": [
    "b = 6\n",
    "def func_2(a):\n",
    "    print(a)\n",
    "    print(b)\n",
    "    b = 9\n",
    "    \n",
    "func_2(42)"
   ]
  },
  {
   "cell_type": "markdown",
   "id": "4c4b4180-9fa6-4cad-8da9-8fe01f4cd055",
   "metadata": {},
   "source": [
    "Заметим, что 42 у нас напечаталось! Почему не напечаталось b?"
   ]
  },
  {
   "cell_type": "markdown",
   "id": "007e3291-0959-4971-b6e8-b0db034883f2",
   "metadata": {},
   "source": [
    "Потому что в Python предполагается, что локальные переменные объявлены внутри функции. И поскольку объявление b внутри функции есть, мы получаем ошибку."
   ]
  },
  {
   "cell_type": "markdown",
   "id": "9096109f-b69e-4e9e-b211-6a3bfed24170",
   "metadata": {},
   "source": [
    "Как можно поправить?"
   ]
  },
  {
   "cell_type": "code",
   "execution_count": null,
   "id": "b7f2fd0d",
   "metadata": {},
   "outputs": [],
   "source": [
    "b = 6\n",
    "def func_fixed(a):\n",
    "    global b\n",
    "    print(a)\n",
    "    print(b)\n",
    "    b = 9\n",
    "    \n",
    "func_fixed(42)"
   ]
  },
  {
   "cell_type": "markdown",
   "id": "165b1a6c-b78c-4bd6-8ed0-b64a07ba7d27",
   "metadata": {},
   "source": [
    "Но be careful!"
   ]
  },
  {
   "cell_type": "code",
   "execution_count": null,
   "id": "32f3be58",
   "metadata": {},
   "outputs": [],
   "source": [
    "b"
   ]
  },
  {
   "cell_type": "markdown",
   "id": "a3e2835b-9a7e-424c-9956-1de442f465da",
   "metadata": {},
   "source": [
    "## Практика"
   ]
  },
  {
   "cell_type": "markdown",
   "id": "12dd88f4-91b4-42e5-8542-06a30cd6e506",
   "metadata": {},
   "source": [
    "### Бинпоиск"
   ]
  },
  {
   "cell_type": "markdown",
   "id": "1a32a82c-5abe-4b8f-ba4f-4841e1d7c800",
   "metadata": {},
   "source": [
    "Поиск элемента в отсортированном по неубыванию массиве.\n",
    "\n",
    "1. Считаем индекс середины массива\n",
    "2. Если элемент по этому индексу и есть искомый, то возвращаем индекс\n",
    "3. Если средний элемент < искомого, то производим такой же поиск в правой половине массива\n",
    "4. Если средний элемент > искомого, то ищем в левой половине"
   ]
  },
  {
   "cell_type": "code",
   "execution_count": null,
   "id": "210e04f8-d62e-4eea-afa9-72854a92c694",
   "metadata": {},
   "outputs": [],
   "source": [
    "def binary_search_recursive():\n",
    "    pass"
   ]
  },
  {
   "cell_type": "code",
   "execution_count": null,
   "id": "013ee04d-bd61-4a8c-95ea-f2be438cedb0",
   "metadata": {},
   "outputs": [],
   "source": [
    "def binary_search(arr: list, value: int) -> int:\n",
    "    pass"
   ]
  },
  {
   "cell_type": "markdown",
   "id": "ee6aada6-820c-414e-ba5a-7527e3641d86",
   "metadata": {},
   "source": [
    "### Bisect"
   ]
  },
  {
   "cell_type": "markdown",
   "id": "e18e3d4d-8dd6-4a9c-a98a-8d957c852cd5",
   "metadata": {},
   "source": [
    "https://docs.python.org/3/library/bisect.html"
   ]
  },
  {
   "cell_type": "markdown",
   "id": "0645ca31-17c7-4fd3-86ac-6c3636057344",
   "metadata": {},
   "source": [
    "**bisect** -- модуль, в котором реализованы операции по поиску наилучшего идекса вставки элемента в отсортированный массив. Внутри функции реализованы по принципу бинарного поиска по аналогии с алгоритмом, который мы рассмотрели выше "
   ]
  },
  {
   "cell_type": "code",
   "execution_count": null,
   "id": "eb125c34-c225-41b2-a907-a54c419a1006",
   "metadata": {},
   "outputs": [],
   "source": [
    "from bisect import bisect_left, bisect_right\n",
    " \n",
    "def binary_search_bisect(arr, value):\n",
    "    i = bisect_left(arr, value)\n",
    "    if i != len(arr) and arr[i] == value:\n",
    "        return i\n",
    "    else:\n",
    "        return -1"
   ]
  },
  {
   "cell_type": "code",
   "execution_count": null,
   "id": "bc582a5e-552e-472c-8dfb-088b962e569e",
   "metadata": {},
   "outputs": [],
   "source": [
    "arr = [1, 3, 5, 8, 9, 12, 15, 29, 45]\n",
    "value = 5\n",
    "\n",
    "print(bisect_left(arr, value))\n",
    "print(bisect_right(arr, value))"
   ]
  },
  {
   "cell_type": "markdown",
   "id": "701fd1a3-57f2-4ef6-bb22-76d874b42917",
   "metadata": {},
   "source": [
    "Проверим, насколько использование bisect быстрее, чем обычная проверка за линию"
   ]
  },
  {
   "cell_type": "code",
   "execution_count": null,
   "id": "b3a3d281-7085-4a12-b46c-c953516f9e65",
   "metadata": {},
   "outputs": [],
   "source": [
    "size = 10**6\n",
    "large_array = [i for i in range(size)]"
   ]
  },
  {
   "cell_type": "code",
   "execution_count": null,
   "id": "a74465a6-e5cd-49e3-8b4b-ae4aafee7269",
   "metadata": {},
   "outputs": [],
   "source": [
    "value = 900000"
   ]
  },
  {
   "cell_type": "code",
   "execution_count": null,
   "id": "8548f49d-ca3f-44cb-a506-155ed0293ada",
   "metadata": {
    "tags": []
   },
   "outputs": [],
   "source": [
    "%%timeit -n 1000\n",
    "# standard way to find if some value exists in a sequence"
   ]
  },
  {
   "cell_type": "code",
   "execution_count": null,
   "id": "e8624dda-fe39-4c2b-9562-e1964291a0d4",
   "metadata": {
    "tags": []
   },
   "outputs": [],
   "source": [
    "%%timeit -n 1000\n",
    "# standard way to find the index of some value in a sequence"
   ]
  },
  {
   "cell_type": "code",
   "execution_count": null,
   "id": "1018da76-ad5b-4a35-9fdf-f92041448d1f",
   "metadata": {},
   "outputs": [],
   "source": [
    "%%timeit -n 1000\n",
    "binary_search_bisect(large_array, value)"
   ]
  },
  {
   "cell_type": "markdown",
   "id": "b0c56af2-2238-4992-9316-49e77ca53c8f",
   "metadata": {},
   "source": [
    "Некоторые примеры из документации"
   ]
  },
  {
   "cell_type": "code",
   "execution_count": null,
   "id": "9ecb288c-c0f3-4a43-ab7d-54aee01c88b8",
   "metadata": {},
   "outputs": [],
   "source": [
    "def index(a, x):\n",
    "    'Locate the leftmost value exactly equal to x'\n",
    "    i = bisect_left(a, x)\n",
    "    if i != len(a) and a[i] == x:\n",
    "        return i\n",
    "    raise ValueError\n",
    "\n",
    "def find_lt(a, x):\n",
    "    'Find rightmost value less than x'\n",
    "    i = bisect_left(a, x)\n",
    "    if i:\n",
    "        return a[i-1]\n",
    "    raise ValueError\n",
    "\n",
    "def find_le(a, x):\n",
    "    'Find rightmost value less than or equal to x'\n",
    "    i = bisect_right(a, x)\n",
    "    if i:\n",
    "        return a[i-1]\n",
    "    raise ValueError\n",
    "\n",
    "def find_gt(a, x):\n",
    "    'Find leftmost value greater than x'\n",
    "    i = bisect_right(a, x)\n",
    "    if i != len(a):\n",
    "        return a[i]\n",
    "    raise ValueError\n",
    "\n",
    "def find_ge(a, x):\n",
    "    'Find leftmost item greater than or equal to x'\n",
    "    i = bisect_left(a, x)\n",
    "    if i != len(a):\n",
    "        return a[i]\n",
    "    raise ValueError"
   ]
  },
  {
   "cell_type": "markdown",
   "id": "31f16ced-227b-460e-b808-ffac4ec1a777",
   "metadata": {},
   "source": [
    "### Наибольший общий делитель"
   ]
  },
  {
   "cell_type": "markdown",
   "id": "4a36dfc5-cbdc-4cc9-8ce6-22a5a8031ba7",
   "metadata": {},
   "source": [
    "$a$, $b$ -- неотрицательные числа. Наибольший общий делитель -- наибольшее число, которое является делителем и $a$, и $b$.\n",
    "\n",
    "Существует алгоритм Евклида, который можно писать так:\n",
    "\n",
    "`gcd(a, b) = a if b = 0`\n",
    "`gcd(a, b) = gcd(a, a mod b) otherwise`"
   ]
  },
  {
   "cell_type": "markdown",
   "id": "95d6f160-c366-4673-a3bb-06605c6e80d3",
   "metadata": {},
   "source": [
    "**Реализация рекурсией**"
   ]
  },
  {
   "cell_type": "code",
   "execution_count": null,
   "id": "afe9d3d0-ac34-4db4-9622-6eafe643900d",
   "metadata": {},
   "outputs": [],
   "source": [
    "def gcd_recursive(a, b):\n",
    "    pass"
   ]
  },
  {
   "cell_type": "markdown",
   "id": "17c35c72-c01f-4f20-8095-0beb5d377cf7",
   "metadata": {},
   "source": [
    "**Реализация циклом**"
   ]
  },
  {
   "cell_type": "code",
   "execution_count": null,
   "id": "3250149d-8552-4ff0-9838-4bd969275d7d",
   "metadata": {},
   "outputs": [],
   "source": [
    "def gcd(a, b):\n",
    "    pass"
   ]
  },
  {
   "cell_type": "markdown",
   "id": "e8d75785-3e75-4751-a640-2e73199a2423",
   "metadata": {},
   "source": [
    "### Проверка на палиндром"
   ]
  },
  {
   "cell_type": "markdown",
   "id": "1209f70a-9a62-40bc-b4e6-e86411c58976",
   "metadata": {},
   "source": [
    "A phrase is a palindrome if, after converting all uppercase letters into lowercase letters and removing all non-alphanumeric characters, it reads the same forward and backward. Alphanumeric characters include letters and numbers.\n",
    "\n",
    "Given a string s, return true if it is a palindrome, or false otherwise."
   ]
  },
  {
   "cell_type": "markdown",
   "id": "f2b6f3b0-49b2-4b90-81e5-7502a680adc4",
   "metadata": {},
   "source": [
    "Напишите функцию проверки, которая принимает в качестве параметра Iterable из предложений и возвращает результат в формате:\n",
    "`[index of example: is palindrome,...]`"
   ]
  },
  {
   "cell_type": "code",
   "execution_count": null,
   "id": "f1e2bd65-772d-402a-9ee9-96cc8480d594",
   "metadata": {},
   "outputs": [],
   "source": [
    "tests = [\n",
    "    'A nut for a jar of tuna.',\n",
    "    'Borrow or rob?',\n",
    "    'Was it a car or a cat I saw?',\n",
    "    '''Dennis, Nell, Edna, Leon, Nedra, Anita,\n",
    "    Rolf, Nora, Alice, Carol, Leo, Jane, Reed,\n",
    "    Dena, Dale, Basil, Rae, Penny, Lana, Dave,\n",
    "    Denny, Lena, Ida, Bernadette, Ben, Ray, Lila,\n",
    "    Nina, Jo, Ira, Mara, Sara, Mario, Jan, Ina,\n",
    "    Lily, Arne, Bette, Dan, Reba, Diane, Lynn,\n",
    "    Ed, Eva, Dana, Lynne, Pearl, Isabel, Ada, Ned,\n",
    "    Dee, Rena, Joel, Lora, Cecil, Aaron, Flora,\n",
    "    Tina, Arden, Noel, and Ellen sinned.''',\n",
    "    'Murder for a jar of red rum.'\n",
    "]"
   ]
  },
  {
   "cell_type": "code",
   "execution_count": null,
   "id": "ca495af9-37b7-409c-8cd4-5d146de4bbbd",
   "metadata": {},
   "outputs": [],
   "source": [
    "# pythonic solution\n",
    "def is_palindrome(s: str) -> bool:\n",
    "    pass\n",
    "\n",
    "def check_tests(...) -> list:\n",
    "    pass"
   ]
  }
 ],
 "metadata": {
  "kernelspec": {
   "display_name": "base-env",
   "language": "python",
   "name": "base-env"
  },
  "language_info": {
   "codemirror_mode": {
    "name": "ipython",
    "version": 3
   },
   "file_extension": ".py",
   "mimetype": "text/x-python",
   "name": "python",
   "nbconvert_exporter": "python",
   "pygments_lexer": "ipython3",
   "version": "3.9.12"
  }
 },
 "nbformat": 4,
 "nbformat_minor": 5
}
