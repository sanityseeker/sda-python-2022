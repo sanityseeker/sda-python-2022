{
 "cells": [
  {
   "cell_type": "markdown",
   "id": "c1e196fa",
   "metadata": {},
   "source": [
    "# Разные задачки"
   ]
  },
  {
   "cell_type": "markdown",
   "id": "587a77fb",
   "metadata": {},
   "source": [
    "Попрактикуемся по разным темам"
   ]
  },
  {
   "cell_type": "markdown",
   "id": "4a690322",
   "metadata": {},
   "source": [
    "## Сумма цифр числа рекурсией"
   ]
  },
  {
   "cell_type": "markdown",
   "id": "0143408a",
   "metadata": {},
   "source": [
    "Дано число произвольного размера. Посчитайте рекурсивно сумму его цифр"
   ]
  },
  {
   "cell_type": "code",
   "execution_count": 6,
   "id": "625a2c5a",
   "metadata": {
    "ExecuteTime": {
     "end_time": "2022-09-30T08:23:14.228012Z",
     "start_time": "2022-09-30T08:23:14.222191Z"
    }
   },
   "outputs": [],
   "source": [
    "value = 1233455610"
   ]
  },
  {
   "cell_type": "code",
   "execution_count": 10,
   "id": "afb140b4",
   "metadata": {
    "ExecuteTime": {
     "end_time": "2022-09-30T08:24:47.531771Z",
     "start_time": "2022-09-30T08:24:47.527023Z"
    }
   },
   "outputs": [],
   "source": [
    "def sum_of_digit(value: int): \n",
    "    return 0 if not value else value % 10 + sum_of_digit(value // 10)"
   ]
  },
  {
   "cell_type": "code",
   "execution_count": 11,
   "id": "62211990",
   "metadata": {
    "ExecuteTime": {
     "end_time": "2022-09-30T08:24:48.080009Z",
     "start_time": "2022-09-30T08:24:48.074518Z"
    }
   },
   "outputs": [
    {
     "data": {
      "text/plain": [
       "30"
      ]
     },
     "execution_count": 11,
     "metadata": {},
     "output_type": "execute_result"
    }
   ],
   "source": [
    "sum_of_digit(value)"
   ]
  },
  {
   "cell_type": "code",
   "execution_count": 12,
   "id": "52b770fc",
   "metadata": {
    "ExecuteTime": {
     "end_time": "2022-09-30T08:24:48.625133Z",
     "start_time": "2022-09-30T08:24:48.619744Z"
    }
   },
   "outputs": [
    {
     "data": {
      "text/plain": [
       "30"
      ]
     },
     "execution_count": 12,
     "metadata": {},
     "output_type": "execute_result"
    }
   ],
   "source": [
    "sum_value = 0\n",
    "for elem in str(value):\n",
    "    sum_value += int(elem)\n",
    "\n",
    "sum_value"
   ]
  },
  {
   "cell_type": "markdown",
   "id": "8c7e2622",
   "metadata": {},
   "source": [
    "## Run-Length Encoding"
   ]
  },
  {
   "cell_type": "markdown",
   "id": "4164f97e",
   "metadata": {},
   "source": [
    "RLE -- это один из алгоритмом сжатия последовательностей.\n",
    "\n",
    "Пусть у вас есть строка `aaaaaabbbcbbdddeea`, ее можно представить в виде `[(a, 6), (b, 3), (c, 1), (b, 2), (d, 3), (e, 2), (a, 1)]` "
   ]
  },
  {
   "cell_type": "code",
   "execution_count": 24,
   "id": "02dacea2",
   "metadata": {
    "ExecuteTime": {
     "end_time": "2022-09-30T08:51:13.446646Z",
     "start_time": "2022-09-30T08:51:13.440631Z"
    }
   },
   "outputs": [],
   "source": [
    "s = 'aaaaaabbbcbbdddeea'"
   ]
  },
  {
   "cell_type": "code",
   "execution_count": 17,
   "id": "44b9e31b",
   "metadata": {
    "ExecuteTime": {
     "end_time": "2022-09-30T08:33:17.392480Z",
     "start_time": "2022-09-30T08:33:17.387694Z"
    }
   },
   "outputs": [
    {
     "data": {
      "text/plain": [
       "Counter({'a': 7, 'b': 5, 'c': 1, 'd': 3, 'e': 2})"
      ]
     },
     "execution_count": 17,
     "metadata": {},
     "output_type": "execute_result"
    }
   ],
   "source": [
    "# без сохранения порядка\n",
    "\n",
    "from collections import Counter\n",
    "Counter(s)"
   ]
  },
  {
   "cell_type": "markdown",
   "id": "f55dcbdb",
   "metadata": {},
   "source": [
    "**Напишем обычную версию**"
   ]
  },
  {
   "cell_type": "code",
   "execution_count": 20,
   "id": "e5a093a7",
   "metadata": {
    "ExecuteTime": {
     "end_time": "2022-09-30T08:47:01.279752Z",
     "start_time": "2022-09-30T08:47:01.274077Z"
    }
   },
   "outputs": [],
   "source": [
    "def do_rle(s: str) -> list[tuple]:\n",
    "    \n",
    "    if not s:\n",
    "        return []\n",
    "    \n",
    "    encoded_s = []\n",
    "    \n",
    "    k = 0\n",
    "    for i in range(1, len(s)):\n",
    "        \n",
    "        if s[i - 1] != s[i]:\n",
    "            encoded_s.append((s[i - 1], i - k))\n",
    "            k = i\n",
    "    \n",
    "    encoded_s.append((s[k], len(s) - k))\n",
    "    \n",
    "    return encoded_s"
   ]
  },
  {
   "cell_type": "code",
   "execution_count": 21,
   "id": "55686733",
   "metadata": {
    "ExecuteTime": {
     "end_time": "2022-09-30T08:47:01.941554Z",
     "start_time": "2022-09-30T08:47:01.935840Z"
    }
   },
   "outputs": [
    {
     "data": {
      "text/plain": [
       "[('a', 6), ('b', 3), ('c', 1), ('b', 2), ('d', 3), ('e', 2), ('a', 1)]"
      ]
     },
     "execution_count": 21,
     "metadata": {},
     "output_type": "execute_result"
    }
   ],
   "source": [
    "do_rle(s)"
   ]
  },
  {
   "cell_type": "markdown",
   "id": "dee7810a",
   "metadata": {},
   "source": [
    "**Рекурсивная версия**"
   ]
  },
  {
   "cell_type": "code",
   "execution_count": 22,
   "id": "fa3426b2",
   "metadata": {
    "ExecuteTime": {
     "end_time": "2022-09-30T08:50:49.952820Z",
     "start_time": "2022-09-30T08:50:49.947538Z"
    }
   },
   "outputs": [],
   "source": [
    "def do_rle_recursive(s: str, encoded_s: list[tuple]) -> list[tuple]:\n",
    "    \n",
    "    # your base case\n",
    "    if not s:\n",
    "        return encoded_s\n",
    "    \n",
    "    # your code\n",
    "    i = 0\n",
    "    while i < len(s) and s[i] == s[0]:\n",
    "        i += 1\n",
    "    \n",
    "    encoded_s.append((s[0], i))\n",
    "    \n",
    "    return do_rle_recursive(s[i:], encoded_s)"
   ]
  },
  {
   "cell_type": "code",
   "execution_count": 25,
   "id": "38555ab0",
   "metadata": {
    "ExecuteTime": {
     "end_time": "2022-09-30T08:51:19.214363Z",
     "start_time": "2022-09-30T08:51:19.209391Z"
    }
   },
   "outputs": [
    {
     "data": {
      "text/plain": [
       "[('a', 6), ('b', 3), ('c', 1), ('b', 2), ('d', 3), ('e', 2), ('a', 1)]"
      ]
     },
     "execution_count": 25,
     "metadata": {},
     "output_type": "execute_result"
    }
   ],
   "source": [
    "do_rle_recursive(s, [])"
   ]
  },
  {
   "cell_type": "markdown",
   "id": "21b7fa32",
   "metadata": {},
   "source": [
    "## Уникальные слова в тексте"
   ]
  },
  {
   "cell_type": "markdown",
   "id": "846726da",
   "metadata": {},
   "source": [
    "Вывести самые популярные слова в тексте и их количество"
   ]
  },
  {
   "cell_type": "markdown",
   "id": "79fa1840",
   "metadata": {
    "ExecuteTime": {
     "end_time": "2022-09-29T23:55:17.327610Z",
     "start_time": "2022-09-29T23:55:17.322371Z"
    }
   },
   "source": [
    "Если дан не текст, а список из слов через запятую, то как можно решить задачу? А как превратить текст в список из слов?"
   ]
  },
  {
   "cell_type": "code",
   "execution_count": 28,
   "id": "8013c821",
   "metadata": {
    "ExecuteTime": {
     "end_time": "2022-09-30T08:53:16.416907Z",
     "start_time": "2022-09-30T08:53:16.411407Z"
    }
   },
   "outputs": [
    {
     "data": {
      "text/plain": [
       "Counter({'word': 2, 'a': 2, 'b': 1})"
      ]
     },
     "execution_count": 28,
     "metadata": {},
     "output_type": "execute_result"
    }
   ],
   "source": [
    "splitted_text = ['word', 'word', 'a', 'a', 'b']\n",
    "\n",
    "Counter(splitted_text)"
   ]
  },
  {
   "cell_type": "code",
   "execution_count": 26,
   "id": "0d2bf870",
   "metadata": {
    "ExecuteTime": {
     "end_time": "2022-09-30T08:52:32.144904Z",
     "start_time": "2022-09-30T08:52:32.139719Z"
    }
   },
   "outputs": [],
   "source": [
    "sample_text = \"The secret menu reveals a business model that goes beyond a right to repair issue, Sullivan argues. It represents, as he describes it, nothing short of a milkshake shakedown: Sell franchisees a complicated and fragile machine. Prevent them from figuring out why it constantly breaks. Take a cut of the distributors’ profit from the repairs. “It’s a huge money maker to have a customer that’s purposefully, intentionally blind and unable to make very fundamental changes to their own equipment,” Sullivan says. And McDonald’s presides over all of it, he says, insisting on loyalty to its longtime supplier. (Resist the McDonald’s monarchy on decisions like equipment, and the corporation can end a restaurant’s lease on the literal ground beneath it, which McDonald's owns under its franchise agreement.)\""
   ]
  },
  {
   "cell_type": "code",
   "execution_count": 29,
   "id": "0bf3e33e",
   "metadata": {
    "ExecuteTime": {
     "end_time": "2022-09-30T08:53:28.896225Z",
     "start_time": "2022-09-30T08:53:28.889688Z"
    }
   },
   "outputs": [],
   "source": [
    "import re\n",
    "from collections import Counter"
   ]
  },
  {
   "cell_type": "code",
   "execution_count": 32,
   "id": "32d34fcc",
   "metadata": {
    "ExecuteTime": {
     "end_time": "2022-09-30T08:54:35.664344Z",
     "start_time": "2022-09-30T08:54:35.656013Z"
    }
   },
   "outputs": [
    {
     "data": {
      "text/plain": [
       "Counter({'the': 6,\n",
       "         'secret': 1,\n",
       "         'menu': 1,\n",
       "         'reveals': 1,\n",
       "         'a': 8,\n",
       "         'business': 1,\n",
       "         'model': 1,\n",
       "         'that': 1,\n",
       "         'goes': 1,\n",
       "         'beyond': 1,\n",
       "         'right': 1,\n",
       "         'to': 5,\n",
       "         'repair': 1,\n",
       "         'issue': 1,\n",
       "         'sullivan': 2,\n",
       "         'argues': 1,\n",
       "         'it': 5,\n",
       "         'represents': 1,\n",
       "         'as': 1,\n",
       "         'he': 2,\n",
       "         'describes': 1,\n",
       "         'nothing': 1,\n",
       "         'short': 1,\n",
       "         'of': 3,\n",
       "         'milkshake': 1,\n",
       "         'shakedown': 1,\n",
       "         'sell': 1,\n",
       "         'franchisees': 1,\n",
       "         'complicated': 1,\n",
       "         'and': 4,\n",
       "         'fragile': 1,\n",
       "         'machine': 1,\n",
       "         'prevent': 1,\n",
       "         'them': 1,\n",
       "         'from': 2,\n",
       "         'figuring': 1,\n",
       "         'out': 1,\n",
       "         'why': 1,\n",
       "         'constantly': 1,\n",
       "         'breaks': 1,\n",
       "         'take': 1,\n",
       "         'cut': 1,\n",
       "         'distributors’': 1,\n",
       "         'profit': 1,\n",
       "         'repairs': 1,\n",
       "         '“it’s': 1,\n",
       "         'huge': 1,\n",
       "         'money': 1,\n",
       "         'maker': 1,\n",
       "         'have': 1,\n",
       "         'customer': 1,\n",
       "         'that’s': 1,\n",
       "         'purposefully': 1,\n",
       "         'intentionally': 1,\n",
       "         'blind': 1,\n",
       "         'unable': 1,\n",
       "         'make': 1,\n",
       "         'very': 1,\n",
       "         'fundamental': 1,\n",
       "         'changes': 1,\n",
       "         'their': 1,\n",
       "         'own': 1,\n",
       "         'equipment': 2,\n",
       "         '”': 1,\n",
       "         'says': 2,\n",
       "         'mcdonald’s': 2,\n",
       "         'presides': 1,\n",
       "         'over': 1,\n",
       "         'all': 1,\n",
       "         'insisting': 1,\n",
       "         'on': 3,\n",
       "         'loyalty': 1,\n",
       "         'its': 2,\n",
       "         'longtime': 1,\n",
       "         'supplier': 1,\n",
       "         'resist': 1,\n",
       "         'monarchy': 1,\n",
       "         'decisions': 1,\n",
       "         'like': 1,\n",
       "         'corporation': 1,\n",
       "         'can': 1,\n",
       "         'end': 1,\n",
       "         'restaurant’s': 1,\n",
       "         'lease': 1,\n",
       "         'literal': 1,\n",
       "         'ground': 1,\n",
       "         'beneath': 1,\n",
       "         'which': 1,\n",
       "         \"mcdonald's\": 1,\n",
       "         'owns': 1,\n",
       "         'under': 1,\n",
       "         'franchise': 1,\n",
       "         'agreement': 1,\n",
       "         '': 1})"
      ]
     },
     "execution_count": 32,
     "metadata": {},
     "output_type": "execute_result"
    }
   ],
   "source": [
    "word_counts = Counter(re.split('[,.():\\s]+', sample_text.lower().strip()))\n",
    "word_counts"
   ]
  },
  {
   "cell_type": "code",
   "execution_count": 36,
   "id": "716728d4",
   "metadata": {
    "ExecuteTime": {
     "end_time": "2022-09-30T08:55:56.123822Z",
     "start_time": "2022-09-30T08:55:56.117816Z"
    }
   },
   "outputs": [
    {
     "data": {
      "text/plain": [
       "[('a', 8),\n",
       " ('the', 6),\n",
       " ('to', 5),\n",
       " ('it', 5),\n",
       " ('and', 4),\n",
       " ('of', 3),\n",
       " ('on', 3),\n",
       " ('sullivan', 2),\n",
       " ('he', 2),\n",
       " ('from', 2)]"
      ]
     },
     "execution_count": 36,
     "metadata": {},
     "output_type": "execute_result"
    }
   ],
   "source": [
    "word_counts.most_common(10)"
   ]
  },
  {
   "cell_type": "markdown",
   "id": "7b2efcad",
   "metadata": {},
   "source": [
    "## Общие элементы двух списков (однострочник)"
   ]
  },
  {
   "cell_type": "markdown",
   "id": "968f0085",
   "metadata": {},
   "source": [
    "Даны списки a и b. Вывести общие элементы в них"
   ]
  },
  {
   "cell_type": "code",
   "execution_count": 38,
   "id": "b0811123",
   "metadata": {
    "ExecuteTime": {
     "end_time": "2022-09-30T08:58:46.281098Z",
     "start_time": "2022-09-30T08:58:46.274985Z"
    }
   },
   "outputs": [
    {
     "data": {
      "text/plain": [
       "({4, 7}, {4, 7})"
      ]
     },
     "execution_count": 38,
     "metadata": {},
     "output_type": "execute_result"
    }
   ],
   "source": [
    "a = [1, 2, 3, 4, 7, 8, 9, 7, 7]\n",
    "b = [5, 4, 6, 7, 10, 11, 12, 7, 7]\n",
    "\n",
    "# your code\n",
    "set(a).intersection(set(b)), set(a) & set(b)"
   ]
  },
  {
   "cell_type": "code",
   "execution_count": 42,
   "id": "f1f962be",
   "metadata": {
    "ExecuteTime": {
     "end_time": "2022-09-30T09:03:23.258816Z",
     "start_time": "2022-09-30T09:03:23.253308Z"
    }
   },
   "outputs": [
    {
     "data": {
      "text/plain": [
       "Counter({4: 1, 7: 3})"
      ]
     },
     "execution_count": 42,
     "metadata": {},
     "output_type": "execute_result"
    }
   ],
   "source": [
    "Counter(a) & Counter(b)"
   ]
  },
  {
   "cell_type": "markdown",
   "id": "0f672edc",
   "metadata": {},
   "source": [
    "## Номер появления слова"
   ]
  },
  {
   "cell_type": "markdown",
   "id": "60ee65b6",
   "metadata": {},
   "source": [
    "Дан список из слов. Получить список с их номерами по порядку их появления.\n",
    "\n",
    "```\n",
    "word_list = ['two', 'one', 'three', 'three', 'two', 'three']\n",
    "fun(word_list) -> [1, 1, 1, 2, 2, 3]\n",
    "```"
   ]
  },
  {
   "cell_type": "code",
   "execution_count": 50,
   "id": "4ce4f3e6",
   "metadata": {
    "ExecuteTime": {
     "end_time": "2022-09-30T09:11:23.672691Z",
     "start_time": "2022-09-30T09:11:23.666150Z"
    }
   },
   "outputs": [],
   "source": [
    "word_list = ['two', 'one', 'three', 'three', 'two', 'three']"
   ]
  },
  {
   "cell_type": "code",
   "execution_count": 51,
   "id": "d7321b7f",
   "metadata": {
    "ExecuteTime": {
     "end_time": "2022-09-30T09:11:24.371393Z",
     "start_time": "2022-09-30T09:11:24.365034Z"
    }
   },
   "outputs": [
    {
     "data": {
      "text/plain": [
       "[1, 1, 1, 2, 2, 3]"
      ]
     },
     "execution_count": 51,
     "metadata": {},
     "output_type": "execute_result"
    }
   ],
   "source": [
    "from collections import defaultdict\n",
    "\n",
    "counts = defaultdict(int)\n",
    "ans = []\n",
    "\n",
    "for elem in word_list:\n",
    "    counts[elem] += 1\n",
    "    ans.append(counts[elem])\n",
    "    \n",
    "ans"
   ]
  },
  {
   "cell_type": "markdown",
   "id": "9e618cf4",
   "metadata": {},
   "source": [
    "## Непрерывный массив суммой N"
   ]
  },
  {
   "cell_type": "markdown",
   "id": "be6c1d76",
   "metadata": {},
   "source": [
    "Дано: некоторый массив целых чисел и число N\n",
    "\n",
    "Задача: Найти непрерывный подмассив, сумма элементов которого равна N. И вывести длину подмассива. Если таких несколько, то вывести максимальную длину. Если не существует, то вывести 0\n",
    "\n",
    "```\n",
    "Пример:\n",
    "\n",
    "1.\n",
    "Дано: [1, 2, 3, 4, -1, 2, -1, 4, 0], N = 4\n",
    "Подмассивы с суммой 4: [4], [4, -1, 2, -1], [-1, 2, -1, 4, 0]\n",
    "Ответ: 5\n",
    "\n",
    "2.\n",
    "Дано: [1, 2, 3], N = 10\n",
    "Ответ: 0\n",
    "```"
   ]
  },
  {
   "cell_type": "markdown",
   "id": "bc1198a3",
   "metadata": {},
   "source": [
    "**Квадратичное решение**"
   ]
  },
  {
   "cell_type": "code",
   "execution_count": 56,
   "id": "3dc607ec",
   "metadata": {
    "ExecuteTime": {
     "end_time": "2022-09-30T09:22:30.887469Z",
     "start_time": "2022-09-30T09:22:30.882074Z"
    }
   },
   "outputs": [],
   "source": [
    "from itertools import accumulate\n",
    "\n",
    "def find_n_subarray_quadratic(arr: list, n: int) -> int:\n",
    "        \n",
    "    prefix_sums = list(accumulate(arr))\n",
    "    max_subarr_len = 0\n",
    "    \n",
    "    for i, acc in enumerate(prefix_sums):        \n",
    "        for j in range(i + 1, len(prefix_sums)):\n",
    "            if prefix_sums[j] - prefix_sums[i] == n:\n",
    "                max_subarr_len = max(max_subarr_len, j - i)\n",
    "            \n",
    "    return max_subarr_len"
   ]
  },
  {
   "cell_type": "code",
   "execution_count": 59,
   "id": "c7cf201b",
   "metadata": {
    "ExecuteTime": {
     "end_time": "2022-09-30T09:22:55.068179Z",
     "start_time": "2022-09-30T09:22:55.063025Z"
    }
   },
   "outputs": [
    {
     "data": {
      "text/plain": [
       "3"
      ]
     },
     "execution_count": 59,
     "metadata": {},
     "output_type": "execute_result"
    }
   ],
   "source": [
    "arr = [1, 2, 3, 4, -1, 2, -1, 4, 0]\n",
    "\n",
    "find_n_subarray_quadratic(arr, 0)"
   ]
  },
  {
   "cell_type": "code",
   "execution_count": 69,
   "id": "91209a11",
   "metadata": {
    "ExecuteTime": {
     "end_time": "2022-09-30T09:34:37.126560Z",
     "start_time": "2022-09-30T09:34:37.121357Z"
    }
   },
   "outputs": [
    {
     "data": {
      "text/plain": [
       "[1, 3, 6, 10, 9, 11, 10, 14, 14]"
      ]
     },
     "execution_count": 69,
     "metadata": {},
     "output_type": "execute_result"
    }
   ],
   "source": [
    "list(accumulate(arr))"
   ]
  },
  {
   "cell_type": "markdown",
   "id": "b0223585",
   "metadata": {},
   "source": [
    "**Делаем быстрее**"
   ]
  },
  {
   "cell_type": "code",
   "execution_count": 84,
   "id": "c0b61133",
   "metadata": {
    "ExecuteTime": {
     "end_time": "2022-09-30T10:01:57.564417Z",
     "start_time": "2022-09-30T10:01:57.558349Z"
    }
   },
   "outputs": [],
   "source": [
    "def find_n_subarray(arr: list, n: int) -> int:\n",
    "        \n",
    "    cumsums = {}\n",
    "    prefix_sums = list(accumulate(arr))\n",
    "    max_subarr_len = 0\n",
    "    \n",
    "    print('cumulative sums', prefix_sums)\n",
    "    \n",
    "    for i, acc in enumerate(prefix_sums):\n",
    "        \n",
    "        if acc not in cumsums:\n",
    "            cumsums[acc] = i\n",
    "            \n",
    "        print(f'index {i}| cumsum {acc}, {cumsums}')\n",
    "        \n",
    "        if acc - n in cumsums:\n",
    "            complement_cumsum_index = cumsums[acc - n]\n",
    "            \n",
    "            print(f'found cumsum acc - n = {acc} - {n} = {acc - n} with leftmost index {complement_cumsum_index}')\n",
    "\n",
    "            max_subarr_len = max(max_subarr_len, i - complement_cumsum_index)\n",
    "        \n",
    "    return max_subarr_len"
   ]
  },
  {
   "cell_type": "code",
   "execution_count": 85,
   "id": "c606ca0c",
   "metadata": {
    "ExecuteTime": {
     "end_time": "2022-09-30T10:01:57.998809Z",
     "start_time": "2022-09-30T10:01:57.987855Z"
    }
   },
   "outputs": [
    {
     "name": "stdout",
     "output_type": "stream",
     "text": [
      "cumulative sums [1, 3, 6, 10, 9, 11, 10, 14, 14]\n",
      "index 0| cumsum 1, {1: 0}\n",
      "index 1| cumsum 3, {1: 0, 3: 1}\n",
      "index 2| cumsum 6, {1: 0, 3: 1, 6: 2}\n",
      "index 3| cumsum 10, {1: 0, 3: 1, 6: 2, 10: 3}\n",
      "found cumsum acc - n = 10 - 4 = 6 with leftmost index 2\n",
      "index 4| cumsum 9, {1: 0, 3: 1, 6: 2, 10: 3, 9: 4}\n",
      "index 5| cumsum 11, {1: 0, 3: 1, 6: 2, 10: 3, 9: 4, 11: 5}\n",
      "index 6| cumsum 10, {1: 0, 3: 1, 6: 2, 10: 3, 9: 4, 11: 5}\n",
      "found cumsum acc - n = 10 - 4 = 6 with leftmost index 2\n",
      "index 7| cumsum 14, {1: 0, 3: 1, 6: 2, 10: 3, 9: 4, 11: 5, 14: 7}\n",
      "found cumsum acc - n = 14 - 4 = 10 with leftmost index 3\n",
      "index 8| cumsum 14, {1: 0, 3: 1, 6: 2, 10: 3, 9: 4, 11: 5, 14: 7}\n",
      "found cumsum acc - n = 14 - 4 = 10 with leftmost index 3\n"
     ]
    },
    {
     "data": {
      "text/plain": [
       "5"
      ]
     },
     "execution_count": 85,
     "metadata": {},
     "output_type": "execute_result"
    }
   ],
   "source": [
    "find_n_subarray(arr, 4)"
   ]
  },
  {
   "cell_type": "markdown",
   "id": "2722dd48",
   "metadata": {},
   "source": [
    "Идея решения задачи похожа на 2-sum из прошлого семинара. По аналогии с квадратичным решением, мы хотим найти такую \"дополняющую\" префиксную сумму, разница с которой будет составлять N. Если такая сумма есть, значит массив между этими двумя префиксными суммами и есть наш ответ. \n",
    "\n",
    "В квадратичном решении мы искали дополняющие суммы с помощью цикла, что медленно. Здесь мы пользуемся свойством словаря как хеш-таблицы, которое позволяет проверить наличие элемента за O(1). Для этого храним самый левый индекс для каждой из префиксных сумм (потому что хотим найти именно самый длинный подмассив суммой N) в словаре cumsums. \n",
    "\n",
    "На каждой итерации цикла (имеет текущую префиксную сумму acc) проверяем, видели ли мы уже подходящий комплемент (префиксную сумму со значением acc - N) или нет. Эта проверка делается за O(1) по аналогии с парным числов в задаче 2-sum. Если сумму нашли, то разница между текущим индексом и индексом найденной кумулятивной суммы размера acc - N и есть наш ответ"
   ]
  },
  {
   "cell_type": "markdown",
   "id": "46871cf4",
   "metadata": {},
   "source": [
    "**Еще одно решение**"
   ]
  },
  {
   "cell_type": "markdown",
   "id": "576e0f41",
   "metadata": {},
   "source": [
    "Решение аналогично решению выше, только без использования accumulate"
   ]
  },
  {
   "cell_type": "code",
   "execution_count": null,
   "id": "d6138656",
   "metadata": {},
   "outputs": [],
   "source": [
    "def find_n_subarray(arr: list, n: int) -> int:\n",
    "    cumsums = {}\n",
    "    \n",
    "    acc = 0\n",
    "    max_subarr_len = 0\n",
    "    \n",
    "    for index, elem in enumerate(arr):\n",
    "        acc += elem\n",
    "        if acc not in cumsums:\n",
    "            cumsums[acc] = index + 1  # sum(arr[:index + 1]) == acc\n",
    "        \n",
    "        if elem == n and not max_subarr_len:\n",
    "            max_subarr_len = 1\n",
    "                \n",
    "        if acc - n in cumsums:\n",
    "            max_subarr_len = max(max_subarr_len, index - cumsums[acc - n] + 1)\n",
    "            \n",
    "    return max_subarr_len"
   ]
  }
 ],
 "metadata": {
  "kernelspec": {
   "display_name": "Python 3 (ipykernel)",
   "language": "python",
   "name": "python3"
  },
  "language_info": {
   "codemirror_mode": {
    "name": "ipython",
    "version": 3
   },
   "file_extension": ".py",
   "mimetype": "text/x-python",
   "name": "python",
   "nbconvert_exporter": "python",
   "pygments_lexer": "ipython3",
   "version": "3.9.12"
  },
  "toc": {
   "base_numbering": 1,
   "nav_menu": {},
   "number_sections": true,
   "sideBar": true,
   "skip_h1_title": false,
   "title_cell": "Table of Contents",
   "title_sidebar": "Contents",
   "toc_cell": false,
   "toc_position": {},
   "toc_section_display": true,
   "toc_window_display": false
  },
  "varInspector": {
   "cols": {
    "lenName": 16,
    "lenType": 16,
    "lenVar": 40
   },
   "kernels_config": {
    "python": {
     "delete_cmd_postfix": "",
     "delete_cmd_prefix": "del ",
     "library": "var_list.py",
     "varRefreshCmd": "print(var_dic_list())"
    },
    "r": {
     "delete_cmd_postfix": ") ",
     "delete_cmd_prefix": "rm(",
     "library": "var_list.r",
     "varRefreshCmd": "cat(var_dic_list()) "
    }
   },
   "types_to_exclude": [
    "module",
    "function",
    "builtin_function_or_method",
    "instance",
    "_Feature"
   ],
   "window_display": false
  }
 },
 "nbformat": 4,
 "nbformat_minor": 5
}
