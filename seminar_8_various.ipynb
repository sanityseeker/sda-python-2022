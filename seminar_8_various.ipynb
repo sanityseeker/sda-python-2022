{
 "cells": [
  {
   "cell_type": "markdown",
   "id": "c1e196fa",
   "metadata": {},
   "source": [
    "# Разные задачки"
   ]
  },
  {
   "cell_type": "markdown",
   "id": "587a77fb",
   "metadata": {},
   "source": [
    "Попрактикуемся по разным темам"
   ]
  },
  {
   "cell_type": "markdown",
   "id": "4a690322",
   "metadata": {},
   "source": [
    "## Сумма цифр числа рекурсией"
   ]
  },
  {
   "cell_type": "markdown",
   "id": "0143408a",
   "metadata": {},
   "source": [
    "Дано число произвольного размера. Посчитайте рекурсивно сумму его цифр"
   ]
  },
  {
   "cell_type": "code",
   "execution_count": null,
   "id": "afb140b4",
   "metadata": {},
   "outputs": [],
   "source": [
    "def sum_of_digit(n, val):\n",
    " \n",
    "    # base case\n",
    "    \n",
    "    # your code\n",
    " \n",
    "    return "
   ]
  },
  {
   "cell_type": "markdown",
   "id": "8c7e2622",
   "metadata": {},
   "source": [
    "## Run-Length Encoding"
   ]
  },
  {
   "cell_type": "markdown",
   "id": "4164f97e",
   "metadata": {},
   "source": [
    "RLE -- это один из алгоритмом сжатия последовательностей.\n",
    "\n",
    "Пусть у вас есть строка `aaaaaabbbcbbddde`, ее можно представить в виде `[(a, 6), (b, 3), (c, 1), (b, 2), (d, 3), (e, 1)]` "
   ]
  },
  {
   "cell_type": "code",
   "execution_count": 13,
   "id": "02dacea2",
   "metadata": {
    "ExecuteTime": {
     "end_time": "2022-09-29T23:45:08.606969Z",
     "start_time": "2022-09-29T23:45:08.604469Z"
    }
   },
   "outputs": [],
   "source": [
    "s = 'aaaaaabbbcbbddde'"
   ]
  },
  {
   "cell_type": "markdown",
   "id": "f55dcbdb",
   "metadata": {},
   "source": [
    "**Напишем обычную версию**"
   ]
  },
  {
   "cell_type": "code",
   "execution_count": 12,
   "id": "e5a093a7",
   "metadata": {
    "ExecuteTime": {
     "end_time": "2022-09-29T23:44:56.899614Z",
     "start_time": "2022-09-29T23:44:56.896583Z"
    }
   },
   "outputs": [],
   "source": [
    "def do_rle(s: str) -> list[tuple]:\n",
    "    encoded_s = []\n",
    "    # your code\n",
    "    \n",
    "    \n",
    "    return encoded_s"
   ]
  },
  {
   "cell_type": "code",
   "execution_count": 14,
   "id": "55686733",
   "metadata": {
    "ExecuteTime": {
     "end_time": "2022-09-29T23:45:12.310947Z",
     "start_time": "2022-09-29T23:45:12.301052Z"
    }
   },
   "outputs": [
    {
     "data": {
      "text/plain": [
       "[('a', 6), ('b', 3), ('c', 1), ('b', 2), ('d', 3), ('e', 1)]"
      ]
     },
     "execution_count": 14,
     "metadata": {},
     "output_type": "execute_result"
    }
   ],
   "source": [
    "do_rle(s)"
   ]
  },
  {
   "cell_type": "markdown",
   "id": "dee7810a",
   "metadata": {},
   "source": [
    "**Рекурсивная версия**"
   ]
  },
  {
   "cell_type": "code",
   "execution_count": 7,
   "id": "fa3426b2",
   "metadata": {
    "ExecuteTime": {
     "end_time": "2022-09-29T23:30:25.347527Z",
     "start_time": "2022-09-29T23:30:25.341773Z"
    }
   },
   "outputs": [],
   "source": [
    "def do_rle_recursive(s: str, encoded_s: list[tuple]) -> list[tuple]:\n",
    "    \n",
    "    # your base case\n",
    "    \n",
    "    # your code\n",
    "    \n",
    "    return "
   ]
  },
  {
   "cell_type": "code",
   "execution_count": 8,
   "id": "38555ab0",
   "metadata": {
    "ExecuteTime": {
     "end_time": "2022-09-29T23:30:26.052509Z",
     "start_time": "2022-09-29T23:30:26.044306Z"
    }
   },
   "outputs": [
    {
     "name": "stdout",
     "output_type": "stream",
     "text": [
      "[('a', 6)] 6\n",
      "[('a', 6), ('b', 3)] 3\n",
      "[('a', 6), ('b', 3), ('c', 1)] 1\n",
      "[('a', 6), ('b', 3), ('c', 1), ('b', 2)] 2\n",
      "[('a', 6), ('b', 3), ('c', 1), ('b', 2), ('d', 3)] 3\n",
      "[('a', 6), ('b', 3), ('c', 1), ('b', 2), ('d', 3), ('e', 1)] 1\n"
     ]
    },
    {
     "data": {
      "text/plain": [
       "[('a', 6), ('b', 3), ('c', 1), ('b', 2), ('d', 3), ('e', 1)]"
      ]
     },
     "execution_count": 8,
     "metadata": {},
     "output_type": "execute_result"
    }
   ],
   "source": [
    "s = 'aaaaaabbbcbbddde'\n",
    "\n",
    "do_rle_recursive(s, [])"
   ]
  },
  {
   "cell_type": "markdown",
   "id": "21b7fa32",
   "metadata": {},
   "source": [
    "## Уникальные слова в тексте"
   ]
  },
  {
   "cell_type": "markdown",
   "id": "846726da",
   "metadata": {},
   "source": [
    "Вывести самые популярные слова в тексте и их количество"
   ]
  },
  {
   "cell_type": "markdown",
   "id": "79fa1840",
   "metadata": {
    "ExecuteTime": {
     "end_time": "2022-09-29T23:55:17.327610Z",
     "start_time": "2022-09-29T23:55:17.322371Z"
    }
   },
   "source": [
    "Если дан не текст, а список из слов через запятую, то как можно решить задачу? А как превратить текст в список из слов?"
   ]
  },
  {
   "cell_type": "code",
   "execution_count": 11,
   "id": "0d2bf870",
   "metadata": {
    "ExecuteTime": {
     "end_time": "2022-09-29T23:40:48.628899Z",
     "start_time": "2022-09-29T23:40:48.625166Z"
    }
   },
   "outputs": [],
   "source": [
    "sample_text = \"The secret menu reveals a business model that goes beyond a right to repair issue, Sullivan argues. It represents, as he describes it, nothing short of a milkshake shakedown: Sell franchisees a complicated and fragile machine. Prevent them from figuring out why it constantly breaks. Take a cut of the distributors’ profit from the repairs. “It’s a huge money maker to have a customer that’s purposefully, intentionally blind and unable to make very fundamental changes to their own equipment,” Sullivan says. And McDonald’s presides over all of it, he says, insisting on loyalty to its longtime supplier. (Resist the McDonald’s monarchy on decisions like equipment, and the corporation can end a restaurant’s lease on the literal ground beneath it, which McDonald's owns under its franchise agreement.)\""
   ]
  },
  {
   "cell_type": "code",
   "execution_count": 34,
   "id": "0bf3e33e",
   "metadata": {
    "ExecuteTime": {
     "end_time": "2022-09-29T23:55:37.622581Z",
     "start_time": "2022-09-29T23:55:37.616573Z"
    }
   },
   "outputs": [],
   "source": [
    "import re\n",
    "from collections import Counter"
   ]
  },
  {
   "cell_type": "code",
   "execution_count": null,
   "id": "32d34fcc",
   "metadata": {},
   "outputs": [],
   "source": [
    "Counter(re.split('[,.():\\s]+', sample_text.lower().strip()))"
   ]
  },
  {
   "cell_type": "markdown",
   "id": "7b2efcad",
   "metadata": {},
   "source": [
    "## Общие элементы двух списков (однострочник)"
   ]
  },
  {
   "cell_type": "markdown",
   "id": "968f0085",
   "metadata": {},
   "source": [
    "Даны списки a и b. Вывести общие элементы в них"
   ]
  },
  {
   "cell_type": "code",
   "execution_count": 51,
   "id": "b0811123",
   "metadata": {
    "ExecuteTime": {
     "end_time": "2022-09-30T00:00:44.492193Z",
     "start_time": "2022-09-30T00:00:44.486509Z"
    }
   },
   "outputs": [
    {
     "data": {
      "text/plain": [
       "{4, 7}"
      ]
     },
     "execution_count": 51,
     "metadata": {},
     "output_type": "execute_result"
    }
   ],
   "source": [
    "a = [1, 2, 3, 4, 7, 8, 9, 7, 7]\n",
    "b = [5, 4, 6, 7, 10, 11, 12, 7, 7]\n",
    "\n",
    "# your code"
   ]
  },
  {
   "cell_type": "code",
   "execution_count": 1,
   "id": "f1f962be",
   "metadata": {
    "ExecuteTime": {
     "end_time": "2022-09-30T08:12:05.035243Z",
     "start_time": "2022-09-30T08:12:05.028887Z"
    }
   },
   "outputs": [],
   "source": [
    "from collections import Counter\n",
    "\n",
    "# your code"
   ]
  },
  {
   "cell_type": "markdown",
   "id": "0f672edc",
   "metadata": {},
   "source": [
    "## Номер появления слова"
   ]
  },
  {
   "cell_type": "markdown",
   "id": "60ee65b6",
   "metadata": {},
   "source": [
    "Дан список из слов. Получить список с их номерами по порядку их появления.\n",
    "\n",
    "```\n",
    "word_list = ['two', 'one', 'three', 'three', 'two', 'three']\n",
    "fun(word_list) -> [1, 1, 1, 2, 2, 3]\n",
    "```"
   ]
  },
  {
   "cell_type": "code",
   "execution_count": 53,
   "id": "4ce4f3e6",
   "metadata": {
    "ExecuteTime": {
     "end_time": "2022-09-30T00:21:35.728589Z",
     "start_time": "2022-09-30T00:21:35.724193Z"
    }
   },
   "outputs": [],
   "source": [
    "word_list = ['two', 'one', 'three', 'three', 'two', 'three']"
   ]
  },
  {
   "cell_type": "code",
   "execution_count": 56,
   "id": "d7321b7f",
   "metadata": {
    "ExecuteTime": {
     "end_time": "2022-09-30T00:23:38.234858Z",
     "start_time": "2022-09-30T00:23:38.229497Z"
    }
   },
   "outputs": [
    {
     "data": {
      "text/plain": [
       "[1, 1, 1, 2, 2, 3]"
      ]
     },
     "execution_count": 56,
     "metadata": {},
     "output_type": "execute_result"
    }
   ],
   "source": [
    "from collections import defaultdict\n",
    "\n",
    "# your code"
   ]
  },
  {
   "cell_type": "markdown",
   "id": "9e618cf4",
   "metadata": {},
   "source": [
    "## Непрерывный массив суммой N"
   ]
  },
  {
   "cell_type": "markdown",
   "id": "be6c1d76",
   "metadata": {},
   "source": [
    "Дано: некоторый массив целых чисел и число N\n",
    "\n",
    "Задача: вывести такой непрерывный подмассив, сумма элементов которого равна N. Если таких несколько, то вывести максимальную длину. Если не существует, то вывести 0\n",
    "\n",
    "```\n",
    "Пример:\n",
    "\n",
    "1.\n",
    "Дано: [1, 2, 3, 4, -1, 2, -1, 4, 0], N = 4\n",
    "Подмассивы с суммой 4: [4], [4, -1, 2, -1], [-1, 2, -1, 4, 0]\n",
    "Ответ: 5\n",
    "\n",
    "2.\n",
    "Дано: [1, 2, 3], N = 10\n",
    "Ответ: 0\n",
    "```"
   ]
  },
  {
   "cell_type": "code",
   "execution_count": 94,
   "id": "3dc607ec",
   "metadata": {
    "ExecuteTime": {
     "end_time": "2022-09-30T01:07:55.855465Z",
     "start_time": "2022-09-30T01:07:55.849777Z"
    }
   },
   "outputs": [],
   "source": [
    "from itertools import accumulate\n",
    "\n",
    "def find_n_subarray(arr: list, n: int) -> int:\n",
    "    \n",
    "    # your code\n",
    "            \n",
    "    return max_subarr_len"
   ]
  },
  {
   "cell_type": "code",
   "execution_count": 98,
   "id": "c7cf201b",
   "metadata": {
    "ExecuteTime": {
     "end_time": "2022-09-30T01:08:16.016673Z",
     "start_time": "2022-09-30T01:08:16.011578Z"
    }
   },
   "outputs": [
    {
     "data": {
      "text/plain": [
       "5"
      ]
     },
     "execution_count": 98,
     "metadata": {},
     "output_type": "execute_result"
    }
   ],
   "source": [
    "arr = [1, 2, 3, 4, -1, 2, -1, 4, 0]\n",
    "\n",
    "find_n_subarray(arr, 4)"
   ]
  },
  {
   "cell_type": "markdown",
   "id": "60cb9275",
   "metadata": {},
   "source": [
    "# Продолжаем про декораторы "
   ]
  },
  {
   "cell_type": "markdown",
   "id": "1e498b66",
   "metadata": {},
   "source": [
    "## Замена исходной функции"
   ]
  },
  {
   "cell_type": "markdown",
   "id": "669b53ef",
   "metadata": {},
   "source": [
    "Функция, возвращаемая декоратором, заменяет декорируемую"
   ]
  },
  {
   "cell_type": "code",
   "execution_count": 136,
   "id": "b059f7ec",
   "metadata": {},
   "outputs": [],
   "source": [
    "def deco(func):\n",
    "    def inner():\n",
    "        print('running inner()')\n",
    "    return inner"
   ]
  },
  {
   "cell_type": "code",
   "execution_count": 139,
   "id": "0cf88fc2",
   "metadata": {},
   "outputs": [],
   "source": [
    "def target():\n",
    "    print('running target()')"
   ]
  },
  {
   "cell_type": "code",
   "execution_count": 140,
   "id": "d22e2ba0",
   "metadata": {},
   "outputs": [],
   "source": [
    "@deco\n",
    "def target():\n",
    "    print('running target()')"
   ]
  },
  {
   "cell_type": "code",
   "execution_count": 141,
   "id": "b7cd210f",
   "metadata": {},
   "outputs": [
    {
     "name": "stdout",
     "output_type": "stream",
     "text": [
      "running inner()\n"
     ]
    }
   ],
   "source": [
    "target()"
   ]
  },
  {
   "cell_type": "code",
   "execution_count": 143,
   "id": "1761e656",
   "metadata": {},
   "outputs": [
    {
     "data": {
      "text/plain": [
       "<function __main__.deco.<locals>.inner()>"
      ]
     },
     "execution_count": 143,
     "metadata": {},
     "output_type": "execute_result"
    }
   ],
   "source": [
    "target  # now reference to inner "
   ]
  },
  {
   "cell_type": "markdown",
   "id": "2573aabc",
   "metadata": {},
   "source": [
    "## Running at import time"
   ]
  },
  {
   "cell_type": "markdown",
   "id": "52272992",
   "metadata": {},
   "source": [
    "Key feature декораторов в том, что они применяются сразу после объявления декорируемой функции во время загрузки модуля в Python "
   ]
  },
  {
   "cell_type": "code",
   "execution_count": 147,
   "id": "3bc71b96",
   "metadata": {},
   "outputs": [
    {
     "name": "stdout",
     "output_type": "stream",
     "text": [
      "running register <function f1 at 0x7f6c72626f80>\n",
      "running register <function f2 at 0x7f6c72626ef0>\n"
     ]
    }
   ],
   "source": [
    "registry = []\n",
    "\n",
    "def register(func):\n",
    "    print(f'running register {func}')\n",
    "    registry.append(func)\n",
    "    return func\n",
    "\n",
    "@register\n",
    "def f1():\n",
    "    print('running f1()')\n",
    "    \n",
    "@register\n",
    "def f2():\n",
    "    print('running f2()')\n",
    "\n",
    "def f3():\n",
    "    print('running f3()')\n",
    "    \n",
    "def run():\n",
    "    print('running run()')\n",
    "    print('registry', registry)\n",
    "    f1()\n",
    "    f2()\n",
    "    f3()"
   ]
  },
  {
   "cell_type": "code",
   "execution_count": 148,
   "id": "92a1c39a",
   "metadata": {},
   "outputs": [
    {
     "name": "stdout",
     "output_type": "stream",
     "text": [
      "running run()\n",
      "registry [<function f1 at 0x7f6c72626f80>, <function f2 at 0x7f6c72626ef0>]\n",
      "running f1()\n",
      "running f2()\n",
      "running f3()\n"
     ]
    }
   ],
   "source": [
    "run()"
   ]
  },
  {
   "cell_type": "markdown",
   "id": "f3af0224",
   "metadata": {},
   "source": [
    "## Декоратор-логгер"
   ]
  },
  {
   "cell_type": "markdown",
   "id": "a8f69223",
   "metadata": {},
   "source": [
    "### logging"
   ]
  },
  {
   "cell_type": "markdown",
   "id": "2bf00a2d",
   "metadata": {},
   "source": [
    " Модуль `logging` содержит набор функций для логирования различного поведения в вашей программе. Например, для понимания, что ваша программа работает как ожидается, или там идет что-то не так"
   ]
  },
  {
   "cell_type": "markdown",
   "id": "a6881c30",
   "metadata": {},
   "source": [
    "Есть разные уровни логирования: debug, info, warning, error, critical"
   ]
  },
  {
   "cell_type": "code",
   "execution_count": 1,
   "id": "9c23d957",
   "metadata": {
    "ExecuteTime": {
     "end_time": "2022-09-28T23:46:50.639247Z",
     "start_time": "2022-09-28T23:46:50.632857Z"
    }
   },
   "outputs": [],
   "source": [
    "import logging"
   ]
  },
  {
   "cell_type": "code",
   "execution_count": 2,
   "id": "f5fd9c34",
   "metadata": {
    "ExecuteTime": {
     "end_time": "2022-09-28T23:47:41.188952Z",
     "start_time": "2022-09-28T23:47:41.180336Z"
    }
   },
   "outputs": [
    {
     "name": "stderr",
     "output_type": "stream",
     "text": [
      "WARNING:root:Smth might go wrong, check this!\n"
     ]
    }
   ],
   "source": [
    "logging.info('Working as expected')\n",
    "logging.warning('Smth might go wrong, check this!')"
   ]
  },
  {
   "cell_type": "markdown",
   "id": "6a8bb9fa",
   "metadata": {},
   "source": [
    "Можно логировать в файл (надо начать новую сессию в Python)"
   ]
  },
  {
   "cell_type": "code",
   "execution_count": 15,
   "id": "bc972ba4",
   "metadata": {
    "ExecuteTime": {
     "end_time": "2022-09-29T01:26:33.713156Z",
     "start_time": "2022-09-29T01:26:33.707004Z"
    }
   },
   "outputs": [],
   "source": [
    "import os\n",
    "import logging\n",
    "\n",
    "log_filename = os.path.join('data', 'example.log')\n",
    "log_level = logging.DEBUG\n",
    "\n",
    "logging.basicConfig(\n",
    "    filename=log_filename,\n",
    "    encoding='utf-8',\n",
    "    level=log_level,\n",
    "    format='%(asctime)s %(message)s'  # add time\n",
    ")\n",
    "\n",
    "logging.debug('One very thorough message to save in our log')\n",
    "logging.info('Just some info, also in log')\n",
    "logging.warning('Something might be wrong')\n",
    "logging.error('Logging our failure')"
   ]
  },
  {
   "cell_type": "code",
   "execution_count": 2,
   "id": "6bca9c13",
   "metadata": {
    "ExecuteTime": {
     "end_time": "2022-09-29T00:04:14.323371Z",
     "start_time": "2022-09-29T00:04:14.204906Z"
    }
   },
   "outputs": [
    {
     "name": "stdout",
     "output_type": "stream",
     "text": [
      "2022-09-29 03:04:13,025 One very thorough message to save in our log\r\n",
      "2022-09-29 03:04:13,025 Just some info, also in log\r\n",
      "2022-09-29 03:04:13,025 Something might be wrong\r\n",
      "2022-09-29 03:04:13,025 Logging our failure\r\n"
     ]
    }
   ],
   "source": [
    "! cat data/example.log"
   ]
  },
  {
   "cell_type": "markdown",
   "id": "bbe63dc5",
   "metadata": {},
   "source": [
    "### Напишем log-декоратор"
   ]
  },
  {
   "cell_type": "code",
   "execution_count": 103,
   "id": "498dfe8c",
   "metadata": {
    "ExecuteTime": {
     "end_time": "2022-09-30T01:12:26.207121Z",
     "start_time": "2022-09-30T01:12:26.200982Z"
    }
   },
   "outputs": [],
   "source": [
    "import logging\n",
    "import sys\n",
    "\n",
    "from functools import wraps, partial"
   ]
  },
  {
   "cell_type": "code",
   "execution_count": 155,
   "id": "a519d2b7",
   "metadata": {
    "ExecuteTime": {
     "end_time": "2022-09-30T01:21:58.944060Z",
     "start_time": "2022-09-30T01:21:58.939111Z"
    }
   },
   "outputs": [],
   "source": [
    "logger = logging.getLogger(name='log')\n",
    "logger.setLevel(logging.DEBUG)\n",
    "logger.addHandler(logging.StreamHandler(stream=sys.stdout))"
   ]
  },
  {
   "cell_type": "code",
   "execution_count": 159,
   "id": "94e9651c",
   "metadata": {
    "ExecuteTime": {
     "end_time": "2022-09-30T01:22:36.083106Z",
     "start_time": "2022-09-30T01:22:36.077708Z"
    }
   },
   "outputs": [],
   "source": [
    "def logged(func=None,\n",
    "           *,\n",
    "           log_level=logging.INFO,\n",
    "           log_name=None,\n",
    "           log_message=None):\n",
    "    \n",
    "    # code\n",
    "    \n",
    "    return wrapper"
   ]
  },
  {
   "cell_type": "code",
   "execution_count": 160,
   "id": "92ba0db5",
   "metadata": {
    "ExecuteTime": {
     "end_time": "2022-09-30T01:22:36.772640Z",
     "start_time": "2022-09-30T01:22:36.766515Z"
    }
   },
   "outputs": [],
   "source": [
    "@logged(log_name='log')\n",
    "def add(x, y):\n",
    "    return x + y"
   ]
  },
  {
   "cell_type": "code",
   "execution_count": 161,
   "id": "936987c0",
   "metadata": {
    "ExecuteTime": {
     "end_time": "2022-09-30T01:22:37.139364Z",
     "start_time": "2022-09-30T01:22:37.124512Z"
    }
   },
   "outputs": [
    {
     "name": "stdout",
     "output_type": "stream",
     "text": [
      "add\n",
      "add\n",
      "add\n",
      "add\n",
      "add\n",
      "add\n",
      "add\n",
      "add\n",
      "add\n",
      "add\n",
      "add\n",
      "add\n",
      "add\n",
      "add\n",
      "add\n",
      "add\n"
     ]
    },
    {
     "name": "stderr",
     "output_type": "stream",
     "text": [
      "INFO:log:add\n"
     ]
    },
    {
     "data": {
      "text/plain": [
       "3"
      ]
     },
     "execution_count": 161,
     "metadata": {},
     "output_type": "execute_result"
    }
   ],
   "source": [
    "add(1, 2)"
   ]
  },
  {
   "cell_type": "markdown",
   "id": "57319f62",
   "metadata": {
    "ExecuteTime": {
     "end_time": "2022-09-30T01:22:51.949782Z",
     "start_time": "2022-09-30T01:22:51.943855Z"
    }
   },
   "source": [
    "Протестируем с декоратором с прошлых семинаров"
   ]
  },
  {
   "cell_type": "code",
   "execution_count": 164,
   "id": "13e94d89",
   "metadata": {
    "ExecuteTime": {
     "end_time": "2022-09-30T01:24:48.905560Z",
     "start_time": "2022-09-30T01:24:48.900721Z"
    }
   },
   "outputs": [],
   "source": [
    "def clock(func):\n",
    "    @wraps(func)\n",
    "    def clocked(*args):\n",
    "        t_start = time.time()\n",
    "        res = func(*args)\n",
    "        total_time = time.time() - t_start\n",
    "        print(f'{func.__name__}({args}) -> {res} executed in {total_time:.2f}s')\n",
    "        return res\n",
    "    return clocked"
   ]
  },
  {
   "cell_type": "code",
   "execution_count": 168,
   "id": "42e2d70d",
   "metadata": {
    "ExecuteTime": {
     "end_time": "2022-09-30T01:25:29.399717Z",
     "start_time": "2022-09-30T01:25:29.394475Z"
    }
   },
   "outputs": [],
   "source": [
    "@logged(log_name='log')\n",
    "@clock\n",
    "def add(x, y):\n",
    "    time.sleep(2)\n",
    "    return x + y"
   ]
  },
  {
   "cell_type": "code",
   "execution_count": 169,
   "id": "2e13076a",
   "metadata": {
    "ExecuteTime": {
     "end_time": "2022-09-30T01:25:31.958253Z",
     "start_time": "2022-09-30T01:25:29.938545Z"
    }
   },
   "outputs": [
    {
     "name": "stdout",
     "output_type": "stream",
     "text": [
      "add\n",
      "add\n",
      "add\n",
      "add\n",
      "add\n",
      "add\n",
      "add\n",
      "add\n",
      "add\n",
      "add\n",
      "add\n",
      "add\n",
      "add\n",
      "add\n",
      "add\n",
      "add\n"
     ]
    },
    {
     "name": "stderr",
     "output_type": "stream",
     "text": [
      "INFO:log:add\n"
     ]
    },
    {
     "name": "stdout",
     "output_type": "stream",
     "text": [
      "add((10, 10000000000)) -> 10000000010 executed in 2.00s\n"
     ]
    },
    {
     "data": {
      "text/plain": [
       "10000000010"
      ]
     },
     "execution_count": 169,
     "metadata": {},
     "output_type": "execute_result"
    }
   ],
   "source": [
    "add(10, 10**10)"
   ]
  },
  {
   "cell_type": "markdown",
   "id": "e3043b65",
   "metadata": {
    "ExecuteTime": {
     "end_time": "2022-09-29T00:25:48.242814Z",
     "start_time": "2022-09-29T00:25:48.237247Z"
    }
   },
   "source": [
    "## Декоратор -- assert типов (3 балла)"
   ]
  },
  {
   "cell_type": "markdown",
   "id": "d7da87ae",
   "metadata": {},
   "source": [
    "Мы уже говорили про type hints, а также про то, что никаких ошибок без использования сторонних модулей некорректные типы нам не дадут. Давайте реализуем логику проверки типов с помощью декоратора.\n",
    "\n",
    "Типы могут быть заданы как стандартными названиями, так и с использованыем модуля typing. Для Any пропускайте проверку"
   ]
  },
  {
   "cell_type": "code",
   "execution_count": 11,
   "id": "4577bf9c",
   "metadata": {
    "ExecuteTime": {
     "end_time": "2022-09-29T01:24:03.359218Z",
     "start_time": "2022-09-29T01:24:03.352879Z"
    }
   },
   "outputs": [],
   "source": [
    "from typing import Any"
   ]
  },
  {
   "cell_type": "code",
   "execution_count": 9,
   "id": "4f6e4775",
   "metadata": {
    "ExecuteTime": {
     "end_time": "2022-09-29T01:22:10.141518Z",
     "start_time": "2022-09-29T01:22:10.137240Z"
    }
   },
   "outputs": [],
   "source": [
    "@check_types\n",
    "def func(a: int, b: str) -> str:\n",
    "    return a * b"
   ]
  },
  {
   "cell_type": "markdown",
   "id": "dfd6d913",
   "metadata": {
    "ExecuteTime": {
     "end_time": "2022-09-29T01:22:59.687912Z",
     "start_time": "2022-09-29T01:22:59.683005Z"
    }
   },
   "source": [
    "Стоит выбросить ValueError, если есть несовпадение между реальным и ожидаемым типом у какой-то из переданных переменных или у возвращаемого значения"
   ]
  },
  {
   "cell_type": "markdown",
   "id": "14433448",
   "metadata": {
    "ExecuteTime": {
     "end_time": "2022-09-29T01:19:25.033928Z",
     "start_time": "2022-09-29T01:19:25.028889Z"
    }
   },
   "source": []
  }
 ],
 "metadata": {
  "kernelspec": {
   "display_name": "Python 3 (ipykernel)",
   "language": "python",
   "name": "python3"
  },
  "language_info": {
   "codemirror_mode": {
    "name": "ipython",
    "version": 3
   },
   "file_extension": ".py",
   "mimetype": "text/x-python",
   "name": "python",
   "nbconvert_exporter": "python",
   "pygments_lexer": "ipython3",
   "version": "3.9.12"
  },
  "toc": {
   "base_numbering": 1,
   "nav_menu": {},
   "number_sections": true,
   "sideBar": true,
   "skip_h1_title": false,
   "title_cell": "Table of Contents",
   "title_sidebar": "Contents",
   "toc_cell": false,
   "toc_position": {},
   "toc_section_display": true,
   "toc_window_display": false
  },
  "varInspector": {
   "cols": {
    "lenName": 16,
    "lenType": 16,
    "lenVar": 40
   },
   "kernels_config": {
    "python": {
     "delete_cmd_postfix": "",
     "delete_cmd_prefix": "del ",
     "library": "var_list.py",
     "varRefreshCmd": "print(var_dic_list())"
    },
    "r": {
     "delete_cmd_postfix": ") ",
     "delete_cmd_prefix": "rm(",
     "library": "var_list.r",
     "varRefreshCmd": "cat(var_dic_list()) "
    }
   },
   "types_to_exclude": [
    "module",
    "function",
    "builtin_function_or_method",
    "instance",
    "_Feature"
   ],
   "window_display": false
  }
 },
 "nbformat": 4,
 "nbformat_minor": 5
}
