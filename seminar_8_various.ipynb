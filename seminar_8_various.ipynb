{
 "cells": [
  {
   "cell_type": "markdown",
   "id": "c1e196fa",
   "metadata": {},
   "source": [
    "# Разные задачки"
   ]
  },
  {
   "cell_type": "code",
   "execution_count": null,
   "id": "19549ed2",
   "metadata": {},
   "outputs": [],
   "source": []
  },
  {
   "cell_type": "markdown",
   "id": "60cb9275",
   "metadata": {},
   "source": [
    "# Продолжаем про декораторы "
   ]
  },
  {
   "cell_type": "markdown",
   "id": "1e498b66",
   "metadata": {},
   "source": [
    "## Замена исходной функции"
   ]
  },
  {
   "cell_type": "markdown",
   "id": "669b53ef",
   "metadata": {},
   "source": [
    "Функция, возвращаемая декоратором, заменяет декорируемую"
   ]
  },
  {
   "cell_type": "code",
   "execution_count": 136,
   "id": "b059f7ec",
   "metadata": {},
   "outputs": [],
   "source": [
    "def deco(func):\n",
    "    def inner():\n",
    "        print('running inner()')\n",
    "    return inner"
   ]
  },
  {
   "cell_type": "code",
   "execution_count": 139,
   "id": "0cf88fc2",
   "metadata": {},
   "outputs": [],
   "source": [
    "def target():\n",
    "    print('running target()')"
   ]
  },
  {
   "cell_type": "code",
   "execution_count": 140,
   "id": "d22e2ba0",
   "metadata": {},
   "outputs": [],
   "source": [
    "@deco\n",
    "def target():\n",
    "    print('running target()')"
   ]
  },
  {
   "cell_type": "code",
   "execution_count": 141,
   "id": "b7cd210f",
   "metadata": {},
   "outputs": [
    {
     "name": "stdout",
     "output_type": "stream",
     "text": [
      "running inner()\n"
     ]
    }
   ],
   "source": [
    "target()"
   ]
  },
  {
   "cell_type": "code",
   "execution_count": 143,
   "id": "1761e656",
   "metadata": {},
   "outputs": [
    {
     "data": {
      "text/plain": [
       "<function __main__.deco.<locals>.inner()>"
      ]
     },
     "execution_count": 143,
     "metadata": {},
     "output_type": "execute_result"
    }
   ],
   "source": [
    "target  # now reference to inner "
   ]
  },
  {
   "cell_type": "markdown",
   "id": "2573aabc",
   "metadata": {},
   "source": [
    "## Running at import time"
   ]
  },
  {
   "cell_type": "markdown",
   "id": "52272992",
   "metadata": {},
   "source": [
    "Key feature декораторов в том, что они применяются сразу после объявления декорируемой функции во время загрузки модуля в Python "
   ]
  },
  {
   "cell_type": "code",
   "execution_count": 147,
   "id": "3bc71b96",
   "metadata": {},
   "outputs": [
    {
     "name": "stdout",
     "output_type": "stream",
     "text": [
      "running register <function f1 at 0x7f6c72626f80>\n",
      "running register <function f2 at 0x7f6c72626ef0>\n"
     ]
    }
   ],
   "source": [
    "registry = []\n",
    "\n",
    "def register(func):\n",
    "    print(f'running register {func}')\n",
    "    registry.append(func)\n",
    "    return func\n",
    "\n",
    "@register\n",
    "def f1():\n",
    "    print('running f1()')\n",
    "    \n",
    "@register\n",
    "def f2():\n",
    "    print('running f2()')\n",
    "\n",
    "def f3():\n",
    "    print('running f3()')\n",
    "    \n",
    "def run():\n",
    "    print('running run()')\n",
    "    print('registry', registry)\n",
    "    f1()\n",
    "    f2()\n",
    "    f3()"
   ]
  },
  {
   "cell_type": "code",
   "execution_count": 148,
   "id": "92a1c39a",
   "metadata": {},
   "outputs": [
    {
     "name": "stdout",
     "output_type": "stream",
     "text": [
      "running run()\n",
      "registry [<function f1 at 0x7f6c72626f80>, <function f2 at 0x7f6c72626ef0>]\n",
      "running f1()\n",
      "running f2()\n",
      "running f3()\n"
     ]
    }
   ],
   "source": [
    "run()"
   ]
  },
  {
   "cell_type": "markdown",
   "id": "f3af0224",
   "metadata": {},
   "source": [
    "## Декоратор-логгер"
   ]
  },
  {
   "cell_type": "markdown",
   "id": "a8f69223",
   "metadata": {},
   "source": [
    "### logging"
   ]
  },
  {
   "cell_type": "markdown",
   "id": "2bf00a2d",
   "metadata": {},
   "source": [
    " Модуль `logging` содержит набор функций для логирования различного поведения в вашей программе. Например, для понимания, что ваша программа работает как ожидается, или там идет что-то не так"
   ]
  },
  {
   "cell_type": "markdown",
   "id": "a6881c30",
   "metadata": {},
   "source": [
    "Есть разные уровни логирования: debug, info, warning, error, critical"
   ]
  },
  {
   "cell_type": "code",
   "execution_count": 1,
   "id": "9c23d957",
   "metadata": {
    "ExecuteTime": {
     "end_time": "2022-09-28T23:46:50.639247Z",
     "start_time": "2022-09-28T23:46:50.632857Z"
    }
   },
   "outputs": [],
   "source": [
    "import logging"
   ]
  },
  {
   "cell_type": "code",
   "execution_count": 2,
   "id": "f5fd9c34",
   "metadata": {
    "ExecuteTime": {
     "end_time": "2022-09-28T23:47:41.188952Z",
     "start_time": "2022-09-28T23:47:41.180336Z"
    }
   },
   "outputs": [
    {
     "name": "stderr",
     "output_type": "stream",
     "text": [
      "WARNING:root:Smth might go wrong, check this!\n"
     ]
    }
   ],
   "source": [
    "logging.info('Working as expected')\n",
    "logging.warning('Smth might go wrong, check this!')"
   ]
  },
  {
   "cell_type": "markdown",
   "id": "6a8bb9fa",
   "metadata": {},
   "source": [
    "Можно логировать в файл (надо начать новую сессию в Python)"
   ]
  },
  {
   "cell_type": "code",
   "execution_count": 15,
   "id": "bc972ba4",
   "metadata": {
    "ExecuteTime": {
     "end_time": "2022-09-29T01:26:33.713156Z",
     "start_time": "2022-09-29T01:26:33.707004Z"
    }
   },
   "outputs": [],
   "source": [
    "import os\n",
    "import logging\n",
    "\n",
    "log_filename = os.path.join('data', 'example.log')\n",
    "log_level = logging.DEBUG\n",
    "\n",
    "logging.basicConfig(\n",
    "    filename=log_filename,\n",
    "    encoding='utf-8',\n",
    "    level=log_level,\n",
    "    format='%(asctime)s %(message)s'  # add time\n",
    ")\n",
    "\n",
    "logging.debug('One very thorough message to save in our log')\n",
    "logging.info('Just some info, also in log')\n",
    "logging.warning('Something might be wrong')\n",
    "logging.error('Logging our failure')"
   ]
  },
  {
   "cell_type": "code",
   "execution_count": 2,
   "id": "6bca9c13",
   "metadata": {
    "ExecuteTime": {
     "end_time": "2022-09-29T00:04:14.323371Z",
     "start_time": "2022-09-29T00:04:14.204906Z"
    }
   },
   "outputs": [
    {
     "name": "stdout",
     "output_type": "stream",
     "text": [
      "2022-09-29 03:04:13,025 One very thorough message to save in our log\r\n",
      "2022-09-29 03:04:13,025 Just some info, also in log\r\n",
      "2022-09-29 03:04:13,025 Something might be wrong\r\n",
      "2022-09-29 03:04:13,025 Logging our failure\r\n"
     ]
    }
   ],
   "source": [
    "! cat data/example.log"
   ]
  },
  {
   "cell_type": "markdown",
   "id": "bbe63dc5",
   "metadata": {},
   "source": [
    "### Напишем декоратор"
   ]
  },
  {
   "cell_type": "code",
   "execution_count": 1,
   "id": "498dfe8c",
   "metadata": {
    "ExecuteTime": {
     "end_time": "2022-09-29T00:14:05.225248Z",
     "start_time": "2022-09-29T00:14:05.220609Z"
    }
   },
   "outputs": [],
   "source": [
    "import logging\n",
    "from functools import wraps, partial"
   ]
  },
  {
   "cell_type": "code",
   "execution_count": 22,
   "id": "a519d2b7",
   "metadata": {
    "ExecuteTime": {
     "end_time": "2022-09-29T00:22:27.196738Z",
     "start_time": "2022-09-29T00:22:27.190958Z"
    }
   },
   "outputs": [],
   "source": []
  },
  {
   "cell_type": "markdown",
   "id": "d0e21960",
   "metadata": {},
   "source": [
    "Стоит посмотреть в сторону объявления отдельного объекта логгера с помощью getLogger"
   ]
  },
  {
   "cell_type": "code",
   "execution_count": 23,
   "id": "936987c0",
   "metadata": {
    "ExecuteTime": {
     "end_time": "2022-09-29T00:22:28.014625Z",
     "start_time": "2022-09-29T00:22:28.005576Z"
    }
   },
   "outputs": [
    {
     "data": {
      "text/plain": [
       "3"
      ]
     },
     "execution_count": 23,
     "metadata": {},
     "output_type": "execute_result"
    }
   ],
   "source": [
    "@logged(log_filename='test_log.log')\n",
    "def add(x, y):\n",
    "    return x + y\n",
    "\n",
    "add(1, 2)"
   ]
  },
  {
   "cell_type": "code",
   "execution_count": 25,
   "id": "d3c46d08",
   "metadata": {
    "ExecuteTime": {
     "end_time": "2022-09-29T00:23:38.671169Z",
     "start_time": "2022-09-29T00:23:38.665229Z"
    }
   },
   "outputs": [],
   "source": [
    "import time"
   ]
  },
  {
   "cell_type": "code",
   "execution_count": 26,
   "id": "42e2d70d",
   "metadata": {
    "ExecuteTime": {
     "end_time": "2022-09-29T00:23:48.491886Z",
     "start_time": "2022-09-29T00:23:48.487424Z"
    }
   },
   "outputs": [],
   "source": [
    "@logged\n",
    "@clock(active=True)\n",
    "def add(x, y):\n",
    "    time.sleep(2)\n",
    "    return x + y"
   ]
  },
  {
   "cell_type": "code",
   "execution_count": 27,
   "id": "2e13076a",
   "metadata": {
    "ExecuteTime": {
     "end_time": "2022-09-29T00:23:59.714746Z",
     "start_time": "2022-09-29T00:23:57.703529Z"
    }
   },
   "outputs": [
    {
     "name": "stdout",
     "output_type": "stream",
     "text": [
      "add((10, 10000000000)) -> 10000000010 executed in 2.00s\n"
     ]
    },
    {
     "data": {
      "text/plain": [
       "10000000010"
      ]
     },
     "execution_count": 27,
     "metadata": {},
     "output_type": "execute_result"
    }
   ],
   "source": [
    "add(10, 10**10)"
   ]
  },
  {
   "cell_type": "markdown",
   "id": "e3043b65",
   "metadata": {
    "ExecuteTime": {
     "end_time": "2022-09-29T00:25:48.242814Z",
     "start_time": "2022-09-29T00:25:48.237247Z"
    }
   },
   "source": [
    "## Декоратор -- assert типов (2 балла)"
   ]
  },
  {
   "cell_type": "markdown",
   "id": "d7da87ae",
   "metadata": {},
   "source": [
    "Мы уже говорили про type hints, а также про то, что никаких ошибок без использования сторонних модулей некорректные типы нам не дадут. Давайте реализуем логику проверки типов с помощью декоратора.\n",
    "\n",
    "Типы могут быть заданы как стандартными названиями, так и с использованыем модуля typing. Для Any пропускайте проверку"
   ]
  },
  {
   "cell_type": "code",
   "execution_count": 11,
   "id": "4577bf9c",
   "metadata": {
    "ExecuteTime": {
     "end_time": "2022-09-29T01:24:03.359218Z",
     "start_time": "2022-09-29T01:24:03.352879Z"
    }
   },
   "outputs": [],
   "source": [
    "from typing import Any"
   ]
  },
  {
   "cell_type": "code",
   "execution_count": 9,
   "id": "4f6e4775",
   "metadata": {
    "ExecuteTime": {
     "end_time": "2022-09-29T01:22:10.141518Z",
     "start_time": "2022-09-29T01:22:10.137240Z"
    }
   },
   "outputs": [],
   "source": [
    "@check_types\n",
    "def func(a: int, b: str) -> str:\n",
    "    return a * b"
   ]
  },
  {
   "cell_type": "markdown",
   "id": "dfd6d913",
   "metadata": {
    "ExecuteTime": {
     "end_time": "2022-09-29T01:22:59.687912Z",
     "start_time": "2022-09-29T01:22:59.683005Z"
    }
   },
   "source": [
    "Стоит выбросить ValueError, если есть несовпадение между реальным и ожидаемым типом у какой-то из переданных переменных или у возвращаемого значения"
   ]
  },
  {
   "cell_type": "markdown",
   "id": "14433448",
   "metadata": {
    "ExecuteTime": {
     "end_time": "2022-09-29T01:19:25.033928Z",
     "start_time": "2022-09-29T01:19:25.028889Z"
    }
   },
   "source": []
  },
  {
   "cell_type": "code",
   "execution_count": null,
   "id": "fadbee18",
   "metadata": {},
   "outputs": [],
   "source": []
  }
 ],
 "metadata": {
  "kernelspec": {
   "display_name": "Python 3 (ipykernel)",
   "language": "python",
   "name": "python3"
  },
  "language_info": {
   "codemirror_mode": {
    "name": "ipython",
    "version": 3
   },
   "file_extension": ".py",
   "mimetype": "text/x-python",
   "name": "python",
   "nbconvert_exporter": "python",
   "pygments_lexer": "ipython3",
   "version": "3.9.12"
  },
  "toc": {
   "base_numbering": 1,
   "nav_menu": {},
   "number_sections": true,
   "sideBar": true,
   "skip_h1_title": false,
   "title_cell": "Table of Contents",
   "title_sidebar": "Contents",
   "toc_cell": false,
   "toc_position": {},
   "toc_section_display": true,
   "toc_window_display": false
  },
  "varInspector": {
   "cols": {
    "lenName": 16,
    "lenType": 16,
    "lenVar": 40
   },
   "kernels_config": {
    "python": {
     "delete_cmd_postfix": "",
     "delete_cmd_prefix": "del ",
     "library": "var_list.py",
     "varRefreshCmd": "print(var_dic_list())"
    },
    "r": {
     "delete_cmd_postfix": ") ",
     "delete_cmd_prefix": "rm(",
     "library": "var_list.r",
     "varRefreshCmd": "cat(var_dic_list()) "
    }
   },
   "types_to_exclude": [
    "module",
    "function",
    "builtin_function_or_method",
    "instance",
    "_Feature"
   ],
   "window_display": false
  }
 },
 "nbformat": 4,
 "nbformat_minor": 5
}
