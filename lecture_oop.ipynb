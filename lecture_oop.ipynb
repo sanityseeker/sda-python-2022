{
 "cells": [
  {
   "cell_type": "markdown",
   "id": "50e47d28",
   "metadata": {},
   "source": [
    "# Первая лекция"
   ]
  },
  {
   "cell_type": "markdown",
   "id": "7569ce2c",
   "metadata": {},
   "source": [
    "In Python, object-oriented Programming (OOPs) is a programming paradigm that uses objects and classes in programming. It aims to implement real-world entities like inheritance, polymorphisms, encapsulation, etc. in the programming. The main concept of OOPs is to bind the data and the functions that work on that together as a single unit so that no other part of the code can access this data."
   ]
  },
  {
   "cell_type": "markdown",
   "id": "d7c8b661",
   "metadata": {},
   "source": [
    "Язык может быть ориентирован на объекты, но программу, построенную по принципам ООП, можно написать и в языках, где нет как таковых классов/объектов. Например, на C, или на Go. "
   ]
  },
  {
   "cell_type": "markdown",
   "id": "ee244201",
   "metadata": {},
   "source": [
    "- **Абстракция**. \n",
    "\n",
    "Выделение значимой информации и использование наиболее важных характеристик объекта.\n",
    "Абстракция от общего к частному. Класс -> экземпляр класса, Базовый класс -> производный класс.\n",
    "\n",
    "Выделяем общее из частного. Притом то общее, с которым мы хотим работать.\n",
    "\n",
    "Пример абстракции. Если нам нужно, чтобы утка крякала и плавала, то все то, что крякает и плавает для нас будет уткой. Мы отбросили все частное, которое нам не нужно.\n",
    "\n",
    "Также абстракция бывает горизонтальной. Когда мы моделируем нечто с помощью массива (множество, дерево и пр.). С помощью одного и того же инструмента можем определять разное.\n",
    "\n",
    "Как это относится к ООП?\n",
    "\n",
    "\n",
    "- **Инкапсуляция**\n",
    "\n",
    "Логическое объединение данных и функций для работы с ними. Инструмент, который позволяет разделить действия, необходмые для разного уровня абстракций. \n",
    "\n",
    "Минимизация необходимого информационного пространства, за счет создания иерархии пространств имен (размещаем в объектке и его описание, и методы, которые с этим объектом работают). Нотация доступа к методам объекта через точку. Методы, поля и прочее и прочее и прочее. Посмотреть методы можно с помощью команды `dir()`.\n",
    "\n",
    "Следует заметить, что также часто используется также \"сокрытие\" определенных полей. Когда мы говорим, что внутри объекта есть еще поля, но мы вам их не покажем. В некоторых языках есть, например, \n",
    "\n",
    "\n",
    "- **Наследование**\n",
    "\n",
    "Повторное использование свойств объектов с описанием различий.\n",
    "\n",
    "Хотим, когда мы используем очередной класс объектов, мы могли сказать \"А можно сделать вот так же, как тут, только в некоторых пунктах мы делаем изменений\". Повторное использование кода.\n",
    "\n",
    "\n",
    "- **Полиморфизм**\n",
    "\n",
    "Предоставление одинаковых средств взаимодействия с объектами разной природы. Возможность для одного и того же кода обрабатывать данные разных типов. Duck typing в Python -- это из коробки\n",
    "\n",
    "\n",
    "Класс можно использовать как контейнер. Мы можем складывать в него дополнительные поля. Можно делать свои \"пространства имен\", и в них складывать какие-то методы. Например, можно сделать некоторый класс и объявить в нем свою функцию минимума. Или определить какое-то поле, например, value. И тогда value будет определена только в области видимости нашего класса"
   ]
  },
  {
   "cell_type": "markdown",
   "id": "833a40dd",
   "metadata": {},
   "source": [
    "**Class** \n",
    "A class is a collection of objects. A class contains the blueprints or the prototype from which the objects are being created. It is a logical entity that contains some attributes and methods. \n",
    "\n",
    "To understand the need for creating a class let’s consider an example, let’s say you wanted to track the number of dogs that may have different attributes like breed, age. If a list is used, the first element could be the dog’s breed while the second element could represent its age. Let’s suppose there are 100 different dogs, then how would you know which element is supposed to be which? What if you wanted to add other properties to these dogs? This lacks organization and it’s the exact need for classes. \n",
    "\n",
    "Some points on Python class:  \n",
    "\n",
    "Classes are created by keyword class.\n",
    "Attributes are the variables that belong to a class.\n",
    "Attributes are always public and can be accessed using the dot (.) operator. Eg.: Myclass.Myattribute"
   ]
  },
  {
   "cell_type": "markdown",
   "id": "fbdf03ae",
   "metadata": {},
   "source": [
    "**Objects**\n",
    "The object is an entity that has a state and behavior associated with it. It may be any real-world object like a mouse, keyboard, chair, table, pen, etc. Integers, strings, floating-point numbers, even arrays, and dictionaries, are all objects. More specifically, any single integer or any single string is an object. The number 12 is an object, the string “Hello, world” is an object, a list is an object that can hold other objects, and so on. You’ve been using objects all along and may not even realize it."
   ]
  },
  {
   "cell_type": "markdown",
   "id": "f8011fcd",
   "metadata": {},
   "source": [
    "*An object consists of :*\n",
    "\n",
    "- State: It is represented by the attributes of an object. It also reflects the properties of an object.\n",
    "\n",
    "- Behavior: It is represented by the methods of an object. It also reflects the response of an object to other objects.\n",
    "\n",
    "- Identity: It gives a unique name to an object and enables one object to interact with other objects."
   ]
  },
  {
   "cell_type": "markdown",
   "id": "5dd39f58",
   "metadata": {},
   "source": [
    "## Первый класс"
   ]
  },
  {
   "cell_type": "code",
   "execution_count": 1,
   "id": "12f76bce",
   "metadata": {
    "ExecuteTime": {
     "end_time": "2022-10-05T03:08:37.611504Z",
     "start_time": "2022-10-05T03:08:37.604474Z"
    }
   },
   "outputs": [],
   "source": [
    "class Empty:\n",
    "    pass\n",
    "\n",
    "empty_var = Empty()"
   ]
  },
  {
   "cell_type": "code",
   "execution_count": 2,
   "id": "2694e039",
   "metadata": {
    "ExecuteTime": {
     "end_time": "2022-10-05T03:08:51.855072Z",
     "start_time": "2022-10-05T03:08:51.845330Z"
    }
   },
   "outputs": [
    {
     "data": {
      "text/plain": [
       "['__class__',\n",
       " '__delattr__',\n",
       " '__dict__',\n",
       " '__dir__',\n",
       " '__doc__',\n",
       " '__eq__',\n",
       " '__format__',\n",
       " '__ge__',\n",
       " '__getattribute__',\n",
       " '__gt__',\n",
       " '__hash__',\n",
       " '__init__',\n",
       " '__init_subclass__',\n",
       " '__le__',\n",
       " '__lt__',\n",
       " '__module__',\n",
       " '__ne__',\n",
       " '__new__',\n",
       " '__reduce__',\n",
       " '__reduce_ex__',\n",
       " '__repr__',\n",
       " '__setattr__',\n",
       " '__sizeof__',\n",
       " '__str__',\n",
       " '__subclasshook__',\n",
       " '__weakref__']"
      ]
     },
     "execution_count": 2,
     "metadata": {},
     "output_type": "execute_result"
    }
   ],
   "source": [
    "dir(empty_var)"
   ]
  },
  {
   "cell_type": "code",
   "execution_count": 4,
   "id": "dfa9b34a",
   "metadata": {
    "ExecuteTime": {
     "end_time": "2022-10-02T17:45:46.965225Z",
     "start_time": "2022-10-02T17:45:46.958941Z"
    }
   },
   "outputs": [
    {
     "data": {
      "text/plain": [
       "(__main__.Empty, '<__main__.Empty object at 0x7f2d44a62670>')"
      ]
     },
     "execution_count": 4,
     "metadata": {},
     "output_type": "execute_result"
    }
   ],
   "source": [
    "type(empty_var), str(empty_var)"
   ]
  },
  {
   "cell_type": "markdown",
   "id": "6f13bd46",
   "metadata": {},
   "source": [
    "Когда мы задаем переменную внутри класса, то она будет видна из его экземпляров"
   ]
  },
  {
   "cell_type": "code",
   "execution_count": 5,
   "id": "f8bf3837",
   "metadata": {
    "ExecuteTime": {
     "end_time": "2022-10-02T17:47:12.507231Z",
     "start_time": "2022-10-02T17:47:12.501045Z"
    }
   },
   "outputs": [],
   "source": [
    "Empty.value = 'None'"
   ]
  },
  {
   "cell_type": "code",
   "execution_count": 7,
   "id": "c61a2406",
   "metadata": {
    "ExecuteTime": {
     "end_time": "2022-10-02T17:47:42.176224Z",
     "start_time": "2022-10-02T17:47:42.170486Z"
    }
   },
   "outputs": [
    {
     "data": {
      "text/plain": [
       "(139835334092720, 139835334092720)"
      ]
     },
     "execution_count": 7,
     "metadata": {},
     "output_type": "execute_result"
    }
   ],
   "source": [
    "id(Empty.value), id(empty_var.value)"
   ]
  },
  {
   "cell_type": "markdown",
   "id": "93f8ca85",
   "metadata": {
    "ExecuteTime": {
     "end_time": "2022-10-02T17:48:14.439352Z",
     "start_time": "2022-10-02T17:48:14.430501Z"
    }
   },
   "source": [
    "Сначала смотрим на поля экземпляра. Если там нету, то смотрим на поля класса. Если там нету, выводим ошибку"
   ]
  },
  {
   "cell_type": "markdown",
   "id": "43ef65c1",
   "metadata": {},
   "source": [
    "Можно удалять поля класса через `del`."
   ]
  },
  {
   "cell_type": "markdown",
   "id": "91b5626a",
   "metadata": {},
   "source": [
    "А можно ли как-нибудь \"напихать\" поля класса сразу, без дообъявления"
   ]
  },
  {
   "cell_type": "code",
   "execution_count": 13,
   "id": "32b4273f",
   "metadata": {
    "ExecuteTime": {
     "end_time": "2022-10-02T17:51:33.705596Z",
     "start_time": "2022-10-02T17:51:33.699082Z"
    }
   },
   "outputs": [],
   "source": [
    "class NotEmpty:\n",
    "    immutable_value = 'not empty'\n",
    "    mutable_value = []"
   ]
  },
  {
   "cell_type": "code",
   "execution_count": 15,
   "id": "3415b683",
   "metadata": {
    "ExecuteTime": {
     "end_time": "2022-10-02T17:51:50.148623Z",
     "start_time": "2022-10-02T17:51:50.137985Z"
    }
   },
   "outputs": [
    {
     "data": {
      "text/plain": [
       "('not empty', [])"
      ]
     },
     "execution_count": 15,
     "metadata": {},
     "output_type": "execute_result"
    }
   ],
   "source": [
    "NotEmpty.immutable_value, NotEmpty.mutable_value"
   ]
  },
  {
   "cell_type": "code",
   "execution_count": 16,
   "id": "92ccab76",
   "metadata": {
    "ExecuteTime": {
     "end_time": "2022-10-02T17:52:49.671888Z",
     "start_time": "2022-10-02T17:52:49.667993Z"
    }
   },
   "outputs": [],
   "source": [
    "not_empty = NotEmpty()"
   ]
  },
  {
   "cell_type": "code",
   "execution_count": 17,
   "id": "5ded35dd",
   "metadata": {
    "ExecuteTime": {
     "end_time": "2022-10-02T17:53:01.557133Z",
     "start_time": "2022-10-02T17:53:01.550993Z"
    }
   },
   "outputs": [],
   "source": [
    "not_empty.mutable_value.append(42)"
   ]
  },
  {
   "cell_type": "code",
   "execution_count": 18,
   "id": "ecc17eb7",
   "metadata": {
    "ExecuteTime": {
     "end_time": "2022-10-02T17:53:10.733122Z",
     "start_time": "2022-10-02T17:53:10.727913Z"
    }
   },
   "outputs": [
    {
     "data": {
      "text/plain": [
       "[42]"
      ]
     },
     "execution_count": 18,
     "metadata": {},
     "output_type": "execute_result"
    }
   ],
   "source": [
    "NotEmpty.mutable_value"
   ]
  },
  {
   "cell_type": "code",
   "execution_count": 19,
   "id": "24a43346",
   "metadata": {
    "ExecuteTime": {
     "end_time": "2022-10-02T17:53:30.342307Z",
     "start_time": "2022-10-02T17:53:30.336091Z"
    }
   },
   "outputs": [],
   "source": [
    "another_not_empty = NotEmpty()"
   ]
  },
  {
   "cell_type": "code",
   "execution_count": 20,
   "id": "2737389e",
   "metadata": {
    "ExecuteTime": {
     "end_time": "2022-10-02T17:53:35.272252Z",
     "start_time": "2022-10-02T17:53:35.266749Z"
    }
   },
   "outputs": [
    {
     "data": {
      "text/plain": [
       "[42]"
      ]
     },
     "execution_count": 20,
     "metadata": {},
     "output_type": "execute_result"
    }
   ],
   "source": [
    "another_not_empty.mutable_value"
   ]
  },
  {
   "cell_type": "code",
   "execution_count": 24,
   "id": "6da83941",
   "metadata": {
    "ExecuteTime": {
     "end_time": "2022-10-02T17:54:27.787441Z",
     "start_time": "2022-10-02T17:54:27.781806Z"
    }
   },
   "outputs": [],
   "source": [
    "not_empty.immutable_value += 'deleted'"
   ]
  },
  {
   "cell_type": "code",
   "execution_count": 26,
   "id": "c73d17da",
   "metadata": {
    "ExecuteTime": {
     "end_time": "2022-10-02T17:54:30.832832Z",
     "start_time": "2022-10-02T17:54:30.824133Z"
    }
   },
   "outputs": [
    {
     "data": {
      "text/plain": [
       "'not empty'"
      ]
     },
     "execution_count": 26,
     "metadata": {},
     "output_type": "execute_result"
    }
   ],
   "source": [
    "NotEmpty.immutable_value"
   ]
  },
  {
   "cell_type": "markdown",
   "id": "4b53fddd",
   "metadata": {},
   "source": [
    "Если мы сделаем функцию"
   ]
  },
  {
   "cell_type": "code",
   "execution_count": 37,
   "id": "f54b9ea7",
   "metadata": {
    "ExecuteTime": {
     "end_time": "2022-10-02T18:15:27.662249Z",
     "start_time": "2022-10-02T18:15:27.658364Z"
    }
   },
   "outputs": [],
   "source": [
    "class NotEmpty:\n",
    "    value = 'not empty'\n",
    "    \n",
    "    def func(*args):\n",
    "        return args"
   ]
  },
  {
   "cell_type": "code",
   "execution_count": 38,
   "id": "7a8fd0d6",
   "metadata": {
    "ExecuteTime": {
     "end_time": "2022-10-02T18:15:28.103689Z",
     "start_time": "2022-10-02T18:15:28.098118Z"
    },
    "scrolled": true
   },
   "outputs": [
    {
     "data": {
      "text/plain": [
       "()"
      ]
     },
     "execution_count": 38,
     "metadata": {},
     "output_type": "execute_result"
    }
   ],
   "source": [
    "NotEmpty.func() "
   ]
  },
  {
   "cell_type": "code",
   "execution_count": 39,
   "id": "4a603fd1",
   "metadata": {
    "ExecuteTime": {
     "end_time": "2022-10-02T18:15:28.698828Z",
     "start_time": "2022-10-02T18:15:28.693618Z"
    }
   },
   "outputs": [],
   "source": [
    "not_empty = NotEmpty()"
   ]
  },
  {
   "cell_type": "code",
   "execution_count": 40,
   "id": "02ca9152",
   "metadata": {
    "ExecuteTime": {
     "end_time": "2022-10-02T18:15:29.142899Z",
     "start_time": "2022-10-02T18:15:29.132988Z"
    }
   },
   "outputs": [
    {
     "data": {
      "text/plain": [
       "(<__main__.NotEmpty at 0x7f2d44a753d0>,)"
      ]
     },
     "execution_count": 40,
     "metadata": {},
     "output_type": "execute_result"
    }
   ],
   "source": [
    "not_empty.func()"
   ]
  },
  {
   "cell_type": "markdown",
   "id": "5f853a22",
   "metadata": {},
   "source": [
    "Видим, что хотя мы не передавали никаких аргументов, у нас что-то передалось"
   ]
  },
  {
   "cell_type": "code",
   "execution_count": 43,
   "id": "fca461e4",
   "metadata": {
    "ExecuteTime": {
     "end_time": "2022-10-02T18:15:45.614254Z",
     "start_time": "2022-10-02T18:15:45.608764Z"
    }
   },
   "outputs": [
    {
     "data": {
      "text/plain": [
       "(139832402072528, 139832402072528)"
      ]
     },
     "execution_count": 43,
     "metadata": {},
     "output_type": "execute_result"
    }
   ],
   "source": [
    "id(not_empty.func()[0]), id(not_empty)"
   ]
  },
  {
   "cell_type": "markdown",
   "id": "3d6631b5",
   "metadata": {},
   "source": [
    "\n",
    "Можно убедиться, что в таком случае у нас передается ссылка на наш же объект"
   ]
  },
  {
   "cell_type": "markdown",
   "id": "9111c860",
   "metadata": {
    "ExecuteTime": {
     "end_time": "2022-10-14T09:50:31.016158Z",
     "start_time": "2022-10-14T09:50:31.009828Z"
    }
   },
   "source": [
    "## Magics, класс Complex"
   ]
  },
  {
   "cell_type": "markdown",
   "id": "9c312309",
   "metadata": {},
   "source": [
    "**The self**  \n",
    "Class methods must have an extra first parameter in the method definition. We do not give a value for this parameter when we call the method, Python provides it\n",
    "If we have a method that takes no arguments, then we still have to have one argument.\n",
    "This is similar to this pointer in C++ and this reference in Java."
   ]
  },
  {
   "cell_type": "markdown",
   "id": "d71b6200",
   "metadata": {},
   "source": [
    "Если мы хотим, чтобы у нас при создании экземпляра класса уже были определены какие-то поля, мы используем функцию `__init__`"
   ]
  },
  {
   "cell_type": "code",
   "execution_count": 46,
   "id": "05e03df8",
   "metadata": {
    "ExecuteTime": {
     "end_time": "2022-10-02T18:50:11.925759Z",
     "start_time": "2022-10-02T18:50:11.920802Z"
    }
   },
   "outputs": [],
   "source": [
    "class Complex:\n",
    "    def __init__(self, re: float=0, im: float=0):\n",
    "        self.re = re\n",
    "        self.im = im\n",
    "    \n",
    "a = Complex(1, 2)\n",
    "b = Complex(3)\n",
    "c = Complex()\n"
   ]
  },
  {
   "cell_type": "markdown",
   "id": "6ae0c0d3",
   "metadata": {},
   "source": [
    "Считается правилом хорошего тона, такие поля тоже надо объявлять"
   ]
  },
  {
   "cell_type": "code",
   "execution_count": 47,
   "id": "cbb10e34",
   "metadata": {
    "ExecuteTime": {
     "end_time": "2022-10-02T18:51:31.872649Z",
     "start_time": "2022-10-02T18:51:31.867368Z"
    }
   },
   "outputs": [
    {
     "data": {
      "text/plain": [
       "['__class__',\n",
       " '__delattr__',\n",
       " '__dict__',\n",
       " '__dir__',\n",
       " '__doc__',\n",
       " '__eq__',\n",
       " '__format__',\n",
       " '__ge__',\n",
       " '__getattribute__',\n",
       " '__gt__',\n",
       " '__hash__',\n",
       " '__init__',\n",
       " '__init_subclass__',\n",
       " '__le__',\n",
       " '__lt__',\n",
       " '__module__',\n",
       " '__ne__',\n",
       " '__new__',\n",
       " '__reduce__',\n",
       " '__reduce_ex__',\n",
       " '__repr__',\n",
       " '__setattr__',\n",
       " '__sizeof__',\n",
       " '__str__',\n",
       " '__subclasshook__',\n",
       " '__weakref__',\n",
       " 'im',\n",
       " 're']"
      ]
     },
     "execution_count": 47,
     "metadata": {},
     "output_type": "execute_result"
    }
   ],
   "source": [
    "dir(a)"
   ]
  },
  {
   "cell_type": "code",
   "execution_count": 48,
   "id": "01ef49db",
   "metadata": {
    "ExecuteTime": {
     "end_time": "2022-10-02T18:51:37.275758Z",
     "start_time": "2022-10-02T18:51:37.269858Z"
    }
   },
   "outputs": [
    {
     "data": {
      "text/plain": [
       "['__class__',\n",
       " '__delattr__',\n",
       " '__dict__',\n",
       " '__dir__',\n",
       " '__doc__',\n",
       " '__eq__',\n",
       " '__format__',\n",
       " '__ge__',\n",
       " '__getattribute__',\n",
       " '__gt__',\n",
       " '__hash__',\n",
       " '__init__',\n",
       " '__init_subclass__',\n",
       " '__le__',\n",
       " '__lt__',\n",
       " '__module__',\n",
       " '__ne__',\n",
       " '__new__',\n",
       " '__reduce__',\n",
       " '__reduce_ex__',\n",
       " '__repr__',\n",
       " '__setattr__',\n",
       " '__sizeof__',\n",
       " '__str__',\n",
       " '__subclasshook__',\n",
       " '__weakref__']"
      ]
     },
     "execution_count": 48,
     "metadata": {},
     "output_type": "execute_result"
    }
   ],
   "source": [
    "dir(Complex)"
   ]
  },
  {
   "cell_type": "markdown",
   "id": "ecf554ee",
   "metadata": {},
   "source": [
    "Но если это какое-то временное поле, которое нигде больше не понадобится..."
   ]
  },
  {
   "cell_type": "markdown",
   "id": "b3f7e82c",
   "metadata": {},
   "source": [
    "Пространства имен в Python -- это просто словари "
   ]
  },
  {
   "cell_type": "code",
   "execution_count": 51,
   "id": "bd158e28",
   "metadata": {
    "ExecuteTime": {
     "end_time": "2022-10-02T18:57:55.324683Z",
     "start_time": "2022-10-02T18:57:55.318468Z"
    }
   },
   "outputs": [],
   "source": [
    "c.__dict__['value'] = 'something'"
   ]
  },
  {
   "cell_type": "code",
   "execution_count": 56,
   "id": "f2ecb958",
   "metadata": {
    "ExecuteTime": {
     "end_time": "2022-10-02T18:58:15.905438Z",
     "start_time": "2022-10-02T18:58:15.896328Z"
    }
   },
   "outputs": [
    {
     "data": {
      "text/plain": [
       "'something'"
      ]
     },
     "execution_count": 56,
     "metadata": {},
     "output_type": "execute_result"
    }
   ],
   "source": [
    "getattr(c, 'value')"
   ]
  },
  {
   "cell_type": "markdown",
   "id": "714f956f",
   "metadata": {},
   "source": [
    "Разные **magics**\n",
    "\n",
    "`__add__`, `__radd__` и sub в данном примере одинаковы, поскольку для комплексных чисел операции коммутативны\n",
    "\n",
    "`__iadd__` и подобные будут inplace менять объект"
   ]
  },
  {
   "cell_type": "code",
   "execution_count": 115,
   "id": "6cb2fb3f",
   "metadata": {
    "ExecuteTime": {
     "end_time": "2022-10-03T08:00:13.042165Z",
     "start_time": "2022-10-03T08:00:13.033833Z"
    }
   },
   "outputs": [],
   "source": [
    "class Complex:\n",
    "    def __init__(self, re=0, im=0):\n",
    "        self.re = re\n",
    "        self.im = im\n",
    "\n",
    "    def __add__(self, other):\n",
    "        if isinstance(other, Complex):\n",
    "            return Complex(self.re + other.re, self.im + other.im)\n",
    "\n",
    "        elif isinstance(other, (float, int)):\n",
    "            return Complex(self.re + other, self.im)\n",
    "\n",
    "    def __radd__(self, other):\n",
    "        return self + other\n",
    "\n",
    "    def __iadd__(self, other):\n",
    "        if isinstance(other, Complex):\n",
    "            self.re += other.re\n",
    "            self.im += other.im\n",
    "\n",
    "        elif isinstance(other, (float, int)):\n",
    "            self.re += other\n",
    "\n",
    "        return self\n",
    "\n",
    "    def __sub__(self, other):\n",
    "        if isinstance(other, Complex):\n",
    "            return Complex(self.re - other.re, self.im - other.im)\n",
    "\n",
    "        elif isinstance(other, (float, int)):\n",
    "            return Complex(self.re - other, self.im)\n",
    "\n",
    "    def __isub__(self, other):\n",
    "        if isinstance(other, Complex):\n",
    "            self.re -= other.re\n",
    "            self.im -= other.im\n",
    "\n",
    "        elif isinstance(other, (float, int)):\n",
    "            selfa.re -= other\n",
    "\n",
    "        return self\n",
    "\n",
    "    def __rsub__(self, other):\n",
    "        if isinstance(other, Complex):\n",
    "            return Complex(other.re - self.re, other.im - self.im)\n",
    "\n",
    "        elif isinstance(other, (float, int)):\n",
    "            return Complex(other - self.re, -self.im)\n",
    "\n",
    "    def __mul__(self, other):\n",
    "        if isinstance(other, Complex):\n",
    "            new_re = self.re * other.re - self.im * other.im\n",
    "            new_im = self.re * other.im + self.im * other.re\n",
    "\n",
    "        elif isinstance(other, (float, int)):\n",
    "            new_re = self.re * other\n",
    "            new_im = self.im * other\n",
    "\n",
    "        return Complex(new_re, new_im)\n",
    "\n",
    "    def __imul__(self, other):\n",
    "        if isinstance(other, Complex):\n",
    "            external = self * other\n",
    "            self.re = external.re\n",
    "            self.im = external.im\n",
    "\n",
    "        elif isinstance(other, (float, int)):\n",
    "            self.re *= other\n",
    "            self.im *= other\n",
    "\n",
    "        return self\n",
    "\n",
    "    def __rmul__(self, other):\n",
    "        if isinstance(other, Complex):\n",
    "            return self * other\n",
    "\n",
    "        elif isinstance(other, (float, int)):\n",
    "            self.re *= other\n",
    "            self.im *= other\n",
    "\n",
    "        return self\n",
    "\n",
    "    def __int__(self):\n",
    "        return int(self.re)\n",
    "\n",
    "    def __float__(self):\n",
    "        return float(self.re)\n",
    "\n",
    "    def __neg__(self):\n",
    "        return Complex(-self.re, -self.im)\n",
    "\n",
    "    def __pos__(self):\n",
    "        return self\n",
    "\n",
    "    def __repr__(self):\n",
    "        return f\"Complex({self.re}, {self.im})\"\n",
    "\n",
    "    def __str__(self):\n",
    "        if self.im >= 0:\n",
    "            return f\"{self.re} + {self.im}i\"\n",
    "        else:\n",
    "            return f\"{self.re} - {-self.im}i\""
   ]
  },
  {
   "cell_type": "code",
   "execution_count": 122,
   "id": "38da92bb",
   "metadata": {
    "ExecuteTime": {
     "end_time": "2022-10-03T08:01:48.468431Z",
     "start_time": "2022-10-03T08:01:48.462471Z"
    }
   },
   "outputs": [
    {
     "data": {
      "text/plain": [
       "('4 + 5i', 'Complex(4, 5)')"
      ]
     },
     "execution_count": 122,
     "metadata": {},
     "output_type": "execute_result"
    }
   ],
   "source": [
    "a = Complex(4, 5)\n",
    "b = Complex(1, 3)\n",
    "\n",
    "str(a), repr(a)  # __str__, __repr__"
   ]
  },
  {
   "cell_type": "code",
   "execution_count": 123,
   "id": "39cde022",
   "metadata": {
    "ExecuteTime": {
     "end_time": "2022-10-03T08:01:50.118237Z",
     "start_time": "2022-10-03T08:01:50.113238Z"
    }
   },
   "outputs": [
    {
     "data": {
      "text/plain": [
       "(Complex(5, 8), Complex(3, 2))"
      ]
     },
     "execution_count": 123,
     "metadata": {},
     "output_type": "execute_result"
    }
   ],
   "source": [
    "a + b, a - b  # __add__, __sub"
   ]
  },
  {
   "cell_type": "code",
   "execution_count": 124,
   "id": "05425852",
   "metadata": {
    "ExecuteTime": {
     "end_time": "2022-10-03T08:01:50.234139Z",
     "start_time": "2022-10-03T08:01:50.225105Z"
    }
   },
   "outputs": [
    {
     "data": {
      "text/plain": [
       "(Complex(8, 5), Complex(8, 5))"
      ]
     },
     "execution_count": 124,
     "metadata": {},
     "output_type": "execute_result"
    }
   ],
   "source": [
    "a + 4, 4 + a"
   ]
  },
  {
   "cell_type": "code",
   "execution_count": 125,
   "id": "7450d1c8",
   "metadata": {
    "ExecuteTime": {
     "end_time": "2022-10-03T08:01:50.360113Z",
     "start_time": "2022-10-03T08:01:50.351074Z"
    }
   },
   "outputs": [
    {
     "data": {
      "text/plain": [
       "(Complex(16, 20), Complex(16, 20))"
      ]
     },
     "execution_count": 125,
     "metadata": {},
     "output_type": "execute_result"
    }
   ],
   "source": [
    "a * 4, 4 * a  # __mul__, __rmul__"
   ]
  },
  {
   "cell_type": "code",
   "execution_count": 126,
   "id": "c532c2c0",
   "metadata": {
    "ExecuteTime": {
     "end_time": "2022-10-03T08:01:50.472455Z",
     "start_time": "2022-10-03T08:01:50.463027Z"
    }
   },
   "outputs": [
    {
     "data": {
      "text/plain": [
       "(16, 16.0)"
      ]
     },
     "execution_count": 126,
     "metadata": {},
     "output_type": "execute_result"
    }
   ],
   "source": [
    "int(a), float(a)  # __int__, __float__"
   ]
  },
  {
   "cell_type": "code",
   "execution_count": 127,
   "id": "d8986531",
   "metadata": {
    "ExecuteTime": {
     "end_time": "2022-10-03T08:01:50.995618Z",
     "start_time": "2022-10-03T08:01:50.987283Z"
    }
   },
   "outputs": [
    {
     "data": {
      "text/plain": [
       "(Complex(-16, -20), Complex(16, 20))"
      ]
     },
     "execution_count": 127,
     "metadata": {},
     "output_type": "execute_result"
    }
   ],
   "source": [
    "-a, +a  # __neg__, __pos__"
   ]
  },
  {
   "cell_type": "markdown",
   "id": "0bf9ee3a",
   "metadata": {},
   "source": [
    "## Копирование объектов"
   ]
  },
  {
   "cell_type": "markdown",
   "id": "c2d5a2d4",
   "metadata": {},
   "source": [
    "**копирование**"
   ]
  },
  {
   "cell_type": "code",
   "execution_count": 84,
   "id": "ddcbec13",
   "metadata": {
    "ExecuteTime": {
     "end_time": "2022-10-02T19:48:17.597950Z",
     "start_time": "2022-10-02T19:48:17.593337Z"
    }
   },
   "outputs": [
    {
     "name": "stdout",
     "output_type": "stream",
     "text": [
      "4 + 5i\n",
      "-1 + 5i\n",
      "139832399903952 139832399903952\n"
     ]
    }
   ],
   "source": [
    "a = Complex(4, 5)\n",
    "print(a)\n",
    "\n",
    "b = a\n",
    "b.re = -1\n",
    "\n",
    "print(a)\n",
    "\n",
    "print(id(a), id(b))"
   ]
  },
  {
   "cell_type": "code",
   "execution_count": 85,
   "id": "97bbdeb0",
   "metadata": {
    "ExecuteTime": {
     "end_time": "2022-10-02T19:48:45.931216Z",
     "start_time": "2022-10-02T19:48:45.922126Z"
    }
   },
   "outputs": [
    {
     "data": {
      "text/plain": [
       "True"
      ]
     },
     "execution_count": 85,
     "metadata": {},
     "output_type": "execute_result"
    }
   ],
   "source": [
    "a is b"
   ]
  },
  {
   "cell_type": "code",
   "execution_count": 86,
   "id": "ee490b78",
   "metadata": {
    "ExecuteTime": {
     "end_time": "2022-10-02T19:48:53.284965Z",
     "start_time": "2022-10-02T19:48:53.278998Z"
    }
   },
   "outputs": [
    {
     "data": {
      "text/plain": [
       "True"
      ]
     },
     "execution_count": 86,
     "metadata": {},
     "output_type": "execute_result"
    }
   ],
   "source": [
    "id(a.re) == id(b.re)"
   ]
  },
  {
   "cell_type": "code",
   "execution_count": 87,
   "id": "6acdda29",
   "metadata": {
    "ExecuteTime": {
     "end_time": "2022-10-02T19:49:17.314147Z",
     "start_time": "2022-10-02T19:49:17.309127Z"
    }
   },
   "outputs": [
    {
     "name": "stdout",
     "output_type": "stream",
     "text": [
      "4 + 5i\n",
      "4 + 5i\n",
      "-1 + 5i\n"
     ]
    }
   ],
   "source": [
    "import copy\n",
    "\n",
    "a = Complex(4, 5)\n",
    "print(a)\n",
    "\n",
    "b = copy.copy(a)\n",
    "b.re = -1\n",
    "\n",
    "print(a)\n",
    "print(b)"
   ]
  },
  {
   "cell_type": "code",
   "execution_count": 153,
   "id": "60bda264",
   "metadata": {},
   "outputs": [
    {
     "data": {
      "text/plain": [
       "False"
      ]
     },
     "execution_count": 153,
     "metadata": {},
     "output_type": "execute_result"
    }
   ],
   "source": [
    "a is b"
   ]
  },
  {
   "cell_type": "code",
   "execution_count": 88,
   "id": "84187018",
   "metadata": {
    "ExecuteTime": {
     "end_time": "2022-10-02T19:49:48.467450Z",
     "start_time": "2022-10-02T19:49:48.461762Z"
    }
   },
   "outputs": [
    {
     "data": {
      "text/plain": [
       "(139835334310288, 139835334310128)"
      ]
     },
     "execution_count": 88,
     "metadata": {},
     "output_type": "execute_result"
    }
   ],
   "source": [
    "id(a.re), id(b.re)"
   ]
  },
  {
   "cell_type": "markdown",
   "id": "7380826d",
   "metadata": {},
   "source": [
    "Но достаточно ли этого?"
   ]
  },
  {
   "cell_type": "code",
   "execution_count": 141,
   "id": "f06520b4",
   "metadata": {
    "ExecuteTime": {
     "end_time": "2022-10-03T08:03:12.746204Z",
     "start_time": "2022-10-03T08:03:12.740421Z"
    }
   },
   "outputs": [],
   "source": [
    "import copy"
   ]
  },
  {
   "cell_type": "code",
   "execution_count": 128,
   "id": "2fb707d1",
   "metadata": {
    "ExecuteTime": {
     "end_time": "2022-10-03T08:02:18.611792Z",
     "start_time": "2022-10-03T08:02:18.606348Z"
    }
   },
   "outputs": [],
   "source": [
    "class Bus:\n",
    "    \n",
    "    def __init__(self, passengers=None):\n",
    "        if passengers is None:\n",
    "            self.passengers = []\n",
    "        else:\n",
    "            self.passengers = list(passengers)\n",
    "            \n",
    "    def pick(self, name):\n",
    "        self.passengers.append(name)\n",
    "    \n",
    "    def drop(self, name):\n",
    "        self.passengers.remove(name)"
   ]
  },
  {
   "cell_type": "code",
   "execution_count": 137,
   "id": "b86cdad3",
   "metadata": {
    "ExecuteTime": {
     "end_time": "2022-10-03T08:02:44.393891Z",
     "start_time": "2022-10-03T08:02:44.389510Z"
    }
   },
   "outputs": [],
   "source": [
    "bus_one = Bus(['Alice', 'Bob', 'Chel'])\n",
    "bus_two = copy.copy(bus_one)\n",
    "bus_three = copy.deepcopy(bus_one)"
   ]
  },
  {
   "cell_type": "code",
   "execution_count": 138,
   "id": "44e519f4",
   "metadata": {
    "ExecuteTime": {
     "end_time": "2022-10-03T08:02:52.331551Z",
     "start_time": "2022-10-03T08:02:52.326147Z"
    }
   },
   "outputs": [
    {
     "data": {
      "text/plain": [
       "(['Alice', 'Bob', 'Chel'], ['Alice', 'Bob', 'Chel'], ['Alice', 'Bob', 'Chel'])"
      ]
     },
     "execution_count": 138,
     "metadata": {},
     "output_type": "execute_result"
    }
   ],
   "source": [
    "bus_one.passengers, bus_two.passengers, bus_three.passengers"
   ]
  },
  {
   "cell_type": "code",
   "execution_count": 139,
   "id": "770c6ed7",
   "metadata": {
    "ExecuteTime": {
     "end_time": "2022-10-03T08:02:55.699878Z",
     "start_time": "2022-10-03T08:02:55.694011Z"
    }
   },
   "outputs": [],
   "source": [
    "bus_two.drop('Bob')"
   ]
  },
  {
   "cell_type": "code",
   "execution_count": 140,
   "id": "47dbff8f",
   "metadata": {
    "ExecuteTime": {
     "end_time": "2022-10-03T08:02:59.910418Z",
     "start_time": "2022-10-03T08:02:59.905212Z"
    }
   },
   "outputs": [
    {
     "data": {
      "text/plain": [
       "False"
      ]
     },
     "execution_count": 140,
     "metadata": {},
     "output_type": "execute_result"
    }
   ],
   "source": [
    "bus_two is bus_one"
   ]
  },
  {
   "cell_type": "code",
   "execution_count": 143,
   "id": "0b1f0c03",
   "metadata": {
    "ExecuteTime": {
     "end_time": "2022-10-03T08:03:30.874051Z",
     "start_time": "2022-10-03T08:03:30.868288Z"
    }
   },
   "outputs": [
    {
     "data": {
      "text/plain": [
       "(['Alice', 'Chel'], ['Alice', 'Chel'], ['Alice', 'Bob', 'Chel'])"
      ]
     },
     "execution_count": 143,
     "metadata": {},
     "output_type": "execute_result"
    }
   ],
   "source": [
    "bus_one.passengers, bus_two.passengers, bus_three.passengers"
   ]
  },
  {
   "cell_type": "code",
   "execution_count": 144,
   "id": "ac88b60f",
   "metadata": {
    "ExecuteTime": {
     "end_time": "2022-10-03T08:03:36.257309Z",
     "start_time": "2022-10-03T08:03:36.251467Z"
    }
   },
   "outputs": [
    {
     "data": {
      "text/plain": [
       "True"
      ]
     },
     "execution_count": 144,
     "metadata": {},
     "output_type": "execute_result"
    }
   ],
   "source": [
    "bus_one.passengers is bus_two.passengers"
   ]
  },
  {
   "cell_type": "code",
   "execution_count": 145,
   "id": "54b8a29f",
   "metadata": {
    "ExecuteTime": {
     "end_time": "2022-10-03T08:03:39.399581Z",
     "start_time": "2022-10-03T08:03:39.394330Z"
    }
   },
   "outputs": [
    {
     "data": {
      "text/plain": [
       "False"
      ]
     },
     "execution_count": 145,
     "metadata": {},
     "output_type": "execute_result"
    }
   ],
   "source": [
    "bus_one.passengers is bus_three.passengers"
   ]
  },
  {
   "cell_type": "markdown",
   "id": "e36ac310",
   "metadata": {},
   "source": [
    "`__copy__, __deepcopy__`"
   ]
  },
  {
   "cell_type": "markdown",
   "id": "d7dc1436",
   "metadata": {},
   "source": [
    "# Вторая лекция"
   ]
  },
  {
   "cell_type": "markdown",
   "id": "c56262ac",
   "metadata": {},
   "source": [
    "## Разные дескрипторы"
   ]
  },
  {
   "cell_type": "markdown",
   "id": "afec7d9c",
   "metadata": {},
   "source": [
    "### staticmethods"
   ]
  },
  {
   "cell_type": "code",
   "execution_count": 188,
   "id": "9d9591a8",
   "metadata": {},
   "outputs": [],
   "source": [
    "class Bus:\n",
    "    \n",
    "    def __init__(self, passengers=None):\n",
    "        if passengers is None:\n",
    "            self.passengers = []\n",
    "        else:\n",
    "            self.passengers = list(passengers)\n",
    "            \n",
    "    def pick(self, name):\n",
    "        self.passengers.append(name)\n",
    "    \n",
    "    def drop(self, name):\n",
    "        self.passengers.remove(name)\n",
    "    \n",
    "    @staticmethod\n",
    "    def greet_passengers(greeting='Hello, guys!'):\n",
    "        return greeting"
   ]
  },
  {
   "cell_type": "code",
   "execution_count": 183,
   "id": "296024b3",
   "metadata": {},
   "outputs": [],
   "source": [
    "bus = Bus(['Alice', 'Bob'])"
   ]
  },
  {
   "cell_type": "code",
   "execution_count": 184,
   "id": "87f28fe6",
   "metadata": {},
   "outputs": [
    {
     "data": {
      "text/plain": [
       "'Hello, guys!'"
      ]
     },
     "execution_count": 184,
     "metadata": {},
     "output_type": "execute_result"
    }
   ],
   "source": [
    "bus.greet_passengers()"
   ]
  },
  {
   "cell_type": "code",
   "execution_count": 185,
   "id": "e66f1348",
   "metadata": {},
   "outputs": [
    {
     "data": {
      "text/plain": [
       "'Hello, guys!'"
      ]
     },
     "execution_count": 185,
     "metadata": {},
     "output_type": "execute_result"
    }
   ],
   "source": [
    "long_bus = Bus(['Alice', 'Bob', 'Ed'])\n",
    "\n",
    "long_bus.greet_passengers()"
   ]
  },
  {
   "cell_type": "code",
   "execution_count": 189,
   "id": "ab61f57a",
   "metadata": {},
   "outputs": [
    {
     "data": {
      "text/plain": [
       "'Hello, guys!'"
      ]
     },
     "execution_count": 189,
     "metadata": {},
     "output_type": "execute_result"
    }
   ],
   "source": [
    "Bus.greet_passengers()"
   ]
  },
  {
   "cell_type": "markdown",
   "id": "217ad64e",
   "metadata": {},
   "source": [
    "### classmethod"
   ]
  },
  {
   "cell_type": "code",
   "execution_count": 217,
   "id": "cd024f08",
   "metadata": {},
   "outputs": [],
   "source": [
    "class Bus:\n",
    "    \n",
    "    NAME = 'Morning bus'\n",
    "    \n",
    "    def __init__(self, passengers=None):\n",
    "        if passengers is None:\n",
    "            self.passengers = []\n",
    "        else:\n",
    "            self.passengers = list(passengers)\n",
    "            \n",
    "    def pick(self, name):\n",
    "        self.passengers.append(name)\n",
    "    \n",
    "    def drop(self, name):\n",
    "        self.passengers.remove(name)\n",
    "    \n",
    "    @staticmethod\n",
    "    def greet_passengers(greeting='Hello, guys!'):\n",
    "        return greeting\n",
    "    \n",
    "    @classmethod\n",
    "    def greet_bus_passengers(cls, greeting='Hello, morning guys!'):\n",
    "        return f'{greeting} You are in our {cls.NAME}'"
   ]
  },
  {
   "cell_type": "code",
   "execution_count": 218,
   "id": "0b559631",
   "metadata": {},
   "outputs": [
    {
     "data": {
      "text/plain": [
       "'Hello, guys!'"
      ]
     },
     "execution_count": 218,
     "metadata": {},
     "output_type": "execute_result"
    }
   ],
   "source": [
    "Bus.greet_passengers()"
   ]
  },
  {
   "cell_type": "code",
   "execution_count": 219,
   "id": "f8180d0f",
   "metadata": {},
   "outputs": [
    {
     "data": {
      "text/plain": [
       "'Hello, morning guys! You are in our Morning bus'"
      ]
     },
     "execution_count": 219,
     "metadata": {},
     "output_type": "execute_result"
    }
   ],
   "source": [
    "Bus.greet_bus_passengers()"
   ]
  },
  {
   "cell_type": "markdown",
   "id": "63eba865",
   "metadata": {},
   "source": [
    "Заметим, что мы не можем получить доступ к переменным класса из статического метода"
   ]
  },
  {
   "cell_type": "code",
   "execution_count": 220,
   "id": "b3cad443",
   "metadata": {},
   "outputs": [],
   "source": [
    "class Bus:\n",
    "    \n",
    "    NAME = 'Morning bus'\n",
    "    \n",
    "    def __init__(self, passengers=None):\n",
    "        if passengers is None:\n",
    "            self.passengers = []\n",
    "        else:\n",
    "            self.passengers = list(passengers)\n",
    "            \n",
    "    def pick(self, name):\n",
    "        self.passengers.append(name)\n",
    "    \n",
    "    def drop(self, name):\n",
    "        self.passengers.remove(name)\n",
    "    \n",
    "    @staticmethod\n",
    "    def greet_passengers(greeting='Hello, guys!'):\n",
    "        return  greeting + NAME"
   ]
  },
  {
   "cell_type": "code",
   "execution_count": 221,
   "id": "c1b6d1aa",
   "metadata": {},
   "outputs": [
    {
     "ename": "NameError",
     "evalue": "name 'NAME' is not defined",
     "output_type": "error",
     "traceback": [
      "\u001b[0;31m---------------------------------------------------------------------------\u001b[0m",
      "\u001b[0;31mNameError\u001b[0m                                 Traceback (most recent call last)",
      "\u001b[0;32m/tmp/ipykernel_13492/3106773468.py\u001b[0m in \u001b[0;36m<module>\u001b[0;34m\u001b[0m\n\u001b[0;32m----> 1\u001b[0;31m \u001b[0mBus\u001b[0m\u001b[0;34m.\u001b[0m\u001b[0mgreet_passengers\u001b[0m\u001b[0;34m(\u001b[0m\u001b[0;34m)\u001b[0m\u001b[0;34m\u001b[0m\u001b[0;34m\u001b[0m\u001b[0m\n\u001b[0m",
      "\u001b[0;32m/tmp/ipykernel_13492/1757355532.py\u001b[0m in \u001b[0;36mgreet_passengers\u001b[0;34m(greeting)\u001b[0m\n\u001b[1;32m     17\u001b[0m     \u001b[0;34m@\u001b[0m\u001b[0mstaticmethod\u001b[0m\u001b[0;34m\u001b[0m\u001b[0;34m\u001b[0m\u001b[0m\n\u001b[1;32m     18\u001b[0m     \u001b[0;32mdef\u001b[0m \u001b[0mgreet_passengers\u001b[0m\u001b[0;34m(\u001b[0m\u001b[0mgreeting\u001b[0m\u001b[0;34m=\u001b[0m\u001b[0;34m'Hello, guys!'\u001b[0m\u001b[0;34m)\u001b[0m\u001b[0;34m:\u001b[0m\u001b[0;34m\u001b[0m\u001b[0;34m\u001b[0m\u001b[0m\n\u001b[0;32m---> 19\u001b[0;31m         \u001b[0;32mreturn\u001b[0m  \u001b[0mgreeting\u001b[0m \u001b[0;34m+\u001b[0m \u001b[0mNAME\u001b[0m\u001b[0;34m\u001b[0m\u001b[0;34m\u001b[0m\u001b[0m\n\u001b[0m",
      "\u001b[0;31mNameError\u001b[0m: name 'NAME' is not defined"
     ]
    }
   ],
   "source": [
    "Bus.greet_passengers()"
   ]
  },
  {
   "cell_type": "markdown",
   "id": "f01de1db",
   "metadata": {},
   "source": [
    "**@classmethod** заставляет декорируемую функцию оперировать самим классом, а не конкретным его инстансом (не требует создания объекта-инстанса класса) "
   ]
  },
  {
   "cell_type": "markdown",
   "id": "809bcab2",
   "metadata": {},
   "source": [
    "**@staticmethod** \"отвязывает\" декорируемую функцию от ее класса в том смысле, что функция теряет доступ к полям класса и полям инстанса класса. Но зато и не требует создания инстанса для своей работы"
   ]
  },
  {
   "cell_type": "markdown",
   "id": "25c303ab",
   "metadata": {},
   "source": [
    "### Вызовы @staticmethods, @classmethods"
   ]
  },
  {
   "cell_type": "code",
   "execution_count": 29,
   "id": "6a6c4dca",
   "metadata": {},
   "outputs": [],
   "source": [
    "class MethodsDemo:\n",
    "    \"\"\"\n",
    "    A sample class for classmethods and staticmethods\n",
    "    \"\"\"\n",
    "    NAME = 'methods_demo'\n",
    "    \n",
    "    def __init__(self, nickname='default', *args):\n",
    "        self.nickname = nickname\n",
    "        \n",
    "    def do(self, *args):\n",
    "#         print('self is', self)\n",
    "#         print(args)\n",
    "        return args\n",
    "    \n",
    "    def access_fields(self, *args):\n",
    "        return self.NAME, self.nickname\n",
    "    \n",
    "    @classmethod\n",
    "    def do_classmethod(*args):\n",
    "        return args\n",
    "    \n",
    "    @classmethod\n",
    "    def access_fields_cls(cls, *args):\n",
    "        return cls.NAME\n",
    "    \n",
    "    @classmethod\n",
    "    def generate_cls(cls, *args):\n",
    "        return cls(*args)\n",
    "    \n",
    "    @staticmethod\n",
    "    def do_staticmethod(*args):\n",
    "        return args"
   ]
  },
  {
   "cell_type": "code",
   "execution_count": 30,
   "id": "10bf78fd",
   "metadata": {},
   "outputs": [
    {
     "data": {
      "text/plain": [
       "['NAME',\n",
       " '__class__',\n",
       " '__delattr__',\n",
       " '__dict__',\n",
       " '__dir__',\n",
       " '__doc__',\n",
       " '__eq__',\n",
       " '__format__',\n",
       " '__ge__',\n",
       " '__getattribute__',\n",
       " '__gt__',\n",
       " '__hash__',\n",
       " '__init__',\n",
       " '__init_subclass__',\n",
       " '__le__',\n",
       " '__lt__',\n",
       " '__module__',\n",
       " '__ne__',\n",
       " '__new__',\n",
       " '__reduce__',\n",
       " '__reduce_ex__',\n",
       " '__repr__',\n",
       " '__setattr__',\n",
       " '__sizeof__',\n",
       " '__str__',\n",
       " '__subclasshook__',\n",
       " '__weakref__',\n",
       " 'access_fields',\n",
       " 'access_fields_cls',\n",
       " 'do',\n",
       " 'do_classmethod',\n",
       " 'do_staticmethod',\n",
       " 'generate_cls']"
      ]
     },
     "execution_count": 30,
     "metadata": {},
     "output_type": "execute_result"
    }
   ],
   "source": [
    "dir(MethodsDemo)"
   ]
  },
  {
   "cell_type": "code",
   "execution_count": 4,
   "id": "1dc75885",
   "metadata": {},
   "outputs": [
    {
     "data": {
      "text/plain": [
       "(__main__.MethodsDemo, 'param')"
      ]
     },
     "execution_count": 4,
     "metadata": {},
     "output_type": "execute_result"
    }
   ],
   "source": [
    "MethodsDemo.do_classmethod('param')"
   ]
  },
  {
   "cell_type": "code",
   "execution_count": 5,
   "id": "7008a1dd",
   "metadata": {},
   "outputs": [
    {
     "data": {
      "text/plain": [
       "('param',)"
      ]
     },
     "execution_count": 5,
     "metadata": {},
     "output_type": "execute_result"
    }
   ],
   "source": [
    "MethodsDemo.do_staticmethod('param')"
   ]
  },
  {
   "cell_type": "code",
   "execution_count": 13,
   "id": "441a87b4",
   "metadata": {},
   "outputs": [
    {
     "data": {
      "text/plain": [
       "('param',)"
      ]
     },
     "execution_count": 13,
     "metadata": {},
     "output_type": "execute_result"
    }
   ],
   "source": [
    "MethodsDemo().do('param')"
   ]
  },
  {
   "cell_type": "markdown",
   "id": "728e9284",
   "metadata": {},
   "source": [
    "### Доступы к полям"
   ]
  },
  {
   "cell_type": "code",
   "execution_count": 15,
   "id": "9e0f56a6",
   "metadata": {},
   "outputs": [
    {
     "ename": "TypeError",
     "evalue": "access_fields() missing 1 required positional argument: 'self'",
     "output_type": "error",
     "traceback": [
      "\u001b[0;31m---------------------------------------------------------------------------\u001b[0m",
      "\u001b[0;31mTypeError\u001b[0m                                 Traceback (most recent call last)",
      "\u001b[0;32m/tmp/ipykernel_971357/3918477518.py\u001b[0m in \u001b[0;36m<module>\u001b[0;34m\u001b[0m\n\u001b[0;32m----> 1\u001b[0;31m \u001b[0mMethodsDemo\u001b[0m\u001b[0;34m.\u001b[0m\u001b[0maccess_fields\u001b[0m\u001b[0;34m(\u001b[0m\u001b[0;34m)\u001b[0m\u001b[0;34m\u001b[0m\u001b[0;34m\u001b[0m\u001b[0m\n\u001b[0m",
      "\u001b[0;31mTypeError\u001b[0m: access_fields() missing 1 required positional argument: 'self'"
     ]
    }
   ],
   "source": [
    "MethodsDemo.access_fields()"
   ]
  },
  {
   "cell_type": "code",
   "execution_count": 19,
   "id": "f3ccd1bb",
   "metadata": {},
   "outputs": [
    {
     "data": {
      "text/plain": [
       "('methods_demo', 'default')"
      ]
     },
     "execution_count": 19,
     "metadata": {},
     "output_type": "execute_result"
    }
   ],
   "source": [
    "MethodsDemo().access_fields()"
   ]
  },
  {
   "cell_type": "code",
   "execution_count": 23,
   "id": "b571d887",
   "metadata": {},
   "outputs": [
    {
     "data": {
      "text/plain": [
       "'methods_demo'"
      ]
     },
     "execution_count": 23,
     "metadata": {},
     "output_type": "execute_result"
    }
   ],
   "source": [
    "MethodsDemo.access_fields_cls()"
   ]
  },
  {
   "cell_type": "markdown",
   "id": "394981b6",
   "metadata": {},
   "source": [
    "staticmethod не имеет доступов к полям, classmethod имеет доступ только к полям класса"
   ]
  },
  {
   "cell_type": "code",
   "execution_count": 26,
   "id": "08d2dced",
   "metadata": {},
   "outputs": [
    {
     "data": {
      "text/plain": [
       "('methods_demo', 'new_nick')"
      ]
     },
     "execution_count": 26,
     "metadata": {},
     "output_type": "execute_result"
    }
   ],
   "source": [
    "MethodsDemo.generate_cls('new_nick').access_fields()"
   ]
  },
  {
   "cell_type": "code",
   "execution_count": 33,
   "id": "0c91e50f",
   "metadata": {},
   "outputs": [
    {
     "data": {
      "text/plain": [
       "mappingproxy({'__module__': '__main__',\n",
       "              '__doc__': '\\n    A sample class for classmethods and staticmethods\\n    ',\n",
       "              'NAME': 'methods_demo',\n",
       "              '__init__': <function __main__.MethodsDemo.__init__(self, nickname='default', *args)>,\n",
       "              'do': <function __main__.MethodsDemo.do(self, *args)>,\n",
       "              'access_fields': <function __main__.MethodsDemo.access_fields(self, *args)>,\n",
       "              'do_classmethod': <classmethod at 0x7f7e50533510>,\n",
       "              'access_fields_cls': <classmethod at 0x7f7e505335d0>,\n",
       "              'generate_cls': <classmethod at 0x7f7e50533690>,\n",
       "              'do_staticmethod': <staticmethod at 0x7f7e505336d0>,\n",
       "              '__dict__': <attribute '__dict__' of 'MethodsDemo' objects>,\n",
       "              '__weakref__': <attribute '__weakref__' of 'MethodsDemo' objects>})"
      ]
     },
     "execution_count": 33,
     "metadata": {},
     "output_type": "execute_result"
    }
   ],
   "source": [
    "MethodsDemo.__dict__"
   ]
  },
  {
   "cell_type": "code",
   "execution_count": 34,
   "id": "0107a92d",
   "metadata": {},
   "outputs": [
    {
     "data": {
      "text/plain": [
       "{'nickname': 'default'}"
      ]
     },
     "execution_count": 34,
     "metadata": {},
     "output_type": "execute_result"
    }
   ],
   "source": [
    "MethodsDemo().__dict__"
   ]
  },
  {
   "cell_type": "markdown",
   "id": "7cd38aee",
   "metadata": {},
   "source": [
    "### property"
   ]
  },
  {
   "cell_type": "markdown",
   "id": "c43c8997",
   "metadata": {},
   "source": [
    "When you define a class in an object-oriented programming language, you’ll probably end up with some instance and class attributes. In other words, you’ll end up with variables that are accessible through the instance, class, or even both, depending on the language. Attributes represent or hold the internal state of a given object, which you’ll often need to access and mutate.\n",
    "\n",
    "Typically, you have at least two ways to manage an attribute. Either you can access and mutate the attribute directly or you can use methods. Methods are functions attached to a given class. They provide the behaviors and actions that an object can perform with its internal data and attributes.\n",
    "\n",
    "If you expose your attributes to the user, then they become part of the public API of your classes. Your user will access and mutate them directly in their code. The problem comes when you need to change the internal implementation of a given attribute.\n",
    "\n",
    "Say you’re working on a Circle class. The initial implementation has a single attribute called .radius. You finish coding the class and make it available to your end users. They start using Circle in their code to create a lot of awesome projects and applications. Good job!\n",
    "\n",
    "Now suppose that you have an important user that comes to you with a new requirement. They don’t want Circle to store the radius any longer. They need a public .diameter attribute.\n",
    "\n",
    "At this point, removing .radius to start using .diameter could break the code of some of your end users. You need to manage this situation in a way other than removing .radius."
   ]
  },
  {
   "cell_type": "markdown",
   "id": "4aabf021",
   "metadata": {},
   "source": [
    "Что нас останавливает от написания геттеров и сеттеров? (Кроме того, что это признано антипаттерном...)"
   ]
  },
  {
   "cell_type": "code",
   "execution_count": 48,
   "id": "0b856791",
   "metadata": {
    "ExecuteTime": {
     "end_time": "2022-10-06T03:58:28.068446Z",
     "start_time": "2022-10-06T03:58:28.062612Z"
    }
   },
   "outputs": [],
   "source": [
    "class Point:\n",
    "    def __init__(self, x, y):\n",
    "        self._x = x\n",
    "        self._y = y\n",
    "\n",
    "    def get_x(self):\n",
    "        return self._x\n",
    "\n",
    "    def set_x(self, value):\n",
    "        self._x = value\n",
    "\n",
    "    def get_y(self):\n",
    "        return self._y\n",
    "\n",
    "    def set_y(self, value):\n",
    "        self._y = value\n"
   ]
  },
  {
   "cell_type": "code",
   "execution_count": null,
   "id": "094f3233",
   "metadata": {},
   "outputs": [],
   "source": [
    "class Point:\n",
    "...     def __init__(self, x, y):\n",
    "...         self.x = x\n",
    "...         self.y = y\n",
    "...\n",
    "\n",
    ">>> point = Point(12, 5)\n",
    ">>> point.x\n",
    "12\n",
    ">>> point.y\n",
    "5\n",
    "\n",
    ">>> point.x = 42\n",
    ">>> point.x\n",
    "42"
   ]
  },
  {
   "cell_type": "markdown",
   "id": "1fe21725",
   "metadata": {},
   "source": [
    "Так что если нам все-таки надо изменить поведение атрибута"
   ]
  },
  {
   "cell_type": "markdown",
   "id": "ff152e9c",
   "metadata": {},
   "source": [
    "Properties represent an intermediate functionality between a plain attribute (or field) and a method. In other words, they allow you to create methods that behave like attributes. With properties, you can change how you compute the target attribute whenever you need to do so.\n",
    "\n",
    "For example, you can turn both .x and .y into properties. With this change, you can continue accessing them as attributes. You’ll also have an underlying method holding .x and .y that will allow you to modify their internal implementation and perform actions on them right before your users access and mutate them."
   ]
  },
  {
   "cell_type": "code",
   "execution_count": 49,
   "id": "b88e12e3",
   "metadata": {
    "ExecuteTime": {
     "end_time": "2022-10-06T04:09:35.109133Z",
     "start_time": "2022-10-06T04:09:35.103488Z"
    }
   },
   "outputs": [],
   "source": [
    "class Circle:\n",
    "    def __init__(self, radius):\n",
    "        self._radius = radius\n",
    "\n",
    "    def _get_radius(self):\n",
    "        print(\"Get radius\")\n",
    "        return self._radius\n",
    "\n",
    "    def _set_radius(self, value):\n",
    "        print(\"Set radius\")\n",
    "        self._radius = value\n",
    "\n",
    "    def _del_radius(self):\n",
    "        print(\"Delete radius\")\n",
    "        del self._radius\n",
    "\n",
    "    radius = property(\n",
    "        fget=_get_radius,\n",
    "        fset=_set_radius,\n",
    "        fdel=_del_radius,\n",
    "        doc=\"The radius property.\"\n",
    "    )"
   ]
  },
  {
   "cell_type": "code",
   "execution_count": 50,
   "id": "55ae32b1",
   "metadata": {
    "ExecuteTime": {
     "end_time": "2022-10-06T04:11:03.725631Z",
     "start_time": "2022-10-06T04:11:03.720412Z"
    }
   },
   "outputs": [],
   "source": [
    "\n",
    "class Circle:\n",
    "\n",
    "    def __init__(self, radius):\n",
    "\n",
    "        self._radius = radius\n",
    "\n",
    "\n",
    "    @property\n",
    "\n",
    "    def radius(self):\n",
    "\n",
    "        \"\"\"The radius property.\"\"\"\n",
    "\n",
    "        print(\"Get radius\")\n",
    "\n",
    "        return self._radius\n",
    "\n",
    "\n",
    "    @radius.setter\n",
    "\n",
    "    def radius(self, value):\n",
    "\n",
    "        print(\"Set radius\")\n",
    "\n",
    "        self._radius = value\n",
    "\n",
    "\n",
    "    @radius.deleter\n",
    "\n",
    "    def radius(self):\n",
    "\n",
    "        print(\"Delete radius\")\n",
    "\n",
    "        del self._radius\n"
   ]
  },
  {
   "cell_type": "markdown",
   "id": "af01d8dd",
   "metadata": {},
   "source": [
    "Делаем read only атрибуты"
   ]
  },
  {
   "cell_type": "code",
   "execution_count": null,
   "id": "626030d4",
   "metadata": {},
   "outputs": [],
   "source": [
    "\n",
    "class WriteCoordinateError(Exception):\n",
    "    pass\n",
    "\n",
    "class Point:\n",
    "    def __init__(self, x, y):\n",
    "        self._x = x\n",
    "        self._y = y\n",
    "\n",
    "    @property\n",
    "    def x(self):\n",
    "        return self._x\n",
    "\n",
    "    @x.setter\n",
    "    def x(self, value):\n",
    "        raise WriteCoordinateError(\"x coordinate is read-only\")\n",
    "\n",
    "    @property\n",
    "    def y(self):\n",
    "        return self._y\n",
    "\n",
    "    @y.setter\n",
    "    def y(self, value):\n",
    "        raise WriteCoordinateError(\"y coordinate is read-only\")"
   ]
  },
  {
   "cell_type": "markdown",
   "id": "f2a21da0",
   "metadata": {},
   "source": [
    "Делаем write-only"
   ]
  },
  {
   "cell_type": "code",
   "execution_count": null,
   "id": "b6c5a003",
   "metadata": {},
   "outputs": [],
   "source": [
    "import hashlib\n",
    "import os\n",
    "\n",
    "class User:\n",
    "    def __init__(self, name, password):\n",
    "        self.name = name\n",
    "        self.password = password\n",
    "\n",
    "    @property\n",
    "    def password(self):\n",
    "        raise AttributeError(\"Password is write-only\")\n",
    "\n",
    "    @password.setter\n",
    "    def password(self, plaintext):\n",
    "        salt = os.urandom(32)\n",
    "        self._hashed_password = hashlib.pbkdf2_hmac(\n",
    "            \"sha256\", plaintext.encode(\"utf-8\"), salt, 100_000\n",
    "        )"
   ]
  },
  {
   "cell_type": "markdown",
   "id": "39320503",
   "metadata": {},
   "source": [
    "Валидируем input"
   ]
  },
  {
   "cell_type": "code",
   "execution_count": 51,
   "id": "a78460ab",
   "metadata": {
    "ExecuteTime": {
     "end_time": "2022-10-06T04:15:57.818976Z",
     "start_time": "2022-10-06T04:15:57.813345Z"
    }
   },
   "outputs": [],
   "source": [
    "\n",
    "\n",
    "class Point:\n",
    "    def __init__(self, x, y):\n",
    "        self.x = x\n",
    "        self.y = y\n",
    "\n",
    "    @property\n",
    "    def x(self):\n",
    "        return self._x\n",
    "\n",
    "    @x.setter\n",
    "    def x(self, value):\n",
    "        try:\n",
    "            self._x = float(value)\n",
    "            print(\"Validated!\")\n",
    "        except ValueError:\n",
    "            raise ValueError('\"x\" must be a number') from None\n",
    "\n",
    "    @property\n",
    "    def y(self):\n",
    "        return self._y\n",
    "\n",
    "    @y.setter\n",
    "    def y(self, value):\n",
    "        try:\n",
    "            self._y = float(value)\n",
    "            print(\"Validated!\")\n",
    "        except ValueError:\n",
    "            raise ValueError('\"y\" must be a number') from None"
   ]
  },
  {
   "cell_type": "code",
   "execution_count": 1,
   "id": "94d68e38",
   "metadata": {
    "ExecuteTime": {
     "end_time": "2022-10-06T03:32:45.897927Z",
     "start_time": "2022-10-06T03:32:45.893005Z"
    }
   },
   "outputs": [],
   "source": [
    "class PropertyShow:\n",
    "    def __init__(self, var):\n",
    "        self._var = var\n",
    "    \n",
    "    @property\n",
    "    def x(self):\n",
    "        return self._var"
   ]
  },
  {
   "cell_type": "code",
   "execution_count": 2,
   "id": "b2661f72",
   "metadata": {
    "ExecuteTime": {
     "end_time": "2022-10-06T03:32:47.385727Z",
     "start_time": "2022-10-06T03:32:47.379801Z"
    }
   },
   "outputs": [],
   "source": [
    "cls = PropertyShow(42)"
   ]
  },
  {
   "cell_type": "code",
   "execution_count": 3,
   "id": "e87b2734",
   "metadata": {
    "ExecuteTime": {
     "end_time": "2022-10-06T03:32:47.953090Z",
     "start_time": "2022-10-06T03:32:47.943647Z"
    }
   },
   "outputs": [
    {
     "data": {
      "text/plain": [
       "42"
      ]
     },
     "execution_count": 3,
     "metadata": {},
     "output_type": "execute_result"
    }
   ],
   "source": [
    "cls.x"
   ]
  },
  {
   "cell_type": "code",
   "execution_count": 4,
   "id": "af198e3b",
   "metadata": {
    "ExecuteTime": {
     "end_time": "2022-10-06T03:32:48.814251Z",
     "start_time": "2022-10-06T03:32:48.805572Z"
    }
   },
   "outputs": [
    {
     "data": {
      "text/plain": [
       "42"
      ]
     },
     "execution_count": 4,
     "metadata": {},
     "output_type": "execute_result"
    }
   ],
   "source": [
    "cls._var"
   ]
  },
  {
   "cell_type": "code",
   "execution_count": 14,
   "id": "6fa735d4",
   "metadata": {
    "ExecuteTime": {
     "end_time": "2022-10-06T03:33:25.895009Z",
     "start_time": "2022-10-06T03:33:25.890423Z"
    }
   },
   "outputs": [],
   "source": [
    "class NotPropertyShow:\n",
    "    def __init__(self, var):\n",
    "        self._var = var\n",
    "    \n",
    "    def x(self):\n",
    "        return self._var\n",
    "    \n",
    "#     x = property(x)"
   ]
  },
  {
   "cell_type": "code",
   "execution_count": 15,
   "id": "de291d52",
   "metadata": {
    "ExecuteTime": {
     "end_time": "2022-10-06T03:33:26.149855Z",
     "start_time": "2022-10-06T03:33:26.144224Z"
    }
   },
   "outputs": [],
   "source": [
    "cls = NotPropertyShow(42)"
   ]
  },
  {
   "cell_type": "code",
   "execution_count": 16,
   "id": "2ba53b41",
   "metadata": {
    "ExecuteTime": {
     "end_time": "2022-10-06T03:33:26.650334Z",
     "start_time": "2022-10-06T03:33:26.645078Z"
    }
   },
   "outputs": [
    {
     "data": {
      "text/plain": [
       "42"
      ]
     },
     "execution_count": 16,
     "metadata": {},
     "output_type": "execute_result"
    }
   ],
   "source": [
    "cls.x()"
   ]
  },
  {
   "cell_type": "code",
   "execution_count": 17,
   "id": "62ff25f0",
   "metadata": {
    "ExecuteTime": {
     "end_time": "2022-10-06T03:33:27.012161Z",
     "start_time": "2022-10-06T03:33:27.007136Z"
    }
   },
   "outputs": [
    {
     "data": {
      "text/plain": [
       "42"
      ]
     },
     "execution_count": 17,
     "metadata": {},
     "output_type": "execute_result"
    }
   ],
   "source": [
    "cls._var"
   ]
  },
  {
   "cell_type": "markdown",
   "id": "acb946e8",
   "metadata": {},
   "source": [
    "To understand what's going on, read great SO answer [here](https://stackoverflow.com/questions/17330160/how-does-the-property-decorator-work-in-python)"
   ]
  },
  {
   "cell_type": "markdown",
   "id": "6a150370",
   "metadata": {},
   "source": [
    "### Дескрипторы в общем виде"
   ]
  },
  {
   "cell_type": "markdown",
   "id": "b96e01ed",
   "metadata": {},
   "source": [
    "Короткое описание в [доке](https://docs.python.org/3/reference/datamodel.html#invoking-descriptors)"
   ]
  },
  {
   "cell_type": "markdown",
   "id": "23b5fb6e",
   "metadata": {},
   "source": [
    "Мы самом деле, мы с вами уже выше познакомились с частным примером такой сущности."
   ]
  },
  {
   "cell_type": "markdown",
   "id": "44dab0c8",
   "metadata": {},
   "source": [
    "Дескриптор -- это объект с определенными методами `__get__()`, `__set__()` и `__delete__()`"
   ]
  },
  {
   "cell_type": "markdown",
   "id": "56db4f0a",
   "metadata": {},
   "source": [
    "Обычно когда в Python мы хотим получить доступ к атрибуту класса, то сначала мы ищем его в `__dict__` инстанса класса, потом в классе, и далее выше по цепочке наследования."
   ]
  },
  {
   "cell_type": "code",
   "execution_count": 52,
   "id": "2daecbd2",
   "metadata": {
    "ExecuteTime": {
     "end_time": "2022-10-06T04:18:06.539304Z",
     "start_time": "2022-10-06T04:18:06.533409Z"
    }
   },
   "outputs": [],
   "source": [
    "class Coordinate:\n",
    "    def __set_name__(self, owner, name):\n",
    "        self._name = name\n",
    "\n",
    "    def __get__(self, instance, owner):\n",
    "        return instance.__dict__[self._name]\n",
    "\n",
    "    def __set__(self, instance, value):\n",
    "        try:\n",
    "            instance.__dict__[self._name] = float(value)\n",
    "            print(\"Validated!\")\n",
    "        except ValueError:\n",
    "            raise ValueError(f'\"{self._name}\" must be a number') from None\n",
    "\n",
    "class Point:\n",
    "    x = Coordinate()\n",
    "    y = Coordinate()\n",
    "\n",
    "    def __init__(self, x, y):\n",
    "        self.x = x\n",
    "        self.y = y"
   ]
  },
  {
   "cell_type": "markdown",
   "id": "ad1cab6f",
   "metadata": {},
   "source": [
    "**BestConstant**"
   ]
  },
  {
   "cell_type": "code",
   "execution_count": 21,
   "id": "9d194198",
   "metadata": {
    "ExecuteTime": {
     "end_time": "2022-10-06T03:47:02.733415Z",
     "start_time": "2022-10-06T03:47:02.728704Z"
    }
   },
   "outputs": [],
   "source": [
    "class BestConstant:\n",
    "    def __get__(self, obj, objtype=None):\n",
    "        print('Using descriptor')\n",
    "        return 73\n",
    "\n",
    "class Number:\n",
    "    x = 10\n",
    "    y = BestConstant()  # наш дескриптор"
   ]
  },
  {
   "cell_type": "code",
   "execution_count": 22,
   "id": "43e4590f",
   "metadata": {
    "ExecuteTime": {
     "end_time": "2022-10-06T03:47:03.408043Z",
     "start_time": "2022-10-06T03:47:03.402268Z"
    }
   },
   "outputs": [],
   "source": [
    "num = Number()"
   ]
  },
  {
   "cell_type": "code",
   "execution_count": 23,
   "id": "10edb3e6",
   "metadata": {
    "ExecuteTime": {
     "end_time": "2022-10-06T03:47:04.609759Z",
     "start_time": "2022-10-06T03:47:04.604344Z"
    }
   },
   "outputs": [
    {
     "name": "stdout",
     "output_type": "stream",
     "text": [
      "Using descriptor\n"
     ]
    },
    {
     "data": {
      "text/plain": [
       "(10, 73)"
      ]
     },
     "execution_count": 23,
     "metadata": {},
     "output_type": "execute_result"
    }
   ],
   "source": [
    "num.x, num.y"
   ]
  },
  {
   "cell_type": "code",
   "execution_count": 24,
   "id": "3309948b",
   "metadata": {
    "ExecuteTime": {
     "end_time": "2022-10-06T03:47:22.606884Z",
     "start_time": "2022-10-06T03:47:22.601611Z"
    }
   },
   "outputs": [
    {
     "data": {
      "text/plain": [
       "({},\n",
       " mappingproxy({'__module__': '__main__',\n",
       "               'x': 10,\n",
       "               'y': <__main__.BestConstant at 0x7fbff7ce2f70>,\n",
       "               '__dict__': <attribute '__dict__' of 'Number' objects>,\n",
       "               '__weakref__': <attribute '__weakref__' of 'Number' objects>,\n",
       "               '__doc__': None}))"
      ]
     },
     "execution_count": 24,
     "metadata": {},
     "output_type": "execute_result"
    }
   ],
   "source": [
    "num.__dict__, Number.__dict__"
   ]
  },
  {
   "cell_type": "code",
   "execution_count": 25,
   "id": "12a48fa8",
   "metadata": {
    "ExecuteTime": {
     "end_time": "2022-10-06T03:47:32.540791Z",
     "start_time": "2022-10-06T03:47:32.534595Z"
    }
   },
   "outputs": [],
   "source": [
    "num.__dict__['y'] = 42"
   ]
  },
  {
   "cell_type": "code",
   "execution_count": 26,
   "id": "0976da7c",
   "metadata": {
    "ExecuteTime": {
     "end_time": "2022-10-06T03:47:33.461260Z",
     "start_time": "2022-10-06T03:47:33.456296Z"
    }
   },
   "outputs": [
    {
     "data": {
      "text/plain": [
       "42"
      ]
     },
     "execution_count": 26,
     "metadata": {},
     "output_type": "execute_result"
    }
   ],
   "source": [
    "num.y"
   ]
  },
  {
   "cell_type": "code",
   "execution_count": 27,
   "id": "f2d68e02",
   "metadata": {
    "ExecuteTime": {
     "end_time": "2022-10-06T03:47:35.007369Z",
     "start_time": "2022-10-06T03:47:35.002577Z"
    }
   },
   "outputs": [
    {
     "data": {
      "text/plain": [
       "{'y': 42}"
      ]
     },
     "execution_count": 27,
     "metadata": {},
     "output_type": "execute_result"
    }
   ],
   "source": [
    "num.__dict__"
   ]
  },
  {
   "cell_type": "markdown",
   "id": "0041d25c",
   "metadata": {},
   "source": [
    "Видим, что мы переписали значение. Дескриптор, у которого определен только get, называется non-data дескриптором"
   ]
  },
  {
   "cell_type": "code",
   "execution_count": 28,
   "id": "6b84154b",
   "metadata": {
    "ExecuteTime": {
     "end_time": "2022-10-06T03:47:57.631121Z",
     "start_time": "2022-10-06T03:47:57.625843Z"
    }
   },
   "outputs": [],
   "source": [
    "class BestConstantComplete:\n",
    "    def __get__(self, obj, objtype=None):\n",
    "        print('using descriptor')\n",
    "        return obj._y\n",
    "    \n",
    "    def __set__(self, obj, value):\n",
    "        obj._y = value\n",
    "        \n",
    "    def __delete__(self, obj):\n",
    "        del obj._y\n",
    "\n",
    "class Number:\n",
    "    y = BestConstantComplete()  # наш дескриптор\n",
    "    \n",
    "    def __init__(self, x=10, y=42):\n",
    "        self.x = x\n",
    "        self.y = y"
   ]
  },
  {
   "cell_type": "code",
   "execution_count": 29,
   "id": "27fdf9bf",
   "metadata": {
    "ExecuteTime": {
     "end_time": "2022-10-06T03:47:58.960196Z",
     "start_time": "2022-10-06T03:47:58.954508Z"
    }
   },
   "outputs": [],
   "source": [
    "num = Number()"
   ]
  },
  {
   "cell_type": "code",
   "execution_count": 30,
   "id": "ae0aabdb",
   "metadata": {
    "ExecuteTime": {
     "end_time": "2022-10-06T03:47:59.514386Z",
     "start_time": "2022-10-06T03:47:59.509218Z"
    }
   },
   "outputs": [
    {
     "data": {
      "text/plain": [
       "{'x': 10, '_y': 42}"
      ]
     },
     "execution_count": 30,
     "metadata": {},
     "output_type": "execute_result"
    }
   ],
   "source": [
    "num.__dict__"
   ]
  },
  {
   "cell_type": "code",
   "execution_count": 31,
   "id": "966d9ec1",
   "metadata": {
    "ExecuteTime": {
     "end_time": "2022-10-06T03:48:00.369879Z",
     "start_time": "2022-10-06T03:48:00.364674Z"
    }
   },
   "outputs": [
    {
     "name": "stdout",
     "output_type": "stream",
     "text": [
      "using descriptor\n"
     ]
    },
    {
     "data": {
      "text/plain": [
       "42"
      ]
     },
     "execution_count": 31,
     "metadata": {},
     "output_type": "execute_result"
    }
   ],
   "source": [
    "num.y"
   ]
  },
  {
   "cell_type": "code",
   "execution_count": 32,
   "id": "c7a2adf4",
   "metadata": {
    "ExecuteTime": {
     "end_time": "2022-10-06T03:48:02.173303Z",
     "start_time": "2022-10-06T03:48:02.167513Z"
    }
   },
   "outputs": [],
   "source": [
    "num.y = 73"
   ]
  },
  {
   "cell_type": "code",
   "execution_count": 33,
   "id": "a8aef4bb",
   "metadata": {
    "ExecuteTime": {
     "end_time": "2022-10-06T03:48:02.446005Z",
     "start_time": "2022-10-06T03:48:02.436493Z"
    }
   },
   "outputs": [
    {
     "name": "stdout",
     "output_type": "stream",
     "text": [
      "using descriptor\n"
     ]
    },
    {
     "data": {
      "text/plain": [
       "73"
      ]
     },
     "execution_count": 33,
     "metadata": {},
     "output_type": "execute_result"
    }
   ],
   "source": [
    "num.y"
   ]
  },
  {
   "cell_type": "code",
   "execution_count": 34,
   "id": "d50be6cf",
   "metadata": {
    "ExecuteTime": {
     "end_time": "2022-10-06T03:48:02.738582Z",
     "start_time": "2022-10-06T03:48:02.733508Z"
    }
   },
   "outputs": [
    {
     "data": {
      "text/plain": [
       "{'x': 10, '_y': 73}"
      ]
     },
     "execution_count": 34,
     "metadata": {},
     "output_type": "execute_result"
    }
   ],
   "source": [
    "num.__dict__"
   ]
  },
  {
   "cell_type": "code",
   "execution_count": 35,
   "id": "32c11407",
   "metadata": {
    "ExecuteTime": {
     "end_time": "2022-10-06T03:48:04.054508Z",
     "start_time": "2022-10-06T03:48:04.048465Z"
    }
   },
   "outputs": [],
   "source": [
    "num.__dict__['y'] = 100"
   ]
  },
  {
   "cell_type": "code",
   "execution_count": 36,
   "id": "14562dee",
   "metadata": {
    "ExecuteTime": {
     "end_time": "2022-10-06T03:48:04.258557Z",
     "start_time": "2022-10-06T03:48:04.253272Z"
    }
   },
   "outputs": [
    {
     "data": {
      "text/plain": [
       "{'x': 10, '_y': 73, 'y': 100}"
      ]
     },
     "execution_count": 36,
     "metadata": {},
     "output_type": "execute_result"
    }
   ],
   "source": [
    "num.__dict__"
   ]
  },
  {
   "cell_type": "code",
   "execution_count": 37,
   "id": "15294cda",
   "metadata": {
    "ExecuteTime": {
     "end_time": "2022-10-06T03:48:04.926741Z",
     "start_time": "2022-10-06T03:48:04.921243Z"
    }
   },
   "outputs": [
    {
     "name": "stdout",
     "output_type": "stream",
     "text": [
      "using descriptor\n"
     ]
    },
    {
     "data": {
      "text/plain": [
       "73"
      ]
     },
     "execution_count": 37,
     "metadata": {},
     "output_type": "execute_result"
    }
   ],
   "source": [
    "num.y"
   ]
  },
  {
   "cell_type": "markdown",
   "id": "f228ecc7",
   "metadata": {},
   "source": [
    "Если у дескриптора определен `__set__`, то Python при попытке достать атрибут по названию, будет доставать сначала дескриптор, даже если в `__dict__` объекта лежит что-то одноименное "
   ]
  },
  {
   "cell_type": "markdown",
   "id": "c3648cae",
   "metadata": {},
   "source": [
    "**Пример с размером директории**"
   ]
  },
  {
   "cell_type": "markdown",
   "id": "d0c9643a",
   "metadata": {},
   "source": [
    "Чуть более полезный пример"
   ]
  },
  {
   "cell_type": "code",
   "execution_count": 38,
   "id": "7845b63b",
   "metadata": {
    "ExecuteTime": {
     "end_time": "2022-10-06T03:49:39.815709Z",
     "start_time": "2022-10-06T03:49:39.810334Z"
    }
   },
   "outputs": [],
   "source": [
    "import os\n",
    "\n",
    "class DirectorySize:\n",
    "\n",
    "    def __get__(self, obj, objtype=None):\n",
    "        return len(os.listdir(obj.dirname))\n",
    "\n",
    "class Directory:\n",
    "\n",
    "    size = DirectorySize()              # Descriptor instance\n",
    "\n",
    "    def __init__(self, dirname):\n",
    "        self.dirname = dirname          # Regular instance attribute"
   ]
  },
  {
   "cell_type": "code",
   "execution_count": 39,
   "id": "6ff7011d",
   "metadata": {
    "ExecuteTime": {
     "end_time": "2022-10-06T03:50:10.615199Z",
     "start_time": "2022-10-06T03:50:10.495488Z"
    }
   },
   "outputs": [
    {
     "name": "stdout",
     "output_type": "stream",
     "text": [
      "data\t\t\t   seminar_4_func_basics.ipynb\r\n",
      "img\t\t\t   seminar_5_regexp.ipynb\r\n",
      "lecture_oop.ipynb\t   seminar_6_decorators.ipynb\r\n",
      "README.md\t\t   seminar_7_dicts.ipynb\r\n",
      "seminar_1_intro.ipynb\t   seminar_8_various.ipynb\r\n",
      "seminar_2_strings.ipynb    seminar_9_classes_decos_solved.ipynb\r\n",
      "seminar_3_sequences.ipynb\r\n"
     ]
    }
   ],
   "source": [
    "! ls"
   ]
  },
  {
   "cell_type": "code",
   "execution_count": 41,
   "id": "d4978d86",
   "metadata": {
    "ExecuteTime": {
     "end_time": "2022-10-06T03:50:24.787807Z",
     "start_time": "2022-10-06T03:50:24.781435Z"
    }
   },
   "outputs": [],
   "source": [
    "a = Directory('data')\n",
    "b = Directory('img')"
   ]
  },
  {
   "cell_type": "code",
   "execution_count": 43,
   "id": "942bacfa",
   "metadata": {
    "ExecuteTime": {
     "end_time": "2022-10-06T03:50:56.692591Z",
     "start_time": "2022-10-06T03:50:56.683397Z"
    }
   },
   "outputs": [
    {
     "data": {
      "text/plain": [
       "3"
      ]
     },
     "execution_count": 43,
     "metadata": {},
     "output_type": "execute_result"
    }
   ],
   "source": [
    "a.size"
   ]
  },
  {
   "cell_type": "code",
   "execution_count": 44,
   "id": "fb61640d",
   "metadata": {
    "ExecuteTime": {
     "end_time": "2022-10-06T03:51:02.165964Z",
     "start_time": "2022-10-06T03:51:02.156489Z"
    }
   },
   "outputs": [
    {
     "data": {
      "text/plain": [
       "1"
      ]
     },
     "execution_count": 44,
     "metadata": {},
     "output_type": "execute_result"
    }
   ],
   "source": [
    "b.size"
   ]
  },
  {
   "cell_type": "code",
   "execution_count": 45,
   "id": "d4598ec4",
   "metadata": {
    "ExecuteTime": {
     "end_time": "2022-10-06T03:51:21.803267Z",
     "start_time": "2022-10-06T03:51:21.692697Z"
    }
   },
   "outputs": [],
   "source": [
    "! touch data/new_file"
   ]
  },
  {
   "cell_type": "code",
   "execution_count": 46,
   "id": "0186f2dc",
   "metadata": {
    "ExecuteTime": {
     "end_time": "2022-10-06T03:51:25.641925Z",
     "start_time": "2022-10-06T03:51:25.632214Z"
    }
   },
   "outputs": [
    {
     "data": {
      "text/plain": [
       "4"
      ]
     },
     "execution_count": 46,
     "metadata": {},
     "output_type": "execute_result"
    }
   ],
   "source": [
    "a.size"
   ]
  },
  {
   "cell_type": "code",
   "execution_count": 47,
   "id": "861c0814",
   "metadata": {
    "ExecuteTime": {
     "end_time": "2022-10-06T03:51:32.536700Z",
     "start_time": "2022-10-06T03:51:32.417957Z"
    }
   },
   "outputs": [],
   "source": [
    "! rm data/new_file"
   ]
  },
  {
   "cell_type": "markdown",
   "id": "347bad4a",
   "metadata": {},
   "source": [
    "**Валидация значений полей**"
   ]
  },
  {
   "cell_type": "code",
   "execution_count": null,
   "id": "b0f860fe",
   "metadata": {},
   "outputs": [],
   "source": [
    "import collections.abc\n",
    "\n",
    "from abc import ABC, abstractmethod\n",
    "from functools import wraps\n",
    "from typing import Iterable\n",
    "\n",
    "\n",
    "class Validator(ABC):\n",
    "\n",
    "    def __set_name__(self, owner, name):\n",
    "        self.private_name = '_' + name\n",
    "\n",
    "    def __get__(self, obj, objtype=None):\n",
    "        return getattr(obj, self.private_name)\n",
    "\n",
    "    def __set__(self, obj, value):\n",
    "        self.validate(value)\n",
    "        setattr(obj, self.private_name, value)\n",
    "\n",
    "    @abstractmethod\n",
    "    def validate(self, value):\n",
    "        pass\n",
    "    \n",
    "\n",
    "class NumberValidator(Validator):\n",
    "\n",
    "    def __init__(self, minvalue=None, maxvalue=None):\n",
    "        self.minvalue = minvalue\n",
    "        self.maxvalue = maxvalue\n",
    "\n",
    "    def validate(self, value):\n",
    "        if not isinstance(value, (int, float)):\n",
    "            raise TypeError(f'Expected {value!r} to be an int or float')\n",
    "        if self.minvalue is not None and value < self.minvalue:\n",
    "            raise ValueError(\n",
    "                f'Expected {value!r} to be at least {self.minvalue!r}'\n",
    "            )\n",
    "        if self.maxvalue is not None and value > self.maxvalue:\n",
    "            raise ValueError(\n",
    "                f'Expected {value!r} to be no more than {self.maxvalue!r}'\n",
    "            )\n",
    "\n",
    "class SeqValidator(Validator):\n",
    "    def __init__(self, minlen=None, maxlen=None):\n",
    "        self.minlen = minlen\n",
    "        self.maxlen = maxlen\n",
    "\n",
    "    def validate(self, iterable):\n",
    "        if not isinstance(iterable, collections.abc.Iterable):\n",
    "            raise TypeError(f'Expected {value!r} to be iterable')\n",
    "        \n",
    "        if self.minlen is not None and len(iterable) < self.minlen:\n",
    "            raise ValueError(\n",
    "                f'Expected lenght of sequence = {len(iterable)} to be at least len {self.minlen}'\n",
    "            )\n",
    "        if self.maxlen is not None and len(iterable) > self.maxlen:\n",
    "            raise ValueError(\n",
    "                f'Expected lenght of sequence = {len(iterable)} to be no more than {self.maxlen}'\n",
    "            )"
   ]
  },
  {
   "cell_type": "markdown",
   "id": "50c5ae49",
   "metadata": {},
   "source": [
    "## Inheritance"
   ]
  },
  {
   "cell_type": "markdown",
   "id": "7e89371f",
   "metadata": {},
   "source": [
    "### Basics"
   ]
  },
  {
   "cell_type": "markdown",
   "id": "4f3173f7",
   "metadata": {},
   "source": [
    "Синтаксис простой"
   ]
  },
  {
   "cell_type": "code",
   "execution_count": 107,
   "id": "befb7987",
   "metadata": {},
   "outputs": [],
   "source": [
    "class BetterList(list):\n",
    "    # поля и методы\n",
    "    pass"
   ]
  },
  {
   "cell_type": "markdown",
   "id": "6daeeea3",
   "metadata": {},
   "source": [
    "Порядок видимости снизу вверх: объект -> класс -> родительский класс"
   ]
  },
  {
   "cell_type": "markdown",
   "id": "8963eefd",
   "metadata": {},
   "source": [
    "Для доступа к полям родителя используется `super()`"
   ]
  },
  {
   "cell_type": "code",
   "execution_count": 108,
   "id": "a30c7cfe",
   "metadata": {},
   "outputs": [],
   "source": [
    "class Parent:\n",
    "    def letter(self):\n",
    "        return 'D'\n",
    "    \n",
    "class Child(Parent):\n",
    "    def letter(self):\n",
    "        return super().letter() + 'B'"
   ]
  },
  {
   "cell_type": "code",
   "execution_count": 109,
   "id": "7c06072f",
   "metadata": {},
   "outputs": [],
   "source": [
    "a = Parent()\n",
    "b = Child()"
   ]
  },
  {
   "cell_type": "code",
   "execution_count": 110,
   "id": "6a3d0489",
   "metadata": {},
   "outputs": [
    {
     "data": {
      "text/plain": [
       "'D'"
      ]
     },
     "execution_count": 110,
     "metadata": {},
     "output_type": "execute_result"
    }
   ],
   "source": [
    "a.letter()"
   ]
  },
  {
   "cell_type": "code",
   "execution_count": 111,
   "id": "03669171",
   "metadata": {},
   "outputs": [
    {
     "data": {
      "text/plain": [
       "'DB'"
      ]
     },
     "execution_count": 111,
     "metadata": {},
     "output_type": "execute_result"
    }
   ],
   "source": [
    "b.letter()"
   ]
  },
  {
   "cell_type": "code",
   "execution_count": 112,
   "id": "fecb6854",
   "metadata": {},
   "outputs": [],
   "source": [
    "class Parent:\n",
    "    def __init__(self, letter='D'):\n",
    "        self._letter = letter\n",
    "        \n",
    "    def get_letter(self):\n",
    "        return self._letter\n",
    "    \n",
    "class Child(Parent):\n",
    "    def __init__(self, parent_letter='D', child_letter='B'):\n",
    "        super().__init__(parent_letter)\n",
    "        print(f'parent inited {self._letter}')\n",
    "        self.new_letter = child_letter\n",
    "        \n",
    "    def get_child_letter(self):\n",
    "        return self.new_letter"
   ]
  },
  {
   "cell_type": "code",
   "execution_count": 113,
   "id": "7e0184cd",
   "metadata": {},
   "outputs": [
    {
     "name": "stdout",
     "output_type": "stream",
     "text": [
      "parent inited D\n"
     ]
    }
   ],
   "source": [
    "a = Child()"
   ]
  },
  {
   "cell_type": "code",
   "execution_count": 114,
   "id": "6b0a41d0",
   "metadata": {},
   "outputs": [
    {
     "data": {
      "text/plain": [
       "'D'"
      ]
     },
     "execution_count": 114,
     "metadata": {},
     "output_type": "execute_result"
    }
   ],
   "source": [
    "a.get_letter()"
   ]
  },
  {
   "cell_type": "code",
   "execution_count": 115,
   "id": "95ecd2b4",
   "metadata": {},
   "outputs": [
    {
     "data": {
      "text/plain": [
       "'B'"
      ]
     },
     "execution_count": 115,
     "metadata": {},
     "output_type": "execute_result"
    }
   ],
   "source": [
    "a.get_child_letter()"
   ]
  },
  {
   "cell_type": "code",
   "execution_count": 116,
   "id": "930bc406",
   "metadata": {},
   "outputs": [
    {
     "data": {
      "text/plain": [
       "{'_letter': 'D', 'new_letter': 'B'}"
      ]
     },
     "execution_count": 116,
     "metadata": {},
     "output_type": "execute_result"
    }
   ],
   "source": [
    "a.__dict__"
   ]
  },
  {
   "cell_type": "markdown",
   "id": "e9163979",
   "metadata": {},
   "source": [
    "### Protecting names"
   ]
  },
  {
   "cell_type": "markdown",
   "id": "a7cd07d8",
   "metadata": {},
   "source": [
    "Фичи наследования в доопределении пространства имен и в возможности их перегрузки  "
   ]
  },
  {
   "cell_type": "markdown",
   "id": "48cb11e6",
   "metadata": {},
   "source": [
    "Предполагается, что если пользователь переопредляет имя, значит он этого хочет "
   ]
  },
  {
   "cell_type": "markdown",
   "id": "49f768b0",
   "metadata": {},
   "source": [
    "Если создатель класса не хочет, чтобы какое-то поле было явно перегружено, то можно, например, использовать дескрипторы или особый нейминг"
   ]
  },
  {
   "cell_type": "markdown",
   "id": "4f52e4e1",
   "metadata": {},
   "source": [
    "Есть общее соглашение, что переменные, названные с `_` не надо трогать вне класса, в котором они объявлены"
   ]
  },
  {
   "cell_type": "markdown",
   "id": "740372e4",
   "metadata": {},
   "source": [
    "Также в Python предусмотрен механизм с названием, начинающися с `__`"
   ]
  },
  {
   "cell_type": "code",
   "execution_count": 18,
   "id": "7c4c2b3a",
   "metadata": {
    "ExecuteTime": {
     "end_time": "2022-10-06T03:35:13.031612Z",
     "start_time": "2022-10-06T03:35:13.027298Z"
    }
   },
   "outputs": [],
   "source": [
    "class StrictParent:\n",
    "    def __init__(self):\n",
    "        self.__letter = 'D'\n",
    "\n",
    "class Child(StrictParent):\n",
    "    def __init__(self):\n",
    "        super().__init__()\n",
    "        self._letter = 'B'"
   ]
  },
  {
   "cell_type": "code",
   "execution_count": 19,
   "id": "04aee0fc",
   "metadata": {
    "ExecuteTime": {
     "end_time": "2022-10-06T03:35:13.435335Z",
     "start_time": "2022-10-06T03:35:13.429312Z"
    }
   },
   "outputs": [],
   "source": [
    "a = Child()"
   ]
  },
  {
   "cell_type": "code",
   "execution_count": 20,
   "id": "a9d22988",
   "metadata": {
    "ExecuteTime": {
     "end_time": "2022-10-06T03:35:14.622340Z",
     "start_time": "2022-10-06T03:35:14.617424Z"
    }
   },
   "outputs": [
    {
     "data": {
      "text/plain": [
       "{'_StrictParent__letter': 'D', '_letter': 'B'}"
      ]
     },
     "execution_count": 20,
     "metadata": {},
     "output_type": "execute_result"
    }
   ],
   "source": [
    "a.__dict__"
   ]
  },
  {
   "cell_type": "markdown",
   "id": "fc3a47e2-b6d3-473e-b484-a9adf5941492",
   "metadata": {},
   "source": [
    "## Тонкости"
   ]
  },
  {
   "cell_type": "markdown",
   "id": "c19fef8d-c412-450c-af71-08120a3528f3",
   "metadata": {
    "ExecuteTime": {
     "end_time": "2021-11-17T01:15:44.393221Z",
     "start_time": "2021-11-17T01:15:44.388618Z"
    }
   },
   "source": [
    "Вспомним игрушечный пример"
   ]
  },
  {
   "cell_type": "code",
   "execution_count": 2,
   "id": "a06de565-86cc-4ffa-a276-d89a2249eb02",
   "metadata": {
    "ExecuteTime": {
     "end_time": "2021-11-17T01:15:50.014764Z",
     "start_time": "2021-11-17T01:15:50.011636Z"
    }
   },
   "outputs": [],
   "source": [
    "class Parent:\n",
    "    def __init__(self, letter='D'):\n",
    "        self._letter = letter\n",
    "        \n",
    "    def get_letter(self):\n",
    "        return self._letter\n",
    "    \n",
    "class Child(Parent):\n",
    "    def __init__(self, parent_letter='D', child_letter='B'):\n",
    "        super().__init__(parent_letter)\n",
    "        print(f'parent inited {self._letter}')\n",
    "        self.new_letter = child_letter\n",
    "        \n",
    "    def get_child_letter(self):\n",
    "        return self.new_letter"
   ]
  },
  {
   "cell_type": "markdown",
   "id": "4ec8e094-95f8-450e-80e6-0761d3bda2b3",
   "metadata": {},
   "source": [
    "### Предположим, вы хотите отнаследоваться от стандартного типа. Что может пойти не так"
   ]
  },
  {
   "cell_type": "code",
   "execution_count": 3,
   "id": "a52bbb9a-f136-4d32-8805-002a8be378f2",
   "metadata": {
    "ExecuteTime": {
     "end_time": "2021-11-17T01:28:48.101146Z",
     "start_time": "2021-11-17T01:28:48.098261Z"
    }
   },
   "outputs": [],
   "source": [
    "class DoubleTroubleDict(dict):\n",
    "    def __setitem__(self, key, value):\n",
    "        super().__setitem__(key, [value] * 2)"
   ]
  },
  {
   "cell_type": "code",
   "execution_count": 5,
   "id": "33b57da0-93a9-41aa-b32b-ff86f6b8edc5",
   "metadata": {
    "ExecuteTime": {
     "end_time": "2021-11-17T01:29:06.342867Z",
     "start_time": "2021-11-17T01:29:06.336093Z"
    }
   },
   "outputs": [
    {
     "data": {
      "text/plain": [
       "{'one': 1}"
      ]
     },
     "execution_count": 5,
     "metadata": {},
     "output_type": "execute_result"
    }
   ],
   "source": [
    "dd = DoubleTroubleDict(one=1)\n",
    "dd"
   ]
  },
  {
   "cell_type": "code",
   "execution_count": 7,
   "id": "0d9b58f5-f683-4ac9-be2b-6bbbdf3b3b2b",
   "metadata": {
    "ExecuteTime": {
     "end_time": "2021-11-17T01:29:18.148042Z",
     "start_time": "2021-11-17T01:29:18.144400Z"
    }
   },
   "outputs": [
    {
     "data": {
      "text/plain": [
       "{'one': 1, 'two': [2, 2]}"
      ]
     },
     "execution_count": 7,
     "metadata": {},
     "output_type": "execute_result"
    }
   ],
   "source": [
    "dd['two'] = 2\n",
    "dd"
   ]
  },
  {
   "cell_type": "code",
   "execution_count": 9,
   "id": "c00c8c47-0684-4127-82b3-8d0cd09f23a1",
   "metadata": {
    "ExecuteTime": {
     "end_time": "2021-11-17T01:29:29.461395Z",
     "start_time": "2021-11-17T01:29:29.457726Z"
    }
   },
   "outputs": [
    {
     "data": {
      "text/plain": [
       "{'one': 1, 'two': [2, 2], 'three': 3}"
      ]
     },
     "execution_count": 9,
     "metadata": {},
     "output_type": "execute_result"
    }
   ],
   "source": [
    "dd.update(three=3)\n",
    "dd"
   ]
  },
  {
   "cell_type": "markdown",
   "id": "80696b66-3744-492d-bed0-e351a43fc92a",
   "metadata": {},
   "source": [
    "У нас нет никакой гарантии, что `__setitem__` наследника вызывается при обновлении словаря!"
   ]
  },
  {
   "cell_type": "code",
   "execution_count": 21,
   "id": "714e656c-0b21-47b2-bd1d-c2de9a4dbb32",
   "metadata": {
    "ExecuteTime": {
     "end_time": "2021-11-17T01:37:14.435402Z",
     "start_time": "2021-11-17T01:37:14.430678Z"
    }
   },
   "outputs": [
    {
     "data": {
      "text/plain": [
       "42"
      ]
     },
     "execution_count": 21,
     "metadata": {},
     "output_type": "execute_result"
    }
   ],
   "source": [
    "class TroubleAnswerDict(dict):\n",
    "    def __getitem__(self, key):\n",
    "        return 42\n",
    "    \n",
    "bd = TroubleAnswerDict(a='answer')\n",
    "bd['a']"
   ]
  },
  {
   "cell_type": "code",
   "execution_count": 22,
   "id": "f1a3926d-b70d-4c20-928d-3725d5cbbfba",
   "metadata": {
    "ExecuteTime": {
     "end_time": "2021-11-17T01:37:15.203493Z",
     "start_time": "2021-11-17T01:37:15.198619Z"
    }
   },
   "outputs": [
    {
     "data": {
      "text/plain": [
       "{'a': 'answer'}"
      ]
     },
     "execution_count": 22,
     "metadata": {},
     "output_type": "execute_result"
    }
   ],
   "source": [
    "ordinary_d = {}\n",
    "ordinary_d.update(bd)\n",
    "ordinary_d"
   ]
  },
  {
   "cell_type": "markdown",
   "id": "29daf3f3-7f72-44cd-ade5-ec7ecb4ec6c2",
   "metadata": {},
   "source": [
    "Наш `__getitem__` проигнорировали.."
   ]
  },
  {
   "cell_type": "markdown",
   "id": "78c716a4-b6c0-497b-84a3-6fcc16614cda",
   "metadata": {},
   "source": [
    "### Как надо?"
   ]
  },
  {
   "cell_type": "code",
   "execution_count": 12,
   "id": "b217b9df-b549-49c4-a635-2b4f635814f3",
   "metadata": {
    "ExecuteTime": {
     "end_time": "2021-11-17T01:35:38.667037Z",
     "start_time": "2021-11-17T01:35:38.664279Z"
    }
   },
   "outputs": [],
   "source": [
    "from collections import UserDict"
   ]
  },
  {
   "cell_type": "code",
   "execution_count": 17,
   "id": "7092a2d3-1bad-4768-b173-75e7c5be0e92",
   "metadata": {
    "ExecuteTime": {
     "end_time": "2021-11-17T01:36:40.466037Z",
     "start_time": "2021-11-17T01:36:40.462947Z"
    }
   },
   "outputs": [],
   "source": [
    "class DoubleDict(UserDict):\n",
    "    def __setitem__(self, key, value):\n",
    "        super().__setitem__(key, [value] * 2)"
   ]
  },
  {
   "cell_type": "code",
   "execution_count": 18,
   "id": "1b338000-e40c-4efe-8b51-89017dd01e62",
   "metadata": {
    "ExecuteTime": {
     "end_time": "2021-11-17T01:36:40.978374Z",
     "start_time": "2021-11-17T01:36:40.974691Z"
    }
   },
   "outputs": [
    {
     "data": {
      "text/plain": [
       "{'one': [1, 1]}"
      ]
     },
     "execution_count": 18,
     "metadata": {},
     "output_type": "execute_result"
    }
   ],
   "source": [
    "dd = DoubleDict(one=1)\n",
    "dd"
   ]
  },
  {
   "cell_type": "code",
   "execution_count": 19,
   "id": "1e8538e5-2782-40f7-801d-8e9fb37d1d4c",
   "metadata": {
    "ExecuteTime": {
     "end_time": "2021-11-17T01:36:41.387478Z",
     "start_time": "2021-11-17T01:36:41.383111Z"
    }
   },
   "outputs": [
    {
     "data": {
      "text/plain": [
       "{'one': [1, 1], 'two': [2, 2]}"
      ]
     },
     "execution_count": 19,
     "metadata": {},
     "output_type": "execute_result"
    }
   ],
   "source": [
    "dd['two'] = 2\n",
    "dd"
   ]
  },
  {
   "cell_type": "code",
   "execution_count": 20,
   "id": "cf238e64-fd1f-48da-b376-5a3a4f976780",
   "metadata": {
    "ExecuteTime": {
     "end_time": "2021-11-17T01:36:41.794025Z",
     "start_time": "2021-11-17T01:36:41.790462Z"
    }
   },
   "outputs": [
    {
     "data": {
      "text/plain": [
       "{'one': [1, 1], 'two': [2, 2], 'three': [3, 3]}"
      ]
     },
     "execution_count": 20,
     "metadata": {},
     "output_type": "execute_result"
    }
   ],
   "source": [
    "dd.update(three=3)\n",
    "dd"
   ]
  },
  {
   "cell_type": "code",
   "execution_count": 28,
   "id": "9e0ad5af-aa0c-42f9-ae6b-412888d5f506",
   "metadata": {
    "ExecuteTime": {
     "end_time": "2021-11-17T01:37:55.627607Z",
     "start_time": "2021-11-17T01:37:55.623525Z"
    }
   },
   "outputs": [
    {
     "data": {
      "text/plain": [
       "42"
      ]
     },
     "execution_count": 28,
     "metadata": {},
     "output_type": "execute_result"
    }
   ],
   "source": [
    "class AnswerDict(UserDict):\n",
    "    def __getitem__(self, key):\n",
    "        return 42\n",
    "    \n",
    "bd = AnswerDict(a='answer')\n",
    "bd['a']"
   ]
  },
  {
   "cell_type": "code",
   "execution_count": 30,
   "id": "257b8970-82d4-428b-81e2-70607cd5c07f",
   "metadata": {
    "ExecuteTime": {
     "end_time": "2021-11-17T01:37:58.906849Z",
     "start_time": "2021-11-17T01:37:58.902630Z"
    }
   },
   "outputs": [
    {
     "data": {
      "text/plain": [
       "{'a': 42}"
      ]
     },
     "execution_count": 30,
     "metadata": {},
     "output_type": "execute_result"
    }
   ],
   "source": [
    "ordinary_d = {}\n",
    "ordinary_d.update(bd)\n",
    "ordinary_d"
   ]
  },
  {
   "cell_type": "markdown",
   "id": "740bef97",
   "metadata": {},
   "source": [
    "## Множественное "
   ]
  },
  {
   "cell_type": "code",
   "execution_count": 53,
   "id": "cd03e0e9",
   "metadata": {
    "ExecuteTime": {
     "end_time": "2022-10-06T04:22:03.897426Z",
     "start_time": "2022-10-06T04:22:03.891072Z"
    }
   },
   "outputs": [],
   "source": [
    "class A: pass\n",
    "class B: pass\n",
    "class C: pass"
   ]
  },
  {
   "cell_type": "code",
   "execution_count": 54,
   "id": "6521bffd",
   "metadata": {
    "ExecuteTime": {
     "end_time": "2022-10-06T04:22:15.114311Z",
     "start_time": "2022-10-06T04:22:15.110157Z"
    }
   },
   "outputs": [],
   "source": [
    "class D(A, B, C): pass"
   ]
  },
  {
   "cell_type": "code",
   "execution_count": 55,
   "id": "6cec0037",
   "metadata": {
    "ExecuteTime": {
     "end_time": "2022-10-06T04:22:39.586337Z",
     "start_time": "2022-10-06T04:22:39.581461Z"
    }
   },
   "outputs": [
    {
     "data": {
      "text/plain": [
       "True"
      ]
     },
     "execution_count": 55,
     "metadata": {},
     "output_type": "execute_result"
    }
   ],
   "source": [
    "d = D()\n",
    "\n",
    "isinstance(d, A)\n",
    "isinstance(d, B)\n",
    "isinstance(d, C)"
   ]
  },
  {
   "cell_type": "code",
   "execution_count": 59,
   "id": "580ca515",
   "metadata": {
    "ExecuteTime": {
     "end_time": "2022-10-06T04:24:20.563791Z",
     "start_time": "2022-10-06T04:24:20.559298Z"
    }
   },
   "outputs": [],
   "source": [
    "class A:\n",
    "    def fun(self):\n",
    "        return 'A'\n",
    "    \n",
    "class B:\n",
    "    def fun(self):\n",
    "        return 'B'"
   ]
  },
  {
   "cell_type": "code",
   "execution_count": 60,
   "id": "26ce3d5c",
   "metadata": {
    "ExecuteTime": {
     "end_time": "2022-10-06T04:24:21.051917Z",
     "start_time": "2022-10-06T04:24:21.046967Z"
    }
   },
   "outputs": [
    {
     "data": {
      "text/plain": [
       "'A'"
      ]
     },
     "execution_count": 60,
     "metadata": {},
     "output_type": "execute_result"
    }
   ],
   "source": [
    "a = A()\n",
    "a.fun()"
   ]
  },
  {
   "cell_type": "code",
   "execution_count": 61,
   "id": "a5d18183",
   "metadata": {
    "ExecuteTime": {
     "end_time": "2022-10-06T04:24:21.637098Z",
     "start_time": "2022-10-06T04:24:21.632000Z"
    }
   },
   "outputs": [
    {
     "data": {
      "text/plain": [
       "'B'"
      ]
     },
     "execution_count": 61,
     "metadata": {},
     "output_type": "execute_result"
    }
   ],
   "source": [
    "b = B()\n",
    "b.fun()"
   ]
  },
  {
   "cell_type": "code",
   "execution_count": 62,
   "id": "1b7008e2",
   "metadata": {
    "ExecuteTime": {
     "end_time": "2022-10-06T04:24:34.540809Z",
     "start_time": "2022-10-06T04:24:34.534264Z"
    }
   },
   "outputs": [],
   "source": [
    "class C(A, B): pass"
   ]
  },
  {
   "cell_type": "code",
   "execution_count": 69,
   "id": "77ec3b9b",
   "metadata": {
    "ExecuteTime": {
     "end_time": "2022-10-06T04:24:53.608783Z",
     "start_time": "2022-10-06T04:24:53.603272Z"
    }
   },
   "outputs": [
    {
     "data": {
      "text/plain": [
       "'A'"
      ]
     },
     "execution_count": 69,
     "metadata": {},
     "output_type": "execute_result"
    }
   ],
   "source": [
    "c = C()\n",
    "c.fun()"
   ]
  },
  {
   "cell_type": "markdown",
   "id": "c33c446e",
   "metadata": {},
   "source": [
    "Почему выбирается именно A -- он первый"
   ]
  },
  {
   "cell_type": "code",
   "execution_count": 75,
   "id": "5616b9af",
   "metadata": {
    "ExecuteTime": {
     "end_time": "2022-10-06T04:38:27.461271Z",
     "start_time": "2022-10-06T04:38:27.456126Z"
    }
   },
   "outputs": [
    {
     "data": {
      "text/plain": [
       "[__main__.C, __main__.A, __main__.B, object]"
      ]
     },
     "execution_count": 75,
     "metadata": {},
     "output_type": "execute_result"
    }
   ],
   "source": [
    "C.mro()"
   ]
  }
 ],
 "metadata": {
  "kernelspec": {
   "display_name": "Python 3 (ipykernel)",
   "language": "python",
   "name": "python3"
  },
  "language_info": {
   "codemirror_mode": {
    "name": "ipython",
    "version": 3
   },
   "file_extension": ".py",
   "mimetype": "text/x-python",
   "name": "python",
   "nbconvert_exporter": "python",
   "pygments_lexer": "ipython3",
   "version": "3.9.12"
  },
  "toc": {
   "base_numbering": 1,
   "nav_menu": {},
   "number_sections": true,
   "sideBar": true,
   "skip_h1_title": false,
   "title_cell": "Table of Contents",
   "title_sidebar": "Contents",
   "toc_cell": false,
   "toc_position": {},
   "toc_section_display": true,
   "toc_window_display": true
  },
  "varInspector": {
   "cols": {
    "lenName": 16,
    "lenType": 16,
    "lenVar": 40
   },
   "kernels_config": {
    "python": {
     "delete_cmd_postfix": "",
     "delete_cmd_prefix": "del ",
     "library": "var_list.py",
     "varRefreshCmd": "print(var_dic_list())"
    },
    "r": {
     "delete_cmd_postfix": ") ",
     "delete_cmd_prefix": "rm(",
     "library": "var_list.r",
     "varRefreshCmd": "cat(var_dic_list()) "
    }
   },
   "types_to_exclude": [
    "module",
    "function",
    "builtin_function_or_method",
    "instance",
    "_Feature"
   ],
   "window_display": false
  }
 },
 "nbformat": 4,
 "nbformat_minor": 5
}
