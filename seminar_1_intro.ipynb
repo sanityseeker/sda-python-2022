{
 "cells": [
  {
   "cell_type": "markdown",
   "metadata": {
    "id": "CHRCnUFGcrb-"
   },
   "source": [
    "# Первый семинар. Знакомство\n"
   ]
  },
  {
   "cell_type": "markdown",
   "metadata": {
    "ExecuteTime": {
     "end_time": "2022-09-07T23:00:18.431028Z",
     "start_time": "2022-09-07T23:00:18.427219Z"
    }
   },
   "source": [
    "Привет! Я Денис, буду помогать вам знакомиться с основами программирования и языком Python.\n",
    "\n",
    "Вышкинская почта (когда заработает): dobelyakov@hse.ru \\\n",
    "Быстрее всего со мной можно связаться в телеграме: @el_loco"
   ]
  },
  {
   "cell_type": "markdown",
   "metadata": {
    "id": "d6XMtnzrcrcE"
   },
   "source": [
    "# Установка Python 3 и среды разработки PyCharm"
   ]
  },
  {
   "cell_type": "markdown",
   "metadata": {
    "id": "TeRBjJEbcrb_"
   },
   "source": [
    "\n",
    "## IDE\n",
    "\n",
    "**Интегрированная среда разработки** (англ. **IDE**, Integrated Development Environment или Integrated Debugging Environment) — система программных средств, используемая программистами для разработки программного обеспечения (ПО).\n",
    "\n",
    "Обычно среда разработки включает в себя:\n",
    "\n",
    "*    текстовый редактор;\n",
    "*    компилятор и / или интерпретатор;\n",
    "*    средства автоматизации сборки;\n",
    "*    debug\n",
    "\n",
    "Часто IDE завязана на определенный язык программирования или на набор схожих. Например, CLion от JetBrains.\n",
    "\n",
    "На данном курсе вам предлагается поработать в среде Pycharm Community Edition от компании JetBrains. Также простые скрипты удобно запускать во встроенной среде разработки для Python, которая называется IDLE"
   ]
  },
  {
   "cell_type": "markdown",
   "metadata": {
    "id": "61WIkiNLcrcD"
   },
   "source": [
    "Так как Python - интерпретируемый язык программирования, для работы с ним можно использовать интерактивную оболочку.\n",
    "Одной из таких оболочек является **IPython** - мощный инструмент для работы с языком Python с широким набором возможностей. \n",
    "Отличительная особенность - IPython позволяет подключаться множеству клиентов к одному вычислительному ядру и, благодаря своей архитектуре, может работать в параллельном кластере."
   ]
  },
  {
   "cell_type": "markdown",
   "metadata": {
    "ExecuteTime": {
     "end_time": "2022-09-08T09:24:27.560160Z",
     "start_time": "2022-09-08T09:24:27.554316Z"
    }
   },
   "source": [
    "## Установка интерпретатора языка Python"
   ]
  },
  {
   "cell_type": "markdown",
   "metadata": {
    "ExecuteTime": {
     "end_time": "2022-09-08T09:25:10.780993Z",
     "start_time": "2022-09-08T09:25:10.775037Z"
    }
   },
   "source": [
    "Установить интерпретатор языка Python 3 версии отсюда: https://www.python.org/\n",
    "        \n",
    "Существует сборка библиотек **Anaconda**, которая включает в себя интерпретатор языка Python (есть версии 2 и 3), набор наиболее часто используемых и полезных в анализе данных библиотек и Jupyter Notebook. Такие ~~тетрадки~~ ноутбучки можно в т.ч. экспортировать в html/pdf \n",
    "\n",
    "https://www.anaconda.com/products/distribution"
   ]
  },
  {
   "cell_type": "markdown",
   "metadata": {
    "id": "nPRL6tvCcrcF"
   },
   "source": [
    "## Среда разработки PyCharm\n",
    "\n",
    "\n",
    "Будем устанавливать среду программирования JetBrains PyCharm (Community) отсюда: https://www.jetbrains.com/pycharm/download\n",
    "\n",
    "Также можно установить Education Edition (там есть tutorial) https://www.jetbrains.com/pycharm-edu/\n",
    "\n",
    "* IDE доступна для Windows, Linux и MacOS. \n",
    "* Существуют два вида лицензии PyCharm – это Professional и Community. Мы будем использовать версию Community, так как она бесплатна и её функционала более чем достаточно для наших задач. \n",
    "* Для студентов по студенческой почте можно получить и более полную версию.\n",
    "\n",
    "\n",
    "У JetBrains есть хорошая [документация](https://www.jetbrains.com/help/pycharm/quick-start-guide.html) "
   ]
  },
  {
   "cell_type": "markdown",
   "metadata": {},
   "source": [
    "## Запуск первого кода"
   ]
  },
  {
   "cell_type": "markdown",
   "metadata": {},
   "source": [
    "- Создаем новый проект в PyCharm: File - New Project\n",
    "- В меню Run - Edit Configurations выбираем наш интерпретатор\n",
    "- Можно запускать по нажатию на зеленую стрелочку или комбинацией клавиш (по умолчанию Shift-F10)\n",
    "\n",
    "Добавление нового интерпретатора:\n",
    "- Ctrl-Alt-S (шорткат для вызова настроек в PyCharm) -- имя вашего проекта\n",
    "- Клик на \"Python Interpreter\"\n",
    "- Клик на \"шестеренку\" -- add"
   ]
  },
  {
   "cell_type": "markdown",
   "metadata": {
    "ExecuteTime": {
     "end_time": "2022-09-07T23:33:54.772626Z",
     "start_time": "2022-09-07T23:33:54.767144Z"
    }
   },
   "source": [
    "# Чуть-чуть математики"
   ]
  },
  {
   "cell_type": "markdown",
   "metadata": {},
   "source": [
    "На лекции вы обсуждали системы счисления и, возможно, базовые правила логики. Давайте попрактикуемся"
   ]
  },
  {
   "cell_type": "markdown",
   "metadata": {},
   "source": [
    "https://bit.ly/csda-python-s1"
   ]
  },
  {
   "cell_type": "code",
   "execution_count": 1,
   "metadata": {
    "ExecuteTime": {
     "end_time": "2022-09-08T10:36:49.990460Z",
     "start_time": "2022-09-08T10:36:49.983605Z"
    }
   },
   "outputs": [
    {
     "data": {
      "text/plain": [
       "'0b10100111001'"
      ]
     },
     "execution_count": 1,
     "metadata": {},
     "output_type": "execute_result"
    }
   ],
   "source": [
    "bin(1337)"
   ]
  },
  {
   "cell_type": "code",
   "execution_count": 2,
   "metadata": {
    "ExecuteTime": {
     "end_time": "2022-09-08T10:37:07.616370Z",
     "start_time": "2022-09-08T10:37:07.610617Z"
    }
   },
   "outputs": [
    {
     "data": {
      "text/plain": [
       "1006"
      ]
     },
     "execution_count": 2,
     "metadata": {},
     "output_type": "execute_result"
    }
   ],
   "source": [
    "int('1337', base=9)"
   ]
  },
  {
   "cell_type": "markdown",
   "metadata": {
    "id": "dmnIfUPNcrcG"
   },
   "source": [
    "# Hello"
   ]
  },
  {
   "cell_type": "markdown",
   "metadata": {
    "ExecuteTime": {
     "end_time": "2022-09-07T23:33:34.802896Z",
     "start_time": "2022-09-07T23:33:34.794207Z"
    }
   },
   "source": [
    "Посмотрим, как печатать на экран"
   ]
  },
  {
   "cell_type": "markdown",
   "metadata": {},
   "source": [
    "## Printing"
   ]
  },
  {
   "cell_type": "code",
   "execution_count": null,
   "metadata": {},
   "outputs": [],
   "source": []
  },
  {
   "cell_type": "code",
   "execution_count": 4,
   "metadata": {
    "ExecuteTime": {
     "end_time": "2022-09-08T10:38:50.099463Z",
     "start_time": "2022-09-08T10:38:50.092760Z"
    },
    "colab": {
     "base_uri": "https://localhost:8080/"
    },
    "id": "7rmlrMaZcrcH",
    "outputId": "9513d689-9133-4e34-9780-f4df480817af"
   },
   "outputs": [
    {
     "name": "stdout",
     "output_type": "stream",
     "text": [
      "Hello, guys!\n"
     ]
    }
   ],
   "source": [
    "print('Hello, guys!')"
   ]
  },
  {
   "cell_type": "markdown",
   "metadata": {
    "id": "b40oOZMTcrcP"
   },
   "source": [
    "Внутри **print** можно вывести результат вычисления арифметического выражения"
   ]
  },
  {
   "cell_type": "code",
   "execution_count": 5,
   "metadata": {
    "ExecuteTime": {
     "end_time": "2022-09-08T10:38:53.413776Z",
     "start_time": "2022-09-08T10:38:53.407260Z"
    },
    "colab": {
     "base_uri": "https://localhost:8080/"
    },
    "id": "2P2Z_ozScrcQ",
    "outputId": "5ec635e8-9095-40b3-ee71-81a7298c29d8"
   },
   "outputs": [
    {
     "name": "stdout",
     "output_type": "stream",
     "text": [
      "5\n"
     ]
    }
   ],
   "source": [
    "print(2 + 3)"
   ]
  },
  {
   "cell_type": "markdown",
   "metadata": {
    "id": "HggL85mOcrca"
   },
   "source": [
    "Функция **print** может принимать несколько несколько неименованных параметров через запятую и печатать их "
   ]
  },
  {
   "cell_type": "code",
   "execution_count": 8,
   "metadata": {
    "ExecuteTime": {
     "end_time": "2022-09-08T10:39:29.928178Z",
     "start_time": "2022-09-08T10:39:29.921468Z"
    },
    "colab": {
     "base_uri": "https://localhost:8080/"
    },
    "id": "1KPJ_cGUcrca",
    "outputId": "8ac876ea-1bbe-4c8f-9ad6-76bb0f31d523"
   },
   "outputs": [
    {
     "name": "stdout",
     "output_type": "stream",
     "text": [
      "Our count today: 27 which is nice\n"
     ]
    }
   ],
   "source": [
    "print('Our count today:', 27, 'which is nice')"
   ]
  },
  {
   "cell_type": "markdown",
   "metadata": {},
   "source": [
    "Заметим, что у нас появился пробел после \":\", хотя мы его не писали. Потому что по дефолту у нас в print есть второй параметр, *sep*, и он по умолчанию равен пробелу"
   ]
  },
  {
   "cell_type": "code",
   "execution_count": 16,
   "metadata": {
    "ExecuteTime": {
     "end_time": "2022-09-08T10:42:12.299821Z",
     "start_time": "2022-09-08T10:42:12.292832Z"
    },
    "colab": {
     "base_uri": "https://localhost:8080/"
    },
    "id": "qsFDfRlEcrcg",
    "outputId": "e41e2578-a290-44bb-f352-365789527834"
   },
   "outputs": [
    {
     "name": "stdout",
     "output_type": "stream",
     "text": [
      "2+3=5\n"
     ]
    }
   ],
   "source": [
    "print('2+3=', 2 + 3, sep='')"
   ]
  },
  {
   "cell_type": "markdown",
   "metadata": {
    "id": "jm3V3pyYcrcl"
   },
   "source": [
    "В качестве параметра **sep** можно использовать любую строку, в том числе состоящую из нескольких символов. \n",
    "\n",
    "Если нужно сделать несколько разных разделителей для разных частей строк, то используем несколько подряд идущих функций **print**. Например, для вывода 1 + 2 + 3 + 4 = 10 пишем код:"
   ]
  },
  {
   "cell_type": "code",
   "execution_count": 17,
   "metadata": {
    "ExecuteTime": {
     "end_time": "2022-09-08T10:42:21.801299Z",
     "start_time": "2022-09-08T10:42:21.793539Z"
    },
    "colab": {
     "base_uri": "https://localhost:8080/"
    },
    "id": "3ZquJ10-crcm",
    "outputId": "ee2b0e5f-c5be-4f83-e101-0bbbcd5af4ea"
   },
   "outputs": [
    {
     "name": "stdout",
     "output_type": "stream",
     "text": [
      "1 + 2 + 3 + 4\n",
      " = 10\n"
     ]
    }
   ],
   "source": [
    "print(1, 2, 3, 4, sep = ' + ')\n",
    "print(' = ', 1 + 2 + 3 + 4, sep = '')\n"
   ]
  },
  {
   "cell_type": "markdown",
   "metadata": {
    "id": "Mzt0UuqXcrcq"
   },
   "source": [
    "Но хочется в одну строку.\n",
    "\n",
    "Полученный вывод связан с тем, что после каждой функции **print** по умолчанию осуществляется перевод строки. Для изменения данной ситуации в функции **print** используется именованный параметр **end**:"
   ]
  },
  {
   "cell_type": "code",
   "execution_count": 51,
   "metadata": {
    "colab": {
     "base_uri": "https://localhost:8080/"
    },
    "id": "BVOaPCX2crcq",
    "outputId": "81476811-cad7-4068-d676-747fc6b6800a"
   },
   "outputs": [
    {
     "name": "stdout",
     "output_type": "stream",
     "text": [
      "1 + 2 + 3 + 4 = 10\n"
     ]
    }
   ],
   "source": [
    "print(1, 2, 3, 4, sep=' + ', end='')\n",
    "print(' = ', 1 + 2 + 3 + 4, sep='')\n",
    "# В качестве end также можно использовать абсолютно любую строку."
   ]
  },
  {
   "cell_type": "markdown",
   "metadata": {
    "id": "2TGIxbfXRzXS"
   },
   "source": [
    "С помощью \\ мы можем делать escape специальных символов. Также для показа исходной строки можно использовать raw_string, добавив символ r перед строкой."
   ]
  },
  {
   "cell_type": "code",
   "execution_count": 53,
   "metadata": {},
   "outputs": [
    {
     "name": "stdout",
     "output_type": "stream",
     "text": [
      "My name is 'Denis'\n"
     ]
    }
   ],
   "source": [
    "print('My name is \\'Denis\\'')"
   ]
  },
  {
   "cell_type": "code",
   "execution_count": 56,
   "metadata": {
    "colab": {
     "base_uri": "https://localhost:8080/"
    },
    "id": "4ojGqkOeRvDG",
    "outputId": "b9f05a4e-61a4-4551-d6e5-0dc56c1df958"
   },
   "outputs": [
    {
     "name": "stdout",
     "output_type": "stream",
     "text": [
      "C:\\table\n",
      "ew\n"
     ]
    }
   ],
   "source": [
    "print('C:\\\\table\\new')"
   ]
  },
  {
   "cell_type": "code",
   "execution_count": 22,
   "metadata": {
    "ExecuteTime": {
     "end_time": "2022-09-08T10:45:57.457929Z",
     "start_time": "2022-09-08T10:45:57.450892Z"
    },
    "colab": {
     "base_uri": "https://localhost:8080/"
    },
    "id": "wBDIMJLESgJt",
    "outputId": "0279acd5-0a09-4e7c-c468-befc64e4190e"
   },
   "outputs": [
    {
     "name": "stdout",
     "output_type": "stream",
     "text": [
      "C:\\\\table\\new\n"
     ]
    }
   ],
   "source": [
    "print(r'C:\\\\table\\new')"
   ]
  },
  {
   "cell_type": "markdown",
   "metadata": {
    "id": "LnC-5g05Rwbe"
   },
   "source": []
  },
  {
   "cell_type": "markdown",
   "metadata": {
    "id": "johIW1H2crcu"
   },
   "source": [
    "## Переменные, числа"
   ]
  },
  {
   "cell_type": "markdown",
   "metadata": {
    "id": "johIW1H2crcu"
   },
   "source": [
    "Решим задачу вычисления пройденного расстояния по известному времени и скорости:"
   ]
  },
  {
   "cell_type": "code",
   "execution_count": 23,
   "metadata": {
    "ExecuteTime": {
     "end_time": "2022-09-08T10:46:32.236559Z",
     "start_time": "2022-09-08T10:46:32.231871Z"
    },
    "colab": {
     "base_uri": "https://localhost:8080/"
    },
    "id": "-raRRP9scrcv",
    "outputId": "9d0cc9af-12a0-44d6-c4f0-06994a1a29f1"
   },
   "outputs": [
    {
     "name": "stdout",
     "output_type": "stream",
     "text": [
      "1296\n"
     ]
    }
   ],
   "source": [
    "speed = 108\n",
    "time = 12\n",
    "dist = speed * time\n",
    "print(dist)"
   ]
  },
  {
   "cell_type": "markdown",
   "metadata": {
    "id": "mw0t6Pd2UzoP"
   },
   "source": [
    "\n",
    "Главное, чтобы имя переменной было осмысленным. В Python, как и в других языках, есть свои соглашения по поводу нейминга. Вот некоторые из них:\n",
    "- используте snake_case для переменных, если хотите записать название несколькими словами\n",
    "- название переменной должно отражать ее смысл, а не имплементацию \n",
    "- названия функций и методов следует писать с глаголами, e.g. do_smth_useful(), .is_empty()\n",
    "- избегать использования однобуквенных переменных, кроме отдельных случаев. Например, индекс в цикле, идентификатор файла при чтении `with open() as f:` , сокращение для обрабатываемой ошибки `Exception as e`\n",
    "- module_name, package_name, ClassName, method_name, ExceptionName, function_name, GLOBAL_CONSTANT_NAME, global_var_name, instance_var_name, function_parameter_name, local_var_name\n",
    "\n",
    "\n",
    "Overall, разных мнений по поводу стилей написания кода много. И может различаться в разных компаниях и даже командах. Однако есть некоторые универсальные принципы, которым следует научиться следовать.  "
   ]
  },
  {
   "cell_type": "markdown",
   "metadata": {},
   "source": [
    "Узнать тип можно с помощью команды `type`"
   ]
  },
  {
   "cell_type": "code",
   "execution_count": 25,
   "metadata": {
    "ExecuteTime": {
     "end_time": "2022-09-08T10:49:33.223958Z",
     "start_time": "2022-09-08T10:49:33.218463Z"
    }
   },
   "outputs": [
    {
     "data": {
      "text/plain": [
       "int"
      ]
     },
     "execution_count": 25,
     "metadata": {},
     "output_type": "execute_result"
    }
   ],
   "source": [
    "type(5)"
   ]
  },
  {
   "cell_type": "code",
   "execution_count": 27,
   "metadata": {
    "ExecuteTime": {
     "end_time": "2022-09-08T10:49:53.821035Z",
     "start_time": "2022-09-08T10:49:53.811426Z"
    }
   },
   "outputs": [
    {
     "data": {
      "text/plain": [
       "5.0"
      ]
     },
     "execution_count": 27,
     "metadata": {},
     "output_type": "execute_result"
    }
   ],
   "source": [
    "10 / 2"
   ]
  },
  {
   "cell_type": "markdown",
   "metadata": {
    "id": "AVQZVvaNaC0j"
   },
   "source": [
    "Иногда возникает необходимость преобразовать вещественное число в целое. Для этого можно использовать несколько видов функций округления.\n",
    "* int - округляет в сторону нуля (отбрасывает дробную часть)\n",
    "* round - округляет до ближайшего целого, если ближайших целых несколько (дробная часть равна 0.5), то к четному\n",
    "* floor - округляет в меньшую сторону\n",
    "* ceil - округляет в большую сторону\n",
    "\n",
    "Последние две функции находятся в библиотеке math. Чтобы воспользоваться ими, нужно их импортировать"
   ]
  },
  {
   "cell_type": "code",
   "execution_count": 33,
   "metadata": {
    "ExecuteTime": {
     "end_time": "2022-09-08T10:53:03.496575Z",
     "start_time": "2022-09-08T10:53:03.491708Z"
    }
   },
   "outputs": [
    {
     "name": "stdout",
     "output_type": "stream",
     "text": [
      "ceil for 2.3 is 3\n",
      "floor for 2.3 is 2\n",
      "round for 2.3 is 2\n"
     ]
    }
   ],
   "source": [
    "import math\n",
    "\n",
    "some_const = 2.3\n",
    "\n",
    "print(f'ceil for {some_const} is {math.ceil(some_const)}')\n",
    "print(f'floor for {some_const} is {math.floor(some_const)}')\n",
    "print(f'round for {some_const} is {round(some_const)}')"
   ]
  },
  {
   "cell_type": "markdown",
   "metadata": {},
   "source": [
    "Кстати, хороший повод вспомнить про codestyle для импортов в python"
   ]
  },
  {
   "cell_type": "markdown",
   "metadata": {},
   "source": [
    "\n",
    "    1.    standard library imports\n",
    "    2.    related third party imports\n",
    "    3.    local application/library specific imports\n"
   ]
  },
  {
   "cell_type": "markdown",
   "metadata": {},
   "source": [
    "Другие операции с числами"
   ]
  },
  {
   "cell_type": "code",
   "execution_count": 34,
   "metadata": {
    "ExecuteTime": {
     "end_time": "2022-09-08T10:55:14.887456Z",
     "start_time": "2022-09-08T10:55:14.882125Z"
    },
    "id": "Zr6yhsxEaC0x",
    "outputId": "373589dd-24c3-4623-9451-9394f547c4db"
   },
   "outputs": [
    {
     "data": {
      "text/plain": [
       "(3, 1)"
      ]
     },
     "execution_count": 34,
     "metadata": {},
     "output_type": "execute_result"
    }
   ],
   "source": [
    "divmod(10, 3)"
   ]
  },
  {
   "cell_type": "code",
   "execution_count": 28,
   "metadata": {
    "ExecuteTime": {
     "end_time": "2022-09-07T23:46:41.864747Z",
     "start_time": "2022-09-07T23:46:41.855419Z"
    },
    "id": "Tbz4TSA-aC0z",
    "outputId": "706e9288-feb5-45fc-8de2-4668d8a969be"
   },
   "outputs": [
    {
     "data": {
      "text/plain": [
       "5"
      ]
     },
     "execution_count": 28,
     "metadata": {},
     "output_type": "execute_result"
    }
   ],
   "source": [
    "abs(-5)"
   ]
  },
  {
   "cell_type": "code",
   "execution_count": 36,
   "metadata": {
    "ExecuteTime": {
     "end_time": "2022-09-08T10:55:39.971124Z",
     "start_time": "2022-09-08T10:55:39.961987Z"
    },
    "id": "4WAInk3ZaC02",
    "outputId": "d87262a0-56c2-4799-bf14-d0003f76782e"
   },
   "outputs": [
    {
     "data": {
      "text/plain": [
       "32"
      ]
     },
     "execution_count": 36,
     "metadata": {},
     "output_type": "execute_result"
    }
   ],
   "source": [
    "2 ** 5"
   ]
  },
  {
   "cell_type": "code",
   "execution_count": 37,
   "metadata": {
    "ExecuteTime": {
     "end_time": "2022-09-08T10:56:20.814426Z",
     "start_time": "2022-09-08T10:56:20.809071Z"
    }
   },
   "outputs": [
    {
     "data": {
      "text/plain": [
       "3"
      ]
     },
     "execution_count": 37,
     "metadata": {},
     "output_type": "execute_result"
    }
   ],
   "source": [
    "10 // 3"
   ]
  },
  {
   "cell_type": "code",
   "execution_count": 38,
   "metadata": {
    "ExecuteTime": {
     "end_time": "2022-09-08T10:56:26.706320Z",
     "start_time": "2022-09-08T10:56:26.700969Z"
    }
   },
   "outputs": [
    {
     "data": {
      "text/plain": [
       "-3.3333333333333335"
      ]
     },
     "execution_count": 38,
     "metadata": {},
     "output_type": "execute_result"
    }
   ],
   "source": [
    "10 / -3"
   ]
  },
  {
   "cell_type": "code",
   "execution_count": 39,
   "metadata": {
    "ExecuteTime": {
     "end_time": "2022-09-08T10:56:31.770373Z",
     "start_time": "2022-09-08T10:56:31.764907Z"
    }
   },
   "outputs": [
    {
     "data": {
      "text/plain": [
       "-4"
      ]
     },
     "execution_count": 39,
     "metadata": {},
     "output_type": "execute_result"
    }
   ],
   "source": [
    "10 // -3 # floor division"
   ]
  },
  {
   "cell_type": "markdown",
   "metadata": {},
   "source": [
    "http://python-history.blogspot.com/2010/08/why-pythons-integer-division-floors.html\n",
    "\n",
    "https://realpython.com/python-rounding/"
   ]
  },
  {
   "cell_type": "code",
   "execution_count": 40,
   "metadata": {
    "ExecuteTime": {
     "end_time": "2022-09-08T10:56:51.564393Z",
     "start_time": "2022-09-08T10:56:51.559023Z"
    }
   },
   "outputs": [
    {
     "data": {
      "text/plain": [
       "1"
      ]
     },
     "execution_count": 40,
     "metadata": {},
     "output_type": "execute_result"
    }
   ],
   "source": [
    "10 % 3"
   ]
  },
  {
   "cell_type": "code",
   "execution_count": 41,
   "metadata": {
    "ExecuteTime": {
     "end_time": "2022-09-08T10:57:01.783675Z",
     "start_time": "2022-09-08T10:57:01.774053Z"
    }
   },
   "outputs": [
    {
     "data": {
      "text/plain": [
       "-2"
      ]
     },
     "execution_count": 41,
     "metadata": {},
     "output_type": "execute_result"
    }
   ],
   "source": [
    "10 % -3"
   ]
  },
  {
   "cell_type": "markdown",
   "metadata": {},
   "source": [
    "% -- оператор остатка по модулю в Python работает так:\n",
    "\n",
    "```number % k = number - math.floor(number / k) * k```"
   ]
  },
  {
   "cell_type": "code",
   "execution_count": 23,
   "metadata": {
    "ExecuteTime": {
     "end_time": "2022-09-08T00:54:20.292715Z",
     "start_time": "2022-09-08T00:54:20.287444Z"
    }
   },
   "outputs": [
    {
     "data": {
      "text/plain": [
       "2"
      ]
     },
     "execution_count": 23,
     "metadata": {},
     "output_type": "execute_result"
    }
   ],
   "source": [
    "-10 % 3 "
   ]
  },
  {
   "cell_type": "code",
   "execution_count": 43,
   "metadata": {
    "ExecuteTime": {
     "end_time": "2022-09-08T10:57:45.582901Z",
     "start_time": "2022-09-08T10:57:45.576877Z"
    }
   },
   "outputs": [
    {
     "data": {
      "text/plain": [
       "-2"
      ]
     },
     "execution_count": 43,
     "metadata": {},
     "output_type": "execute_result"
    }
   ],
   "source": [
    "number = 10\n",
    "k = -3\n",
    "\n",
    "number - math.floor(number / k) * k"
   ]
  },
  {
   "cell_type": "markdown",
   "metadata": {
    "ExecuteTime": {
     "end_time": "2022-09-08T00:49:39.771774Z",
     "start_time": "2022-09-08T00:49:39.766265Z"
    }
   },
   "source": [
    "Пример работы с отрицательными числами при взятии остатка\n",
    "\n",
    "Если сейчас день недели d. То какой день недели был k дней назад?"
   ]
  },
  {
   "cell_type": "code",
   "execution_count": 14,
   "metadata": {
    "ExecuteTime": {
     "end_time": "2022-09-08T00:50:12.653101Z",
     "start_time": "2022-09-08T00:50:12.647981Z"
    }
   },
   "outputs": [
    {
     "data": {
      "text/plain": [
       "6"
      ]
     },
     "execution_count": 14,
     "metadata": {},
     "output_type": "execute_result"
    }
   ],
   "source": [
    "d = 3  # day of week, Thursday\n",
    "k = 4  # offset\n",
    "\n",
    "(d - k) % 7  # got 6 -- Sunday"
   ]
  },
  {
   "cell_type": "markdown",
   "metadata": {},
   "source": [
    "---\n"
   ]
  },
  {
   "cell_type": "markdown",
   "metadata": {},
   "source": [
    "Переменную в Python можно воспринимать как ссылку на некоторую область в памяти, где было сложено значение. С этим нужно быть аккуратным"
   ]
  },
  {
   "cell_type": "code",
   "execution_count": 48,
   "metadata": {
    "ExecuteTime": {
     "end_time": "2022-09-08T11:01:02.565431Z",
     "start_time": "2022-09-08T11:01:02.560353Z"
    }
   },
   "outputs": [
    {
     "name": "stdout",
     "output_type": "stream",
     "text": [
      "140239873853872 140239873853872\n"
     ]
    }
   ],
   "source": [
    "a = 5\n",
    "b = a\n",
    "\n",
    "print(id(b), id(a))"
   ]
  },
  {
   "cell_type": "markdown",
   "metadata": {},
   "source": [
    "Числа являются неизменяемым типом"
   ]
  },
  {
   "cell_type": "code",
   "execution_count": 51,
   "metadata": {
    "ExecuteTime": {
     "end_time": "2022-09-08T11:03:58.359009Z",
     "start_time": "2022-09-08T11:03:58.354221Z"
    }
   },
   "outputs": [
    {
     "name": "stdout",
     "output_type": "stream",
     "text": [
      "140239873853872\n",
      "140239873854192\n"
     ]
    }
   ],
   "source": [
    "a = 5\n",
    "\n",
    "print(id(a))\n",
    "\n",
    "a += 10\n",
    "\n",
    "print(id(a))"
   ]
  },
  {
   "cell_type": "markdown",
   "metadata": {},
   "source": [
    "Переменная теперь ссылается на новую область в памяти, хотя казалось бы, мы просто к ней что-то прибавили"
   ]
  },
  {
   "cell_type": "code",
   "execution_count": 52,
   "metadata": {
    "ExecuteTime": {
     "end_time": "2022-09-08T11:05:17.635847Z",
     "start_time": "2022-09-08T11:05:17.630076Z"
    }
   },
   "outputs": [
    {
     "data": {
      "text/plain": [
       "False"
      ]
     },
     "execution_count": 52,
     "metadata": {},
     "output_type": "execute_result"
    }
   ],
   "source": [
    "b = -3\n",
    "c = 4\n",
    "\n",
    "id(b) == id(c)"
   ]
  },
  {
   "cell_type": "markdown",
   "metadata": {
    "ExecuteTime": {
     "end_time": "2022-09-08T00:57:49.691594Z",
     "start_time": "2022-09-08T00:57:49.682620Z"
    }
   },
   "source": [
    "Не совсем очевидные вещи в Python"
   ]
  },
  {
   "cell_type": "code",
   "execution_count": 54,
   "metadata": {
    "ExecuteTime": {
     "end_time": "2022-09-08T11:05:57.194279Z",
     "start_time": "2022-09-08T11:05:57.188927Z"
    }
   },
   "outputs": [
    {
     "data": {
      "text/plain": [
       "True"
      ]
     },
     "execution_count": 54,
     "metadata": {},
     "output_type": "execute_result"
    }
   ],
   "source": [
    "b = 5\n",
    "c = 5\n",
    "\n",
    "id(b) == id(c)"
   ]
  },
  {
   "cell_type": "code",
   "execution_count": 55,
   "metadata": {
    "ExecuteTime": {
     "end_time": "2022-09-08T11:06:07.444591Z",
     "start_time": "2022-09-08T11:06:07.439006Z"
    }
   },
   "outputs": [
    {
     "data": {
      "text/plain": [
       "False"
      ]
     },
     "execution_count": 55,
     "metadata": {},
     "output_type": "execute_result"
    }
   ],
   "source": [
    "b = 1000\n",
    "c = 1000\n",
    "\n",
    "id(b) == id(c)"
   ]
  },
  {
   "cell_type": "markdown",
   "metadata": {},
   "source": [
    "Немного \"математики\""
   ]
  },
  {
   "cell_type": "markdown",
   "metadata": {},
   "source": [
    "Зная немного о битовом (двоичном) представлении чисел, мы можем делать битовые операции с ними. Например, битовые сдвиги"
   ]
  },
  {
   "cell_type": "code",
   "execution_count": 56,
   "metadata": {
    "ExecuteTime": {
     "end_time": "2022-09-08T11:07:17.527913Z",
     "start_time": "2022-09-08T11:07:17.518666Z"
    }
   },
   "outputs": [
    {
     "data": {
      "text/plain": [
       "1024"
      ]
     },
     "execution_count": 56,
     "metadata": {},
     "output_type": "execute_result"
    }
   ],
   "source": [
    "1 << 10"
   ]
  },
  {
   "cell_type": "code",
   "execution_count": 57,
   "metadata": {
    "ExecuteTime": {
     "end_time": "2022-09-08T11:08:11.710247Z",
     "start_time": "2022-09-08T11:08:11.704833Z"
    }
   },
   "outputs": [
    {
     "data": {
      "text/plain": [
       "2"
      ]
     },
     "execution_count": 57,
     "metadata": {},
     "output_type": "execute_result"
    }
   ],
   "source": [
    "4 >> 1"
   ]
  },
  {
   "cell_type": "markdown",
   "metadata": {},
   "source": [
    "## Bools, сравнения"
   ]
  },
  {
   "cell_type": "markdown",
   "metadata": {},
   "source": [
    "`==` сравнивает объекты между собой по значению (с помощью скритого метода, можно переопределить для своих классов)\n",
    "\n",
    "`is` -- по адресу в памяти"
   ]
  },
  {
   "cell_type": "code",
   "execution_count": 58,
   "metadata": {
    "ExecuteTime": {
     "end_time": "2022-09-08T11:08:40.416080Z",
     "start_time": "2022-09-08T11:08:40.410800Z"
    }
   },
   "outputs": [
    {
     "data": {
      "text/plain": [
       "True"
      ]
     },
     "execution_count": 58,
     "metadata": {},
     "output_type": "execute_result"
    }
   ],
   "source": [
    "True"
   ]
  },
  {
   "cell_type": "code",
   "execution_count": 59,
   "metadata": {
    "ExecuteTime": {
     "end_time": "2022-09-08T11:08:47.621080Z",
     "start_time": "2022-09-08T11:08:47.615667Z"
    }
   },
   "outputs": [
    {
     "data": {
      "text/plain": [
       "True"
      ]
     },
     "execution_count": 59,
     "metadata": {},
     "output_type": "execute_result"
    }
   ],
   "source": [
    "1 == True"
   ]
  },
  {
   "cell_type": "code",
   "execution_count": 60,
   "metadata": {
    "ExecuteTime": {
     "end_time": "2022-09-08T11:08:49.353858Z",
     "start_time": "2022-09-08T11:08:49.348496Z"
    }
   },
   "outputs": [
    {
     "data": {
      "text/plain": [
       "True"
      ]
     },
     "execution_count": 60,
     "metadata": {},
     "output_type": "execute_result"
    }
   ],
   "source": [
    "1 == True == 1.0"
   ]
  },
  {
   "cell_type": "code",
   "execution_count": 62,
   "metadata": {
    "ExecuteTime": {
     "end_time": "2022-09-08T11:09:09.054546Z",
     "start_time": "2022-09-08T11:09:09.049767Z"
    }
   },
   "outputs": [
    {
     "name": "stdout",
     "output_type": "stream",
     "text": [
      "True\n",
      "False\n"
     ]
    }
   ],
   "source": [
    "a = 1337\n",
    "b = 1337\n",
    "\n",
    "print(a == b)\n",
    "print(a is b)"
   ]
  },
  {
   "cell_type": "code",
   "execution_count": 63,
   "metadata": {
    "ExecuteTime": {
     "end_time": "2022-09-08T11:09:24.642312Z",
     "start_time": "2022-09-08T11:09:24.637713Z"
    }
   },
   "outputs": [
    {
     "data": {
      "text/plain": [
       "False"
      ]
     },
     "execution_count": 63,
     "metadata": {},
     "output_type": "execute_result"
    }
   ],
   "source": [
    "True is False"
   ]
  },
  {
   "cell_type": "code",
   "execution_count": 64,
   "metadata": {
    "ExecuteTime": {
     "end_time": "2022-09-08T11:09:34.186463Z",
     "start_time": "2022-09-08T11:09:34.181667Z"
    }
   },
   "outputs": [
    {
     "data": {
      "text/plain": [
       "True"
      ]
     },
     "execution_count": 64,
     "metadata": {},
     "output_type": "execute_result"
    }
   ],
   "source": [
    "False == 0"
   ]
  },
  {
   "cell_type": "code",
   "execution_count": 65,
   "metadata": {
    "ExecuteTime": {
     "end_time": "2022-09-08T11:09:39.940870Z",
     "start_time": "2022-09-08T11:09:39.935770Z"
    }
   },
   "outputs": [
    {
     "data": {
      "text/plain": [
       "True"
      ]
     },
     "execution_count": 65,
     "metadata": {},
     "output_type": "execute_result"
    }
   ],
   "source": [
    "0 < 1"
   ]
  },
  {
   "cell_type": "markdown",
   "metadata": {},
   "source": [
    "Можно делать несколько логических операций в ряд"
   ]
  },
  {
   "cell_type": "code",
   "execution_count": 66,
   "metadata": {
    "ExecuteTime": {
     "end_time": "2022-09-08T11:09:48.812205Z",
     "start_time": "2022-09-08T11:09:48.806547Z"
    }
   },
   "outputs": [
    {
     "data": {
      "text/plain": [
       "True"
      ]
     },
     "execution_count": 66,
     "metadata": {},
     "output_type": "execute_result"
    }
   ],
   "source": [
    "0 < 1 < 2"
   ]
  },
  {
   "cell_type": "code",
   "execution_count": 67,
   "metadata": {
    "ExecuteTime": {
     "end_time": "2022-09-08T11:10:09.945608Z",
     "start_time": "2022-09-08T11:10:09.939784Z"
    }
   },
   "outputs": [
    {
     "data": {
      "text/plain": [
       "True"
      ]
     },
     "execution_count": 67,
     "metadata": {},
     "output_type": "execute_result"
    }
   ],
   "source": [
    "(0 < 1) and (1 < 2)"
   ]
  },
  {
   "cell_type": "markdown",
   "metadata": {
    "ExecuteTime": {
     "end_time": "2022-09-08T00:24:02.405083Z",
     "start_time": "2022-09-08T00:24:02.396710Z"
    }
   },
   "source": [
    "**Вспомним Де Моргана**\n",
    "\n",
    "```\n",
    "не (a и b) = (не a) или (не b)\n",
    "не (a или b) = (не a) и (не b)\n",
    "```"
   ]
  },
  {
   "cell_type": "code",
   "execution_count": 6,
   "metadata": {
    "ExecuteTime": {
     "end_time": "2022-09-08T11:31:25.994918Z",
     "start_time": "2022-09-08T11:31:25.989860Z"
    }
   },
   "outputs": [],
   "source": [
    "a = 1\n",
    "c = 2\n",
    "\n",
    "bool_value = 0 <= a and c <= 6\n",
    "\n",
    "not_bool_value = (0 > a) or (c > 6)\n",
    "assert not bool_value == not_bool_value"
   ]
  },
  {
   "cell_type": "code",
   "execution_count": 92,
   "metadata": {
    "ExecuteTime": {
     "end_time": "2022-09-08T00:24:06.702428Z",
     "start_time": "2022-09-08T00:24:06.697593Z"
    }
   },
   "outputs": [
    {
     "data": {
      "text/plain": [
       "True"
      ]
     },
     "execution_count": 92,
     "metadata": {},
     "output_type": "execute_result"
    }
   ],
   "source": [
    "False is False is False"
   ]
  },
  {
   "cell_type": "markdown",
   "metadata": {},
   "source": [
    "Рассмотренные выше `and`, `or` и `not` являются логическими операторами. В языках, которые вы ранее могли изучать, они соответствуют `&&`, `||` и `!` (и их в python нет).\n",
    "\n",
    "Однако, в питоне существуют *bitwise* операторы `&`, `|`, `~` (и `^`). **Не перепутайте** их с логическими `И`, `ИЛИ` и `НЕ`!"
   ]
  },
  {
   "cell_type": "code",
   "execution_count": 78,
   "metadata": {
    "ExecuteTime": {
     "end_time": "2022-09-08T11:14:30.524274Z",
     "start_time": "2022-09-08T11:14:30.518989Z"
    }
   },
   "outputs": [
    {
     "name": "stdout",
     "output_type": "stream",
     "text": [
      "0111 & 0011 = 0011 is 3\n",
      "0111 | 0011 = 0111 is 7\n",
      "0111 ^ 0011 = 0100 is 4\n",
      "~0111 & 1111 = 1000 & 1111 is 8\n"
     ]
    }
   ],
   "source": [
    "print('0111 & 0011 = 0011 is', 7 & 3)\n",
    "\n",
    "print('0111 | 0011 = 0111 is', 7 | 3)\n",
    "\n",
    "print('0111 ^ 0011 = 0100 is', 7 ^ 3)\n",
    "\n",
    "print('~0111 & 1111 = 1000 & 1111 is', ~7 & 15)"
   ]
  },
  {
   "cell_type": "markdown",
   "metadata": {
    "id": "y9mc6J_fcrc0"
   },
   "source": [
    "## Строки"
   ]
  },
  {
   "cell_type": "markdown",
   "metadata": {},
   "source": [
    "Строка -- это частный случай последоватьностей в Python, представитель группы `Flat sequences`. То есть, строка -- это последовательность, каждый элемент в которой представляет лишь один тип. Можно сказать, что строка -- это последовательность символов.\n",
    "\n",
    "В отличии от, например, C, строки в питоне являются неизменяемым типом данных. После того, как вы присвоили переменной строку, вы не можете inplace заменить отдельный символ в ней. При этом, можно обращаться к отдельным элементам по индексу, как в массиве"
   ]
  },
  {
   "cell_type": "code",
   "execution_count": 79,
   "metadata": {
    "ExecuteTime": {
     "end_time": "2022-09-08T11:15:36.924605Z",
     "start_time": "2022-09-08T11:15:36.919346Z"
    }
   },
   "outputs": [
    {
     "data": {
      "text/plain": [
       "'stringstring'"
      ]
     },
     "execution_count": 79,
     "metadata": {},
     "output_type": "execute_result"
    }
   ],
   "source": [
    "a = 'string'\n",
    "\n",
    "a + a"
   ]
  },
  {
   "cell_type": "code",
   "execution_count": 80,
   "metadata": {
    "ExecuteTime": {
     "end_time": "2022-09-08T11:15:44.303391Z",
     "start_time": "2022-09-08T11:15:44.298192Z"
    }
   },
   "outputs": [
    {
     "data": {
      "text/plain": [
       "6"
      ]
     },
     "execution_count": 80,
     "metadata": {},
     "output_type": "execute_result"
    }
   ],
   "source": [
    "len(a)"
   ]
  },
  {
   "cell_type": "code",
   "execution_count": 81,
   "metadata": {
    "ExecuteTime": {
     "end_time": "2022-09-08T11:15:55.272542Z",
     "start_time": "2022-09-08T11:15:55.266264Z"
    },
    "id": "aB2lHghJS001"
   },
   "outputs": [],
   "source": [
    "sample_string = 'some_sample'"
   ]
  },
  {
   "cell_type": "code",
   "execution_count": 84,
   "metadata": {
    "ExecuteTime": {
     "end_time": "2022-09-08T11:16:11.140980Z",
     "start_time": "2022-09-08T11:16:11.135313Z"
    },
    "colab": {
     "base_uri": "https://localhost:8080/",
     "height": 35
    },
    "id": "7vrUbit3S35F",
    "outputId": "5c8008ed-77b6-440e-c9b4-bf86b792c4c4"
   },
   "outputs": [
    {
     "data": {
      "text/plain": [
       "'e'"
      ]
     },
     "execution_count": 84,
     "metadata": {},
     "output_type": "execute_result"
    }
   ],
   "source": [
    "sample_string[-1]"
   ]
  },
  {
   "cell_type": "code",
   "execution_count": 85,
   "metadata": {
    "ExecuteTime": {
     "end_time": "2022-09-08T11:16:16.280575Z",
     "start_time": "2022-09-08T11:16:16.266762Z"
    },
    "colab": {
     "base_uri": "https://localhost:8080/",
     "height": 166
    },
    "id": "DhYS2s85Tp7P",
    "outputId": "84a3eb6a-4555-4f62-b1dc-f83d860c8178"
   },
   "outputs": [
    {
     "ename": "TypeError",
     "evalue": "'str' object does not support item assignment",
     "output_type": "error",
     "traceback": [
      "\u001b[0;31m---------------------------------------------------------------------------\u001b[0m",
      "\u001b[0;31mTypeError\u001b[0m                                 Traceback (most recent call last)",
      "Input \u001b[0;32mIn [85]\u001b[0m, in \u001b[0;36m<cell line: 1>\u001b[0;34m()\u001b[0m\n\u001b[0;32m----> 1\u001b[0m sample_string[\u001b[38;5;241m0\u001b[39m] \u001b[38;5;241m=\u001b[39m \u001b[38;5;124m'\u001b[39m\u001b[38;5;124mA\u001b[39m\u001b[38;5;124m'\u001b[39m\n",
      "\u001b[0;31mTypeError\u001b[0m: 'str' object does not support item assignment"
     ]
    }
   ],
   "source": [
    "sample_string[0] = 'A'"
   ]
  },
  {
   "cell_type": "markdown",
   "metadata": {
    "id": "pQ-7FFxPTyZQ"
   },
   "source": [
    "Не можем изменить конкретный символ, как и ожидалось. Однако"
   ]
  },
  {
   "cell_type": "code",
   "execution_count": 86,
   "metadata": {
    "ExecuteTime": {
     "end_time": "2022-09-08T11:16:27.653461Z",
     "start_time": "2022-09-08T11:16:27.648277Z"
    },
    "colab": {
     "base_uri": "https://localhost:8080/",
     "height": 35
    },
    "id": "S1RzHTaWTs71",
    "outputId": "b28c906e-e637-4339-97fc-857afab65590"
   },
   "outputs": [
    {
     "data": {
      "text/plain": [
       "'some_sample_long_sample'"
      ]
     },
     "execution_count": 86,
     "metadata": {},
     "output_type": "execute_result"
    }
   ],
   "source": [
    "sample_string += '_long_sample'\n",
    "sample_string"
   ]
  },
  {
   "cell_type": "markdown",
   "metadata": {
    "id": "Tz0kKRMFT-mV"
   },
   "source": [
    "Но ведь мы сказали, что строки неизменяемы...\n",
    "\n",
    "Все верно, шорткатом += мы переопределили переменную. Сравним адреса и убедимся, что они отличаются"
   ]
  },
  {
   "cell_type": "code",
   "execution_count": 87,
   "metadata": {
    "ExecuteTime": {
     "end_time": "2022-09-08T11:16:53.063735Z",
     "start_time": "2022-09-08T11:16:53.055260Z"
    },
    "colab": {
     "base_uri": "https://localhost:8080/"
    },
    "id": "T3QBWt9mUKPO",
    "outputId": "b187398b-6340-4062-eb91-5e0f63f291e9"
   },
   "outputs": [
    {
     "data": {
      "text/plain": [
       "140236924732400"
      ]
     },
     "execution_count": 87,
     "metadata": {},
     "output_type": "execute_result"
    }
   ],
   "source": [
    "id(sample_string)"
   ]
  },
  {
   "cell_type": "code",
   "execution_count": 88,
   "metadata": {
    "ExecuteTime": {
     "end_time": "2022-09-08T11:16:55.449967Z",
     "start_time": "2022-09-08T11:16:55.441035Z"
    },
    "colab": {
     "base_uri": "https://localhost:8080/"
    },
    "id": "QhixiIp9UZTV",
    "outputId": "080abbfc-4253-4d0d-a1c2-7a0c1ab6e89b"
   },
   "outputs": [
    {
     "data": {
      "text/plain": [
       "140236924733280"
      ]
     },
     "execution_count": 88,
     "metadata": {},
     "output_type": "execute_result"
    }
   ],
   "source": [
    "sample_string += '1'\n",
    "id(sample_string)"
   ]
  },
  {
   "cell_type": "markdown",
   "metadata": {
    "id": "n9DyOqWJcrc5"
   },
   "source": [
    "Складывать число со строкой нельзя. Но можно воспользоваться функцией **str**, которая преобразует число в строку"
   ]
  },
  {
   "cell_type": "code",
   "execution_count": 89,
   "metadata": {
    "ExecuteTime": {
     "end_time": "2022-09-08T11:17:13.375347Z",
     "start_time": "2022-09-08T11:17:13.369130Z"
    },
    "colab": {
     "base_uri": "https://localhost:8080/"
    },
    "id": "Ioy92EiRcrc6",
    "outputId": "5f15ec92-694e-46de-9155-e13aa94d61f1"
   },
   "outputs": [
    {
     "name": "stdout",
     "output_type": "stream",
     "text": [
      "2 + 3 = 5\n"
     ]
    }
   ],
   "source": [
    "answer = '2 + 3 = ' + str(2 + 3)\n",
    "print(answer)"
   ]
  },
  {
   "cell_type": "markdown",
   "metadata": {
    "id": "7l4U1daWcrc-"
   },
   "source": [
    "Можно умножить строку на целое неотрицательное число, в результате получится исходная строка повторенная заданное число раз:"
   ]
  },
  {
   "cell_type": "code",
   "execution_count": 90,
   "metadata": {
    "ExecuteTime": {
     "end_time": "2022-09-08T11:17:31.841378Z",
     "start_time": "2022-09-08T11:17:31.833259Z"
    },
    "colab": {
     "base_uri": "https://localhost:8080/"
    },
    "id": "UNlMO6Jjcrc-",
    "outputId": "36b7999c-0329-4bb4-f250-f7b2865ff9b9"
   },
   "outputs": [
    {
     "name": "stdout",
     "output_type": "stream",
     "text": [
      "ByeByeBye!\n"
     ]
    }
   ],
   "source": [
    "word = 'Bye'\n",
    "phrase = word * 3 + '!'\n",
    "print(phrase)"
   ]
  },
  {
   "cell_type": "markdown",
   "metadata": {},
   "source": [
    "Строки могут быть многострочными :/"
   ]
  },
  {
   "cell_type": "code",
   "execution_count": 91,
   "metadata": {
    "ExecuteTime": {
     "end_time": "2022-09-08T11:17:41.310624Z",
     "start_time": "2022-09-08T11:17:41.305357Z"
    }
   },
   "outputs": [
    {
     "name": "stdout",
     "output_type": "stream",
     "text": [
      "\n",
      "Hello\n",
      "    I\n",
      "        am\n",
      "            multistring\n",
      "                                        string\n",
      "\n"
     ]
    }
   ],
   "source": [
    "a = '''\n",
    "Hello\n",
    "    I\n",
    "        am\n",
    "            multistring\n",
    "                                        string\n",
    "'''\n",
    "\n",
    "print(a)"
   ]
  },
  {
   "cell_type": "code",
   "execution_count": 92,
   "metadata": {
    "ExecuteTime": {
     "end_time": "2022-09-08T11:18:03.575116Z",
     "start_time": "2022-09-08T11:17:46.463123Z"
    },
    "colab": {
     "base_uri": "https://localhost:8080/"
    },
    "id": "RfGi2UtPcrdD",
    "outputId": "ca76cf19-b5c9-475f-b673-b9db75c2f032"
   },
   "outputs": [
    {
     "name": "stdout",
     "output_type": "stream",
     "text": [
      "group 221\n",
      "I love group 221 !\n"
     ]
    }
   ],
   "source": [
    "name = input()\n",
    "print('I love', name,'!')"
   ]
  },
  {
   "cell_type": "markdown",
   "metadata": {
    "id": "9as9uZtKcrdH"
   },
   "source": [
    "Во многих задачах требуется работать с числами, а читать мы умеем только строки. \n",
    "\n",
    "Чтобы преобразовать строку, состоящую из цифр (и, возможно, знака \"-\" перед ними) в целое число можно воспользоваться функцией **int** (сокращение от integer). Например, решение задачи о сложении двух чисел будет выглядеть так:"
   ]
  },
  {
   "cell_type": "code",
   "execution_count": 94,
   "metadata": {
    "ExecuteTime": {
     "end_time": "2022-09-08T11:18:48.367975Z",
     "start_time": "2022-09-08T11:18:45.911393Z"
    },
    "colab": {
     "base_uri": "https://localhost:8080/"
    },
    "id": "IGW_zhwHcrdI",
    "outputId": "dd4c529f-289e-40a0-b502-a51e3d4ad524"
   },
   "outputs": [
    {
     "name": "stdout",
     "output_type": "stream",
     "text": [
      "2\n",
      "3\n",
      "5\n"
     ]
    }
   ],
   "source": [
    "a = int(input())\n",
    "b = int(input())\n",
    "print(a + b)"
   ]
  },
  {
   "cell_type": "markdown",
   "metadata": {},
   "source": [
    "Выше мы дали определение строки как неизменяемая последовательность символов (immutabe sequence of _charachters_). Но что такое _charachter_?"
   ]
  },
  {
   "cell_type": "markdown",
   "metadata": {},
   "source": [
    "в Python3 это символ Unicode. В зависимости от используемого стандарта Unicode, представление кода в байтах может отличаться"
   ]
  },
  {
   "cell_type": "code",
   "execution_count": 95,
   "metadata": {
    "ExecuteTime": {
     "end_time": "2022-09-08T11:19:05.875428Z",
     "start_time": "2022-09-08T11:19:05.870582Z"
    }
   },
   "outputs": [
    {
     "data": {
      "text/plain": [
       "4"
      ]
     },
     "execution_count": 95,
     "metadata": {},
     "output_type": "execute_result"
    }
   ],
   "source": [
    "s = 'café'\n",
    "len(s)  # 4 символа юникода"
   ]
  },
  {
   "cell_type": "code",
   "execution_count": 96,
   "metadata": {
    "ExecuteTime": {
     "end_time": "2022-09-08T11:19:21.021867Z",
     "start_time": "2022-09-08T11:19:21.016517Z"
    }
   },
   "outputs": [
    {
     "data": {
      "text/plain": [
       "b'caf\\xc3\\xa9'"
      ]
     },
     "execution_count": 96,
     "metadata": {},
     "output_type": "execute_result"
    }
   ],
   "source": [
    "b = s.encode('utf8')\n",
    "b  # 5 байт в кодировке, т.к. последний символ занимает 2 байта в UTF-8"
   ]
  },
  {
   "cell_type": "code",
   "execution_count": 140,
   "metadata": {},
   "outputs": [
    {
     "data": {
      "text/plain": [
       "'café'"
      ]
     },
     "execution_count": 140,
     "metadata": {},
     "output_type": "execute_result"
    }
   ],
   "source": [
    "b.decode('utf8')"
   ]
  },
  {
   "cell_type": "markdown",
   "metadata": {},
   "source": [
    "**Неочевидные вещи**"
   ]
  },
  {
   "cell_type": "code",
   "execution_count": 98,
   "metadata": {
    "ExecuteTime": {
     "end_time": "2022-09-08T11:20:02.433916Z",
     "start_time": "2022-09-08T11:20:02.428545Z"
    }
   },
   "outputs": [
    {
     "data": {
      "text/plain": [
       "True"
      ]
     },
     "execution_count": 98,
     "metadata": {},
     "output_type": "execute_result"
    }
   ],
   "source": [
    "a = 'whaat'\n",
    "b = 'whaat'\n",
    "\n",
    "id(a) == id(b)"
   ]
  },
  {
   "cell_type": "code",
   "execution_count": 99,
   "metadata": {
    "ExecuteTime": {
     "end_time": "2022-09-08T11:20:13.001814Z",
     "start_time": "2022-09-08T11:20:12.996647Z"
    }
   },
   "outputs": [
    {
     "data": {
      "text/plain": [
       "False"
      ]
     },
     "execution_count": 99,
     "metadata": {},
     "output_type": "execute_result"
    }
   ],
   "source": [
    "a = 'whaaat?!'\n",
    "b = 'whaaat?!'\n",
    "\n",
    "id(a) == id(b)"
   ]
  },
  {
   "cell_type": "markdown",
   "metadata": {},
   "source": [
    "## Ничего"
   ]
  },
  {
   "cell_type": "markdown",
   "metadata": {},
   "source": [
    "В Python есть ключевое слово None.\n",
    "\n",
    "Оно используется для опрередеоения `null value` or `Null object`. Это не то же самое что, например, пустая строка или 0. Это тип пустого объекта"
   ]
  },
  {
   "cell_type": "code",
   "execution_count": 100,
   "metadata": {
    "ExecuteTime": {
     "end_time": "2022-09-08T11:21:48.867683Z",
     "start_time": "2022-09-08T11:21:48.861747Z"
    }
   },
   "outputs": [],
   "source": [
    "empty_var = None"
   ]
  },
  {
   "cell_type": "code",
   "execution_count": 101,
   "metadata": {
    "ExecuteTime": {
     "end_time": "2022-09-08T11:21:52.056550Z",
     "start_time": "2022-09-08T11:21:52.047598Z"
    }
   },
   "outputs": [
    {
     "data": {
      "text/plain": [
       "True"
      ]
     },
     "execution_count": 101,
     "metadata": {},
     "output_type": "execute_result"
    }
   ],
   "source": [
    "empty_var is None"
   ]
  },
  {
   "cell_type": "code",
   "execution_count": 102,
   "metadata": {
    "ExecuteTime": {
     "end_time": "2022-09-08T11:22:21.967305Z",
     "start_time": "2022-09-08T11:22:21.962015Z"
    }
   },
   "outputs": [
    {
     "data": {
      "text/plain": [
       "94534064106624"
      ]
     },
     "execution_count": 102,
     "metadata": {},
     "output_type": "execute_result"
    }
   ],
   "source": [
    "id(None)"
   ]
  },
  {
   "cell_type": "markdown",
   "metadata": {},
   "source": [
    "## Приоритет операций"
   ]
  },
  {
   "cell_type": "markdown",
   "metadata": {},
   "source": [
    "- Операции в скобках\n",
    "- Возведение в степень: `**`\n",
    "- Унарные операции: `+x, -x, ~x`\n",
    "- Умножение, деление, остаток: `a *, /, //, % b`\n",
    "- Сложение, вычитание: `a +,- b`\n",
    "- Сравнения: `is, is not, <, <=, >, >=, !=, ==`\n",
    "- `not x`\n",
    "- `a and b`\n",
    "- `a or b`"
   ]
  },
  {
   "cell_type": "markdown",
   "metadata": {
    "ExecuteTime": {
     "end_time": "2022-09-08T09:38:25.990321Z",
     "start_time": "2022-09-08T09:38:25.985137Z"
    }
   },
   "source": [
    "https://docs.python.org/3/reference/expressions.html#operator-precedence\n",
    "\n",
    "https://www.tutorialspoint.com/python/operators_precedence_example.htm"
   ]
  },
  {
   "cell_type": "markdown",
   "metadata": {
    "id": "SDESIEteUm_0"
   },
   "source": [
    "## Тут всё объекты"
   ]
  },
  {
   "cell_type": "markdown",
   "metadata": {
    "ExecuteTime": {
     "end_time": "2022-09-07T23:36:45.450859Z",
     "start_time": "2022-09-07T23:36:45.441133Z"
    }
   },
   "source": [
    "Переменная в python -- это на самом деле объект и у него есть разные \"скрытые\" свойства"
   ]
  },
  {
   "cell_type": "code",
   "execution_count": 17,
   "metadata": {
    "ExecuteTime": {
     "end_time": "2022-09-07T23:39:25.754475Z",
     "start_time": "2022-09-07T23:39:25.748012Z"
    }
   },
   "outputs": [],
   "source": [
    "some_number = 100"
   ]
  },
  {
   "cell_type": "code",
   "execution_count": 18,
   "metadata": {
    "ExecuteTime": {
     "end_time": "2022-09-07T23:39:26.426916Z",
     "start_time": "2022-09-07T23:39:26.418004Z"
    }
   },
   "outputs": [
    {
     "data": {
      "text/plain": [
       "int"
      ]
     },
     "execution_count": 18,
     "metadata": {},
     "output_type": "execute_result"
    }
   ],
   "source": [
    "type(some_number)"
   ]
  },
  {
   "cell_type": "code",
   "execution_count": 60,
   "metadata": {},
   "outputs": [
    {
     "name": "stdout",
     "output_type": "stream",
     "text": [
      "<class 'int'>\n"
     ]
    }
   ],
   "source": [
    "print(type(some_number))"
   ]
  },
  {
   "cell_type": "code",
   "execution_count": 61,
   "metadata": {},
   "outputs": [
    {
     "data": {
      "text/plain": [
       "True"
      ]
     },
     "execution_count": 61,
     "metadata": {},
     "output_type": "execute_result"
    }
   ],
   "source": [
    "isinstance(some_number, int)"
   ]
  },
  {
   "cell_type": "code",
   "execution_count": 62,
   "metadata": {},
   "outputs": [
    {
     "data": {
      "text/plain": [
       "300"
      ]
     },
     "execution_count": 62,
     "metadata": {},
     "output_type": "execute_result"
    }
   ],
   "source": [
    "some_number + 200"
   ]
  },
  {
   "cell_type": "code",
   "execution_count": 63,
   "metadata": {},
   "outputs": [
    {
     "data": {
      "text/plain": [
       "300"
      ]
     },
     "execution_count": 63,
     "metadata": {},
     "output_type": "execute_result"
    }
   ],
   "source": [
    "some_number.__add__(200)"
   ]
  },
  {
   "cell_type": "code",
   "execution_count": 64,
   "metadata": {},
   "outputs": [
    {
     "data": {
      "text/plain": [
       "'100'"
      ]
     },
     "execution_count": 64,
     "metadata": {},
     "output_type": "execute_result"
    }
   ],
   "source": [
    "some_number.__str__()"
   ]
  },
  {
   "cell_type": "markdown",
   "metadata": {
    "id": "RJsRDynScrdM"
   },
   "source": [
    "## The Zen of Python\n",
    "\n",
    "Python -- это не просто язык, но и некоторый свод практик программирования. И если в какой-то момент кто-то что-то ~~попутал~~ забыл, всегда можно освежить в памяти данные принципы по следующей команде:\n"
   ]
  },
  {
   "cell_type": "code",
   "execution_count": 103,
   "metadata": {
    "ExecuteTime": {
     "end_time": "2022-09-08T11:23:08.470532Z",
     "start_time": "2022-09-08T11:23:08.463196Z"
    },
    "id": "c4V5d-DZcrdN",
    "outputId": "87c13f3c-9b66-4ab6-87c1-3e73cc9746fe"
   },
   "outputs": [
    {
     "name": "stdout",
     "output_type": "stream",
     "text": [
      "The Zen of Python, by Tim Peters\n",
      "\n",
      "Beautiful is better than ugly.\n",
      "Explicit is better than implicit.\n",
      "Simple is better than complex.\n",
      "Complex is better than complicated.\n",
      "Flat is better than nested.\n",
      "Sparse is better than dense.\n",
      "Readability counts.\n",
      "Special cases aren't special enough to break the rules.\n",
      "Although practicality beats purity.\n",
      "Errors should never pass silently.\n",
      "Unless explicitly silenced.\n",
      "In the face of ambiguity, refuse the temptation to guess.\n",
      "There should be one-- and preferably only one --obvious way to do it.\n",
      "Although that way may not be obvious at first unless you're Dutch.\n",
      "Now is better than never.\n",
      "Although never is often better than *right* now.\n",
      "If the implementation is hard to explain, it's a bad idea.\n",
      "If the implementation is easy to explain, it may be a good idea.\n",
      "Namespaces are one honking great idea -- let's do more of those!\n"
     ]
    }
   ],
   "source": [
    "import this"
   ]
  },
  {
   "cell_type": "markdown",
   "metadata": {},
   "source": [
    "Хотя в целом `explicit better than implicit!!!`, часто принято использовать **implicit True/False**"
   ]
  },
  {
   "cell_type": "markdown",
   "metadata": {},
   "source": [
    "Выдержка из Google Style Guide для Python:\n",
    "\n",
    "    Python evaluates certain values as False when in a boolean context. A quick “rule of thumb” is that all “empty” values are considered false, so 0, None, [], {}, '' all evaluate as false in a boolean context.\n",
    "    \n",
    "Подробнее можно прочитать [здесь](https://google.github.io/styleguide/pyguide.html#2144-decision)\n",
    "    \n",
    "Часто такие сокращения даже немного быстрее и более читаемы"
   ]
  },
  {
   "cell_type": "markdown",
   "metadata": {},
   "source": [
    "## Немного о динамической типизации"
   ]
  },
  {
   "cell_type": "markdown",
   "metadata": {},
   "source": [
    "Переменная в Python не имеет фиксированного типа"
   ]
  },
  {
   "cell_type": "code",
   "execution_count": 101,
   "metadata": {
    "ExecuteTime": {
     "end_time": "2022-09-08T00:33:43.921805Z",
     "start_time": "2022-09-08T00:33:43.917330Z"
    }
   },
   "outputs": [
    {
     "name": "stdout",
     "output_type": "stream",
     "text": [
      "<class 'int'>\n",
      "<class 'str'>\n"
     ]
    }
   ],
   "source": [
    "a = 5\n",
    "print(type(a))\n",
    "\n",
    "a = '5'\n",
    "print(type(a))"
   ]
  },
  {
   "cell_type": "markdown",
   "metadata": {},
   "source": [
    "Как думаете, в чем может быть потенциальная проблема в такой функции?"
   ]
  },
  {
   "cell_type": "code",
   "execution_count": 90,
   "metadata": {},
   "outputs": [],
   "source": [
    "def add_objects(obj_one, obj_two):\n",
    "    return obj_one + 2 * obj_two"
   ]
  },
  {
   "cell_type": "code",
   "execution_count": 91,
   "metadata": {},
   "outputs": [
    {
     "data": {
      "text/plain": [
       "11"
      ]
     },
     "execution_count": 91,
     "metadata": {},
     "output_type": "execute_result"
    }
   ],
   "source": [
    "add_objects(1, 5)"
   ]
  },
  {
   "cell_type": "markdown",
   "metadata": {},
   "source": [
    "Есть некоторая вероятность, что мы хотим, чтобы наш код работал только ожидаемым для нас образом. Для этого можно явно подсветить входные и выходные типы данных. Эту информацию может использовать ваша IDE для подсказок об ошибках в типизации"
   ]
  },
  {
   "cell_type": "code",
   "execution_count": 92,
   "metadata": {},
   "outputs": [
    {
     "data": {
      "text/plain": [
       "25"
      ]
     },
     "execution_count": 92,
     "metadata": {},
     "output_type": "execute_result"
    }
   ],
   "source": [
    "def refined_add_objects(obj_one: int, obj_two: int) -> int:\n",
    "    return obj_one + 2 * obj_two\n",
    "\n",
    "refined_add_objects(5, 10)"
   ]
  },
  {
   "cell_type": "code",
   "execution_count": 36,
   "metadata": {},
   "outputs": [
    {
     "data": {
      "text/plain": [
       "25"
      ]
     },
     "execution_count": 36,
     "metadata": {},
     "output_type": "execute_result"
    }
   ],
   "source": [
    "refined_add_objects(5, 10)"
   ]
  },
  {
   "cell_type": "markdown",
   "metadata": {},
   "source": [
    "Для более строгой типизации можно обратиться к модулю typing "
   ]
  },
  {
   "cell_type": "code",
   "execution_count": 96,
   "metadata": {},
   "outputs": [],
   "source": [
    "from typing import List\n",
    "\n",
    "def refined_add_objects(obj_one: List, obj_two: List):\n",
    "    return obj_one + 2 * obj_two"
   ]
  },
  {
   "cell_type": "markdown",
   "metadata": {
    "id": "t6b4Ip_oabmH"
   },
   "source": [
    "# Для тех, кто уже знает _чуть_ больше :)"
   ]
  },
  {
   "cell_type": "markdown",
   "metadata": {
    "id": "NkQBlvTzknlZ"
   },
   "source": [
    "## WSL (optional)\n",
    "\n",
    "Скорее всего в вашей дальнейшей учебе или работе вам придется либо собирать большие библиотеки, у которых могут быть сложности при сборке под Windows, либо работать с удаленными серверами, т.к. ресурсов ноутбука может не хватать при взаимодействии с большими данными. В таких случаях вы неизбежно столкнетесь с Linux.\n",
    "\n",
    "Я бы очень советовал вам постепенно начать знакомиться в этой ОС. Можно (но, разумеется, не обязательно) это сделать даже на нашем курсе :)\n",
    "\n",
    "Некоторое время назад внутри Windows можно нативно поднять виртуалку с дистрибутивом Линукса и работать под виндой почти так же, как если бы вы полноценно использовали другую ОС. Вы можете попробовать создать себе там среду разработки для питона и попрактиковаться.\n",
    "\n",
    "Шаги для этого:\n",
    "1. Установите дистрибутив Ubuntu с помощью официального [гайда](https://docs.microsoft.com/ru-ru/windows/wsl/install-win10#manual-installation-steps) от Майкрософт\n",
    "2. [Почитайте](https://ubuntu.com/tutorials/command-line-for-beginners#1-overview) про базовые команды для работы с терминалом\n",
    "3.. (optional) Установите Windows Terminal из Microsoft Store \n",
    "4. Создайте рабочую папку командой `mkdir my_work`\n",
    "5. Выполните команду `sudo apt-get install python3-venv` \n",
    "6. Зайдите в созданную папку `cd my_work` и создайте окружение питона командой `python3 -m venv myenv`\n",
    "7. Активируйте окружение командой `source myenv/bin/activate`. Выйти из окружения можно с помощью команды `deactivate`\n",
    "\n",
    "Виртуальное окружение -- это интрумент в Python для работы с зависимостями и библиотеками в рамках отельных проектов. Окружение позволяет устанавливать локально для каждого проекта все необходимые пакеты конкретных версий, которые нужны для его работы.\n",
    "\n",
    "Также можно установить anaconda под линукс и пользоваться командой conda для создания виртуальных окружений. Это может быть полезно для того, чтобы иметь под рукой несколько разных версий питона и переключаться между ними от проекта к проекту.\n",
    "\n",
    "8. Установите редактор Visual Studio Code. В нем в пункте Remote Explorer нужно выбрать опцию WSL Targets. В окошке должен появиться ваш установленный дистрибутив линукса.\n",
    "9. Редактор позволяет вам создать файл под линуксом через меню File, будто вы работаете как обычно внутри Windows. Создайте файл test.py\n",
    "с содержимым, например, `print(\"Hello, world in Linux!\")`\n",
    "10. Нажмите сочетание **Ctrl+\\`** или потяните мышкой с нижней части окна программы. У вас вытянется терминал. В нем запустите ваш созданный файл командой `python test.py`\n",
    "\n",
    "\n",
    "Если будут возникать вопросы, смело пишите в телеграме."
   ]
  },
  {
   "cell_type": "markdown",
   "metadata": {
    "id": "t6b4Ip_oabmH"
   },
   "source": [
    "## Однострочники"
   ]
  },
  {
   "cell_type": "markdown",
   "metadata": {
    "id": "t6b4Ip_oabmH"
   },
   "source": [
    "Здесь мы очень сильно забегаем вперед. Но если кто-то уже хорошо знает Python и ему скучно...\n",
    "\n",
    "То давайте на минутку забудем про принципы читаемости кода и немного попишем однострочников! Мы ведь все это любим в глубине души..."
   ]
  },
  {
   "cell_type": "markdown",
   "metadata": {
    "id": "zV2id7uTaqi6"
   },
   "source": [
    "**1.** На вход подается строка из слов, разделенных пробелами. Прочитайте через input и выведете в нижнем регистре с сортировкой в алфавитном порядке, разделяя слова символом \"!\"\n",
    "\n",
    "В одну строчку :)"
   ]
  },
  {
   "cell_type": "code",
   "execution_count": null,
   "metadata": {},
   "outputs": [],
   "source": [
    "Alice and Bob love playtinf Aad"
   ]
  },
  {
   "cell_type": "code",
   "execution_count": 100,
   "metadata": {
    "colab": {
     "base_uri": "https://localhost:8080/",
     "height": 52
    },
    "id": "Dxsgj1uubsep",
    "outputId": "c4df16c1-10b3-4241-d80d-924724c17e52"
   },
   "outputs": [
    {
     "name": "stdout",
     "output_type": "stream",
     "text": [
      "Alice and Bob love playtinf Aad\n"
     ]
    },
    {
     "data": {
      "text/plain": [
       "'aad ! alice ! and ! bob ! love ! playtinf'"
      ]
     },
     "execution_count": 100,
     "metadata": {},
     "output_type": "execute_result"
    }
   ],
   "source": [
    "# your solution"
   ]
  },
  {
   "cell_type": "markdown",
   "metadata": {
    "id": "a0HZ7ygQbPKp"
   },
   "source": [
    "**2.** На вход подается N пар чисел (читаем количество чисел через input). Вывести пары, отсорированные по квадратам разностей между числами.\n",
    "\n",
    "В одну строчку:)"
   ]
  },
  {
   "cell_type": "code",
   "execution_count": 135,
   "metadata": {},
   "outputs": [
    {
     "name": "stdout",
     "output_type": "stream",
     "text": [
      "3\n",
      "10 10\n",
      "7 8\n",
      "3 15\n"
     ]
    },
    {
     "data": {
      "text/plain": [
       "[['10', '10'], ['7', '8'], ['3', '15']]"
      ]
     },
     "execution_count": 135,
     "metadata": {},
     "output_type": "execute_result"
    }
   ],
   "source": [
    "# your solution"
   ]
  }
 ],
 "metadata": {
  "colab": {
   "collapsed_sections": [],
   "name": "Copy of Hello world_08.09.2021.ipynb",
   "provenance": [],
   "toc_visible": true
  },
  "kernelspec": {
   "display_name": "Python 3 (ipykernel)",
   "language": "python",
   "name": "python3"
  },
  "language_info": {
   "codemirror_mode": {
    "name": "ipython",
    "version": 3
   },
   "file_extension": ".py",
   "mimetype": "text/x-python",
   "name": "python",
   "nbconvert_exporter": "python",
   "pygments_lexer": "ipython3",
   "version": "3.9.12"
  },
  "latex_envs": {
   "LaTeX_envs_menu_present": true,
   "autoclose": false,
   "autocomplete": true,
   "bibliofile": "biblio.bib",
   "cite_by": "apalike",
   "current_citInitial": 1,
   "eqLabelWithNumbers": true,
   "eqNumInitial": 1,
   "hotkeys": {
    "equation": "Ctrl-E",
    "itemize": "Ctrl-I"
   },
   "labels_anchors": false,
   "latex_user_defs": false,
   "report_style_numbering": false,
   "user_envs_cfg": false
  },
  "toc": {
   "base_numbering": 1,
   "nav_menu": {},
   "number_sections": true,
   "sideBar": true,
   "skip_h1_title": false,
   "title_cell": "Table of Contents",
   "title_sidebar": "Contents",
   "toc_cell": false,
   "toc_position": {
    "height": "calc(100% - 180px)",
    "left": "10px",
    "top": "150px",
    "width": "261.578px"
   },
   "toc_section_display": true,
   "toc_window_display": true
  },
  "varInspector": {
   "cols": {
    "lenName": 16,
    "lenType": 16,
    "lenVar": 40
   },
   "kernels_config": {
    "python": {
     "delete_cmd_postfix": "",
     "delete_cmd_prefix": "del ",
     "library": "var_list.py",
     "varRefreshCmd": "print(var_dic_list())"
    },
    "r": {
     "delete_cmd_postfix": ") ",
     "delete_cmd_prefix": "rm(",
     "library": "var_list.r",
     "varRefreshCmd": "cat(var_dic_list()) "
    }
   },
   "types_to_exclude": [
    "module",
    "function",
    "builtin_function_or_method",
    "instance",
    "_Feature"
   ],
   "window_display": false
  }
 },
 "nbformat": 4,
 "nbformat_minor": 4
}
