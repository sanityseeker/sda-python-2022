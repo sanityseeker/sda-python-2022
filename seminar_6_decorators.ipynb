{
 "cells": [
  {
   "cell_type": "markdown",
   "id": "d079e0d8-695d-4551-827e-d1e355097aa7",
   "metadata": {},
   "source": [
    "## Elements of functional programming"
   ]
  },
  {
   "cell_type": "markdown",
   "id": "099bf08b-59a4-41f4-b2b9-aa36b4378363",
   "metadata": {},
   "source": [
    "Немного об этом от самого [Гвидо](http://python-history.blogspot.com/2009/04/origins-of-pythons-functional-features.html)"
   ]
  },
  {
   "cell_type": "code",
   "execution_count": 116,
   "id": "2784f144",
   "metadata": {},
   "outputs": [],
   "source": [
    "from operator import itemgetter, attrgetter, methodcaller"
   ]
  },
  {
   "cell_type": "markdown",
   "id": "5e49acfb-fd52-4c7b-8760-a71ba20bf46f",
   "metadata": {},
   "source": [
    "**itemgetter**"
   ]
  },
  {
   "cell_type": "code",
   "execution_count": 103,
   "id": "e756024c",
   "metadata": {},
   "outputs": [],
   "source": [
    "some_data = [\n",
    "    ('A', 'JP', 36.933, (1, 139.691667)),\n",
    "    ('B', 'IN', 21.935, (28.613889, 77.208889)),\n",
    "    ('C', 'MX', 20.142, (19.433333, -99.133333)),\n",
    "    ('A', 'US', 20.104, (-1, -74.020386)),\n",
    "    ('B', 'BR', 19.649, (-23.547778, -46.635833)),\n",
    "]"
   ]
  },
  {
   "cell_type": "code",
   "execution_count": 104,
   "id": "3f96973f",
   "metadata": {},
   "outputs": [
    {
     "name": "stdout",
     "output_type": "stream",
     "text": [
      "('A', 'JP', 36.933, (1, 139.691667))\n",
      "('A', 'US', 20.104, (-1, -74.020386))\n",
      "('B', 'IN', 21.935, (28.613889, 77.208889))\n",
      "('B', 'BR', 19.649, (-23.547778, -46.635833))\n",
      "('C', 'MX', 20.142, (19.433333, -99.133333))\n"
     ]
    }
   ],
   "source": [
    "for city in sorted(some_data, key=itemgetter(0)):\n",
    "    print(city)"
   ]
  },
  {
   "cell_type": "code",
   "execution_count": 105,
   "id": "67252adb",
   "metadata": {},
   "outputs": [
    {
     "name": "stdout",
     "output_type": "stream",
     "text": [
      "('A', 'US', 20.104, (-1, -74.020386))\n",
      "('A', 'JP', 36.933, (1, 139.691667))\n",
      "('B', 'BR', 19.649, (-23.547778, -46.635833))\n",
      "('B', 'IN', 21.935, (28.613889, 77.208889))\n",
      "('C', 'MX', 20.142, (19.433333, -99.133333))\n"
     ]
    }
   ],
   "source": [
    "for city in sorted(some_data, key=itemgetter(0, 3)):\n",
    "    print(city)"
   ]
  },
  {
   "cell_type": "markdown",
   "id": "4c5f6ed7-95a1-4757-8be9-c62504dc65b2",
   "metadata": {},
   "source": [
    "Получили сортировку по нескольким параметрам. Также можно написать и с помощью лямбды"
   ]
  },
  {
   "cell_type": "code",
   "execution_count": 107,
   "id": "87cc9047",
   "metadata": {},
   "outputs": [
    {
     "name": "stdout",
     "output_type": "stream",
     "text": [
      "('A', 'JP')\n",
      "('B', 'IN')\n",
      "('C', 'MX')\n",
      "('A', 'US')\n",
      "('B', 'BR')\n"
     ]
    }
   ],
   "source": [
    "name = itemgetter(0, 1)  # uses __getitem__\n",
    "\n",
    "for city in some_data:\n",
    "    print(name(city))"
   ]
  },
  {
   "cell_type": "markdown",
   "id": "c6a6e7a8-d8f8-4bcd-a315-be36b17e0047",
   "metadata": {},
   "source": [
    "**attrgetter**"
   ]
  },
  {
   "cell_type": "code",
   "execution_count": 109,
   "id": "8e199d2a",
   "metadata": {},
   "outputs": [],
   "source": [
    "from collections import namedtuple"
   ]
  },
  {
   "cell_type": "code",
   "execution_count": 111,
   "id": "c95a56a6",
   "metadata": {},
   "outputs": [],
   "source": [
    "Subject = namedtuple('Subject', 'name difficulty')"
   ]
  },
  {
   "cell_type": "code",
   "execution_count": 112,
   "id": "220494df",
   "metadata": {},
   "outputs": [
    {
     "data": {
      "text/plain": [
       "Subject(name='Python', difficulty=1)"
      ]
     },
     "execution_count": 112,
     "metadata": {},
     "output_type": "execute_result"
    }
   ],
   "source": [
    "python_course = Subject('Python', 1)\n",
    "python_course"
   ]
  },
  {
   "cell_type": "code",
   "execution_count": 114,
   "id": "6488845c",
   "metadata": {},
   "outputs": [],
   "source": [
    "sub_name = attrgetter('name')"
   ]
  },
  {
   "cell_type": "code",
   "execution_count": 115,
   "id": "bb47299d",
   "metadata": {},
   "outputs": [
    {
     "data": {
      "text/plain": [
       "'Python'"
      ]
     },
     "execution_count": 115,
     "metadata": {},
     "output_type": "execute_result"
    }
   ],
   "source": [
    "sub_name(python_course)"
   ]
  },
  {
   "cell_type": "markdown",
   "id": "875e8e3b-2579-43f9-b2c3-87cf32df6852",
   "metadata": {},
   "source": [
    "**methodcaller**"
   ]
  },
  {
   "cell_type": "code",
   "execution_count": 117,
   "id": "e09f9f1d",
   "metadata": {},
   "outputs": [],
   "source": [
    "sample_str = 'This is really functional'"
   ]
  },
  {
   "cell_type": "code",
   "execution_count": 118,
   "id": "d02310aa",
   "metadata": {},
   "outputs": [
    {
     "data": {
      "text/plain": [
       "'THIS IS REALLY FUNCTIONAL'"
      ]
     },
     "execution_count": 118,
     "metadata": {},
     "output_type": "execute_result"
    }
   ],
   "source": [
    "upcase = methodcaller('upper')\n",
    "upcase(sample_str)"
   ]
  },
  {
   "cell_type": "code",
   "execution_count": 120,
   "id": "a24b6eec",
   "metadata": {},
   "outputs": [
    {
     "data": {
      "text/plain": [
       "'This!is!really!functional'"
      ]
     },
     "execution_count": 120,
     "metadata": {},
     "output_type": "execute_result"
    }
   ],
   "source": [
    "repl = methodcaller('replace', ' ', '!')\n",
    "repl(sample_str)"
   ]
  },
  {
   "cell_type": "markdown",
   "id": "66dfabc7-d1b2-452d-8eac-cdd5af7fe98b",
   "metadata": {},
   "source": [
    "И еще много подобных методов"
   ]
  },
  {
   "cell_type": "markdown",
   "id": "c52d53e7-641a-461b-836d-63b4b93ab298",
   "metadata": {},
   "source": [
    "**Functools.partial**"
   ]
  },
  {
   "cell_type": "markdown",
   "id": "9bd70fab-33fc-4e73-9415-000215678f9b",
   "metadata": {},
   "source": [
    "Иногда бывает, что в конкретной ситуации вы хотите вызывать функцию с фиксированным конкретным параметром, у которого нет дефолтного значения"
   ]
  },
  {
   "cell_type": "code",
   "execution_count": 123,
   "id": "f8f76580",
   "metadata": {},
   "outputs": [],
   "source": [
    "from operator import mul\n",
    "from functools import partial"
   ]
  },
  {
   "cell_type": "code",
   "execution_count": 126,
   "id": "40772884",
   "metadata": {},
   "outputs": [
    {
     "data": {
      "text/plain": [
       "12"
      ]
     },
     "execution_count": 126,
     "metadata": {},
     "output_type": "execute_result"
    }
   ],
   "source": [
    "mul(4, 3)"
   ]
  },
  {
   "cell_type": "code",
   "execution_count": 127,
   "id": "3ad162b9",
   "metadata": {},
   "outputs": [],
   "source": [
    "quadriple = partial(mul, 4)"
   ]
  },
  {
   "cell_type": "code",
   "execution_count": 128,
   "id": "f982d92a",
   "metadata": {},
   "outputs": [
    {
     "data": {
      "text/plain": [
       "12"
      ]
     },
     "execution_count": 128,
     "metadata": {},
     "output_type": "execute_result"
    }
   ],
   "source": [
    "quadriple(3)"
   ]
  },
  {
   "cell_type": "code",
   "execution_count": 130,
   "id": "3e775c9f",
   "metadata": {},
   "outputs": [
    {
     "data": {
      "text/plain": [
       "[0, 4, 8, 12, 16, 20, 24, 28, 32, 36]"
      ]
     },
     "execution_count": 130,
     "metadata": {},
     "output_type": "execute_result"
    }
   ],
   "source": [
    "list(map(quadriple, range(10)))"
   ]
  },
  {
   "cell_type": "markdown",
   "id": "c4aa2518-67a5-4594-a85f-00aef8ddb127",
   "metadata": {},
   "source": [
    "Мы не могли бы использовать `mul` в `map` без такой модификации"
   ]
  },
  {
   "cell_type": "markdown",
   "id": "ada70a83-79f3-4353-9558-39b9f4704286",
   "metadata": {},
   "source": [
    "Callable objects with class example"
   ]
  },
  {
   "cell_type": "markdown",
   "id": "e0fd2fc5-87ef-4885-9b05-ca46973c2b44",
   "metadata": {},
   "source": [
    "## Анонимные функции"
   ]
  },
  {
   "cell_type": "markdown",
   "id": "8af03c2a-577e-4e52-a1d1-7ae204e79369",
   "metadata": {},
   "source": [
    "Ключевое слово **lambda**, краткое объявление функции как выражения.\n",
    "\n",
    "Отлично может использоваться в качестве аргумента для функций высших порядков"
   ]
  },
  {
   "cell_type": "code",
   "execution_count": 230,
   "id": "affd608b-0ccc-4d99-a082-f914d8c445cd",
   "metadata": {},
   "outputs": [
    {
     "data": {
      "text/plain": [
       "[1, '3 ', 8.0, [2.0], (4, 5)]"
      ]
     },
     "execution_count": 230,
     "metadata": {},
     "output_type": "execute_result"
    }
   ],
   "source": [
    "sorted(sample_list, key=lambda element: len(str(element)))"
   ]
  },
  {
   "cell_type": "markdown",
   "id": "3aafdfa7-9208-455d-a830-f0878f609d57",
   "metadata": {},
   "source": [
    "Вспомним пример с listcomp"
   ]
  },
  {
   "cell_type": "code",
   "execution_count": 395,
   "id": "a9cbd814-94bf-4b96-b51d-7b09181b28a3",
   "metadata": {},
   "outputs": [
    {
     "data": {
      "text/plain": [
       "['€']"
      ]
     },
     "execution_count": 395,
     "metadata": {},
     "output_type": "execute_result"
    }
   ],
   "source": [
    "symbols = '$¢£¥€¤'\n",
    "filtered_symbols = [s for s in symbols if ord(s) > 200]\n",
    "filtered_symbols"
   ]
  },
  {
   "cell_type": "markdown",
   "id": "926b540c-1711-4d6d-8606-dda09defdd98",
   "metadata": {},
   "source": [
    "Можно использовать функциональный стиль и написать это же выражение через `filter`"
   ]
  },
  {
   "cell_type": "code",
   "execution_count": 396,
   "id": "c6111540-e6ce-45e0-9419-c690c33707ce",
   "metadata": {},
   "outputs": [
    {
     "data": {
      "text/plain": [
       "['€']"
      ]
     },
     "execution_count": 396,
     "metadata": {},
     "output_type": "execute_result"
    }
   ],
   "source": [
    "list(filter(lambda elem: ord(elem) > 200, symbols))"
   ]
  },
  {
   "cell_type": "markdown",
   "id": "2ff22ffe-6ad4-4d72-923c-fdabf5367954",
   "metadata": {},
   "source": [
    "## Generators"
   ]
  },
  {
   "cell_type": "markdown",
   "id": "933aade3-9770-41bc-861b-45011868cea1",
   "metadata": {},
   "source": [
    "Мы уже упоминали generator expressions, а теперь можем сделать такой и сами"
   ]
  },
  {
   "cell_type": "code",
   "execution_count": 246,
   "id": "ea4057df-b9b0-4218-86ad-3ead6342405d",
   "metadata": {},
   "outputs": [],
   "source": [
    "def my_custom_range(start, end):\n",
    "    while start < end:\n",
    "        yield start\n",
    "        start += 1"
   ]
  },
  {
   "cell_type": "code",
   "execution_count": 397,
   "id": "b88889d0-29ce-4362-aecb-e9b4eaaeff99",
   "metadata": {},
   "outputs": [
    {
     "data": {
      "text/plain": [
       "<generator object my_custom_range at 0x7f48a22f28d0>"
      ]
     },
     "execution_count": 397,
     "metadata": {},
     "output_type": "execute_result"
    }
   ],
   "source": [
    "my_custom_range(0, 10)"
   ]
  },
  {
   "cell_type": "code",
   "execution_count": 398,
   "id": "57459252-8316-4ded-a588-ccbe8059754d",
   "metadata": {},
   "outputs": [
    {
     "name": "stdout",
     "output_type": "stream",
     "text": [
      "0\n",
      "1\n",
      "2\n",
      "3\n",
      "4\n",
      "5\n",
      "6\n",
      "7\n",
      "8\n",
      "9\n"
     ]
    }
   ],
   "source": [
    "for i in my_custom_range(0, 10):\n",
    "    print(i)"
   ]
  },
  {
   "cell_type": "markdown",
   "id": "a3a59703-49be-43f4-a0a4-c5612a08ce10",
   "metadata": {},
   "source": [
    "## Decorators"
   ]
  },
  {
   "cell_type": "markdown",
   "id": "1f4b460f-fa1d-4ab3-8ca5-b8f0c560e9f0",
   "metadata": {},
   "source": [
    "Декоратор -- обертка над функцией. Позволяет сделать что-то до и после вызова передаваемой функции.\n",
    "\n",
    "Для этого функции декоратора передается декорируемая функция, а внутри создается новая, которая будет выполняться вместе с декорируемой. Ей передаются такие же аргументы, и в ней же пишется код того, что будет совершаться до и после запуска переданной функции, а между этими блоками будет запускаться сама декорируемая функция. Внешняя функция возвращает ссылку на получившуюся функцию"
   ]
  },
  {
   "cell_type": "markdown",
   "id": "bbb39851-fd7e-46a7-baf7-a8d89d4738cf",
   "metadata": {},
   "source": [
    "### Простой пример"
   ]
  },
  {
   "cell_type": "code",
   "execution_count": 399,
   "id": "982f1a37-54fc-41b0-8455-215296463d63",
   "metadata": {},
   "outputs": [
    {
     "name": "stdout",
     "output_type": "stream",
     "text": [
      "doing smth before\n",
      "5\n",
      "doing smth after\n"
     ]
    }
   ],
   "source": [
    "def my_decorator(func):\n",
    "    def decorated(a, b):  # название можно менять\n",
    "        print(\"doing smth before\")\n",
    "        func(a, b)\n",
    "        print(\"doing smth after\")\n",
    "    return decorated\n",
    "\n",
    "def func(a, b):\n",
    "    print(a + b)\n",
    "\n",
    "func = my_decorator(func)\n",
    "func(2, 3)"
   ]
  },
  {
   "cell_type": "code",
   "execution_count": 400,
   "id": "54858518-51cc-4ddf-bfbd-ebe85de1b8d4",
   "metadata": {},
   "outputs": [],
   "source": [
    "@my_decorator\n",
    "def new_func(a, b):\n",
    "    print(a + b)"
   ]
  },
  {
   "cell_type": "code",
   "execution_count": 401,
   "id": "bcd1080f-0495-4940-816f-29e70a833c3c",
   "metadata": {},
   "outputs": [
    {
     "name": "stdout",
     "output_type": "stream",
     "text": [
      "doing smth before\n",
      "3\n",
      "doing smth after\n"
     ]
    }
   ],
   "source": [
    "new_func(1, 2)"
   ]
  },
  {
   "cell_type": "markdown",
   "id": "ef0e9820-7032-445d-90ba-88b576c2d6ed",
   "metadata": {},
   "source": [
    "**Задачка**\n",
    "\n",
    "Попробуйте реализовать декоратор, который будет приводить выход функции к верхнему регистру"
   ]
  },
  {
   "cell_type": "code",
   "execution_count": 27,
   "id": "bd315eb4-4c5c-4c2d-9389-4aed6aaa7bfd",
   "metadata": {},
   "outputs": [],
   "source": [
    "# your code"
   ]
  },
  {
   "cell_type": "markdown",
   "id": "312d94b2-09f6-4ba0-acef-a5c1405998f8",
   "metadata": {},
   "source": [
    "### О сохранении поведения help и докстроки"
   ]
  },
  {
   "cell_type": "code",
   "execution_count": 13,
   "id": "e0b5bee0-e374-4c79-acdf-593c19d8bbc8",
   "metadata": {},
   "outputs": [
    {
     "name": "stdout",
     "output_type": "stream",
     "text": [
      "wrapper\n",
      "Some wrapper function\n",
      "wrapper\n",
      "Some wrapper function\n"
     ]
    }
   ],
   "source": [
    "def decorator(func):\n",
    "    def wrapper(*args, **kwargs):\n",
    "        \"\"\"Some wrapper function\"\"\"\n",
    "        func()\n",
    "    return wrapper\n",
    "\n",
    "@decorator\n",
    "def do_first_function():\n",
    "    \"\"\"Docstring for the first function\"\"\"\n",
    "    print(\"I am always first!\")\n",
    "\n",
    "@decorator\n",
    "def do_second_function():\n",
    "    \"\"\"Docstring for the second function\"\"\"\n",
    "    print(\"I am always second!\")\n",
    "\n",
    "print(do_first_function.__name__)\n",
    "print(do_first_function.__doc__)\n",
    "print(do_second_function.__name__)\n",
    "print(do_second_function.__doc__)"
   ]
  },
  {
   "cell_type": "code",
   "execution_count": 14,
   "id": "87f101a9-8757-4880-a207-81766109e247",
   "metadata": {},
   "outputs": [
    {
     "name": "stdout",
     "output_type": "stream",
     "text": [
      "Help on function first_function in module __main__:\n",
      "\n",
      "first_function(*args, **kwargs)\n",
      "    Docstring for the first function\n",
      "\n"
     ]
    }
   ],
   "source": [
    "help(first_function)"
   ]
  },
  {
   "cell_type": "code",
   "execution_count": 15,
   "id": "4d24aaa2-12ba-47dc-8cad-89230f3151fe",
   "metadata": {},
   "outputs": [
    {
     "name": "stdout",
     "output_type": "stream",
     "text": [
      "Help on function second_function in module __main__:\n",
      "\n",
      "second_function(*args, **kwargs)\n",
      "    Docstring for the second function\n",
      "\n"
     ]
    }
   ],
   "source": [
    "help(second_function)"
   ]
  },
  {
   "cell_type": "markdown",
   "id": "dd25aa15-3e20-4d03-a79e-6595c85e6932",
   "metadata": {},
   "source": [
    "Кажется, мы потеряли \"документацию\". Можно попробовать поправить вручную!"
   ]
  },
  {
   "cell_type": "code",
   "execution_count": 16,
   "id": "13085824-0006-4bc3-ae47-dfa61ea7e0a9",
   "metadata": {},
   "outputs": [
    {
     "name": "stdout",
     "output_type": "stream",
     "text": [
      "do_first_function\n",
      "Docstring for the first function\n",
      "do_second_function\n",
      "Docstring for the second function\n"
     ]
    }
   ],
   "source": [
    "def decorator(func):\n",
    "    def wrapper(*args, **kwargs):\n",
    "        \"\"\"Some wrapper function\"\"\"\n",
    "        func()\n",
    "        \n",
    "    wrapper.__name__ = func.__name__\n",
    "    wrapper.__doc__ = func.__doc__\n",
    "    return wrapper\n",
    "\n",
    "@decorator\n",
    "def do_first_function():\n",
    "    \"\"\"Docstring for the first function\"\"\"\n",
    "    print(\"I am always first!\")\n",
    "\n",
    "@decorator\n",
    "def do_second_function():\n",
    "    \"\"\"Docstring for the second function\"\"\"\n",
    "    print(\"I am always second!\")\n",
    "\n",
    "print(do_first_function.__name__)\n",
    "print(do_first_function.__doc__)\n",
    "print(do_second_function.__name__)\n",
    "print(do_second_function.__doc__)"
   ]
  },
  {
   "cell_type": "code",
   "execution_count": 17,
   "id": "dfa79b71-4b0e-4ae5-ac2a-5d91c135e65d",
   "metadata": {},
   "outputs": [
    {
     "name": "stdout",
     "output_type": "stream",
     "text": [
      "Help on function do_first_function in module __main__:\n",
      "\n",
      "do_first_function(*args, **kwargs)\n",
      "    Docstring for the first function\n",
      "\n"
     ]
    }
   ],
   "source": [
    "help(do_first_function)"
   ]
  },
  {
   "cell_type": "code",
   "execution_count": 12,
   "id": "854d4beb-d4c5-47ec-9e01-da494a56b737",
   "metadata": {},
   "outputs": [
    {
     "name": "stdout",
     "output_type": "stream",
     "text": [
      "Help on function do_second_function in module __main__:\n",
      "\n",
      "do_second_function(*args, **kwargs)\n",
      "    Docstring for the second function\n",
      "\n"
     ]
    }
   ],
   "source": [
    "help(do_second_function)"
   ]
  },
  {
   "cell_type": "markdown",
   "id": "6ffce7c1-f588-45d5-a2f6-087279266332",
   "metadata": {},
   "source": [
    "**все ли в порядке?**"
   ]
  },
  {
   "cell_type": "code",
   "execution_count": 18,
   "id": "a4cf5cd1-333e-493c-aed9-792415f401e0",
   "metadata": {},
   "outputs": [],
   "source": [
    "from functools import wraps\n",
    "\n",
    "def decorator(func):\n",
    "    @wraps(func)\n",
    "    def wrapper(*args, **kwargs):\n",
    "        \"\"\"Some wrapper function\"\"\"\n",
    "        func()\n",
    "    return wrapper\n",
    "\n",
    "@decorator\n",
    "def do_first_function():\n",
    "    \"\"\"Docstring for the first function\"\"\"\n",
    "    print(\"I am always first!\")\n",
    "\n",
    "@decorator\n",
    "def do_second_function():\n",
    "    \"\"\"Docstring for the second function\"\"\"\n",
    "    print(\"I am always second!\")"
   ]
  },
  {
   "cell_type": "code",
   "execution_count": 19,
   "id": "1766c18a-47de-4c8d-a7df-a69a73b95a23",
   "metadata": {},
   "outputs": [
    {
     "name": "stdout",
     "output_type": "stream",
     "text": [
      "do_first_function\n",
      "Docstring for the first function\n",
      "do_second_function\n",
      "Docstring for the second function\n"
     ]
    }
   ],
   "source": [
    "print(do_first_function.__name__)\n",
    "print(do_first_function.__doc__)\n",
    "print(do_second_function.__name__)\n",
    "print(do_second_function.__doc__)"
   ]
  },
  {
   "cell_type": "code",
   "execution_count": 20,
   "id": "4a25f1a5-f04a-47ef-bf51-8687bf0c1bf8",
   "metadata": {},
   "outputs": [
    {
     "name": "stdout",
     "output_type": "stream",
     "text": [
      "Help on function do_first_function in module __main__:\n",
      "\n",
      "do_first_function()\n",
      "    Docstring for the first function\n",
      "\n"
     ]
    }
   ],
   "source": [
    "help(do_first_function)"
   ]
  },
  {
   "cell_type": "code",
   "execution_count": 21,
   "id": "fe39da93-0762-42a0-a984-8fdd08c96fc9",
   "metadata": {},
   "outputs": [
    {
     "name": "stdout",
     "output_type": "stream",
     "text": [
      "Help on function do_second_function in module __main__:\n",
      "\n",
      "do_second_function()\n",
      "    Docstring for the second function\n",
      "\n"
     ]
    }
   ],
   "source": [
    "help(do_second_function)"
   ]
  },
  {
   "cell_type": "markdown",
   "id": "c7c4f2a8-5756-40fb-904f-2969891fc1a2",
   "metadata": {},
   "source": [
    "### Пример. Декоратор-время"
   ]
  },
  {
   "cell_type": "markdown",
   "id": "8eb94347-ed1a-45d8-a757-c4f019b2e08b",
   "metadata": {},
   "source": [
    "Подумайте, как можно реализовать декоратор, который будет выводить время работы функции?\n",
    "\n",
    "Для замера времени вам поможет функция `time` из модуля `time`"
   ]
  },
  {
   "cell_type": "code",
   "execution_count": 23,
   "id": "a32d77e8-0ab7-4c84-a8ca-067e128da0ca",
   "metadata": {},
   "outputs": [],
   "source": [
    "import time"
   ]
  },
  {
   "cell_type": "code",
   "execution_count": 22,
   "id": "e8adb27f-950a-430f-b3ee-a1b43bc01a56",
   "metadata": {},
   "outputs": [],
   "source": [
    "def calc_slow_fact(n):\n",
    "    time.sleep(1)\n",
    "    \n",
    "    # your code\n",
    "    return"
   ]
  },
  {
   "cell_type": "code",
   "execution_count": null,
   "id": "eaca436f-1902-424e-b2ef-697235b9db8f",
   "metadata": {},
   "outputs": [],
   "source": [
    "def clock(func):\n",
    "    def clocked(*args):\n",
    "        # your code\n",
    "    return clocked"
   ]
  },
  {
   "cell_type": "code",
   "execution_count": null,
   "id": "f9c5d31f-7323-40f9-a015-f111d4fd3144",
   "metadata": {},
   "outputs": [],
   "source": [
    "@clock\n",
    "def calc_slow_fact(n):\n",
    "    time.sleep(1)\n",
    "    \n",
    "    # your code\n",
    "    return"
   ]
  },
  {
   "cell_type": "code",
   "execution_count": 26,
   "id": "32400836-da0f-4f5f-a3fb-395f317c2f54",
   "metadata": {},
   "outputs": [
    {
     "name": "stdout",
     "output_type": "stream",
     "text": [
      "slow_fact((0,)) -> 1 executed in 1.00s\n",
      "slow_fact((1,)) -> 1 executed in 2.00s\n",
      "slow_fact((2,)) -> 2 executed in 3.00s\n",
      "slow_fact((3,)) -> 6 executed in 4.00s\n",
      "slow_fact((4,)) -> 24 executed in 5.01s\n",
      "slow_fact((5,)) -> 120 executed in 6.01s\n",
      "slow_fact((6,)) -> 720 executed in 7.01s\n",
      "slow_fact((7,)) -> 5040 executed in 8.01s\n",
      "slow_fact((8,)) -> 40320 executed in 9.01s\n",
      "slow_fact((9,)) -> 362880 executed in 10.01s\n",
      "slow_fact((10,)) -> 3628800 executed in 11.01s\n"
     ]
    },
    {
     "data": {
      "text/plain": [
       "3628800"
      ]
     },
     "execution_count": 26,
     "metadata": {},
     "output_type": "execute_result"
    }
   ],
   "source": [
    "slow_fact(10)"
   ]
  },
  {
   "cell_type": "markdown",
   "id": "cc6d5dec-1618-4d9f-b3e5-98e2c1c681b6",
   "metadata": {},
   "source": [
    "### Параметр для декоратора"
   ]
  },
  {
   "cell_type": "markdown",
   "id": "976324e6-398f-40be-a990-af1c996684ca",
   "metadata": {},
   "source": [
    "Модифицируем декоратор из примера выше, чтобы сделать его отключаемым"
   ]
  },
  {
   "cell_type": "code",
   "execution_count": 252,
   "id": "2699fa9b",
   "metadata": {},
   "outputs": [],
   "source": [
    "def clock(active=False):\n",
    "    def decorate(func):\n",
    "        def clocked(*args):\n",
    "            if not active:\n",
    "                return func(*args)\n",
    "            # your code\n",
    "            return res\n",
    "        return clocked\n",
    "    return decorate"
   ]
  },
  {
   "cell_type": "markdown",
   "id": "a25769a8-6a6a-40a8-bf3c-6d8c27abb232",
   "metadata": {},
   "source": [
    "### LRU Cache"
   ]
  },
  {
   "cell_type": "code",
   "execution_count": 28,
   "id": "2a805ba9",
   "metadata": {},
   "outputs": [],
   "source": [
    "from functools import lru_cache"
   ]
  },
  {
   "cell_type": "code",
   "execution_count": 242,
   "id": "07830437",
   "metadata": {},
   "outputs": [],
   "source": [
    "@clock\n",
    "def calc_fib(n):\n",
    "    time.sleep(1)\n",
    "    \n",
    "    # your code"
   ]
  },
  {
   "cell_type": "code",
   "execution_count": 246,
   "id": "b1ecc2de",
   "metadata": {},
   "outputs": [],
   "source": [
    "@lru_cache(None)\n",
    "def calc_fib(n):\n",
    "    time.sleep(1)\n",
    "    \n",
    "    # your_code"
   ]
  }
 ],
 "metadata": {
  "kernelspec": {
   "display_name": "base-env",
   "language": "python",
   "name": "base-env"
  },
  "language_info": {
   "codemirror_mode": {
    "name": "ipython",
    "version": 3
   },
   "file_extension": ".py",
   "mimetype": "text/x-python",
   "name": "python",
   "nbconvert_exporter": "python",
   "pygments_lexer": "ipython3",
   "version": "3.9.12"
  }
 },
 "nbformat": 4,
 "nbformat_minor": 5
}
