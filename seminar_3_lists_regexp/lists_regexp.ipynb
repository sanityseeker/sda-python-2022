{
 "cells": [
  {
   "cell_type": "markdown",
   "id": "538e4374-585d-4827-9d4c-fad192e057fc",
   "metadata": {},
   "source": [
    "Предлагаю ввести ~не~постоянную рубрику в начало наших семинаров\n",
    "\n",
    "`Чё вообще происходит` (можете предложить более удачное название)"
   ]
  },
  {
   "cell_type": "markdown",
   "id": "b3bb1629-0ad4-4404-9adb-ddceffdd66e8",
   "metadata": {},
   "source": [
    "# Чё вообще происходит #1"
   ]
  },
  {
   "cell_type": "markdown",
   "id": "c9ed1139-d9c5-4a9f-9539-8c0a90ec2fb7",
   "metadata": {},
   "source": [
    "**Вопросы в зал**"
   ]
  },
  {
   "cell_type": "markdown",
   "id": "a7e001d6-0629-49f0-a336-3769a27189a3",
   "metadata": {},
   "source": [
    "- Что такое float? Почему нужно быть внимательным в использовании данного типа данных?\n",
    "- Что вы можете рассказать о строках? Можно ли в Python изменять уже созданные строки?\n",
    "- Что делает оператор is? В чем разница между is и \"==\"?"
   ]
  },
  {
   "cell_type": "markdown",
   "id": "0d3399ba-8494-42ae-af56-c6dbd14b7c2d",
   "metadata": {},
   "source": [
    "**Задачка**"
   ]
  },
  {
   "cell_type": "markdown",
   "id": "fb916fb3-d61a-412e-b94e-b2584ec1aab3",
   "metadata": {},
   "source": [
    "3. Напишите функцию, которая:\n",
    "    - получает на вход строку (возможно, небольшой текст) и стоп-слово\n",
    "    - находит все индексы стоп-слова в строке\n",
    "    - (*) в результате своей работы собирает новую строку, в которой нет стоп-слов \n"
   ]
  },
  {
   "cell_type": "code",
   "execution_count": 286,
   "id": "5b10245c-9b2e-4aa7-a7ec-945f16d0e2c9",
   "metadata": {
    "tags": []
   },
   "outputs": [],
   "source": [
    "stop = 'stop'\n",
    "s = 'herE iS My stopword stop it please'"
   ]
  },
  {
   "cell_type": "code",
   "execution_count": 287,
   "id": "51a30402-41c1-41af-be84-712d8a89f35c",
   "metadata": {
    "tags": []
   },
   "outputs": [
    {
     "name": "stdout",
     "output_type": "stream",
     "text": [
      "11\n",
      "20\n"
     ]
    },
    {
     "data": {
      "text/plain": [
       "'here is my word  it please'"
      ]
     },
     "execution_count": 287,
     "metadata": {},
     "output_type": "execute_result"
    }
   ],
   "source": [
    "prev = 0\n",
    "s = s.lower()\n",
    "new_s = ''\n",
    "\n",
    "while True:\n",
    "    index = s[prev:].find(stop.lower())\n",
    "    if index >= 0:\n",
    "        print(index + prev)\n",
    "        new_s += s[prev: index + prev]\n",
    "        prev += index + len(stop)\n",
    "    else:\n",
    "        new_s += s[prev:]\n",
    "        break\n",
    "\n",
    "new_s"
   ]
  },
  {
   "cell_type": "markdown",
   "id": "b2498864-71ca-4163-ae03-8b9b556c606d",
   "metadata": {},
   "source": [
    "# Sequences"
   ]
  },
  {
   "cell_type": "markdown",
   "id": "c4eda83e-1a17-40d7-a8aa-a96fda5ddd19",
   "metadata": {},
   "source": [
    "    \"As you may have noticed, several of the operations mentioned work equally for texts, lists and tables. Texts, lists and tables together are called trains. \n",
    "    […] The FOR command also works generically on trains\""
   ]
  },
  {
   "cell_type": "markdown",
   "id": "25614693-d7f1-4aec-9803-5dcf415d17f6",
   "metadata": {},
   "source": [
    "Мощь Python в том, что для многих схожих классов у нас есть общее множество поддерживаемых операций. Например, strings, lists, byte sequences, arrays и др. поддерживают iteration, slicing, sorting, contactenation и прочие общие операции.\n",
    "\n",
    "Understanding и embracing данного принципа помогает нам не изобретать велосипед, а использовать общий интерфейс, который дает реализуемым классам поддержку уже принятых методов "
   ]
  },
  {
   "cell_type": "markdown",
   "id": "6120322c-ef35-422c-9dc0-a83b108edaa5",
   "metadata": {},
   "source": [
    "Рассмотрим некоторые примеры последовательностей, помимо изученного ранее string"
   ]
  },
  {
   "cell_type": "markdown",
   "id": "db1dd44d-369f-44fe-81cd-235a212a0998",
   "metadata": {},
   "source": [
    "## bytes"
   ]
  },
  {
   "cell_type": "markdown",
   "id": "dd74a635-c2eb-451f-9a15-99ed55c566fa",
   "metadata": {},
   "source": [
    "bytes() method returns a bytes object which is an immutable sequence of integers in the range 0 <=x < 256\n",
    "\n",
    "bytearray -- версия, которую можно модифицировать"
   ]
  },
  {
   "cell_type": "code",
   "execution_count": 289,
   "id": "211a476c-eecb-4113-85d8-4c84629783f0",
   "metadata": {
    "tags": []
   },
   "outputs": [
    {
     "data": {
      "text/plain": [
       "b'Python3 is neat.'"
      ]
     },
     "execution_count": 289,
     "metadata": {},
     "output_type": "execute_result"
    }
   ],
   "source": [
    "sample_string = \"Python3 is neat.\"\n",
    "\n",
    "# string with encoding 'utf-8'\n",
    "arr = bytes(sample_string, 'utf-8')\n",
    "arr"
   ]
  },
  {
   "cell_type": "code",
   "execution_count": 290,
   "id": "0eac096f-7e38-47e1-a79f-d78470076208",
   "metadata": {
    "tags": []
   },
   "outputs": [
    {
     "data": {
      "text/plain": [
       "b'Python3 is neat.'"
      ]
     },
     "execution_count": 290,
     "metadata": {},
     "output_type": "execute_result"
    }
   ],
   "source": [
    "win_arr = bytes(sample_string, 'cp1251')\n",
    "win_arr"
   ]
  },
  {
   "cell_type": "code",
   "execution_count": 291,
   "id": "64ad0e83-a7d7-46fe-8c56-3442a47e9db2",
   "metadata": {
    "tags": []
   },
   "outputs": [
    {
     "data": {
      "text/plain": [
       "'Python3 is neat.'"
      ]
     },
     "execution_count": 291,
     "metadata": {},
     "output_type": "execute_result"
    }
   ],
   "source": [
    "win_arr.decode('cp1251')"
   ]
  },
  {
   "cell_type": "code",
   "execution_count": 292,
   "id": "8c633cb5-9528-403f-8a19-43b14a8030dc",
   "metadata": {},
   "outputs": [
    {
     "data": {
      "text/plain": [
       "'Python3 is neat.'"
      ]
     },
     "execution_count": 292,
     "metadata": {},
     "output_type": "execute_result"
    }
   ],
   "source": [
    "win_arr.decode('utf-8')"
   ]
  },
  {
   "cell_type": "code",
   "execution_count": 293,
   "id": "7c0502ef-fe54-4a68-8d8f-cdce65a17143",
   "metadata": {
    "tags": []
   },
   "outputs": [
    {
     "data": {
      "text/plain": [
       "True"
      ]
     },
     "execution_count": 293,
     "metadata": {},
     "output_type": "execute_result"
    }
   ],
   "source": [
    "win_arr == arr"
   ]
  },
  {
   "cell_type": "code",
   "execution_count": 294,
   "id": "1fe13909-acd2-475c-ac15-a65f5f99fa9d",
   "metadata": {
    "tags": []
   },
   "outputs": [],
   "source": [
    "encoded_string = b'\\xc1\\xe5\\xeb\\xe0\\xff \\xff\\xe1\\xeb\\xfb\\xed\\xff \\xe3\\xf0\\xee\\xec\\xf3'"
   ]
  },
  {
   "cell_type": "code",
   "execution_count": 296,
   "id": "0cdad60d-0053-4c4a-b2f5-33954bbb5981",
   "metadata": {
    "tags": []
   },
   "outputs": [
    {
     "ename": "UnicodeDecodeError",
     "evalue": "'utf-8' codec can't decode byte 0xc1 in position 0: invalid start byte",
     "output_type": "error",
     "traceback": [
      "\u001b[0;31m---------------------------------------------------------------------------\u001b[0m",
      "\u001b[0;31mUnicodeDecodeError\u001b[0m                        Traceback (most recent call last)",
      "Input \u001b[0;32mIn [296]\u001b[0m, in \u001b[0;36m<cell line: 1>\u001b[0;34m()\u001b[0m\n\u001b[0;32m----> 1\u001b[0m \u001b[43mencoded_string\u001b[49m\u001b[38;5;241;43m.\u001b[39;49m\u001b[43mdecode\u001b[49m\u001b[43m(\u001b[49m\u001b[38;5;124;43m'\u001b[39;49m\u001b[38;5;124;43mutf-8\u001b[39;49m\u001b[38;5;124;43m'\u001b[39;49m\u001b[43m)\u001b[49m\n",
      "\u001b[0;31mUnicodeDecodeError\u001b[0m: 'utf-8' codec can't decode byte 0xc1 in position 0: invalid start byte"
     ]
    }
   ],
   "source": [
    "encoded_string.decode('utf-8')"
   ]
  },
  {
   "cell_type": "code",
   "execution_count": 297,
   "id": "b87cf87a-9632-4902-b419-0fbc7a4b485e",
   "metadata": {},
   "outputs": [
    {
     "data": {
      "text/plain": [
       "'Белая яблыня грому'"
      ]
     },
     "execution_count": 297,
     "metadata": {},
     "output_type": "execute_result"
    }
   ],
   "source": [
    "encoded_string.decode('cp1251')"
   ]
  },
  {
   "cell_type": "markdown",
   "id": "3add9acb-ddd2-4bb4-8848-ee82668de51f",
   "metadata": {},
   "source": [
    "## List"
   ]
  },
  {
   "cell_type": "markdown",
   "id": "001af72d-7831-4b54-bd7f-40728c69dcf9",
   "metadata": {},
   "source": [
    "Most fundamental sequence, mutable and mixed-type"
   ]
  },
  {
   "cell_type": "code",
   "execution_count": 324,
   "id": "56851000-5cd5-4861-80aa-7774ca1b03a3",
   "metadata": {
    "tags": []
   },
   "outputs": [],
   "source": [
    "a = [1, 2, 3]\n",
    "b = ['1', [2], 3, 4.]"
   ]
  },
  {
   "cell_type": "markdown",
   "id": "199c09cd-0ca2-429b-981d-96f59be8a57f",
   "metadata": {},
   "source": [
    "### Базовые операции"
   ]
  },
  {
   "cell_type": "code",
   "execution_count": 299,
   "id": "8bdbc9c9-b5e7-43bd-a337-a124ee1b122f",
   "metadata": {
    "tags": []
   },
   "outputs": [
    {
     "data": {
      "text/plain": [
       "[1, 2, 3, '1', [2], 3, 4.0]"
      ]
     },
     "execution_count": 299,
     "metadata": {},
     "output_type": "execute_result"
    }
   ],
   "source": [
    "a + b"
   ]
  },
  {
   "cell_type": "code",
   "execution_count": 300,
   "id": "ac272a43-7c69-4ec5-9f31-7562e0dc41e5",
   "metadata": {
    "tags": []
   },
   "outputs": [
    {
     "data": {
      "text/plain": [
       "[1, 2, 3, 1, 2, 3, 1, 2, 3]"
      ]
     },
     "execution_count": 300,
     "metadata": {},
     "output_type": "execute_result"
    }
   ],
   "source": [
    "a * 3"
   ]
  },
  {
   "cell_type": "code",
   "execution_count": 308,
   "id": "02381b7d-8c79-44f7-a619-d9757baafedd",
   "metadata": {},
   "outputs": [],
   "source": [
    "a = [1]"
   ]
  },
  {
   "cell_type": "code",
   "execution_count": 309,
   "id": "3ba08151-d09d-410d-a006-67fb8cbed7bb",
   "metadata": {},
   "outputs": [],
   "source": [
    "a *= 3"
   ]
  },
  {
   "cell_type": "code",
   "execution_count": 310,
   "id": "2908bd95-1362-4748-a0ed-f19dc8e81691",
   "metadata": {},
   "outputs": [
    {
     "name": "stdout",
     "output_type": "stream",
     "text": [
      "139829997885744\n",
      "139829997885744\n",
      "139829997885744\n"
     ]
    }
   ],
   "source": [
    "for elem in a:\n",
    "    print(id(elem))"
   ]
  },
  {
   "cell_type": "code",
   "execution_count": 314,
   "id": "b7009953-e7e7-4964-83d3-acc8debbc56b",
   "metadata": {},
   "outputs": [],
   "source": [
    "a[0] = 1337"
   ]
  },
  {
   "cell_type": "code",
   "execution_count": 316,
   "id": "708deb2a-1232-4c4b-9ef6-163c087ea7fd",
   "metadata": {},
   "outputs": [],
   "source": [
    "a = [[1]]"
   ]
  },
  {
   "cell_type": "code",
   "execution_count": 317,
   "id": "360128a8-f0ea-4047-b5f5-af8918893ac5",
   "metadata": {},
   "outputs": [
    {
     "data": {
      "text/plain": [
       "[[1], [1], [1]]"
      ]
     },
     "execution_count": 317,
     "metadata": {},
     "output_type": "execute_result"
    }
   ],
   "source": [
    "a *= 3\n",
    "a"
   ]
  },
  {
   "cell_type": "code",
   "execution_count": 318,
   "id": "08296f6e-d814-4b75-b531-cc665d557ec7",
   "metadata": {},
   "outputs": [
    {
     "name": "stdout",
     "output_type": "stream",
     "text": [
      "139826922044928\n",
      "139826922044928\n",
      "139826922044928\n"
     ]
    }
   ],
   "source": [
    "for elem in a:\n",
    "    print(id(elem))"
   ]
  },
  {
   "cell_type": "code",
   "execution_count": 320,
   "id": "018fb324-925b-4314-ad75-1539553ef850",
   "metadata": {},
   "outputs": [],
   "source": [
    "a[0].append(2)"
   ]
  },
  {
   "cell_type": "code",
   "execution_count": 322,
   "id": "3b2c04fb-07ba-4882-91ae-bc779d971f65",
   "metadata": {},
   "outputs": [
    {
     "data": {
      "text/plain": [
       "[[1, 2], [1, 2], [1, 2]]"
      ]
     },
     "execution_count": 322,
     "metadata": {},
     "output_type": "execute_result"
    }
   ],
   "source": [
    "a"
   ]
  },
  {
   "cell_type": "markdown",
   "id": "17dbd3d5-02e4-4c3b-bb17-40c9529caabc",
   "metadata": {},
   "source": [
    "`Слайсы!`"
   ]
  },
  {
   "cell_type": "code",
   "execution_count": 323,
   "id": "6ae5aa57-0197-430b-885a-fc7d4b56ac7e",
   "metadata": {
    "tags": []
   },
   "outputs": [
    {
     "data": {
      "text/plain": [
       "[4.0, 3, [2], '1']"
      ]
     },
     "execution_count": 323,
     "metadata": {},
     "output_type": "execute_result"
    }
   ],
   "source": [
    "b[::-1]"
   ]
  },
  {
   "cell_type": "markdown",
   "id": "9db366a9-9b07-47ed-a410-31c17dd6e652",
   "metadata": {},
   "source": [
    "Поддержка операций `in (not in), min, max, index (поиск), count`"
   ]
  },
  {
   "cell_type": "code",
   "execution_count": 327,
   "id": "b6d89753-142f-4a83-8432-f8d79842bef6",
   "metadata": {},
   "outputs": [],
   "source": [
    "a = [1, 2, 3]\n",
    "b = ['1', [2], 3, 4.]"
   ]
  },
  {
   "cell_type": "code",
   "execution_count": 328,
   "id": "166bf0db-7697-4077-81a2-eb797bc31309",
   "metadata": {
    "tags": []
   },
   "outputs": [
    {
     "data": {
      "text/plain": [
       "True"
      ]
     },
     "execution_count": 328,
     "metadata": {},
     "output_type": "execute_result"
    }
   ],
   "source": [
    "'1' not in a"
   ]
  },
  {
   "cell_type": "code",
   "execution_count": 329,
   "id": "dbf14a4e-038d-4900-9bac-7d61994cc4ca",
   "metadata": {
    "tags": []
   },
   "outputs": [
    {
     "data": {
      "text/plain": [
       "True"
      ]
     },
     "execution_count": 329,
     "metadata": {},
     "output_type": "execute_result"
    }
   ],
   "source": [
    "'1' in a + b"
   ]
  },
  {
   "cell_type": "markdown",
   "id": "cace2f89-86b7-4c22-b6e3-b0982d6c1db8",
   "metadata": {},
   "source": [
    "Для коллекций, содержащих разные типы, нужно явно определить компаратор"
   ]
  },
  {
   "cell_type": "code",
   "execution_count": 330,
   "id": "9c71d8b0-d8fc-4e4f-809f-a839da066d23",
   "metadata": {
    "tags": []
   },
   "outputs": [
    {
     "data": {
      "text/plain": [
       "(1, 3)"
      ]
     },
     "execution_count": 330,
     "metadata": {},
     "output_type": "execute_result"
    }
   ],
   "source": [
    "min(a), max(a)"
   ]
  },
  {
   "cell_type": "code",
   "execution_count": 338,
   "id": "2e3b5ba4-6cbf-484c-a5e6-479a5b8639d7",
   "metadata": {
    "tags": []
   },
   "outputs": [
    {
     "data": {
      "text/plain": [
       "(2, 0)"
      ]
     },
     "execution_count": 338,
     "metadata": {},
     "output_type": "execute_result"
    }
   ],
   "source": [
    "a.index(3), a.index(1)"
   ]
  },
  {
   "cell_type": "code",
   "execution_count": 339,
   "id": "8d7066f2-e87e-4b7e-96c8-82c9125fc41e",
   "metadata": {
    "tags": []
   },
   "outputs": [
    {
     "data": {
      "text/plain": [
       "(1, 0)"
      ]
     },
     "execution_count": 339,
     "metadata": {},
     "output_type": "execute_result"
    }
   ],
   "source": [
    "a.count(1), a.count(4)"
   ]
  },
  {
   "cell_type": "markdown",
   "id": "d3e9fe1b-88d6-423f-b031-67966dda6b7a",
   "metadata": {},
   "source": [
    "И, конечно же, уже знакомые нам"
   ]
  },
  {
   "cell_type": "code",
   "execution_count": 340,
   "id": "918ae989-f288-4048-9d82-b82de5f77280",
   "metadata": {
    "tags": []
   },
   "outputs": [
    {
     "data": {
      "text/plain": [
       "(3, 4)"
      ]
     },
     "execution_count": 340,
     "metadata": {},
     "output_type": "execute_result"
    }
   ],
   "source": [
    "len(a), len(b)"
   ]
  },
  {
   "cell_type": "code",
   "execution_count": 341,
   "id": "a93413bf-37db-48de-9d84-d850594f7db0",
   "metadata": {
    "tags": []
   },
   "outputs": [
    {
     "data": {
      "text/plain": [
       "('[1, 2, 3]', '[1, 2, 3]')"
      ]
     },
     "execution_count": 341,
     "metadata": {},
     "output_type": "execute_result"
    }
   ],
   "source": [
    "repr(a), a.__repr__()"
   ]
  },
  {
   "cell_type": "code",
   "execution_count": 342,
   "id": "d291106b-18e8-465a-94ac-6e8806d3e4b2",
   "metadata": {
    "tags": []
   },
   "outputs": [
    {
     "data": {
      "text/plain": [
       "('[1, 2, 3]', '[1, 2, 3]')"
      ]
     },
     "execution_count": 342,
     "metadata": {},
     "output_type": "execute_result"
    }
   ],
   "source": [
    "str(a), a.__str__()"
   ]
  },
  {
   "cell_type": "markdown",
   "id": "103df298-e022-4962-9e73-63787c4f5af4",
   "metadata": {},
   "source": [
    "**Inplace** изменения в список"
   ]
  },
  {
   "cell_type": "code",
   "execution_count": 348,
   "id": "01b2e371-2382-448f-8993-0d70e8ce6c15",
   "metadata": {
    "tags": []
   },
   "outputs": [
    {
     "data": {
      "text/plain": [
       "[1, 2, 3, 1, 2, 3, 1, 2, 3, 10, 11, 4]"
      ]
     },
     "execution_count": 348,
     "metadata": {},
     "output_type": "execute_result"
    }
   ],
   "source": [
    "a.append(4)\n",
    "a"
   ]
  },
  {
   "cell_type": "code",
   "execution_count": 344,
   "id": "d6d22048-4bae-4126-9602-095c705983f3",
   "metadata": {
    "tags": []
   },
   "outputs": [
    {
     "data": {
      "text/plain": [
       "[1, 2, 3, 4, '1', [2], 3, 4.0]"
      ]
     },
     "execution_count": 344,
     "metadata": {},
     "output_type": "execute_result"
    }
   ],
   "source": [
    "a.extend(b)\n",
    "a"
   ]
  },
  {
   "cell_type": "code",
   "execution_count": 345,
   "id": "865192ce-af08-4f66-a2a1-1c4578037dae",
   "metadata": {
    "tags": []
   },
   "outputs": [
    {
     "data": {
      "text/plain": [
       "[1, 2, 4, '1', [2], 3, 4.0]"
      ]
     },
     "execution_count": 345,
     "metadata": {},
     "output_type": "execute_result"
    }
   ],
   "source": [
    "a.remove(3)\n",
    "a"
   ]
  },
  {
   "cell_type": "code",
   "execution_count": 346,
   "id": "8773b2d8-76b1-423b-8bd5-40922a1cc204",
   "metadata": {
    "tags": []
   },
   "outputs": [
    {
     "data": {
      "text/plain": [
       "[100, 2, 4, '1', [2], 3, 4.0]"
      ]
     },
     "execution_count": 346,
     "metadata": {},
     "output_type": "execute_result"
    }
   ],
   "source": [
    "a[0] = 100\n",
    "a"
   ]
  },
  {
   "cell_type": "markdown",
   "id": "e7185bb7-8684-42e4-8f72-254d219b139e",
   "metadata": {},
   "source": [
    "**+=, *=**"
   ]
  },
  {
   "cell_type": "code",
   "execution_count": 347,
   "id": "51f12f59-3c79-4f2e-8d08-25334e2a976a",
   "metadata": {
    "tags": []
   },
   "outputs": [
    {
     "name": "stdout",
     "output_type": "stream",
     "text": [
      "139826918780096\n",
      "139826918780096\n",
      "139826918780096\n"
     ]
    }
   ],
   "source": [
    "a = [1, 2, 3]\n",
    "print(id(a))\n",
    "\n",
    "a *= 3\n",
    "print(id(a))\n",
    "\n",
    "a += [10, 11]\n",
    "print(id(a))"
   ]
  },
  {
   "cell_type": "code",
   "execution_count": 349,
   "id": "80b404ef-53f4-44b2-9569-e162486dddf9",
   "metadata": {},
   "outputs": [
    {
     "name": "stdout",
     "output_type": "stream",
     "text": [
      "id before extend 139826923268352\n",
      "id after extend 139826923268352\n"
     ]
    },
    {
     "data": {
      "text/plain": [
       "[5, 6, 7, 1, 2]"
      ]
     },
     "execution_count": 349,
     "metadata": {},
     "output_type": "execute_result"
    }
   ],
   "source": [
    "a = [5, 6, 7]\n",
    "b = [1, 2]\n",
    "\n",
    "print('id before extend', id(a))\n",
    "a.extend(b)\n",
    "print('id after extend', id(a))\n",
    "a"
   ]
  },
  {
   "cell_type": "code",
   "execution_count": 350,
   "id": "001c364c-0879-4475-bb2f-641ddafdc81b",
   "metadata": {},
   "outputs": [
    {
     "name": "stdout",
     "output_type": "stream",
     "text": [
      "id before extend 139826923345984\n",
      "id after extend 139826923345984\n"
     ]
    },
    {
     "data": {
      "text/plain": [
       "[5, 6, 7, 1, 2]"
      ]
     },
     "execution_count": 350,
     "metadata": {},
     "output_type": "execute_result"
    }
   ],
   "source": [
    "a = [5, 6, 7]\n",
    "b = [1, 2]\n",
    "\n",
    "print('id before extend', id(a))\n",
    "a += b\n",
    "print('id after extend', id(a))\n",
    "a"
   ]
  },
  {
   "cell_type": "markdown",
   "id": "d85aa5a8-0bc6-4f0e-afb3-adbb42acc409",
   "metadata": {},
   "source": [
    "`При использовании inplace операции над изменяемым обектом, адрес не меняется, это все тот же объект`"
   ]
  },
  {
   "cell_type": "markdown",
   "id": "ba2078f8-ad04-4109-a8ef-bc4d3c40a331",
   "metadata": {},
   "source": [
    "### Iterating"
   ]
  },
  {
   "cell_type": "code",
   "execution_count": 351,
   "id": "25231680-5481-434d-87a3-6d6b3ee3b111",
   "metadata": {
    "tags": []
   },
   "outputs": [
    {
     "name": "stdout",
     "output_type": "stream",
     "text": [
      "1\n",
      "2\n"
     ]
    }
   ],
   "source": [
    "for element in b:\n",
    "    print(element)"
   ]
  },
  {
   "cell_type": "markdown",
   "id": "1b6067ce-47f7-44ba-93e2-9dc85a930928",
   "metadata": {},
   "source": [
    "Можно итерироваться по нескольким сразу"
   ]
  },
  {
   "cell_type": "code",
   "execution_count": 352,
   "id": "5cd1adfd-36bd-4d67-8daa-b2690d26ee02",
   "metadata": {
    "tags": []
   },
   "outputs": [
    {
     "name": "stdout",
     "output_type": "stream",
     "text": [
      "1 10\n",
      "2 20\n",
      "3 30\n"
     ]
    }
   ],
   "source": [
    "c = [1, 2, 3]\n",
    "d = [10, 20, 30, 40]\n",
    "\n",
    "for val_one, val_two in zip(c, d):\n",
    "    print(val_one, val_two)"
   ]
  },
  {
   "cell_type": "markdown",
   "id": "2e7612a9-43f7-4615-b1b8-56290724cc71",
   "metadata": {},
   "source": [
    "По значению и индексу"
   ]
  },
  {
   "cell_type": "code",
   "execution_count": 353,
   "id": "24a01b10-c3c8-46ce-ab47-644cb5e9050b",
   "metadata": {
    "tags": []
   },
   "outputs": [
    {
     "name": "stdout",
     "output_type": "stream",
     "text": [
      "0 1\n",
      "1 2\n"
     ]
    }
   ],
   "source": [
    "for index, elem in enumerate(b, start=0):\n",
    "    print(index, elem)"
   ]
  },
  {
   "cell_type": "markdown",
   "id": "4ec5a71c-aeaa-4b49-919c-faffe2ad55ec",
   "metadata": {},
   "source": [
    "Разберем простой пример. Если у нас есть два списка, один -- с цветами, второй -- с размерами. Как можно вывести на экран все комбинации?"
   ]
  },
  {
   "cell_type": "code",
   "execution_count": 355,
   "id": "96473a10-ceef-4236-b9a7-b7bfae8bc151",
   "metadata": {
    "tags": []
   },
   "outputs": [
    {
     "name": "stdout",
     "output_type": "stream",
     "text": [
      "S black\n",
      "M black\n",
      "L black\n",
      "S white\n",
      "M white\n",
      "L white\n"
     ]
    }
   ],
   "source": [
    "colors = ['black', 'white'] \n",
    "sizes = ['S', 'M', 'L']\n",
    "\n",
    "# your code\n",
    "\n",
    "for color in colors:\n",
    "    for size in sizes:\n",
    "        print(size, color)"
   ]
  },
  {
   "cell_type": "markdown",
   "id": "1bc92f77-4254-47c3-8275-cfc2bcc43328",
   "metadata": {},
   "source": [
    "### Сортировка"
   ]
  },
  {
   "cell_type": "code",
   "execution_count": 358,
   "id": "5bff5b34-2e02-449a-a3fe-f350a63850f8",
   "metadata": {
    "tags": []
   },
   "outputs": [],
   "source": [
    "a = [1, 2, 5, 4, 10, -5]\n",
    "a.sort()"
   ]
  },
  {
   "cell_type": "code",
   "execution_count": 359,
   "id": "41671280-4f0e-4c91-99f3-03cb8421ca7d",
   "metadata": {
    "tags": []
   },
   "outputs": [
    {
     "data": {
      "text/plain": [
       "[-5, 1, 2, 4, 5, 10]"
      ]
     },
     "execution_count": 359,
     "metadata": {},
     "output_type": "execute_result"
    }
   ],
   "source": [
    "sorted(a)"
   ]
  },
  {
   "cell_type": "code",
   "execution_count": 361,
   "id": "97741d13-b033-49fe-92ee-5207ad027cc1",
   "metadata": {},
   "outputs": [
    {
     "data": {
      "text/plain": [
       "['3', 'a', 'seminar']"
      ]
     },
     "execution_count": 361,
     "metadata": {},
     "output_type": "execute_result"
    }
   ],
   "source": [
    "str_a = ['3', 'a', 'seminar']\n",
    "sorted(str_a)"
   ]
  },
  {
   "cell_type": "markdown",
   "id": "00de86d3-49be-4497-b43a-ec90ef532f19",
   "metadata": {},
   "source": [
    "### Со строками"
   ]
  },
  {
   "cell_type": "code",
   "execution_count": 372,
   "id": "329210e0-22c8-42e9-a93d-a37c24a2e08f",
   "metadata": {},
   "outputs": [
    {
     "data": {
      "text/plain": [
       "['i', 'am', 'Denis']"
      ]
     },
     "execution_count": 372,
     "metadata": {},
     "output_type": "execute_result"
    }
   ],
   "source": [
    "'i am Denis'.split()"
   ]
  },
  {
   "cell_type": "code",
   "execution_count": 376,
   "id": "90d1a339-2296-485e-a0f2-99be37d3ced3",
   "metadata": {},
   "outputs": [
    {
     "data": {
      "text/plain": [
       "'i|am|Denis'"
      ]
     },
     "execution_count": 376,
     "metadata": {},
     "output_type": "execute_result"
    }
   ],
   "source": [
    "'|'.join(['i', 'am', 'Denis'])"
   ]
  },
  {
   "cell_type": "markdown",
   "id": "b63f03aa-3fcb-4930-bf82-f40560297b0f",
   "metadata": {},
   "source": [
    "### Внутреннее устройство"
   ]
  },
  {
   "cell_type": "markdown",
   "id": "898286f4-5f94-4933-9b59-f16435f6b181",
   "metadata": {},
   "source": [
    "https://pythontutor.com/ -- наглядная визуализация происходящего в Python"
   ]
  },
  {
   "cell_type": "markdown",
   "id": "057cba4f-6377-49db-b125-e4a204363dfc",
   "metadata": {},
   "source": [
    "Как ни странно, список в Python -- это на самом деле массив :/\n",
    "\n",
    "То есть, внутри список предаставляется как непрерывный кусок памяти, каждый элемент -- это указатель на объект."
   ]
  },
  {
   "cell_type": "markdown",
   "id": "1f605016-59ac-4166-a658-8d79cb7eb6fa",
   "metadata": {},
   "source": [
    "![array](https://media.geeksforgeeks.org/wp-content/uploads/array-2.png)"
   ]
  },
  {
   "cell_type": "markdown",
   "id": "a9d74c82-e05f-4dd9-a3c5-8a3afebe09d6",
   "metadata": {},
   "source": [
    "    The implementation uses a contiguous array of references to other objects, and keeps a pointer to this array and the array’s length in a list head structure.\n",
    "    \n",
    "    When items are appended or inserted, the array of references is resized. Some cleverness is applied to improve the performance of appending items repeatedly; when the array must be grown, some extra space is allocated so the next few times don’t require an actual resize. (Python docs)"
   ]
  },
  {
   "cell_type": "markdown",
   "id": "0037551e-7d70-4283-b895-2cecece55bf2",
   "metadata": {},
   "source": [
    "**Что это дает на практике?**\n",
    "\n",
    "Важно понимать сложность базовых операций с нашей структурой данных. И в зависимости от этого подбирать правильную структуру данных под определенную задачу."
   ]
  },
  {
   "cell_type": "markdown",
   "id": "f6daf194-5679-478c-af15-7e793dccf0d5",
   "metadata": {},
   "source": [
    "Recap:\n",
    "![o](https://wikimedia.org/api/rest_v1/media/math/render/svg/e45ededce98fd7f1d8866cff71d6311e6510e850), если $\\exists M, x_0$:\n",
    "![o_cond](https://wikimedia.org/api/rest_v1/media/math/render/svg/8248f95babb0ee9002984ae877f30dae8d710025)"
   ]
  },
  {
   "cell_type": "markdown",
   "id": "a6325ff6-b589-4727-8bb6-5b2b30ecc10c",
   "metadata": {},
   "source": [
    "Так, основное для list:\n",
    "\n",
    "- Доступ по индексу -- O(1)\n",
    "- Дописывание в конец / удаление с конца -- в среднем O(1)\n",
    "- Вставка / удаление в произвольном месте -- O(n)\n",
    "- min, max -- O(n)\n",
    "\n",
    "O(1) означает выполнение за контантное время, O(n) -- время выполнения зависит от длины массива"
   ]
  },
  {
   "cell_type": "markdown",
   "id": "2f7eed07-7a3e-43a3-9295-2b8105968bf9",
   "metadata": {},
   "source": [
    "### List Comprehensions"
   ]
  },
  {
   "cell_type": "markdown",
   "id": "878b19c8-e0bc-4634-b294-e6c0212d24ff",
   "metadata": {},
   "source": [
    "**Example**"
   ]
  },
  {
   "cell_type": "code",
   "execution_count": 362,
   "id": "a403dc1f-3984-4979-85f0-df777b38592b",
   "metadata": {
    "tags": []
   },
   "outputs": [],
   "source": [
    "symbols = '$¢£¥€¤'"
   ]
  },
  {
   "cell_type": "code",
   "execution_count": 364,
   "id": "5138ff9a-3f7f-4e95-867c-12a87ba64092",
   "metadata": {
    "tags": []
   },
   "outputs": [
    {
     "data": {
      "text/plain": [
       "[36, 162, 163, 165, 8364, 164]"
      ]
     },
     "execution_count": 364,
     "metadata": {},
     "output_type": "execute_result"
    }
   ],
   "source": [
    "codes = []\n",
    "for s in symbols:\n",
    "    codes.append(ord(s))\n",
    "\n",
    "codes"
   ]
  },
  {
   "cell_type": "code",
   "execution_count": 366,
   "id": "9cbf7dbb-7763-46ad-83f7-8a6b894a7e7d",
   "metadata": {
    "tags": []
   },
   "outputs": [
    {
     "data": {
      "text/plain": [
       "[36, 162, 163, 165, 8364, 164]"
      ]
     },
     "execution_count": 366,
     "metadata": {},
     "output_type": "execute_result"
    }
   ],
   "source": [
    "codes = [ord(s) for s in symbols]\n",
    "\n",
    "codes"
   ]
  },
  {
   "cell_type": "markdown",
   "id": "bac0cbf5-eb2a-49dc-8a57-3414e8cb1f80",
   "metadata": {},
   "source": [
    "Поддерживают условия, а также могут быть вложенными"
   ]
  },
  {
   "cell_type": "code",
   "execution_count": 368,
   "id": "5fa6f244-b73d-4c41-b47b-2b73ce2ce1ed",
   "metadata": {
    "tags": []
   },
   "outputs": [
    {
     "data": {
      "text/plain": [
       "[8364]"
      ]
     },
     "execution_count": 368,
     "metadata": {},
     "output_type": "execute_result"
    }
   ],
   "source": [
    "[ord(s) for s in symbols if ord(s) > 200]"
   ]
  },
  {
   "cell_type": "code",
   "execution_count": 370,
   "id": "3fbdaa62-f22e-464a-b44e-63a15454d197",
   "metadata": {
    "tags": []
   },
   "outputs": [
    {
     "data": {
      "text/plain": [
       "[-1, -1, -1, -1, 8364, -1]"
      ]
     },
     "execution_count": 370,
     "metadata": {},
     "output_type": "execute_result"
    }
   ],
   "source": [
    "[ord(s) if ord(s) > 200 else -1 for s in symbols]"
   ]
  },
  {
   "cell_type": "markdown",
   "id": "55806eb3-8d17-4523-90ab-daaecee82945",
   "metadata": {},
   "source": [
    "**Listcomp для убирания вложенности в списке**"
   ]
  },
  {
   "cell_type": "code",
   "execution_count": 377,
   "id": "5ffb98ba-2d3e-461d-b24b-a158e4d02632",
   "metadata": {
    "tags": []
   },
   "outputs": [],
   "source": [
    "a = [[1, 2], [3, 4], [5, 6], [7, 8]]\n",
    "\n",
    "b = [item for inner_list in a for item in inner_list]\n",
    "\n",
    "flattened_a = []\n",
    "for inner_list in a:\n",
    "    for item in inner_list:\n",
    "        flattened_a.append(item)\n",
    "\n",
    "assert b == [1, 2, 3, 4, 5, 6, 7, 8] \n",
    "assert flattened_a == [1, 2, 3, 4, 5, 6, 7, 8] "
   ]
  },
  {
   "cell_type": "code",
   "execution_count": 380,
   "id": "40bf77c7-5569-455b-8a8e-c2b0ce9f8329",
   "metadata": {},
   "outputs": [
    {
     "data": {
      "text/plain": [
       "([1, 2, 3, 4, 5, 6, 7, 8],\n",
       " [[1, 2], [3, 4], [5, 6], [7, 8]],\n",
       " [1, 2, 3, 4, 5, 6, 7, 8])"
      ]
     },
     "execution_count": 380,
     "metadata": {},
     "output_type": "execute_result"
    }
   ],
   "source": [
    "flattened_a, a, b"
   ]
  },
  {
   "cell_type": "markdown",
   "id": "0c3db859-f220-4c35-b81a-5abb07f4d75b",
   "metadata": {},
   "source": [
    "**Вспомним наш пример с размерами одежды**. Как можно сгенерировать список из всевозможных пар?"
   ]
  },
  {
   "cell_type": "code",
   "execution_count": 394,
   "id": "4af50339-64c5-4f23-b086-b1dc8e12ccdc",
   "metadata": {},
   "outputs": [
    {
     "data": {
      "text/plain": [
       "['black S', 'black M', 'black L', 'white S', 'white M', 'white L']"
      ]
     },
     "execution_count": 394,
     "metadata": {},
     "output_type": "execute_result"
    }
   ],
   "source": [
    "all_color_sizes = []\n",
    "for color in colors:\n",
    "    for size in sizes:\n",
    "        all_color_sizes.append(f'{color} {size}')\n",
    "\n",
    "all_color_sizes"
   ]
  },
  {
   "cell_type": "code",
   "execution_count": 393,
   "id": "2af90856-3eb8-42bf-95a2-102623756a89",
   "metadata": {
    "tags": []
   },
   "outputs": [
    {
     "data": {
      "text/plain": [
       "['black S', 'black M', 'black L', 'white S', 'white M', 'white L']"
      ]
     },
     "execution_count": 393,
     "metadata": {},
     "output_type": "execute_result"
    }
   ],
   "source": [
    "colors = ['black', 'white'] \n",
    "sizes = ['S', 'M', 'L']\n",
    "\n",
    "# your code\n",
    "[f'{color} {size}' for color in colors for size in sizes]"
   ]
  },
  {
   "cell_type": "markdown",
   "id": "65a53907-87e0-42bd-b8c3-8f4ee1a6a76c",
   "metadata": {},
   "source": [
    "### Generator expressions"
   ]
  },
  {
   "cell_type": "markdown",
   "id": "a5cf80cb-74af-4cfe-a5fa-9d4615af53b9",
   "metadata": {},
   "source": [
    "Как list comprehension, только создает и выдает элементы на лету"
   ]
  },
  {
   "cell_type": "code",
   "execution_count": 403,
   "id": "752b42fb-adca-46cf-bd20-79a5d78904af",
   "metadata": {},
   "outputs": [
    {
     "data": {
      "text/plain": [
       "'$¢£¥€¤'"
      ]
     },
     "execution_count": 403,
     "metadata": {},
     "output_type": "execute_result"
    }
   ],
   "source": [
    "symbols"
   ]
  },
  {
   "cell_type": "code",
   "execution_count": 398,
   "id": "b27aac1d-80de-4168-8acc-5a9667f23837",
   "metadata": {},
   "outputs": [
    {
     "data": {
      "text/plain": [
       "[36, 162, 163, 165, 8364, 164]"
      ]
     },
     "execution_count": 398,
     "metadata": {},
     "output_type": "execute_result"
    }
   ],
   "source": [
    "[ord(s) for s in symbols]"
   ]
  },
  {
   "cell_type": "code",
   "execution_count": 404,
   "id": "c0175d39-221b-48cf-b661-e6a7cb2c2cb3",
   "metadata": {
    "tags": []
   },
   "outputs": [
    {
     "data": {
      "text/plain": [
       "<generator object <genexpr> at 0x7f2bfe065740>"
      ]
     },
     "execution_count": 404,
     "metadata": {},
     "output_type": "execute_result"
    }
   ],
   "source": [
    "gen = (ord(s) for s in symbols)\n",
    "gen"
   ]
  },
  {
   "cell_type": "code",
   "execution_count": 405,
   "id": "1b93a9b5-20cb-449c-b591-29c4a752b3b9",
   "metadata": {
    "tags": []
   },
   "outputs": [
    {
     "name": "stdout",
     "output_type": "stream",
     "text": [
      "36\n",
      "162\n",
      "163\n",
      "165\n",
      "8364\n",
      "164\n"
     ]
    }
   ],
   "source": [
    "for element in gen:\n",
    "    print(element)"
   ]
  },
  {
   "cell_type": "code",
   "execution_count": 406,
   "id": "578a07c1-efa2-47c5-b9fd-1fbcfeb1e2f9",
   "metadata": {
    "tags": []
   },
   "outputs": [],
   "source": [
    "for i in gen:\n",
    "    print(i)"
   ]
  },
  {
   "cell_type": "code",
   "execution_count": 412,
   "id": "3ecc5a97-c5cb-46ea-b299-0abc328b830c",
   "metadata": {},
   "outputs": [],
   "source": [
    "gen = (ord(s) for s in symbols)"
   ]
  },
  {
   "cell_type": "code",
   "execution_count": 411,
   "id": "fc8c994d-0e72-459a-a1b8-485c4654465a",
   "metadata": {},
   "outputs": [
    {
     "name": "stdout",
     "output_type": "stream",
     "text": [
      "[36, 162, 163, 165, 8364, 164]\n"
     ]
    }
   ],
   "source": [
    "print(list(gen))"
   ]
  },
  {
   "cell_type": "markdown",
   "id": "ba2ac352-e656-43d7-8aed-22c27b260f05",
   "metadata": {},
   "source": [
    "Почему пусто?\n",
    "Генератор \"отдал\" все созданные элементы, больше в нем нет :)"
   ]
  },
  {
   "cell_type": "markdown",
   "id": "ac0ae5c5-ed14-4412-a41b-f83bd0270014",
   "metadata": {},
   "source": [
    "## Range"
   ]
  },
  {
   "cell_type": "markdown",
   "id": "162ea875-d4cf-4154-b4a1-ad559d8d459a",
   "metadata": {},
   "source": [
    "range() function generates the immutable sequence (of type rage) of numbers starting from the given start integer to the stop integer\n",
    "\n",
    "`range(start, stop, step)`"
   ]
  },
  {
   "cell_type": "code",
   "execution_count": 415,
   "id": "54d53159-975f-42ec-90c7-68975a4d5f12",
   "metadata": {
    "tags": []
   },
   "outputs": [
    {
     "data": {
      "text/plain": [
       "range(0, 10)"
      ]
     },
     "execution_count": 415,
     "metadata": {},
     "output_type": "execute_result"
    }
   ],
   "source": [
    "range(10)"
   ]
  },
  {
   "cell_type": "code",
   "execution_count": 416,
   "id": "4670534c-3c8b-4f05-90b1-a1a843dfc079",
   "metadata": {
    "tags": []
   },
   "outputs": [
    {
     "data": {
      "text/plain": [
       "[0, 1, 2, 3, 4, 5, 6, 7, 8, 9]"
      ]
     },
     "execution_count": 416,
     "metadata": {},
     "output_type": "execute_result"
    }
   ],
   "source": [
    "list(range(10))"
   ]
  },
  {
   "cell_type": "code",
   "execution_count": 417,
   "id": "486b7e6d-0e6c-44a7-9b3a-cc0de4e645a7",
   "metadata": {
    "tags": []
   },
   "outputs": [
    {
     "data": {
      "text/plain": [
       "[1, 3, 5, 7, 9]"
      ]
     },
     "execution_count": 417,
     "metadata": {},
     "output_type": "execute_result"
    }
   ],
   "source": [
    "a = range(1, 10, 2)\n",
    "\n",
    "list(a)"
   ]
  },
  {
   "cell_type": "code",
   "execution_count": 418,
   "id": "3c6a9f19-f405-4700-8885-5e0bd3a49af7",
   "metadata": {
    "tags": []
   },
   "outputs": [
    {
     "name": "stdout",
     "output_type": "stream",
     "text": [
      "1\n",
      "3\n",
      "5\n",
      "7\n",
      "9\n"
     ]
    }
   ],
   "source": [
    "for i in a:\n",
    "    print(i)"
   ]
  },
  {
   "cell_type": "markdown",
   "id": "5fb47adc-2f6e-4c09-a93b-1f656a484eed",
   "metadata": {},
   "source": [
    "Поддерживает индексацию"
   ]
  },
  {
   "cell_type": "code",
   "execution_count": 419,
   "id": "08a472f3-bb8a-4399-be1e-3ab652b1c979",
   "metadata": {
    "tags": []
   },
   "outputs": [],
   "source": [
    "a = range(0, 10)"
   ]
  },
  {
   "cell_type": "code",
   "execution_count": 420,
   "id": "abc67156-33f9-40e1-8fd9-b4c3c15c9f9b",
   "metadata": {
    "tags": []
   },
   "outputs": [
    {
     "data": {
      "text/plain": [
       "(1, 3)"
      ]
     },
     "execution_count": 420,
     "metadata": {},
     "output_type": "execute_result"
    }
   ],
   "source": [
    "a[1], a.index(3)"
   ]
  },
  {
   "cell_type": "markdown",
   "id": "a93ba49e-29c3-4103-b28c-e34d007bcafe",
   "metadata": {},
   "source": [
    "range не генерирует числа сразу же, а делает это one-by-one. Это хорошо для памяти и скорости"
   ]
  },
  {
   "cell_type": "code",
   "execution_count": 422,
   "id": "12f6e5f9-d73a-4d6d-ac28-fcaa3fc76f51",
   "metadata": {
    "tags": []
   },
   "outputs": [],
   "source": [
    "a = range(1000000000000000000000000000000000000000000000000000000000000000000000000000000000000000000000000000000000)"
   ]
  },
  {
   "cell_type": "code",
   "execution_count": 425,
   "id": "952bb632-9b5b-409f-8cb5-c8e684fec444",
   "metadata": {},
   "outputs": [
    {
     "name": "stdout",
     "output_type": "stream",
     "text": [
      "0 1\n",
      "1 2\n",
      "2 3\n",
      "3 4\n"
     ]
    }
   ],
   "source": [
    "a = [1, 2, 3, 4]\n",
    "\n",
    "for i in range(len(a)):\n",
    "    print(i, a[i])"
   ]
  },
  {
   "cell_type": "markdown",
   "id": "4e2fc743-7ccf-4816-874d-983b3b2ce792",
   "metadata": {},
   "source": [
    "## Tuples"
   ]
  },
  {
   "cell_type": "markdown",
   "id": "ccbe166f-8f90-4fa3-9f5e-11ff446b2604",
   "metadata": {},
   "source": [
    "Очень похоже на списки, только неизменяемые"
   ]
  },
  {
   "cell_type": "code",
   "execution_count": 331,
   "id": "dfba179b-9696-447c-8aa8-0758e7dd4ff1",
   "metadata": {
    "collapsed": true,
    "jupyter": {
     "outputs_hidden": true
    }
   },
   "outputs": [],
   "source": [
    "a = (1, 2, 3,)"
   ]
  },
  {
   "cell_type": "code",
   "execution_count": 332,
   "id": "79ab1219-8023-4484-b571-f5c9b29d2e8e",
   "metadata": {
    "collapsed": true,
    "jupyter": {
     "outputs_hidden": true
    }
   },
   "outputs": [
    {
     "ename": "TypeError",
     "evalue": "'tuple' object does not support item assignment",
     "output_type": "error",
     "traceback": [
      "\u001b[0;31m---------------------------------------------------------------------------\u001b[0m",
      "\u001b[0;31mTypeError\u001b[0m                                 Traceback (most recent call last)",
      "\u001b[0;32m/tmp/ipykernel_246707/2869727665.py\u001b[0m in \u001b[0;36m<module>\u001b[0;34m\u001b[0m\n\u001b[0;32m----> 1\u001b[0;31m \u001b[0ma\u001b[0m\u001b[0;34m[\u001b[0m\u001b[0;36m0\u001b[0m\u001b[0;34m]\u001b[0m \u001b[0;34m=\u001b[0m \u001b[0;36m3\u001b[0m\u001b[0;34m\u001b[0m\u001b[0;34m\u001b[0m\u001b[0m\n\u001b[0m",
      "\u001b[0;31mTypeError\u001b[0m: 'tuple' object does not support item assignment"
     ]
    }
   ],
   "source": [
    "a[0] = 3"
   ]
  },
  {
   "cell_type": "markdown",
   "id": "2b9633d9-d6e6-41a4-9120-a6da733ed4cd",
   "metadata": {},
   "source": [
    "**Be careful!**\n",
    "Если внутренний элемент изменяемый, то можно его менять inplace"
   ]
  },
  {
   "cell_type": "code",
   "execution_count": 104,
   "id": "af1f65af-f69e-442d-a763-baa15e815ce1",
   "metadata": {
    "collapsed": true,
    "jupyter": {
     "outputs_hidden": true
    }
   },
   "outputs": [],
   "source": [
    "a = (1, [1, 2], 3)\n",
    "a[1].append(4)"
   ]
  },
  {
   "cell_type": "code",
   "execution_count": 105,
   "id": "e956bd59-ad31-4845-a7b4-a0b3deff7c18",
   "metadata": {
    "collapsed": true,
    "jupyter": {
     "outputs_hidden": true
    }
   },
   "outputs": [
    {
     "data": {
      "text/plain": [
       "(1, [1, 2, 4], 3)"
      ]
     },
     "execution_count": 105,
     "metadata": {},
     "output_type": "execute_result"
    }
   ],
   "source": [
    "a"
   ]
  },
  {
   "cell_type": "code",
   "execution_count": null,
   "id": "07d7df09-0422-4982-82dc-7431ad9ee67e",
   "metadata": {
    "collapsed": true,
    "jupyter": {
     "outputs_hidden": true
    }
   },
   "outputs": [],
   "source": [
    "t = (1, 2, [30, 40])\n",
    "t[2] += [50, 60]"
   ]
  },
  {
   "cell_type": "markdown",
   "id": "4e801ccf-6c61-43a6-a914-29aa6e79a745",
   "metadata": {},
   "source": [
    "https://stackoverflow.com/questions/68630/are-tuples-more-efficient-than-lists-in-python/22140115#22140115"
   ]
  },
  {
   "cell_type": "markdown",
   "id": "14183cfd-653c-474a-932f-62d6ee77654d",
   "metadata": {},
   "source": [
    "• To evaluate a tuple literal, the Python compiler generates bytecode for a tuple constant in one operation; but for a list literal, the generated bytecode pushes each element as a separate constant to the data stack, and then builds the list.\n",
    "\n",
    "• Given a tuple t, tuple(t) simply returns a reference to the same t. There’s no need to copy. In contrast, given a list l, the list(l) constructor must create a new copy of l.\n",
    "\n",
    "• Because of its fixed length, a tuple instance is allocated the exact memory space it needs. Instances of list, on the other \n",
    "hand, are allocated with room to spare, to amortize the cost of future appends.\n",
    "\n",
    "• The references to the items in a tuple are stored in an array in the tuple struct, while a list holds a pointer to an array of references stored elsewhere. The indirection is necessary because when a list grows beyond the space currently allocated, Python needs to reallocate the array of references to make room. The extra indirection makes CPU caches less effective."
   ]
  },
  {
   "cell_type": "code",
   "execution_count": 111,
   "id": "da149ef3-e55b-4872-853c-c0f44e648965",
   "metadata": {
    "collapsed": true,
    "jupyter": {
     "outputs_hidden": true
    }
   },
   "outputs": [
    {
     "data": {
      "text/plain": [
       "(139829287976768, 139829287976768)"
      ]
     },
     "execution_count": 111,
     "metadata": {},
     "output_type": "execute_result"
    }
   ],
   "source": [
    "a = (1, 2, 3, 4)\n",
    "b = tuple(a)\n",
    "\n",
    "id(a), id(b)"
   ]
  },
  {
   "cell_type": "code",
   "execution_count": 112,
   "id": "ed6d4f55-2c1d-484d-86fa-00c991be8b39",
   "metadata": {
    "collapsed": true,
    "jupyter": {
     "outputs_hidden": true
    }
   },
   "outputs": [
    {
     "data": {
      "text/plain": [
       "(139829288297600, 139829288298240)"
      ]
     },
     "execution_count": 112,
     "metadata": {},
     "output_type": "execute_result"
    }
   ],
   "source": [
    "a = [1, 2, 3, 4]\n",
    "b = list(a)\n",
    "\n",
    "id(a), id(b)"
   ]
  },
  {
   "cell_type": "markdown",
   "id": "89fe35b0-86fa-4155-b6e3-42959f9e005a",
   "metadata": {},
   "source": [
    "## Unpacking"
   ]
  },
  {
   "cell_type": "markdown",
   "id": "a77a10a4-79f9-4257-a709-17e4e31ecef8",
   "metadata": {},
   "source": [
    "Работает с любым итерируемым объектом в Python"
   ]
  },
  {
   "cell_type": "code",
   "execution_count": 335,
   "id": "b033ae78-3a6f-41f9-ad85-64339ed98c61",
   "metadata": {
    "collapsed": true,
    "jupyter": {
     "outputs_hidden": true
    }
   },
   "outputs": [
    {
     "data": {
      "text/plain": [
       "(10.0, -11.0)"
      ]
     },
     "execution_count": 335,
     "metadata": {},
     "output_type": "execute_result"
    }
   ],
   "source": [
    "coordinates = (10., -11.)\n",
    "\n",
    "lat, lon = coordinates\n",
    "\n",
    "lat, lon"
   ]
  },
  {
   "cell_type": "code",
   "execution_count": 336,
   "id": "e8ce3346-e5ce-4b14-88fc-f5ab13b299aa",
   "metadata": {
    "collapsed": true,
    "jupyter": {
     "outputs_hidden": true
    }
   },
   "outputs": [],
   "source": [
    "lon, lat = lat, lon"
   ]
  },
  {
   "cell_type": "markdown",
   "id": "f9d9db93-e8c6-4392-ba90-f599338d387b",
   "metadata": {},
   "source": [
    "Лишние значения можно свернуть"
   ]
  },
  {
   "cell_type": "code",
   "execution_count": 339,
   "id": "f2928bef-abd7-43a8-95f6-41aaee7e0b32",
   "metadata": {
    "collapsed": true,
    "jupyter": {
     "outputs_hidden": true
    }
   },
   "outputs": [
    {
     "data": {
      "text/plain": [
       "[0, 1, 2, 3, 4, 5, 6, 7, 8, 9]"
      ]
     },
     "execution_count": 339,
     "metadata": {},
     "output_type": "execute_result"
    }
   ],
   "source": [
    "list(range(10))"
   ]
  },
  {
   "cell_type": "code",
   "execution_count": 337,
   "id": "de15e2b5-7709-4330-957a-59e8e1823b97",
   "metadata": {
    "collapsed": true,
    "jupyter": {
     "outputs_hidden": true
    }
   },
   "outputs": [],
   "source": [
    "a, b, *rest = range(10)"
   ]
  },
  {
   "cell_type": "code",
   "execution_count": 338,
   "id": "0ccd68fa-ae51-43c2-b32c-50e56bb92266",
   "metadata": {
    "collapsed": true,
    "jupyter": {
     "outputs_hidden": true
    }
   },
   "outputs": [
    {
     "data": {
      "text/plain": [
       "(0, 1)"
      ]
     },
     "execution_count": 338,
     "metadata": {},
     "output_type": "execute_result"
    }
   ],
   "source": [
    "a, b"
   ]
  },
  {
   "cell_type": "code",
   "execution_count": 340,
   "id": "09a0f99d-cff5-4f2c-95bc-ab0112957b43",
   "metadata": {
    "collapsed": true,
    "jupyter": {
     "outputs_hidden": true
    }
   },
   "outputs": [
    {
     "data": {
      "text/plain": [
       "[2, 3, 4, 5, 6, 7, 8, 9]"
      ]
     },
     "execution_count": 340,
     "metadata": {},
     "output_type": "execute_result"
    }
   ],
   "source": [
    "rest"
   ]
  },
  {
   "cell_type": "markdown",
   "id": "58bc679e-0062-4f17-b50b-a1ea7133059a",
   "metadata": {},
   "source": [
    "или"
   ]
  },
  {
   "cell_type": "code",
   "execution_count": 341,
   "id": "68aed12e-5e7e-4d35-9b44-ec892183ca60",
   "metadata": {
    "collapsed": true,
    "jupyter": {
     "outputs_hidden": true
    }
   },
   "outputs": [],
   "source": [
    "first, *rest, last = range(10)"
   ]
  },
  {
   "cell_type": "code",
   "execution_count": 342,
   "id": "39c764e6-2ff0-49af-8af6-0ebf1c4a8ecc",
   "metadata": {
    "collapsed": true,
    "jupyter": {
     "outputs_hidden": true
    }
   },
   "outputs": [
    {
     "data": {
      "text/plain": [
       "(0, 9)"
      ]
     },
     "execution_count": 342,
     "metadata": {},
     "output_type": "execute_result"
    }
   ],
   "source": [
    "first, last"
   ]
  },
  {
   "cell_type": "code",
   "execution_count": 343,
   "id": "15d3ea4a-ad91-48e5-95d7-1a543d8fd971",
   "metadata": {
    "collapsed": true,
    "jupyter": {
     "outputs_hidden": true
    }
   },
   "outputs": [
    {
     "data": {
      "text/plain": [
       "[1, 2, 3, 4, 5, 6, 7, 8]"
      ]
     },
     "execution_count": 343,
     "metadata": {},
     "output_type": "execute_result"
    }
   ],
   "source": [
    "rest"
   ]
  },
  {
   "cell_type": "markdown",
   "id": "2ac220f7-8733-4bb4-b0fa-c75ae7fee68a",
   "metadata": {},
   "source": [
    "**+=, *=**"
   ]
  },
  {
   "cell_type": "code",
   "execution_count": 344,
   "id": "478b599e-73a7-432b-be4c-5893a2888014",
   "metadata": {
    "collapsed": true,
    "jupyter": {
     "outputs_hidden": true
    }
   },
   "outputs": [
    {
     "name": "stdout",
     "output_type": "stream",
     "text": [
      "139949831274400\n",
      "139949935372112\n",
      "139949826690656\n"
     ]
    }
   ],
   "source": [
    "a = (1, 2, 3)\n",
    "print(id(a))\n",
    "\n",
    "a *= 3\n",
    "print(id(a))\n",
    "\n",
    "a += (10, 11)\n",
    "print(id(a))"
   ]
  },
  {
   "cell_type": "markdown",
   "id": "aca17610-a8f9-4b6d-91ee-4cd341e98dd6",
   "metadata": {},
   "source": [
    "Tuple (кортеж) -- неизменяемый объект, поэтому каждый раз создается новый"
   ]
  },
  {
   "cell_type": "markdown",
   "id": "70778103-3607-42c8-bb1f-e3cbbe3c8660",
   "metadata": {},
   "source": [
    "## Named Tuples"
   ]
  },
  {
   "cell_type": "code",
   "execution_count": 345,
   "id": "b2a036c8-aa81-4801-a60e-ccd37cbd5c69",
   "metadata": {
    "collapsed": true,
    "jupyter": {
     "outputs_hidden": true
    }
   },
   "outputs": [],
   "source": [
    "from collections import namedtuple"
   ]
  },
  {
   "cell_type": "code",
   "execution_count": 346,
   "id": "6215b04b-4b39-41b2-9504-88fb0cc56603",
   "metadata": {
    "collapsed": true,
    "jupyter": {
     "outputs_hidden": true
    }
   },
   "outputs": [],
   "source": [
    "Subject = namedtuple('Subject', 'name difficulty')"
   ]
  },
  {
   "cell_type": "code",
   "execution_count": 348,
   "id": "640c26f8-13a5-4061-9248-417b749d7f61",
   "metadata": {
    "collapsed": true,
    "jupyter": {
     "outputs_hidden": true
    }
   },
   "outputs": [
    {
     "data": {
      "text/plain": [
       "Subject(name='Python', difficulty=1)"
      ]
     },
     "execution_count": 348,
     "metadata": {},
     "output_type": "execute_result"
    }
   ],
   "source": [
    "python_course = Subject('Python', 1)\n",
    "python_course"
   ]
  },
  {
   "cell_type": "code",
   "execution_count": 349,
   "id": "87236884-c33b-4b35-b08b-90ab07677e8c",
   "metadata": {
    "collapsed": true,
    "jupyter": {
     "outputs_hidden": true
    }
   },
   "outputs": [
    {
     "data": {
      "text/plain": [
       "('Python', 1)"
      ]
     },
     "execution_count": 349,
     "metadata": {},
     "output_type": "execute_result"
    }
   ],
   "source": [
    "python_course[0], python_course[1]"
   ]
  },
  {
   "cell_type": "code",
   "execution_count": 350,
   "id": "2581650d-488a-4fb3-81d3-f12e0db17cba",
   "metadata": {
    "collapsed": true,
    "jupyter": {
     "outputs_hidden": true
    }
   },
   "outputs": [
    {
     "data": {
      "text/plain": [
       "('Python', 1)"
      ]
     },
     "execution_count": 350,
     "metadata": {},
     "output_type": "execute_result"
    }
   ],
   "source": [
    "python_course.name, python_course.difficulty"
   ]
  },
  {
   "cell_type": "markdown",
   "id": "1888d78f-49f3-43ba-a4cb-7f2dec60fe70",
   "metadata": {},
   "source": [
    "## Arrays"
   ]
  },
  {
   "cell_type": "markdown",
   "id": "fed8f7cb-e993-4313-9616-0c3cefeb0fc9",
   "metadata": {},
   "source": [
    "Если очень хочется скорости для работы с числами, то можно пользоваться почти C-шными массивами"
   ]
  },
  {
   "cell_type": "markdown",
   "id": "e74ccc86-652e-4d4d-bb07-cc1823a8867e",
   "metadata": {},
   "source": [
    "![](img/python_seq_memory.png)"
   ]
  },
  {
   "cell_type": "code",
   "execution_count": 92,
   "id": "fc5a5666-74fa-488d-b24a-a04d09439f47",
   "metadata": {
    "collapsed": true,
    "jupyter": {
     "outputs_hidden": true
    }
   },
   "outputs": [],
   "source": [
    "from array import array"
   ]
  },
  {
   "cell_type": "markdown",
   "id": "6860873a-fe89-4dc2-a060-b66ce80d4e76",
   "metadata": {},
   "source": [
    "'b' -- typecode для типа byte (целые от -128 до 127)"
   ]
  },
  {
   "cell_type": "code",
   "execution_count": 356,
   "id": "1b20b85e-5713-45ca-991f-2104c322e99c",
   "metadata": {
    "collapsed": true,
    "jupyter": {
     "outputs_hidden": true
    }
   },
   "outputs": [],
   "source": [
    "bytes_array = array('b', (i for i in range(120)))"
   ]
  },
  {
   "cell_type": "code",
   "execution_count": 352,
   "id": "6b99fba1-a561-424e-96a3-d09028856aa4",
   "metadata": {
    "collapsed": true,
    "jupyter": {
     "outputs_hidden": true
    }
   },
   "outputs": [
    {
     "data": {
      "text/plain": [
       "array('b', [0, 1, 2, 3, 4, 5, 6, 7, 8, 9, 10, 11, 12, 13, 14, 15, 16, 17, 18, 19, 20, 21, 22, 23, 24, 25, 26, 27, 28, 29, 30, 31, 32, 33, 34, 35, 36, 37, 38, 39, 40, 41, 42, 43, 44, 45, 46, 47, 48, 49, 50, 51, 52, 53, 54, 55, 56, 57, 58, 59, 60, 61, 62, 63, 64, 65, 66, 67, 68, 69, 70, 71, 72, 73, 74, 75, 76, 77, 78, 79, 80, 81, 82, 83, 84, 85, 86, 87, 88, 89, 90, 91, 92, 93, 94, 95, 96, 97, 98, 99, 100, 101, 102, 103, 104, 105, 106, 107, 108, 109, 110, 111, 112, 113, 114, 115, 116, 117, 118, 119])"
      ]
     },
     "execution_count": 352,
     "metadata": {},
     "output_type": "execute_result"
    }
   ],
   "source": [
    "bytes_array"
   ]
  },
  {
   "cell_type": "code",
   "execution_count": 353,
   "id": "e47031de-9489-431f-ade5-1b0b9841274f",
   "metadata": {
    "collapsed": true,
    "jupyter": {
     "outputs_hidden": true
    }
   },
   "outputs": [],
   "source": [
    "bytes_array.append(127)"
   ]
  },
  {
   "cell_type": "markdown",
   "id": "f42c98cd-5b6b-4b66-8071-f9a28dea0bad",
   "metadata": {},
   "source": [
    "Строгость типа не позволяет записать что-то помимо него"
   ]
  },
  {
   "cell_type": "code",
   "execution_count": 354,
   "id": "d8d1d629-708c-494b-9ab6-5c6a38dd98a1",
   "metadata": {
    "collapsed": true,
    "jupyter": {
     "outputs_hidden": true
    }
   },
   "outputs": [
    {
     "ename": "OverflowError",
     "evalue": "signed char is greater than maximum",
     "output_type": "error",
     "traceback": [
      "\u001b[0;31m---------------------------------------------------------------------------\u001b[0m",
      "\u001b[0;31mOverflowError\u001b[0m                             Traceback (most recent call last)",
      "\u001b[0;32m/tmp/ipykernel_246707/2329984407.py\u001b[0m in \u001b[0;36m<module>\u001b[0;34m\u001b[0m\n\u001b[0;32m----> 1\u001b[0;31m \u001b[0mbytes_array\u001b[0m\u001b[0;34m.\u001b[0m\u001b[0mappend\u001b[0m\u001b[0;34m(\u001b[0m\u001b[0;36m256\u001b[0m\u001b[0;34m)\u001b[0m\u001b[0;34m\u001b[0m\u001b[0;34m\u001b[0m\u001b[0m\n\u001b[0m",
      "\u001b[0;31mOverflowError\u001b[0m: signed char is greater than maximum"
     ]
    }
   ],
   "source": [
    "bytes_array.append(256)"
   ]
  },
  {
   "cell_type": "markdown",
   "id": "f9744ddb-6d1c-429e-b3f0-880694219318",
   "metadata": {},
   "source": [
    "есть `array.fromfile() и array.tofile()` для быстрой записи и чтения"
   ]
  },
  {
   "cell_type": "markdown",
   "id": "0eded917-4988-4336-9ca8-2d42dba807dd",
   "metadata": {},
   "source": [
    "Сравним скорость какой-нибудь простой арифметической операции для массива чисел"
   ]
  },
  {
   "cell_type": "code",
   "execution_count": 93,
   "id": "7f086fd0-3b02-487c-8cd7-62969e9a0c9b",
   "metadata": {
    "collapsed": true,
    "jupyter": {
     "outputs_hidden": true
    }
   },
   "outputs": [],
   "source": [
    "list_ints = list(range(100000))"
   ]
  },
  {
   "cell_type": "code",
   "execution_count": 91,
   "id": "4fa1e181-15f9-43a7-82fb-637df36b2229",
   "metadata": {
    "collapsed": true,
    "jupyter": {
     "outputs_hidden": true
    }
   },
   "outputs": [
    {
     "name": "stdout",
     "output_type": "stream",
     "text": [
      "1.47 ms ± 2.84 µs per loop (mean ± std. dev. of 7 runs, 1,000 loops each)\n"
     ]
    }
   ],
   "source": [
    "%%timeit -n 1000\n",
    "\n",
    "sum(list_ints)"
   ]
  },
  {
   "cell_type": "code",
   "execution_count": 94,
   "id": "5d842364-bc18-4135-bb0d-b0840b14f715",
   "metadata": {
    "collapsed": true,
    "jupyter": {
     "outputs_hidden": true
    }
   },
   "outputs": [],
   "source": [
    "array_ints = array('I', (i for i in range(100000)))"
   ]
  },
  {
   "cell_type": "code",
   "execution_count": 95,
   "id": "7c45a6e5-dd52-48d7-8cab-4d2bb860cec7",
   "metadata": {
    "collapsed": true,
    "jupyter": {
     "outputs_hidden": true
    }
   },
   "outputs": [
    {
     "name": "stdout",
     "output_type": "stream",
     "text": [
      "873 µs ± 6.6 µs per loop (mean ± std. dev. of 7 runs, 1,000 loops each)\n"
     ]
    }
   ],
   "source": [
    "%%timeit -n 1000\n",
    "\n",
    "sum(array_ints)"
   ]
  },
  {
   "cell_type": "markdown",
   "id": "14b90eb8-70b3-4d91-a1fa-3543a1eed73a",
   "metadata": {},
   "source": [
    "# Запись и чтение из файла"
   ]
  },
  {
   "cell_type": "code",
   "execution_count": 251,
   "id": "91ddced6-48da-4b19-b85a-40fd5d401cd1",
   "metadata": {
    "collapsed": true,
    "jupyter": {
     "outputs_hidden": true
    }
   },
   "outputs": [
    {
     "name": "stdout",
     "output_type": "stream",
     "text": [
      "b'Python3 is great'\n"
     ]
    }
   ],
   "source": [
    "filename = 'out.bin'\n",
    "\n",
    "byte_string = bytes('Python3 is great', encoding='utf-8')\n",
    "\n",
    "with open('out.bin', 'wb') as f:\n",
    "    f.write(byte_string)\n",
    "\n",
    "with open('out.bin', 'rb') as f:\n",
    "    content = f.read()\n",
    "    print(content)"
   ]
  },
  {
   "cell_type": "markdown",
   "id": "72689f20-d1ac-415b-ba38-1ae570ac1f8f",
   "metadata": {},
   "source": [
    "Если у нас есть какая-то структура"
   ]
  },
  {
   "cell_type": "code",
   "execution_count": 261,
   "id": "b297f150-f55a-4691-ab25-c9c7ea4faadf",
   "metadata": {
    "collapsed": true,
    "jupyter": {
     "outputs_hidden": true
    }
   },
   "outputs": [
    {
     "data": {
      "text/plain": [
       "[[1, 2, (4, 5, 3), 'something ()'], ('hello', 6)]"
      ]
     },
     "execution_count": 261,
     "metadata": {},
     "output_type": "execute_result"
    }
   ],
   "source": [
    "some_object = [[1, 2, (4, 5, 3), 'something ()'], ('hello', 6)]\n",
    "some_object"
   ]
  },
  {
   "cell_type": "code",
   "execution_count": 262,
   "id": "e5e4cd3a-f9f9-4e94-aa16-17e28f2185cc",
   "metadata": {
    "collapsed": true,
    "jupyter": {
     "outputs_hidden": true
    }
   },
   "outputs": [],
   "source": [
    "with open('out', 'w') as f:\n",
    "    f.write(str(some_object))"
   ]
  },
  {
   "cell_type": "code",
   "execution_count": 263,
   "id": "ccb1d769-a043-453d-aa7b-27f437189b8f",
   "metadata": {
    "collapsed": true,
    "jupyter": {
     "outputs_hidden": true
    }
   },
   "outputs": [
    {
     "name": "stdout",
     "output_type": "stream",
     "text": [
      "[[1, 2, (4, 5, 3), 'something ()'], ('hello', 6)]\n"
     ]
    }
   ],
   "source": [
    "with open('out', 'r') as f:\n",
    "    content = f.read()\n",
    "    print(content)"
   ]
  },
  {
   "cell_type": "markdown",
   "id": "c3ef788d-3dfc-4a2e-aa91-b7102bf8ff07",
   "metadata": {},
   "source": [
    "Если хотим сохранить объект"
   ]
  },
  {
   "cell_type": "code",
   "execution_count": 260,
   "id": "9d1c654e-ce06-4a5a-b303-2956de8fcc38",
   "metadata": {
    "collapsed": true,
    "jupyter": {
     "outputs_hidden": true
    }
   },
   "outputs": [],
   "source": [
    "import pickle"
   ]
  },
  {
   "cell_type": "code",
   "execution_count": 264,
   "id": "79aed50a-f73b-44d3-b779-c96583706a3a",
   "metadata": {
    "collapsed": true,
    "jupyter": {
     "outputs_hidden": true
    }
   },
   "outputs": [
    {
     "data": {
      "text/plain": [
       "True"
      ]
     },
     "execution_count": 264,
     "metadata": {},
     "output_type": "execute_result"
    }
   ],
   "source": [
    "with open('object', 'wb') as f:\n",
    "    pickle.dump(some_object, f)\n",
    "    \n",
    "with open('object', 'rb') as f:\n",
    "    content = pickle.load(f)\n",
    "\n",
    "content == some_object"
   ]
  },
  {
   "cell_type": "markdown",
   "id": "21fe347c-2878-4932-9371-5f57a2c7031f",
   "metadata": {},
   "source": [
    "Если у нас текст с форматированием"
   ]
  },
  {
   "cell_type": "code",
   "execution_count": 266,
   "id": "d10adb22-7752-4806-8c38-b01029d5e9de",
   "metadata": {
    "collapsed": true,
    "jupyter": {
     "outputs_hidden": true
    }
   },
   "outputs": [],
   "source": [
    "some_text = \"\"\" Я готовлю семинар.\n",
    "Все пока идет хорошо.\n",
    "Почему уже 2 часа ночи...\n",
    "\"\"\"\n",
    "\n",
    "with open('out_str', 'w') as f:\n",
    "    f.write(some_text)"
   ]
  },
  {
   "cell_type": "code",
   "execution_count": 267,
   "id": "0c919880-6eb3-44f3-964b-f0f27863b9f8",
   "metadata": {
    "collapsed": true,
    "jupyter": {
     "outputs_hidden": true
    }
   },
   "outputs": [
    {
     "name": "stdout",
     "output_type": "stream",
     "text": [
      " Я готовлю семинар.\n",
      "Все пока идет хорошо.\n",
      "Почему уже 2 часа ночи...\n",
      "\n"
     ]
    }
   ],
   "source": [
    "with open('out_str', 'r') as f:\n",
    "    content = f.read()\n",
    "\n",
    "print(content)"
   ]
  },
  {
   "cell_type": "code",
   "execution_count": 276,
   "id": "a494f1cd-d64b-487f-b674-10ff9a2415f4",
   "metadata": {
    "collapsed": true,
    "jupyter": {
     "outputs_hidden": true
    }
   },
   "outputs": [
    {
     "name": "stdout",
     "output_type": "stream",
     "text": [
      " Я готовлю семинар.\n",
      " Все пока идет хорошо.\n",
      "\n"
     ]
    }
   ],
   "source": [
    "with open('out_str', 'r') as f:\n",
    "    first_line = f.readline()\n",
    "    second_line = f.readline()\n",
    "    \n",
    "print(first_line, second_line)"
   ]
  },
  {
   "cell_type": "code",
   "execution_count": 277,
   "id": "be0d99c9-a840-4565-8469-52e39d65947b",
   "metadata": {
    "collapsed": true,
    "jupyter": {
     "outputs_hidden": true
    }
   },
   "outputs": [
    {
     "name": "stdout",
     "output_type": "stream",
     "text": [
      "Line 0: Я готовлю семинар.\n",
      "Line 1: Все пока идет хорошо.\n",
      "Line 2: Почему уже 2 часа ночи...\n"
     ]
    }
   ],
   "source": [
    "with open('out_str', 'r') as f:\n",
    "    for index, line in enumerate(f):\n",
    "        print(f\"Line {index}: {line.strip()}\")"
   ]
  },
  {
   "cell_type": "markdown",
   "id": "d307282f-bebf-45d3-9e7c-eafb2bd1cdd5",
   "metadata": {},
   "source": [
    "# Сколько памяти занимает объект в Python"
   ]
  },
  {
   "cell_type": "markdown",
   "id": "2190fc4d-24d1-411b-bd57-d14310979903",
   "metadata": {},
   "source": [
    "https://stackoverflow.com/questions/449560/how-do-i-determine-the-size-of-an-object-in-python\n",
    "\n",
    "https://docs.python.org/3/library/sys.html#sys.getsizeof\n",
    "\n",
    "https://towardsdatascience.com/the-strange-size-of-python-objects-in-memory-ce87bdfbb97f"
   ]
  },
  {
   "cell_type": "code",
   "execution_count": 167,
   "id": "05eb49cf-7ebd-4d6f-aa0c-6c578327752d",
   "metadata": {
    "collapsed": true,
    "jupyter": {
     "outputs_hidden": true
    }
   },
   "outputs": [],
   "source": [
    "import sys"
   ]
  },
  {
   "cell_type": "code",
   "execution_count": 154,
   "id": "f14a756f-0452-483d-9877-2bf44f8ac070",
   "metadata": {
    "collapsed": true,
    "jupyter": {
     "outputs_hidden": true
    }
   },
   "outputs": [
    {
     "data": {
      "text/plain": [
       "28"
      ]
     },
     "execution_count": 154,
     "metadata": {},
     "output_type": "execute_result"
    }
   ],
   "source": [
    "getsizeof(1)"
   ]
  },
  {
   "cell_type": "code",
   "execution_count": 160,
   "id": "bb6b74e7-302a-46fd-8e32-fa40af15bf39",
   "metadata": {
    "collapsed": true,
    "jupyter": {
     "outputs_hidden": true
    }
   },
   "outputs": [
    {
     "data": {
      "text/plain": [
       "49"
      ]
     },
     "execution_count": 160,
     "metadata": {},
     "output_type": "execute_result"
    }
   ],
   "source": [
    "getsizeof('')"
   ]
  },
  {
   "cell_type": "code",
   "execution_count": 165,
   "id": "0f32d369-7491-4c1a-a57a-5da6cfb6892e",
   "metadata": {
    "collapsed": true,
    "jupyter": {
     "outputs_hidden": true
    }
   },
   "outputs": [],
   "source": [
    "def get_size(obj, seen=None):\n",
    "    \"\"\"Recursively finds size of objects\"\"\"\n",
    "    size = sys.getsizeof(obj)\n",
    "    if seen is None:\n",
    "        seen = set()\n",
    "    obj_id = id(obj)\n",
    "    if obj_id in seen:\n",
    "        return 0\n",
    "    # Important mark as seen *before* entering recursion to gracefully handle\n",
    "    # self-referential objects\n",
    "    seen.add(obj_id)\n",
    "    if isinstance(obj, dict):\n",
    "        size += sum([get_size(v, seen) for v in obj.values()])\n",
    "        size += sum([get_size(k, seen) for k in obj.keys()])\n",
    "    elif hasattr(obj, '__dict__'):\n",
    "        size += get_size(obj.__dict__, seen)\n",
    "    elif hasattr(obj, '__iter__') and not isinstance(obj, (str, bytes, bytearray)):\n",
    "        size += sum([get_size(i, seen) for i in obj])\n",
    "    return size"
   ]
  },
  {
   "cell_type": "markdown",
   "id": "78a168de-55b5-4a2a-8b94-8ebd695efbcd",
   "metadata": {},
   "source": [
    "# Регулярные выражения"
   ]
  },
  {
   "cell_type": "markdown",
   "id": "e9fe3871-9f3d-4a0a-ab6e-41ff2ea00a43",
   "metadata": {
    "ExecuteTime": {
     "end_time": "2021-11-17T02:56:48.721812Z",
     "start_time": "2021-11-17T02:56:48.718678Z"
    }
   },
   "source": [
    "Полезные ссылки:\n",
    "\n",
    "https://habr.com/ru/post/349860/\n",
    "\n",
    "https://uneex.org/HSE/ProgrammingOS/15_Regexp\n",
    "    \n",
    "https://regexone.com/    \n",
    "    \n",
    "https://ravesli.com/regulyarnye-vyrazheniya-osnovy/\n",
    "    \n",
    "https://regex101.com/"
   ]
  },
  {
   "cell_type": "markdown",
   "id": "99719735-8918-4296-905d-5ca343fbd9df",
   "metadata": {},
   "source": [
    "Pattern matching / searching:\n",
    "- Pattern -- это некоторая строка из спецсимволов, которая описывает, что мы хотим найти\n",
    "- Matching -- определение, соответствует ли строка заданному паттерну\n",
    "- Searching -- поиск подстрок, соответствующих паттерну, в тексте"
   ]
  },
  {
   "cell_type": "markdown",
   "id": "ce0e8d6c-e3e7-4f1c-9ead-71f598fa29f8",
   "metadata": {},
   "source": [
    "### Основные правила:\n",
    "\n",
    "#### Общее\n",
    "- любой неспециальный символ матчит себя\n",
    "- \".\" матчит любой символ\n",
    "- \"[abc]\" матчит любой символ внутри множества\n",
    "- \"[A-z]\", \"[0-9]\" и прочие сокращения (множества символов подряд в таблице ascii)\n",
    "- \"a*\" -- звездочка означает 0 или больше указанных символов подряд\n",
    "- \"a+\" -- + означает 1 или более указанных символов подряд\n",
    "- \"a{2,}\" -- N или больше символов подряд\n",
    "- \"a?\" -- один или ни одного\n",
    "- \"a{1, 5}\" -- в фигурных скобках можно указать точное количество. Левая цифра означает минимальное, правая -- максимальное\n",
    "- \"^regexp\" -- только подстроки в начале строки\n",
    "- \"rgexp$\" -- только подстроки, находящиеся в конце строки\n",
    "\n",
    "#### Специальные обобщающие символы\n",
    "`\\{small_letter}` -- специальный символ\n",
    "`\\{big_letter}` -- любой символ кроме специального символа \n",
    "\n",
    "- \\s -- пробельные символы\n",
    "- \\d -- цифра\n",
    "- \\w -- буква или _\n",
    "\n",
    "#### Lookarounds\n",
    "- \"(?=...)\" -- positive lookahead\n",
    "- \"(?<=...)\" -- positive lookbehind\n",
    "- \"(?!...)\" -- negative lookahead\n",
    "- \"(?<!...)\" -- negative loookbehind\n",
    "\n",
    "и прочее и прочее...\n",
    "\n",
    "\n",
    "**Дисклеймер**: Написать регулярку может быть гораздо сложнее, чем потом прочитать! "
   ]
  },
  {
   "cell_type": "markdown",
   "id": "51a1df7d-7762-4fd0-b628-74bef0d7defa",
   "metadata": {},
   "source": [
    "### Разберем несколько примеров"
   ]
  },
  {
   "cell_type": "code",
   "execution_count": 2,
   "id": "c366d902-029f-47ee-81c7-06364ad798e9",
   "metadata": {
    "collapsed": true,
    "jupyter": {
     "outputs_hidden": true
    }
   },
   "outputs": [],
   "source": [
    "import re"
   ]
  },
  {
   "cell_type": "code",
   "execution_count": 13,
   "id": "274838ed-22c5-43fd-b5bb-72563ceabfd5",
   "metadata": {
    "collapsed": true,
    "jupyter": {
     "outputs_hidden": true
    }
   },
   "outputs": [],
   "source": [
    "sample_string = 'Hello, world!'"
   ]
  },
  {
   "cell_type": "code",
   "execution_count": 15,
   "id": "66026ca2-3568-45d6-ae12-2cdef990da8d",
   "metadata": {
    "collapsed": true,
    "jupyter": {
     "outputs_hidden": true
    }
   },
   "outputs": [
    {
     "data": {
      "text/plain": [
       "<re.Match object; span=(0, 5), match='Hello'>"
      ]
     },
     "execution_count": 15,
     "metadata": {},
     "output_type": "execute_result"
    }
   ],
   "source": [
    "pattern = re.compile('[hH]ello')\n",
    "pattern.match(sample_string)"
   ]
  },
  {
   "cell_type": "code",
   "execution_count": 18,
   "id": "e7f76915-c507-407b-9829-b56d70749f16",
   "metadata": {
    "collapsed": true,
    "jupyter": {
     "outputs_hidden": true
    }
   },
   "outputs": [
    {
     "data": {
      "text/plain": [
       "['Hello']"
      ]
     },
     "execution_count": 18,
     "metadata": {},
     "output_type": "execute_result"
    }
   ],
   "source": [
    "pattern.findall(sample_string)"
   ]
  },
  {
   "cell_type": "code",
   "execution_count": 23,
   "id": "28e3de2f-ab80-44f3-9659-67a8176b4e40",
   "metadata": {
    "collapsed": true,
    "jupyter": {
     "outputs_hidden": true
    }
   },
   "outputs": [],
   "source": [
    "m = re.match(r'[hH]ello,? [a-z]*[.!]?$', sample_string)"
   ]
  },
  {
   "cell_type": "code",
   "execution_count": 33,
   "id": "dbc7170a-2293-424d-a3fd-4a07e8b6e01e",
   "metadata": {
    "collapsed": true,
    "jupyter": {
     "outputs_hidden": true
    }
   },
   "outputs": [
    {
     "data": {
      "text/plain": [
       "'Hello, world!'"
      ]
     },
     "execution_count": 33,
     "metadata": {},
     "output_type": "execute_result"
    }
   ],
   "source": [
    "sample_string[m.start():m.end()]"
   ]
  },
  {
   "cell_type": "code",
   "execution_count": 34,
   "id": "441bcfb3-7a49-4aa3-a535-826afa0b43bb",
   "metadata": {
    "collapsed": true,
    "jupyter": {
     "outputs_hidden": true
    }
   },
   "outputs": [
    {
     "data": {
      "text/plain": [
       "'Hello, world!'"
      ]
     },
     "execution_count": 34,
     "metadata": {},
     "output_type": "execute_result"
    }
   ],
   "source": [
    "m.group()"
   ]
  },
  {
   "cell_type": "code",
   "execution_count": 45,
   "id": "b1546d6e-5b45-40eb-b494-b63838d04aa7",
   "metadata": {
    "collapsed": true,
    "jupyter": {
     "outputs_hidden": true
    }
   },
   "outputs": [],
   "source": [
    "grouped_match = re.match(r'([hH]ello,?) [a-z]*[.!]?$', sample_string)"
   ]
  },
  {
   "cell_type": "code",
   "execution_count": 51,
   "id": "5a6f3ef3-a3cb-451f-add2-ca84053d5764",
   "metadata": {
    "collapsed": true,
    "jupyter": {
     "outputs_hidden": true
    }
   },
   "outputs": [
    {
     "data": {
      "text/plain": [
       "'Hello, world!'"
      ]
     },
     "execution_count": 51,
     "metadata": {},
     "output_type": "execute_result"
    }
   ],
   "source": [
    "grouped_match.group()"
   ]
  },
  {
   "cell_type": "code",
   "execution_count": 54,
   "id": "290a8722-d9f3-4f45-bdf2-86b1c391f496",
   "metadata": {
    "collapsed": true,
    "jupyter": {
     "outputs_hidden": true
    }
   },
   "outputs": [
    {
     "data": {
      "text/plain": [
       "('Hello,',)"
      ]
     },
     "execution_count": 54,
     "metadata": {},
     "output_type": "execute_result"
    }
   ],
   "source": [
    "grouped_match.groups()"
   ]
  },
  {
   "cell_type": "code",
   "execution_count": 69,
   "id": "f5154fc9-d720-4140-96df-48628eb553c3",
   "metadata": {
    "collapsed": true,
    "jupyter": {
     "outputs_hidden": true
    }
   },
   "outputs": [
    {
     "data": {
      "text/plain": [
       "<re.Match object; span=(4, 7), match='973'>"
      ]
     },
     "execution_count": 69,
     "metadata": {},
     "output_type": "execute_result"
    }
   ],
   "source": [
    "re.search(r'\\d{1,3}', 'rfhe97346fevbv78')"
   ]
  },
  {
   "cell_type": "code",
   "execution_count": 70,
   "id": "72557731-057d-4fc2-9f24-724383b26dd6",
   "metadata": {
    "collapsed": true,
    "jupyter": {
     "outputs_hidden": true
    }
   },
   "outputs": [
    {
     "data": {
      "text/plain": [
       "['973', '46', '78']"
      ]
     },
     "execution_count": 70,
     "metadata": {},
     "output_type": "execute_result"
    }
   ],
   "source": [
    "re.findall(r'\\d{1,3}', 'rfhe97346fevbv78')"
   ]
  },
  {
   "cell_type": "code",
   "execution_count": 74,
   "id": "e9a30163-1eee-4bcd-ade9-a3e129179cac",
   "metadata": {
    "collapsed": true,
    "jupyter": {
     "outputs_hidden": true
    }
   },
   "outputs": [
    {
     "data": {
      "text/plain": [
       "'rfheцифрыfevbv78'"
      ]
     },
     "execution_count": 74,
     "metadata": {},
     "output_type": "execute_result"
    }
   ],
   "source": [
    "re.sub(r'\\d{3,5}', 'цифры', 'rfhe97346fevbv78')"
   ]
  },
  {
   "cell_type": "markdown",
   "id": "34eb3f1d-f97a-4d26-a84e-8de953573dd3",
   "metadata": {},
   "source": [
    "Как можно закодировать время в формате `dd:dd`?"
   ]
  },
  {
   "cell_type": "code",
   "execution_count": null,
   "id": "d7ca92ff-1826-453f-b2d9-d7769be08ab4",
   "metadata": {
    "collapsed": true,
    "jupyter": {
     "outputs_hidden": true
    }
   },
   "outputs": [],
   "source": []
  },
  {
   "cell_type": "markdown",
   "id": "21c4441f-02b0-4101-a1fc-edb376ea00f6",
   "metadata": {},
   "source": [
    "**Lookarounds**"
   ]
  },
  {
   "cell_type": "code",
   "execution_count": 214,
   "id": "695e964c-e3e7-4ea6-8dab-d9c075112abf",
   "metadata": {
    "collapsed": true,
    "jupyter": {
     "outputs_hidden": true
    }
   },
   "outputs": [],
   "source": [
    "er_words = 'math teacher physics teacher scheduler funny monster creepy monster'"
   ]
  },
  {
   "cell_type": "code",
   "execution_count": 220,
   "id": "ba411b5e-9091-45c7-9d71-ec794c36120b",
   "metadata": {
    "collapsed": true,
    "jupyter": {
     "outputs_hidden": true
    }
   },
   "outputs": [
    {
     "name": "stdout",
     "output_type": "stream",
     "text": [
      "math \n",
      "physics \n"
     ]
    }
   ],
   "source": [
    "for m in re.finditer('\\w+ (?=teacher)', er_words):\n",
    "    print(er_words[m.start():m.end()])"
   ]
  },
  {
   "cell_type": "code",
   "execution_count": 221,
   "id": "4b18c717-070d-4a95-b5c0-7e5181197fc7",
   "metadata": {
    "collapsed": true,
    "jupyter": {
     "outputs_hidden": true
    }
   },
   "outputs": [
    {
     "data": {
      "text/plain": [
       "['math ', 'physics ']"
      ]
     },
     "execution_count": 221,
     "metadata": {},
     "output_type": "execute_result"
    }
   ],
   "source": [
    "re.findall('\\w+ (?=teacher)', er_words)"
   ]
  },
  {
   "cell_type": "code",
   "execution_count": 224,
   "id": "ef230c2c-a8b2-4ff2-972e-e4b29522b146",
   "metadata": {
    "collapsed": true,
    "jupyter": {
     "outputs_hidden": true
    }
   },
   "outputs": [
    {
     "name": "stdout",
     "output_type": "stream",
     "text": [
      "20 28  teacher\n"
     ]
    }
   ],
   "source": [
    "for m in re.finditer('(?<!math) teacher', er_words):\n",
    "    print(m.start(), m.end(), er_words[m.start():m.end()])"
   ]
  },
  {
   "cell_type": "markdown",
   "id": "f613022a-c013-4310-bb19-e28d768c7f38",
   "metadata": {},
   "source": [
    "## Fun regexp tasks"
   ]
  },
  {
   "cell_type": "markdown",
   "id": "1439f636-2f74-4582-8d55-394e3211d09a",
   "metadata": {},
   "source": [
    "Пример с логом apache\n",
    "\n",
    "`cat error.log.14 | grep -P '[A-Z0-9]+: .*restart'`"
   ]
  },
  {
   "cell_type": "markdown",
   "id": "4a6c1e9d-e98e-4964-8623-7bb223cde713",
   "metadata": {},
   "source": [
    "### E-mails\n",
    "\n",
    "Вы увидели, что у соседнего курса в открытом доступе выложены личные данные лекторов, семинаристов и ассистентов! Как хорошие программисты, вы конечно же забеспокоились о приватности данных незадачливых коллег и решили тайком  удалить все их личные почты из общего файла. При этом, вы хотите, чтобы с ними можно было связаться, поэтому университетские почты вы в файле оставляете.\n",
    "\n",
    "**Задача:** \n",
    "- Прочитать данные из файла\n",
    "- Вывести все e-mail'ы из файла\n",
    "- Модифицировать файл таким образом, чтобы все почты не относящиеся к доменам @hse.ru или @edu.hse.ru были заменены на фразу \"Pr1v@cY REstorED\"\n",
    "\n",
    "\n",
    "PS Если вы умеете работать с командной строчкой в linux или mac os, попробуйте решить задачку в терминале. Вам можешь помочь команда `ssed`"
   ]
  },
  {
   "cell_type": "markdown",
   "id": "8811c867-7973-4bfe-a6fb-15662789221f",
   "metadata": {},
   "source": [
    "### Погенерируем пароли\n",
    "\n",
    "Вы наконец-то обеспокоились своей безопасностью в сети и решили обновить все свои пароли. Однако придумывать все самим для всех ваших сайтов вам, конечно, лень. Поэтому вы решили написать программу, которая это сделает за вас!\n",
    "\n",
    "Сгенерируйте случайный пароль длины N. Убедитесь, что получившийся пароль на самом деле хороший. В нашем случае это:\n",
    "1. Содержит хотя бы две заглавные буквы подряд\n",
    "2. Содержит хотя бы две строчные буквы подряд\n",
    "3. Не содержит пробельные спецсимволы (\\t, \\n и подобные)\n",
    "4. Не содержит трех цифр подряд\n",
    "5. Содержит и русские, и английские буквы \n",
    "\n",
    "Ваш код должен генерировать пароли, пока они не удовлетворят заданным условиям."
   ]
  },
  {
   "cell_type": "markdown",
   "id": "b052161d-b06e-437c-8793-b5673e9c30bb",
   "metadata": {},
   "source": [
    "## Creation"
   ]
  },
  {
   "cell_type": "code",
   "execution_count": 406,
   "id": "be10bde0-5235-4f99-8e5e-46a46e1ace02",
   "metadata": {
    "collapsed": true,
    "jupyter": {
     "outputs_hidden": true
    }
   },
   "outputs": [
    {
     "name": "stdout",
     "output_type": "stream",
     "text": [
      "{} <class 'dict'>\n"
     ]
    }
   ],
   "source": [
    "some_empty_dict = dict()\n",
    "print(some_empty_dict, type(some_empty_dict))"
   ]
  },
  {
   "cell_type": "markdown",
   "id": "25de9c0f-d6d1-4fad-85d6-f7eaf736c1a8",
   "metadata": {},
   "source": [
    "### Simple example"
   ]
  },
  {
   "cell_type": "code",
   "execution_count": 407,
   "id": "4c55b5ca-3f24-44c3-8165-5726c2a9ba78",
   "metadata": {
    "collapsed": true,
    "jupyter": {
     "outputs_hidden": true
    }
   },
   "outputs": [
    {
     "data": {
      "text/plain": [
       "{'name': 'Denis',\n",
       " 'year': 2015,\n",
       " 'core subjects': ('Statistics', 'Algorimthms'),\n",
       " 'optional subjects': ['Urban Studies', 'Basic Physics'],\n",
       " 42: 'always the answer',\n",
       " (42,): 'always the answer'}"
      ]
     },
     "execution_count": 407,
     "metadata": {},
     "output_type": "execute_result"
    }
   ],
   "source": [
    "student_card = {\n",
    "    'name': 'Denis',\n",
    "    'year': 2015,\n",
    "    'core subjects': ('Statistics', 'Algorimthms'),\n",
    "    'optional subjects': ['Urban Studies', 'Basic Physics'],\n",
    "    42: 'always the answer',\n",
    "    (42,): 'always the answer',\n",
    "}\n",
    "\n",
    "student_card"
   ]
  },
  {
   "cell_type": "markdown",
   "id": "43ad6315-5fed-43ab-9f79-05d736062ee0",
   "metadata": {},
   "source": [
    "## Внутри"
   ]
  },
  {
   "cell_type": "markdown",
   "id": "b63f4b3a-d14c-40ad-a40a-8875e31c9b6b",
   "metadata": {},
   "source": [
    "Ключ может быть только hashable"
   ]
  },
  {
   "cell_type": "markdown",
   "id": "3eebf3ff-1da7-4894-b12c-6661f0ba5296",
   "metadata": {},
   "source": [
    "    An object is hashable if it has a hash value which never changes during its lifetime (it\n",
    "    needs a __hash__() method), and can be compared to other objects (it needs an\n",
    "    __eq__() method). Hashable objects which compare equal must have the same hash\n",
    "    value. […]"
   ]
  },
  {
   "cell_type": "markdown",
   "id": "56bb4c66-f1ee-418d-8f39-577e6fb71d88",
   "metadata": {},
   "source": [
    "Данное требование существует, потому что внутри dict -- это hash таблица!"
   ]
  },
  {
   "cell_type": "markdown",
   "id": "af390abe-ff56-4284-bd02-d8da9c3040c4",
   "metadata": {},
   "source": [
    "Операции доставания значения по ключу, добавления и проверки нахождения -- в среднем **O(1)**. \n",
    "\n",
    "` Может быть O(n), если у вас отвратительная хеш-функция `"
   ]
  },
  {
   "cell_type": "markdown",
   "id": "ee2a36e0-049b-4356-bca3-3c0d243fd1d8",
   "metadata": {},
   "source": [
    "![hashtable](https://upload.wikimedia.org/wikipedia/commons/thumb/7/7d/Hash_table_3_1_1_0_1_0_0_SP.svg/1200px-Hash_table_3_1_1_0_1_0_0_SP.svg.png)"
   ]
  },
  {
   "cell_type": "markdown",
   "id": "0c200311-49e5-4dbb-904d-225fd2ed013c",
   "metadata": {},
   "source": [
    "## Basic operations"
   ]
  },
  {
   "cell_type": "markdown",
   "id": "6a75fbf8-828c-4309-baaa-b3f8ed316651",
   "metadata": {},
   "source": [
    "### Get values"
   ]
  },
  {
   "cell_type": "code",
   "execution_count": 413,
   "id": "8832faa6-6ddd-4dd7-9869-b47a48e7da83",
   "metadata": {
    "collapsed": true,
    "jupyter": {
     "outputs_hidden": true
    }
   },
   "outputs": [
    {
     "data": {
      "text/plain": [
       "'Denis'"
      ]
     },
     "execution_count": 413,
     "metadata": {},
     "output_type": "execute_result"
    }
   ],
   "source": [
    "student_card.get('name', 'key is not there')"
   ]
  },
  {
   "cell_type": "markdown",
   "id": "0730035a-4c63-4864-b08a-b8faa1087936",
   "metadata": {},
   "source": [
    "### Remove values"
   ]
  },
  {
   "cell_type": "code",
   "execution_count": 417,
   "id": "7961c571-bb1a-4efd-96a6-91ba04dcd883",
   "metadata": {
    "collapsed": true,
    "jupyter": {
     "outputs_hidden": true
    }
   },
   "outputs": [
    {
     "data": {
      "text/plain": [
       "'always the answer'"
      ]
     },
     "execution_count": 417,
     "metadata": {},
     "output_type": "execute_result"
    }
   ],
   "source": [
    "student_card.pop((42,))"
   ]
  },
  {
   "cell_type": "code",
   "execution_count": 418,
   "id": "57c923d7-ddfd-4f0f-bd4d-243cd827be2d",
   "metadata": {
    "collapsed": true,
    "jupyter": {
     "outputs_hidden": true
    }
   },
   "outputs": [
    {
     "data": {
      "text/plain": [
       "{'name': 'Denis',\n",
       " 'year': 2015,\n",
       " 'core subjects': ('Statistics', 'Algorimthms'),\n",
       " 'optional subjects': ['Urban Studies', 'Basic Physics'],\n",
       " 42: 'always the answer'}"
      ]
     },
     "execution_count": 418,
     "metadata": {},
     "output_type": "execute_result"
    }
   ],
   "source": [
    "student_card"
   ]
  },
  {
   "cell_type": "markdown",
   "id": "f1acc7a0-89ac-4626-ab29-86eabd8ea7fd",
   "metadata": {},
   "source": [
    "### Update with many `key:value` pairs"
   ]
  },
  {
   "cell_type": "code",
   "execution_count": 419,
   "id": "c7e06014-9d45-49d8-8307-b5ae5496da50",
   "metadata": {
    "collapsed": true,
    "jupyter": {
     "outputs_hidden": true
    }
   },
   "outputs": [],
   "source": [
    "student_card.update({'a': 1, 'b': 2})"
   ]
  },
  {
   "cell_type": "code",
   "execution_count": 420,
   "id": "e95f324b-6303-45fd-94fd-beb9968c9a82",
   "metadata": {
    "collapsed": true,
    "jupyter": {
     "outputs_hidden": true
    }
   },
   "outputs": [
    {
     "data": {
      "text/plain": [
       "{'name': 'Denis',\n",
       " 'year': 2015,\n",
       " 'core subjects': ('Statistics', 'Algorimthms'),\n",
       " 'optional subjects': ['Urban Studies', 'Basic Physics'],\n",
       " 42: 'always the answer',\n",
       " 'a': 1,\n",
       " 'b': 2}"
      ]
     },
     "execution_count": 420,
     "metadata": {},
     "output_type": "execute_result"
    }
   ],
   "source": [
    "student_card"
   ]
  },
  {
   "cell_type": "markdown",
   "id": "6307aa2b-c987-4a65-8040-5868c25c9b39",
   "metadata": {},
   "source": [
    "### Iterate over"
   ]
  },
  {
   "cell_type": "code",
   "execution_count": 421,
   "id": "a83d4541-0d97-4bdf-b3f4-60bd73100939",
   "metadata": {
    "collapsed": true,
    "jupyter": {
     "outputs_hidden": true
    }
   },
   "outputs": [
    {
     "name": "stdout",
     "output_type": "stream",
     "text": [
      "name Denis\n",
      "year 2015\n",
      "core subjects ('Statistics', 'Algorimthms')\n",
      "optional subjects ['Urban Studies', 'Basic Physics']\n",
      "42 always the answer\n",
      "a 1\n",
      "b 2\n"
     ]
    }
   ],
   "source": [
    "for key, value in student_card.items():\n",
    "    print(key, value)"
   ]
  },
  {
   "cell_type": "code",
   "execution_count": 429,
   "id": "84d454c2-3720-4a4b-a4ec-cbf9d27a9393",
   "metadata": {
    "collapsed": true,
    "jupyter": {
     "outputs_hidden": true
    }
   },
   "outputs": [
    {
     "data": {
      "text/plain": [
       "dict_values(['Denis', 2015, ('Statistics', 'Algorimthms'), ['Urban Studies', 'Basic Physics'], 'always the answer', 1, 2])"
      ]
     },
     "execution_count": 429,
     "metadata": {},
     "output_type": "execute_result"
    }
   ],
   "source": [
    "student_card.values()"
   ]
  },
  {
   "cell_type": "markdown",
   "id": "b9b44fae-2664-40dc-978a-984d26254524",
   "metadata": {},
   "source": [
    "### clear"
   ]
  },
  {
   "cell_type": "code",
   "execution_count": 432,
   "id": "8935d050-30b6-486b-906d-be7db5fb9679",
   "metadata": {
    "collapsed": true,
    "jupyter": {
     "outputs_hidden": true
    }
   },
   "outputs": [],
   "source": [
    "student_card.clear()"
   ]
  },
  {
   "cell_type": "code",
   "execution_count": 433,
   "id": "73b8c0fb-d106-417b-bb61-1bbb1898aaec",
   "metadata": {
    "collapsed": true,
    "jupyter": {
     "outputs_hidden": true
    }
   },
   "outputs": [
    {
     "data": {
      "text/plain": [
       "{}"
      ]
     },
     "execution_count": 433,
     "metadata": {},
     "output_type": "execute_result"
    }
   ],
   "source": [
    "student_card"
   ]
  },
  {
   "cell_type": "markdown",
   "id": "6b6dd547-382b-4f2b-b67c-6ff6364f7bd2",
   "metadata": {},
   "source": [
    "## Sample task\n",
    "\n",
    "### Let's count unique symbols in a string!"
   ]
  },
  {
   "cell_type": "code",
   "execution_count": 1,
   "id": "465b1d5c-2f52-4524-ac91-2ac06e55dcda",
   "metadata": {
    "collapsed": true,
    "jupyter": {
     "outputs_hidden": true
    }
   },
   "outputs": [],
   "source": [
    "sample_string = 'Eddie ate dynamite, goodbye Eddie'"
   ]
  },
  {
   "cell_type": "code",
   "execution_count": 464,
   "id": "153a0373-a7eb-4354-b104-7407c1ee50a3",
   "metadata": {
    "collapsed": true,
    "jupyter": {
     "outputs_hidden": true
    }
   },
   "outputs": [],
   "source": [
    "symbols = {}\n",
    "\n",
    "# your code\n",
    "symbols = {s.lower(): sample_string.lower().count(s) for s in sample_string}"
   ]
  },
  {
   "cell_type": "code",
   "execution_count": 463,
   "id": "868a07b7-6824-4f23-9954-a22c4d9955f4",
   "metadata": {
    "collapsed": true,
    "jupyter": {
     "outputs_hidden": true
    }
   },
   "outputs": [
    {
     "data": {
      "text/plain": [
       "{'e': 7,\n",
       " 'd': 6,\n",
       " 'i': 3,\n",
       " ' ': 4,\n",
       " 'a': 2,\n",
       " 't': 2,\n",
       " 'y': 2,\n",
       " 'n': 1,\n",
       " 'm': 1,\n",
       " ',': 1,\n",
       " 'g': 1,\n",
       " 'o': 2,\n",
       " 'b': 1}"
      ]
     },
     "execution_count": 463,
     "metadata": {},
     "output_type": "execute_result"
    }
   ],
   "source": [
    "symbols"
   ]
  },
  {
   "cell_type": "markdown",
   "id": "05e9dbd9-d678-475b-ae6a-91b951dd96a9",
   "metadata": {},
   "source": [
    "What can we do to make our solution above better?\n",
    "\n",
    "Bonus: try to use `defaultdict` *(from collections import defaultdict)*"
   ]
  },
  {
   "cell_type": "markdown",
   "id": "57eeaeb4-358a-4ca9-b933-f0598a031f5a",
   "metadata": {},
   "source": [
    "### Count unique words in a sentence.\n",
    "\n",
    "You may want to use:\n",
    "- `re.split` -- split words in string by non-word charachters"
   ]
  },
  {
   "cell_type": "code",
   "execution_count": 2,
   "id": "94989845-0887-4afb-a501-c140fdcd5f8c",
   "metadata": {
    "collapsed": true,
    "jupyter": {
     "outputs_hidden": true
    }
   },
   "outputs": [],
   "source": [
    "sample_text = \"The secret menu reveals a business model that goes beyond a right to repair issue, Sullivan argues. It represents, as he describes it, nothing short of a milkshake shakedown: Sell franchisees a complicated and fragile machine. Prevent them from figuring out why it constantly breaks. Take a cut of the distributors’ profit from the repairs. “It’s a huge money maker to have a customer that’s purposefully, intentionally blind and unable to make very fundamental changes to their own equipment,” Sullivan says. And McDonald’s presides over all of it, he says, insisting on loyalty to its longtime supplier. (Resist the McDonald’s monarchy on decisions like equipment, and the corporation can end a restaurant’s lease on the literal ground beneath it, which McDonald's owns under its franchise agreement.)\""
   ]
  },
  {
   "cell_type": "code",
   "execution_count": 8,
   "id": "1bf0a0df-9eb7-454e-a511-d6d2a92192af",
   "metadata": {
    "collapsed": true,
    "jupyter": {
     "outputs_hidden": true
    }
   },
   "outputs": [
    {
     "data": {
      "text/plain": [
       "['the',\n",
       " 'secret',\n",
       " 'menu',\n",
       " 'reveals',\n",
       " 'a',\n",
       " 'business',\n",
       " 'model',\n",
       " 'that',\n",
       " 'goes',\n",
       " 'beyond',\n",
       " 'a',\n",
       " 'right',\n",
       " 'to',\n",
       " 'repair',\n",
       " 'issue',\n",
       " 'sullivan',\n",
       " 'argues',\n",
       " 'it',\n",
       " 'represents',\n",
       " 'as',\n",
       " 'he',\n",
       " 'describes',\n",
       " 'it',\n",
       " 'nothing',\n",
       " 'short',\n",
       " 'of',\n",
       " 'a',\n",
       " 'milkshake',\n",
       " 'shakedown',\n",
       " 'sell',\n",
       " 'franchisees',\n",
       " 'a',\n",
       " 'complicated',\n",
       " 'and',\n",
       " 'fragile',\n",
       " 'machine',\n",
       " 'prevent',\n",
       " 'them',\n",
       " 'from',\n",
       " 'figuring',\n",
       " 'out',\n",
       " 'why',\n",
       " 'it',\n",
       " 'constantly',\n",
       " 'breaks',\n",
       " 'take',\n",
       " 'a',\n",
       " 'cut',\n",
       " 'of',\n",
       " 'the',\n",
       " 'distributors',\n",
       " 'profit',\n",
       " 'from',\n",
       " 'the',\n",
       " 'repairs',\n",
       " 'it’s',\n",
       " 'a',\n",
       " 'huge',\n",
       " 'money',\n",
       " 'maker',\n",
       " 'to',\n",
       " 'have',\n",
       " 'a',\n",
       " 'customer',\n",
       " 'that’s',\n",
       " 'purposefully',\n",
       " 'intentionally',\n",
       " 'blind',\n",
       " 'and',\n",
       " 'unable',\n",
       " 'to',\n",
       " 'make',\n",
       " 'very',\n",
       " 'fundamental',\n",
       " 'changes',\n",
       " 'to',\n",
       " 'their',\n",
       " 'own',\n",
       " 'equipment',\n",
       " 'sullivan',\n",
       " 'says',\n",
       " 'and',\n",
       " 'mcdonald’s',\n",
       " 'presides',\n",
       " 'over',\n",
       " 'all',\n",
       " 'of',\n",
       " 'it',\n",
       " 'he',\n",
       " 'says',\n",
       " 'insisting',\n",
       " 'on',\n",
       " 'loyalty',\n",
       " 'to',\n",
       " 'its',\n",
       " 'longtime',\n",
       " 'supplier',\n",
       " 'resist',\n",
       " 'the',\n",
       " 'mcdonald’s',\n",
       " 'monarchy',\n",
       " 'on',\n",
       " 'decisions',\n",
       " 'like',\n",
       " 'equipment',\n",
       " 'and',\n",
       " 'the',\n",
       " 'corporation',\n",
       " 'can',\n",
       " 'end',\n",
       " 'a',\n",
       " 'restaurant’s',\n",
       " 'lease',\n",
       " 'on',\n",
       " 'the',\n",
       " 'literal',\n",
       " 'ground',\n",
       " 'beneath',\n",
       " 'it',\n",
       " 'which',\n",
       " \"mcdonald's\",\n",
       " 'owns',\n",
       " 'under',\n",
       " 'its',\n",
       " 'franchise',\n",
       " 'agreement']"
      ]
     },
     "execution_count": 8,
     "metadata": {},
     "output_type": "execute_result"
    }
   ],
   "source": [
    "text_new = re.split(\"\\s|\\W{2,}\", sample_text.lower())[:-1]\n",
    "text_new"
   ]
  },
  {
   "cell_type": "code",
   "execution_count": 9,
   "id": "e9f8c281-f89d-4183-9f28-f79d7e77ba19",
   "metadata": {
    "collapsed": true,
    "jupyter": {
     "outputs_hidden": true
    }
   },
   "outputs": [],
   "source": [
    "words = {word : text_new.count(word) for word in text_new}"
   ]
  },
  {
   "cell_type": "code",
   "execution_count": 4,
   "id": "908f952a-b02c-45b2-8979-5ba3dcd2331a",
   "metadata": {
    "collapsed": true,
    "jupyter": {
     "outputs_hidden": true
    }
   },
   "outputs": [],
   "source": [
    "import re\n",
    "\n",
    "words = {}\n",
    "\n",
    "# your code\n",
    "for word in re.split('\\W', sample_text):  # split by non-word chars\n",
    "    word = word.lower()\n",
    "    if word.isalnum():\n",
    "        if word in words:\n",
    "            words[word] += 1\n",
    "        else:\n",
    "            words[word] = 1\n",
    "words"
   ]
  },
  {
   "cell_type": "code",
   "execution_count": 168,
   "id": "ca84db04-bed4-43ae-88c5-56e3102ec344",
   "metadata": {
    "collapsed": true,
    "jupyter": {
     "outputs_hidden": true
    }
   },
   "outputs": [
    {
     "data": {
      "text/plain": [
       "{'the': 6,\n",
       " 'secret': 1,\n",
       " 'menu': 1,\n",
       " 'reveals': 1,\n",
       " 'a': 8,\n",
       " 'business': 1,\n",
       " 'model': 1,\n",
       " 'that': 2,\n",
       " 'goes': 1,\n",
       " 'beyond': 1,\n",
       " 'right': 1,\n",
       " 'to': 5,\n",
       " 'repair': 1,\n",
       " 'issue': 1,\n",
       " 'sullivan': 2,\n",
       " 'argues': 1,\n",
       " 'it': 6,\n",
       " 'represents': 1,\n",
       " 'as': 1,\n",
       " 'he': 2,\n",
       " 'describes': 1,\n",
       " 'nothing': 1,\n",
       " 'short': 1,\n",
       " 'of': 3,\n",
       " 'milkshake': 1,\n",
       " 'shakedown': 1,\n",
       " 'sell': 1,\n",
       " 'franchisees': 1,\n",
       " 'complicated': 1,\n",
       " 'and': 4,\n",
       " 'fragile': 1,\n",
       " 'machine': 1,\n",
       " 'prevent': 1,\n",
       " 'them': 1,\n",
       " 'from': 2,\n",
       " 'figuring': 1,\n",
       " 'out': 1,\n",
       " 'why': 1,\n",
       " 'constantly': 1,\n",
       " 'breaks': 1,\n",
       " 'take': 1,\n",
       " 'cut': 1,\n",
       " 'distributors': 1,\n",
       " 'profit': 1,\n",
       " 'repairs': 1,\n",
       " 's': 6,\n",
       " 'huge': 1,\n",
       " 'money': 1,\n",
       " 'maker': 1,\n",
       " 'have': 1,\n",
       " 'customer': 1,\n",
       " 'purposefully': 1,\n",
       " 'intentionally': 1,\n",
       " 'blind': 1,\n",
       " 'unable': 1,\n",
       " 'make': 1,\n",
       " 'very': 1,\n",
       " 'fundamental': 1,\n",
       " 'changes': 1,\n",
       " 'their': 1,\n",
       " 'own': 1,\n",
       " 'equipment': 2,\n",
       " 'says': 2,\n",
       " 'mcdonald': 3,\n",
       " 'presides': 1,\n",
       " 'over': 1,\n",
       " 'all': 1,\n",
       " 'insisting': 1,\n",
       " 'on': 3,\n",
       " 'loyalty': 1,\n",
       " 'its': 2,\n",
       " 'longtime': 1,\n",
       " 'supplier': 1,\n",
       " 'resist': 1,\n",
       " 'monarchy': 1,\n",
       " 'decisions': 1,\n",
       " 'like': 1,\n",
       " 'corporation': 1,\n",
       " 'can': 1,\n",
       " 'end': 1,\n",
       " 'restaurant': 1,\n",
       " 'lease': 1,\n",
       " 'literal': 1,\n",
       " 'ground': 1,\n",
       " 'beneath': 1,\n",
       " 'which': 1,\n",
       " 'owns': 1,\n",
       " 'under': 1,\n",
       " 'franchise': 1,\n",
       " 'agreement': 1}"
      ]
     },
     "execution_count": 168,
     "metadata": {},
     "output_type": "execute_result"
    }
   ],
   "source": [
    "words"
   ]
  },
  {
   "cell_type": "markdown",
   "id": "adabfaef-ec69-4892-952d-d9b2cd45801e",
   "metadata": {},
   "source": [
    "Коллекция уникальных объектов"
   ]
  },
  {
   "cell_type": "code",
   "execution_count": 438,
   "id": "85d31935-3620-4d71-9786-305c53a8211e",
   "metadata": {
    "collapsed": true,
    "jupyter": {
     "outputs_hidden": true
    }
   },
   "outputs": [
    {
     "data": {
      "text/plain": [
       "{'one', 'two'}"
      ]
     },
     "execution_count": 438,
     "metadata": {},
     "output_type": "execute_result"
    }
   ],
   "source": [
    "a = ['one', 'two', 'two', 'one']\n",
    "set(a)"
   ]
  },
  {
   "cell_type": "markdown",
   "id": "bac047d2-6b07-4ad7-8db2-2a4d77c6fa18",
   "metadata": {},
   "source": [
    "set -- mutable, frozenset -- immutable"
   ]
  },
  {
   "cell_type": "code",
   "execution_count": 439,
   "id": "5abe89ce-5ffe-4dd3-ba06-516819f5c9a4",
   "metadata": {
    "collapsed": true,
    "jupyter": {
     "outputs_hidden": true
    }
   },
   "outputs": [],
   "source": [
    "first_set = {1, 2, 3, 4, 5}\n",
    "second_set = {4, 5, 6, 7, 8}"
   ]
  },
  {
   "cell_type": "code",
   "execution_count": 440,
   "id": "3bf495f0-148e-437e-8b6d-fb808b72a709",
   "metadata": {
    "collapsed": true,
    "jupyter": {
     "outputs_hidden": true
    }
   },
   "outputs": [
    {
     "data": {
      "text/plain": [
       "({4, 5}, {4, 5})"
      ]
     },
     "execution_count": 440,
     "metadata": {},
     "output_type": "execute_result"
    }
   ],
   "source": [
    "first_set & second_set, first_set.intersection(second_set)"
   ]
  },
  {
   "cell_type": "code",
   "execution_count": 441,
   "id": "dbd3f9a8-564c-4d35-82e7-a1a458dac4bb",
   "metadata": {
    "collapsed": true,
    "jupyter": {
     "outputs_hidden": true
    }
   },
   "outputs": [
    {
     "data": {
      "text/plain": [
       "({1, 2, 3, 4, 5, 6, 7, 8}, {1, 2, 3, 4, 5, 6, 7, 8})"
      ]
     },
     "execution_count": 441,
     "metadata": {},
     "output_type": "execute_result"
    }
   ],
   "source": [
    "first_set | second_set, first_set.union(second_set)"
   ]
  },
  {
   "cell_type": "markdown",
   "id": "84638d4c-278b-45b1-a6d3-8859cc9d8f49",
   "metadata": {},
   "source": [
    "Внутри хеш-таблица, что дает нам операцию проверки вхождения за O(1) при хорошей хеш-функции\n",
    "\n",
    "Пример:"
   ]
  },
  {
   "cell_type": "code",
   "execution_count": 442,
   "id": "6da31dd6-fedd-44ab-9a64-4ff8ef49bcea",
   "metadata": {
    "collapsed": true,
    "jupyter": {
     "outputs_hidden": true
    }
   },
   "outputs": [],
   "source": [
    "import random"
   ]
  },
  {
   "cell_type": "code",
   "execution_count": 447,
   "id": "81e01dd3-d1a2-403b-985b-56f18b81b7c3",
   "metadata": {
    "collapsed": true,
    "jupyter": {
     "outputs_hidden": true
    }
   },
   "outputs": [],
   "source": [
    "good_values = set(range(100))\n",
    "\n",
    "filtered_values = []\n",
    "for i in range(100000):\n",
    "    val = random.randint(1, 500)\n",
    "    if val in good_values:\n",
    "        filtered_values.append(val)"
   ]
  },
  {
   "cell_type": "code",
   "execution_count": 448,
   "id": "2eedd09a-b0d0-4905-b1c2-469993631d92",
   "metadata": {
    "collapsed": true,
    "jupyter": {
     "outputs_hidden": true
    }
   },
   "outputs": [],
   "source": [
    "assert len(list(filter(lambda x: x >= 100, filtered_values))) == 0"
   ]
  }
 ],
 "metadata": {
  "kernelspec": {
   "display_name": "ml-env",
   "language": "python",
   "name": "ml-env"
  },
  "language_info": {
   "codemirror_mode": {
    "name": "ipython",
    "version": 3
   },
   "file_extension": ".py",
   "mimetype": "text/x-python",
   "name": "python",
   "nbconvert_exporter": "python",
   "pygments_lexer": "ipython3",
   "version": "3.8.13"
  }
 },
 "nbformat": 4,
 "nbformat_minor": 5
}
