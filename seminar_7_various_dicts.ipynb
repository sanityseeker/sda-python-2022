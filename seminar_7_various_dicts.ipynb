{
 "cells": [
  {
   "cell_type": "markdown",
   "id": "f1510d04",
   "metadata": {},
   "source": [
    "# reduce, accumulate"
   ]
  },
  {
   "cell_type": "code",
   "execution_count": 3,
   "id": "be3aee66",
   "metadata": {
    "ExecuteTime": {
     "end_time": "2022-09-29T01:11:42.993355Z",
     "start_time": "2022-09-29T01:11:42.987460Z"
    }
   },
   "outputs": [],
   "source": [
    "import operator\n",
    "\n",
    "from functools import reduce\n",
    "from itertools import accumulate"
   ]
  },
  {
   "cell_type": "code",
   "execution_count": null,
   "id": "8bf38192",
   "metadata": {},
   "outputs": [],
   "source": []
  },
  {
   "cell_type": "markdown",
   "id": "1f10e6c1",
   "metadata": {},
   "source": [
    "**Count certain type of events**"
   ]
  },
  {
   "cell_type": "code",
   "execution_count": 5,
   "id": "a22112ef",
   "metadata": {
    "ExecuteTime": {
     "end_time": "2022-09-29T01:16:24.254898Z",
     "start_time": "2022-09-29T01:16:24.249213Z"
    }
   },
   "outputs": [],
   "source": [
    "event_log = [\n",
    "    (11214, 'search', 5),\n",
    "    (11215, 'item_view', 1),\n",
    "    (11216, 'item_viewphone', 10),\n",
    "    (11217, 'item_view', 2),\n",
    "    (11218, 'item_viewphone', 4),\n",
    "    (11219, 'item_view', 6),\n",
    "    (11210, 'item_viewphone', 2),\n",
    "    (11234, 'item_view', 4),\n",
    "    (11264, 'item_view', 3),\n",
    "    (11224, 'item_viewphone', 1),\n",
    "    (11204, 'search', 6),\n",
    "    (12214, 'search', 34),\n",
    "    (13214, 'item_view', 3),\n",
    "    (14214, 'item_view', 1000),\n",
    "    (15214, 'item_viewphone', 2000),\n",
    "    (16214, 'item_viewphone', 3444),\n",
    "    (17214, 'item_view', 0),\n",
    "    (18214, 'item_viewphone', 12),\n",
    "    (19214, 'search', 244),\n",
    "    (29214, 'item_viewphone', 4),\n",
    "    (30214, 'item_view', 56),\n",
    "    (48214, 'item_viewphone', 5),\n",
    "    (67214, 'item_view', 2),\n",
    "]"
   ]
  },
  {
   "cell_type": "markdown",
   "id": "85c75dcd",
   "metadata": {},
   "source": [
    "1. Посчитать количество аномальных полей"
   ]
  },
  {
   "cell_type": "code",
   "execution_count": null,
   "id": "b72a352e",
   "metadata": {},
   "outputs": [],
   "source": [
    "# "
   ]
  },
  {
   "cell_type": "markdown",
   "id": "f287637b",
   "metadata": {},
   "source": [
    "2. Посчитать общее количество событий по неаномальным полям"
   ]
  },
  {
   "cell_type": "code",
   "execution_count": 6,
   "id": "1ba5e34b",
   "metadata": {
    "ExecuteTime": {
     "end_time": "2022-09-29T01:17:57.962098Z",
     "start_time": "2022-09-29T01:17:57.956599Z"
    }
   },
   "outputs": [],
   "source": [
    "eventtype = 'item_view'\n",
    "\n",
    "# code"
   ]
  },
  {
   "cell_type": "markdown",
   "id": "ce0ab696",
   "metadata": {},
   "source": [
    "# Dicts"
   ]
  },
  {
   "cell_type": "markdown",
   "id": "bd126c63",
   "metadata": {},
   "source": [
    "## Creation"
   ]
  },
  {
   "cell_type": "code",
   "execution_count": 406,
   "id": "157e4657",
   "metadata": {},
   "outputs": [
    {
     "name": "stdout",
     "output_type": "stream",
     "text": [
      "{} <class 'dict'>\n"
     ]
    }
   ],
   "source": [
    "some_empty_dict = dict()\n",
    "print(some_empty_dict, type(some_empty_dict))"
   ]
  },
  {
   "cell_type": "markdown",
   "id": "442dc1e0",
   "metadata": {},
   "source": [
    "### Simple example"
   ]
  },
  {
   "cell_type": "code",
   "execution_count": 407,
   "id": "cc2ce912",
   "metadata": {},
   "outputs": [
    {
     "data": {
      "text/plain": [
       "{'name': 'Denis',\n",
       " 'year': 2015,\n",
       " 'core subjects': ('Statistics', 'Algorimthms'),\n",
       " 'optional subjects': ['Urban Studies', 'Basic Physics'],\n",
       " 42: 'always the answer',\n",
       " (42,): 'always the answer'}"
      ]
     },
     "execution_count": 407,
     "metadata": {},
     "output_type": "execute_result"
    }
   ],
   "source": [
    "student_card = {\n",
    "    'name': 'Denis',\n",
    "    'year': 2015,\n",
    "    'core subjects': ('Statistics', 'Algorimthms'),\n",
    "    'optional subjects': ['Urban Studies', 'Basic Physics'],\n",
    "    42: 'always the answer',\n",
    "    (42,): 'always the answer',\n",
    "}\n",
    "\n",
    "student_card"
   ]
  },
  {
   "cell_type": "markdown",
   "id": "8ec20b73",
   "metadata": {},
   "source": [
    "## Внутри"
   ]
  },
  {
   "cell_type": "markdown",
   "id": "0af4eb35",
   "metadata": {},
   "source": [
    "Ключ может быть только hashable"
   ]
  },
  {
   "cell_type": "markdown",
   "id": "f7c07457",
   "metadata": {},
   "source": [
    "    An object is hashable if it has a hash value which never changes during its lifetime (it\n",
    "    needs a __hash__() method), and can be compared to other objects (it needs an\n",
    "    __eq__() method). Hashable objects which compare equal must have the same hash\n",
    "    value. […]"
   ]
  },
  {
   "cell_type": "markdown",
   "id": "6e7627ef",
   "metadata": {},
   "source": [
    "Данное требование существует, потому что внутри dict -- это hash таблица!"
   ]
  },
  {
   "cell_type": "markdown",
   "id": "44cac078",
   "metadata": {},
   "source": [
    "Операции доставания значения по ключу, добавления и проверки нахождения -- в среднем **O(1)**. \n",
    "\n",
    "` Может быть O(n), если у вас отвратительная хеш-функция `"
   ]
  },
  {
   "cell_type": "markdown",
   "id": "a6e29f62",
   "metadata": {},
   "source": [
    "![hashtable](https://upload.wikimedia.org/wikipedia/commons/thumb/7/7d/Hash_table_3_1_1_0_1_0_0_SP.svg/1200px-Hash_table_3_1_1_0_1_0_0_SP.svg.png)"
   ]
  },
  {
   "cell_type": "markdown",
   "id": "35680796",
   "metadata": {},
   "source": [
    "## Basic operations"
   ]
  },
  {
   "cell_type": "markdown",
   "id": "b1162add",
   "metadata": {},
   "source": [
    "### Get values"
   ]
  },
  {
   "cell_type": "code",
   "execution_count": 413,
   "id": "4e79e416",
   "metadata": {},
   "outputs": [
    {
     "data": {
      "text/plain": [
       "'Denis'"
      ]
     },
     "execution_count": 413,
     "metadata": {},
     "output_type": "execute_result"
    }
   ],
   "source": [
    "student_card.get('name', 'key is not there')"
   ]
  },
  {
   "cell_type": "markdown",
   "id": "2e0b6efa",
   "metadata": {},
   "source": [
    "### Remove values"
   ]
  },
  {
   "cell_type": "code",
   "execution_count": 417,
   "id": "b7825737",
   "metadata": {},
   "outputs": [
    {
     "data": {
      "text/plain": [
       "'always the answer'"
      ]
     },
     "execution_count": 417,
     "metadata": {},
     "output_type": "execute_result"
    }
   ],
   "source": [
    "student_card.pop((42,))"
   ]
  },
  {
   "cell_type": "code",
   "execution_count": 418,
   "id": "b3681e1d",
   "metadata": {},
   "outputs": [
    {
     "data": {
      "text/plain": [
       "{'name': 'Denis',\n",
       " 'year': 2015,\n",
       " 'core subjects': ('Statistics', 'Algorimthms'),\n",
       " 'optional subjects': ['Urban Studies', 'Basic Physics'],\n",
       " 42: 'always the answer'}"
      ]
     },
     "execution_count": 418,
     "metadata": {},
     "output_type": "execute_result"
    }
   ],
   "source": [
    "student_card"
   ]
  },
  {
   "cell_type": "markdown",
   "id": "00c71455",
   "metadata": {},
   "source": [
    "### Update with many `key:value` pairs"
   ]
  },
  {
   "cell_type": "code",
   "execution_count": 419,
   "id": "8a038738",
   "metadata": {},
   "outputs": [],
   "source": [
    "student_card.update({'a': 1, 'b': 2})"
   ]
  },
  {
   "cell_type": "code",
   "execution_count": 420,
   "id": "c33f67e2",
   "metadata": {},
   "outputs": [
    {
     "data": {
      "text/plain": [
       "{'name': 'Denis',\n",
       " 'year': 2015,\n",
       " 'core subjects': ('Statistics', 'Algorimthms'),\n",
       " 'optional subjects': ['Urban Studies', 'Basic Physics'],\n",
       " 42: 'always the answer',\n",
       " 'a': 1,\n",
       " 'b': 2}"
      ]
     },
     "execution_count": 420,
     "metadata": {},
     "output_type": "execute_result"
    }
   ],
   "source": [
    "student_card"
   ]
  },
  {
   "cell_type": "markdown",
   "id": "fcdd6263",
   "metadata": {},
   "source": [
    "### Iterate over"
   ]
  },
  {
   "cell_type": "code",
   "execution_count": 421,
   "id": "a517d82f",
   "metadata": {},
   "outputs": [
    {
     "name": "stdout",
     "output_type": "stream",
     "text": [
      "name Denis\n",
      "year 2015\n",
      "core subjects ('Statistics', 'Algorimthms')\n",
      "optional subjects ['Urban Studies', 'Basic Physics']\n",
      "42 always the answer\n",
      "a 1\n",
      "b 2\n"
     ]
    }
   ],
   "source": [
    "for key, value in student_card.items():\n",
    "    print(key, value)"
   ]
  },
  {
   "cell_type": "code",
   "execution_count": 429,
   "id": "9bd592b0",
   "metadata": {},
   "outputs": [
    {
     "data": {
      "text/plain": [
       "dict_values(['Denis', 2015, ('Statistics', 'Algorimthms'), ['Urban Studies', 'Basic Physics'], 'always the answer', 1, 2])"
      ]
     },
     "execution_count": 429,
     "metadata": {},
     "output_type": "execute_result"
    }
   ],
   "source": [
    "student_card.values()"
   ]
  },
  {
   "cell_type": "markdown",
   "id": "c8f8a6b5",
   "metadata": {},
   "source": [
    "### clear"
   ]
  },
  {
   "cell_type": "code",
   "execution_count": 432,
   "id": "a37529b2",
   "metadata": {},
   "outputs": [],
   "source": [
    "student_card.clear()"
   ]
  },
  {
   "cell_type": "code",
   "execution_count": 433,
   "id": "bc082cf8",
   "metadata": {},
   "outputs": [
    {
     "data": {
      "text/plain": [
       "{}"
      ]
     },
     "execution_count": 433,
     "metadata": {},
     "output_type": "execute_result"
    }
   ],
   "source": [
    "student_card"
   ]
  },
  {
   "cell_type": "markdown",
   "id": "9e2dd433",
   "metadata": {},
   "source": [
    "## Sample task\n",
    "\n",
    "### Let's count unique symbols in a string!"
   ]
  },
  {
   "cell_type": "code",
   "execution_count": 1,
   "id": "de0f8733",
   "metadata": {},
   "outputs": [],
   "source": [
    "sample_string = 'Eddie ate dynamite, goodbye Eddie'"
   ]
  },
  {
   "cell_type": "code",
   "execution_count": 464,
   "id": "84901775",
   "metadata": {},
   "outputs": [],
   "source": [
    "symbols = {}\n",
    "\n",
    "# your code\n"
   ]
  },
  {
   "cell_type": "code",
   "execution_count": 463,
   "id": "11f442c5",
   "metadata": {},
   "outputs": [
    {
     "data": {
      "text/plain": [
       "{'e': 7,\n",
       " 'd': 6,\n",
       " 'i': 3,\n",
       " ' ': 4,\n",
       " 'a': 2,\n",
       " 't': 2,\n",
       " 'y': 2,\n",
       " 'n': 1,\n",
       " 'm': 1,\n",
       " ',': 1,\n",
       " 'g': 1,\n",
       " 'o': 2,\n",
       " 'b': 1}"
      ]
     },
     "execution_count": 463,
     "metadata": {},
     "output_type": "execute_result"
    }
   ],
   "source": [
    "symbols"
   ]
  },
  {
   "cell_type": "markdown",
   "id": "fa9043db",
   "metadata": {},
   "source": [
    "What can we do to make our solution above better?\n",
    "\n",
    "Bonus: try to use `defaultdict` *(from collections import defaultdict)*"
   ]
  },
  {
   "cell_type": "markdown",
   "id": "01154650",
   "metadata": {},
   "source": [
    "### Count unique words in a sentence.\n",
    "\n",
    "You may want to use:\n",
    "- `re.split` -- split words in string by non-word charachters"
   ]
  },
  {
   "cell_type": "code",
   "execution_count": 2,
   "id": "3d46df96",
   "metadata": {},
   "outputs": [],
   "source": [
    "sample_text = \"The secret menu reveals a business model that goes beyond a right to repair issue, Sullivan argues. It represents, as he describes it, nothing short of a milkshake shakedown: Sell franchisees a complicated and fragile machine. Prevent them from figuring out why it constantly breaks. Take a cut of the distributors’ profit from the repairs. “It’s a huge money maker to have a customer that’s purposefully, intentionally blind and unable to make very fundamental changes to their own equipment,” Sullivan says. And McDonald’s presides over all of it, he says, insisting on loyalty to its longtime supplier. (Resist the McDonald’s monarchy on decisions like equipment, and the corporation can end a restaurant’s lease on the literal ground beneath it, which McDonald's owns under its franchise agreement.)\""
   ]
  },
  {
   "cell_type": "code",
   "execution_count": 4,
   "id": "976f5067",
   "metadata": {},
   "outputs": [],
   "source": [
    "import re\n",
    "\n",
    "words = {}\n",
    "\n",
    "# your code"
   ]
  },
  {
   "cell_type": "code",
   "execution_count": 168,
   "id": "17b0f6cc",
   "metadata": {},
   "outputs": [
    {
     "data": {
      "text/plain": [
       "{'the': 6,\n",
       " 'secret': 1,\n",
       " 'menu': 1,\n",
       " 'reveals': 1,\n",
       " 'a': 8,\n",
       " 'business': 1,\n",
       " 'model': 1,\n",
       " 'that': 2,\n",
       " 'goes': 1,\n",
       " 'beyond': 1,\n",
       " 'right': 1,\n",
       " 'to': 5,\n",
       " 'repair': 1,\n",
       " 'issue': 1,\n",
       " 'sullivan': 2,\n",
       " 'argues': 1,\n",
       " 'it': 6,\n",
       " 'represents': 1,\n",
       " 'as': 1,\n",
       " 'he': 2,\n",
       " 'describes': 1,\n",
       " 'nothing': 1,\n",
       " 'short': 1,\n",
       " 'of': 3,\n",
       " 'milkshake': 1,\n",
       " 'shakedown': 1,\n",
       " 'sell': 1,\n",
       " 'franchisees': 1,\n",
       " 'complicated': 1,\n",
       " 'and': 4,\n",
       " 'fragile': 1,\n",
       " 'machine': 1,\n",
       " 'prevent': 1,\n",
       " 'them': 1,\n",
       " 'from': 2,\n",
       " 'figuring': 1,\n",
       " 'out': 1,\n",
       " 'why': 1,\n",
       " 'constantly': 1,\n",
       " 'breaks': 1,\n",
       " 'take': 1,\n",
       " 'cut': 1,\n",
       " 'distributors': 1,\n",
       " 'profit': 1,\n",
       " 'repairs': 1,\n",
       " 's': 6,\n",
       " 'huge': 1,\n",
       " 'money': 1,\n",
       " 'maker': 1,\n",
       " 'have': 1,\n",
       " 'customer': 1,\n",
       " 'purposefully': 1,\n",
       " 'intentionally': 1,\n",
       " 'blind': 1,\n",
       " 'unable': 1,\n",
       " 'make': 1,\n",
       " 'very': 1,\n",
       " 'fundamental': 1,\n",
       " 'changes': 1,\n",
       " 'their': 1,\n",
       " 'own': 1,\n",
       " 'equipment': 2,\n",
       " 'says': 2,\n",
       " 'mcdonald': 3,\n",
       " 'presides': 1,\n",
       " 'over': 1,\n",
       " 'all': 1,\n",
       " 'insisting': 1,\n",
       " 'on': 3,\n",
       " 'loyalty': 1,\n",
       " 'its': 2,\n",
       " 'longtime': 1,\n",
       " 'supplier': 1,\n",
       " 'resist': 1,\n",
       " 'monarchy': 1,\n",
       " 'decisions': 1,\n",
       " 'like': 1,\n",
       " 'corporation': 1,\n",
       " 'can': 1,\n",
       " 'end': 1,\n",
       " 'restaurant': 1,\n",
       " 'lease': 1,\n",
       " 'literal': 1,\n",
       " 'ground': 1,\n",
       " 'beneath': 1,\n",
       " 'which': 1,\n",
       " 'owns': 1,\n",
       " 'under': 1,\n",
       " 'franchise': 1,\n",
       " 'agreement': 1}"
      ]
     },
     "execution_count": 168,
     "metadata": {},
     "output_type": "execute_result"
    }
   ],
   "source": [
    "words"
   ]
  },
  {
   "cell_type": "markdown",
   "id": "d1101d46",
   "metadata": {},
   "source": [
    "# Sets"
   ]
  },
  {
   "cell_type": "markdown",
   "id": "f237c19c",
   "metadata": {},
   "source": [
    "Коллекция уникальных объектов"
   ]
  },
  {
   "cell_type": "code",
   "execution_count": 438,
   "id": "3050d765",
   "metadata": {},
   "outputs": [
    {
     "data": {
      "text/plain": [
       "{'one', 'two'}"
      ]
     },
     "execution_count": 438,
     "metadata": {},
     "output_type": "execute_result"
    }
   ],
   "source": [
    "a = ['one', 'two', 'two', 'one']\n",
    "set(a)"
   ]
  },
  {
   "cell_type": "markdown",
   "id": "6354a3c1",
   "metadata": {},
   "source": [
    "set -- mutable, frozenset -- immutable"
   ]
  },
  {
   "cell_type": "code",
   "execution_count": 439,
   "id": "3de613e7",
   "metadata": {},
   "outputs": [],
   "source": [
    "first_set = {1, 2, 3, 4, 5}\n",
    "second_set = {4, 5, 6, 7, 8}"
   ]
  },
  {
   "cell_type": "code",
   "execution_count": 440,
   "id": "3f04a1d8",
   "metadata": {},
   "outputs": [
    {
     "data": {
      "text/plain": [
       "({4, 5}, {4, 5})"
      ]
     },
     "execution_count": 440,
     "metadata": {},
     "output_type": "execute_result"
    }
   ],
   "source": [
    "first_set & second_set, first_set.intersection(second_set)"
   ]
  },
  {
   "cell_type": "code",
   "execution_count": 441,
   "id": "029c0fb6",
   "metadata": {},
   "outputs": [
    {
     "data": {
      "text/plain": [
       "({1, 2, 3, 4, 5, 6, 7, 8}, {1, 2, 3, 4, 5, 6, 7, 8})"
      ]
     },
     "execution_count": 441,
     "metadata": {},
     "output_type": "execute_result"
    }
   ],
   "source": [
    "first_set | second_set, first_set.union(second_set)"
   ]
  },
  {
   "cell_type": "markdown",
   "id": "7eec30ac",
   "metadata": {},
   "source": [
    "Внутри хеш-таблица, что дает нам операцию проверки вхождения за O(1) при хорошей хеш-функции\n",
    "\n",
    "Пример:"
   ]
  },
  {
   "cell_type": "code",
   "execution_count": 442,
   "id": "dea35448",
   "metadata": {},
   "outputs": [],
   "source": [
    "import random"
   ]
  },
  {
   "cell_type": "code",
   "execution_count": 447,
   "id": "3ec4ce04",
   "metadata": {},
   "outputs": [],
   "source": [
    "good_values = set(range(100))\n",
    "\n",
    "filtered_values = []\n",
    "for i in range(100000):\n",
    "    val = random.randint(1, 500)\n",
    "    if val in good_values:\n",
    "        filtered_values.append(val)"
   ]
  },
  {
   "cell_type": "code",
   "execution_count": 448,
   "id": "22d437d0",
   "metadata": {},
   "outputs": [],
   "source": [
    "assert len(list(filter(lambda x: x >= 100, filtered_values))) == 0"
   ]
  },
  {
   "cell_type": "markdown",
   "id": "046b85fb",
   "metadata": {},
   "source": [
    "# Продолжаем про декораторы "
   ]
  },
  {
   "cell_type": "markdown",
   "id": "1e498b66",
   "metadata": {},
   "source": [
    "## Замена исходной функции"
   ]
  },
  {
   "cell_type": "markdown",
   "id": "669b53ef",
   "metadata": {},
   "source": [
    "Функция, возвращаемая декоратором, заменяет декорируемую"
   ]
  },
  {
   "cell_type": "code",
   "execution_count": 136,
   "id": "b059f7ec",
   "metadata": {},
   "outputs": [],
   "source": [
    "def deco(func):\n",
    "    def inner():\n",
    "        print('running inner()')\n",
    "    return inner"
   ]
  },
  {
   "cell_type": "code",
   "execution_count": 139,
   "id": "0cf88fc2",
   "metadata": {},
   "outputs": [],
   "source": [
    "def target():\n",
    "    print('running target()')"
   ]
  },
  {
   "cell_type": "code",
   "execution_count": 140,
   "id": "d22e2ba0",
   "metadata": {},
   "outputs": [],
   "source": [
    "@deco\n",
    "def target():\n",
    "    print('running target()')"
   ]
  },
  {
   "cell_type": "code",
   "execution_count": 141,
   "id": "b7cd210f",
   "metadata": {},
   "outputs": [
    {
     "name": "stdout",
     "output_type": "stream",
     "text": [
      "running inner()\n"
     ]
    }
   ],
   "source": [
    "target()"
   ]
  },
  {
   "cell_type": "code",
   "execution_count": 143,
   "id": "1761e656",
   "metadata": {},
   "outputs": [
    {
     "data": {
      "text/plain": [
       "<function __main__.deco.<locals>.inner()>"
      ]
     },
     "execution_count": 143,
     "metadata": {},
     "output_type": "execute_result"
    }
   ],
   "source": [
    "target  # now reference to inner "
   ]
  },
  {
   "cell_type": "markdown",
   "id": "2573aabc",
   "metadata": {},
   "source": [
    "## Running at import time"
   ]
  },
  {
   "cell_type": "markdown",
   "id": "52272992",
   "metadata": {},
   "source": [
    "Key feature декораторов в том, что они применяются сразу после объявления декорируемой функции во время загрузки модуля в Python "
   ]
  },
  {
   "cell_type": "code",
   "execution_count": 147,
   "id": "3bc71b96",
   "metadata": {},
   "outputs": [
    {
     "name": "stdout",
     "output_type": "stream",
     "text": [
      "running register <function f1 at 0x7f6c72626f80>\n",
      "running register <function f2 at 0x7f6c72626ef0>\n"
     ]
    }
   ],
   "source": [
    "registry = []\n",
    "\n",
    "def register(func):\n",
    "    print(f'running register {func}')\n",
    "    registry.append(func)\n",
    "    return func\n",
    "\n",
    "@register\n",
    "def f1():\n",
    "    print('running f1()')\n",
    "    \n",
    "@register\n",
    "def f2():\n",
    "    print('running f2()')\n",
    "\n",
    "def f3():\n",
    "    print('running f3()')\n",
    "    \n",
    "def run():\n",
    "    print('running run()')\n",
    "    print('registry', registry)\n",
    "    f1()\n",
    "    f2()\n",
    "    f3()"
   ]
  },
  {
   "cell_type": "code",
   "execution_count": 148,
   "id": "92a1c39a",
   "metadata": {},
   "outputs": [
    {
     "name": "stdout",
     "output_type": "stream",
     "text": [
      "running run()\n",
      "registry [<function f1 at 0x7f6c72626f80>, <function f2 at 0x7f6c72626ef0>]\n",
      "running f1()\n",
      "running f2()\n",
      "running f3()\n"
     ]
    }
   ],
   "source": [
    "run()"
   ]
  },
  {
   "cell_type": "markdown",
   "id": "8de116ca",
   "metadata": {},
   "source": [
    "## Декоратор-логгер"
   ]
  },
  {
   "cell_type": "markdown",
   "id": "30fdfa9c",
   "metadata": {},
   "source": [
    "### logging"
   ]
  },
  {
   "cell_type": "markdown",
   "id": "33e8f125",
   "metadata": {},
   "source": [
    " Модуль `logging` содержит набор функций для логирования различного поведения в вашей программе. Например, для понимания, что ваша программа работает как ожидается, или там идет что-то не так"
   ]
  },
  {
   "cell_type": "markdown",
   "id": "ef1cbd0a",
   "metadata": {},
   "source": [
    "Есть разные уровни логирования: debug, info, warning, error, critical"
   ]
  },
  {
   "cell_type": "code",
   "execution_count": 1,
   "id": "6bda9b05",
   "metadata": {
    "ExecuteTime": {
     "end_time": "2022-09-28T23:46:50.639247Z",
     "start_time": "2022-09-28T23:46:50.632857Z"
    }
   },
   "outputs": [],
   "source": [
    "import logging"
   ]
  },
  {
   "cell_type": "code",
   "execution_count": 2,
   "id": "88a69424",
   "metadata": {
    "ExecuteTime": {
     "end_time": "2022-09-28T23:47:41.188952Z",
     "start_time": "2022-09-28T23:47:41.180336Z"
    }
   },
   "outputs": [
    {
     "name": "stderr",
     "output_type": "stream",
     "text": [
      "WARNING:root:Smth might go wrong, check this!\n"
     ]
    }
   ],
   "source": [
    "logging.info('Working as expected')\n",
    "logging.warning('Smth might go wrong, check this!')"
   ]
  },
  {
   "cell_type": "markdown",
   "id": "36ac963d",
   "metadata": {},
   "source": [
    "Можно логировать в файл (надо начать новую сессию в Python)"
   ]
  },
  {
   "cell_type": "code",
   "execution_count": 15,
   "id": "500fceb4",
   "metadata": {
    "ExecuteTime": {
     "end_time": "2022-09-29T01:26:33.713156Z",
     "start_time": "2022-09-29T01:26:33.707004Z"
    }
   },
   "outputs": [],
   "source": [
    "import os\n",
    "import logging\n",
    "\n",
    "log_filename = os.path.join('data', 'example.log')\n",
    "log_level = logging.DEBUG\n",
    "\n",
    "logging.basicConfig(\n",
    "    filename=log_filename,\n",
    "    encoding='utf-8',\n",
    "    level=log_level,\n",
    "    format='%(asctime)s %(message)s'  # add time\n",
    ")\n",
    "\n",
    "logging.debug('One very thorough message to save in our log')\n",
    "logging.info('Just some info, also in log')\n",
    "logging.warning('Something might be wrong')\n",
    "logging.error('Logging our failure')"
   ]
  },
  {
   "cell_type": "code",
   "execution_count": 2,
   "id": "62e8c5a9",
   "metadata": {
    "ExecuteTime": {
     "end_time": "2022-09-29T00:04:14.323371Z",
     "start_time": "2022-09-29T00:04:14.204906Z"
    }
   },
   "outputs": [
    {
     "name": "stdout",
     "output_type": "stream",
     "text": [
      "2022-09-29 03:04:13,025 One very thorough message to save in our log\r\n",
      "2022-09-29 03:04:13,025 Just some info, also in log\r\n",
      "2022-09-29 03:04:13,025 Something might be wrong\r\n",
      "2022-09-29 03:04:13,025 Logging our failure\r\n"
     ]
    }
   ],
   "source": [
    "! cat data/example.log"
   ]
  },
  {
   "cell_type": "markdown",
   "id": "6cd053e1",
   "metadata": {},
   "source": [
    "### Напишем декоратор"
   ]
  },
  {
   "cell_type": "code",
   "execution_count": 1,
   "id": "a5e2db4a",
   "metadata": {
    "ExecuteTime": {
     "end_time": "2022-09-29T00:14:05.225248Z",
     "start_time": "2022-09-29T00:14:05.220609Z"
    }
   },
   "outputs": [],
   "source": [
    "import logging\n",
    "from functools import wraps, partial"
   ]
  },
  {
   "cell_type": "code",
   "execution_count": 22,
   "id": "9a478949",
   "metadata": {
    "ExecuteTime": {
     "end_time": "2022-09-29T00:22:27.196738Z",
     "start_time": "2022-09-29T00:22:27.190958Z"
    }
   },
   "outputs": [],
   "source": []
  },
  {
   "cell_type": "markdown",
   "id": "345ae124",
   "metadata": {},
   "source": [
    "Стоит посмотреть в сторону объявления отдельного объекта логгера с помощью getLogger"
   ]
  },
  {
   "cell_type": "code",
   "execution_count": 23,
   "id": "0563c895",
   "metadata": {
    "ExecuteTime": {
     "end_time": "2022-09-29T00:22:28.014625Z",
     "start_time": "2022-09-29T00:22:28.005576Z"
    }
   },
   "outputs": [
    {
     "data": {
      "text/plain": [
       "3"
      ]
     },
     "execution_count": 23,
     "metadata": {},
     "output_type": "execute_result"
    }
   ],
   "source": [
    "@logged(log_filename='test_log.log')\n",
    "def add(x, y):\n",
    "    return x + y\n",
    "\n",
    "add(1, 2)"
   ]
  },
  {
   "cell_type": "code",
   "execution_count": 25,
   "id": "87da1dee",
   "metadata": {
    "ExecuteTime": {
     "end_time": "2022-09-29T00:23:38.671169Z",
     "start_time": "2022-09-29T00:23:38.665229Z"
    }
   },
   "outputs": [],
   "source": [
    "import time"
   ]
  },
  {
   "cell_type": "code",
   "execution_count": 26,
   "id": "aa545941",
   "metadata": {
    "ExecuteTime": {
     "end_time": "2022-09-29T00:23:48.491886Z",
     "start_time": "2022-09-29T00:23:48.487424Z"
    }
   },
   "outputs": [],
   "source": [
    "@logged\n",
    "@clock(active=True)\n",
    "def add(x, y):\n",
    "    time.sleep(2)\n",
    "    return x + y"
   ]
  },
  {
   "cell_type": "code",
   "execution_count": 27,
   "id": "dde2e56e",
   "metadata": {
    "ExecuteTime": {
     "end_time": "2022-09-29T00:23:59.714746Z",
     "start_time": "2022-09-29T00:23:57.703529Z"
    }
   },
   "outputs": [
    {
     "name": "stdout",
     "output_type": "stream",
     "text": [
      "add((10, 10000000000)) -> 10000000010 executed in 2.00s\n"
     ]
    },
    {
     "data": {
      "text/plain": [
       "10000000010"
      ]
     },
     "execution_count": 27,
     "metadata": {},
     "output_type": "execute_result"
    }
   ],
   "source": [
    "add(10, 10**10)"
   ]
  },
  {
   "cell_type": "markdown",
   "id": "509ed4c1",
   "metadata": {
    "ExecuteTime": {
     "end_time": "2022-09-29T00:25:48.242814Z",
     "start_time": "2022-09-29T00:25:48.237247Z"
    }
   },
   "source": [
    "## Декоратор -- assert типов (2 балла)"
   ]
  },
  {
   "cell_type": "markdown",
   "id": "d61976d9",
   "metadata": {},
   "source": [
    "Мы уже говорили про type hints, а также про то, что никаких ошибок без использования сторонних модулей некорректные типы нам не дадут. Давайте реализуем логику проверки типов с помощью декоратора.\n",
    "\n",
    "Типы могут быть заданы как стандартными названиями, так и с использованыем модуля typing. Для Any пропускайте проверку"
   ]
  },
  {
   "cell_type": "code",
   "execution_count": 11,
   "id": "d56da320",
   "metadata": {
    "ExecuteTime": {
     "end_time": "2022-09-29T01:24:03.359218Z",
     "start_time": "2022-09-29T01:24:03.352879Z"
    }
   },
   "outputs": [],
   "source": [
    "from typing import Any"
   ]
  },
  {
   "cell_type": "code",
   "execution_count": 9,
   "id": "1b6f84b0",
   "metadata": {
    "ExecuteTime": {
     "end_time": "2022-09-29T01:22:10.141518Z",
     "start_time": "2022-09-29T01:22:10.137240Z"
    }
   },
   "outputs": [],
   "source": [
    "@check_types\n",
    "def func(a: int, b: str) -> str:\n",
    "    return a * b"
   ]
  },
  {
   "cell_type": "markdown",
   "id": "4691b0e8",
   "metadata": {
    "ExecuteTime": {
     "end_time": "2022-09-29T01:22:59.687912Z",
     "start_time": "2022-09-29T01:22:59.683005Z"
    }
   },
   "source": [
    "Стоит выбросить ValueError, если есть несовпадение между реальным и ожидаемым типом у какой-то из переданных переменных или у возвращаемого значения"
   ]
  },
  {
   "cell_type": "markdown",
   "id": "9a45cab7",
   "metadata": {
    "ExecuteTime": {
     "end_time": "2022-09-29T01:19:25.033928Z",
     "start_time": "2022-09-29T01:19:25.028889Z"
    }
   },
   "source": []
  }
 ],
 "metadata": {
  "kernelspec": {
   "display_name": "base-env",
   "language": "python",
   "name": "base-env"
  },
  "language_info": {
   "codemirror_mode": {
    "name": "ipython",
    "version": 3
   },
   "file_extension": ".py",
   "mimetype": "text/x-python",
   "name": "python",
   "nbconvert_exporter": "python",
   "pygments_lexer": "ipython3",
   "version": "3.9.12"
  },
  "toc": {
   "base_numbering": 1,
   "nav_menu": {},
   "number_sections": true,
   "sideBar": true,
   "skip_h1_title": false,
   "title_cell": "Table of Contents",
   "title_sidebar": "Contents",
   "toc_cell": false,
   "toc_position": {},
   "toc_section_display": true,
   "toc_window_display": true
  },
  "varInspector": {
   "cols": {
    "lenName": 16,
    "lenType": 16,
    "lenVar": 40
   },
   "kernels_config": {
    "python": {
     "delete_cmd_postfix": "",
     "delete_cmd_prefix": "del ",
     "library": "var_list.py",
     "varRefreshCmd": "print(var_dic_list())"
    },
    "r": {
     "delete_cmd_postfix": ") ",
     "delete_cmd_prefix": "rm(",
     "library": "var_list.r",
     "varRefreshCmd": "cat(var_dic_list()) "
    }
   },
   "types_to_exclude": [
    "module",
    "function",
    "builtin_function_or_method",
    "instance",
    "_Feature"
   ],
   "window_display": false
  }
 },
 "nbformat": 4,
 "nbformat_minor": 5
}
