{
 "cells": [
  {
   "cell_type": "markdown",
   "id": "60cb9275",
   "metadata": {},
   "source": [
    "# Продолжаем про декораторы "
   ]
  },
  {
   "cell_type": "markdown",
   "id": "1e498b66",
   "metadata": {},
   "source": [
    "## Замена исходной функции"
   ]
  },
  {
   "cell_type": "markdown",
   "id": "669b53ef",
   "metadata": {},
   "source": [
    "Функция, возвращаемая декоратором, заменяет декорируемую"
   ]
  },
  {
   "cell_type": "code",
   "execution_count": 136,
   "id": "b059f7ec",
   "metadata": {},
   "outputs": [],
   "source": [
    "def deco(func):\n",
    "    def inner():\n",
    "        print('running inner()')\n",
    "    return inner"
   ]
  },
  {
   "cell_type": "code",
   "execution_count": 139,
   "id": "0cf88fc2",
   "metadata": {},
   "outputs": [],
   "source": [
    "def target():\n",
    "    print('running target()')"
   ]
  },
  {
   "cell_type": "code",
   "execution_count": 140,
   "id": "d22e2ba0",
   "metadata": {},
   "outputs": [],
   "source": [
    "@deco\n",
    "def target():\n",
    "    print('running target()')"
   ]
  },
  {
   "cell_type": "code",
   "execution_count": 141,
   "id": "b7cd210f",
   "metadata": {},
   "outputs": [
    {
     "name": "stdout",
     "output_type": "stream",
     "text": [
      "running inner()\n"
     ]
    }
   ],
   "source": [
    "target()"
   ]
  },
  {
   "cell_type": "code",
   "execution_count": 143,
   "id": "1761e656",
   "metadata": {},
   "outputs": [
    {
     "data": {
      "text/plain": [
       "<function __main__.deco.<locals>.inner()>"
      ]
     },
     "execution_count": 143,
     "metadata": {},
     "output_type": "execute_result"
    }
   ],
   "source": [
    "target  # now reference to inner "
   ]
  },
  {
   "cell_type": "markdown",
   "id": "2573aabc",
   "metadata": {},
   "source": [
    "## Running at import time"
   ]
  },
  {
   "cell_type": "markdown",
   "id": "52272992",
   "metadata": {},
   "source": [
    "Key feature декораторов в том, что они применяются сразу после объявления декорируемой функции во время загрузки модуля в Python "
   ]
  },
  {
   "cell_type": "code",
   "execution_count": 147,
   "id": "3bc71b96",
   "metadata": {},
   "outputs": [
    {
     "name": "stdout",
     "output_type": "stream",
     "text": [
      "running register <function f1 at 0x7f6c72626f80>\n",
      "running register <function f2 at 0x7f6c72626ef0>\n"
     ]
    }
   ],
   "source": [
    "registry = []\n",
    "\n",
    "def register(func):\n",
    "    print(f'running register {func}')\n",
    "    registry.append(func)\n",
    "    return func\n",
    "\n",
    "@register\n",
    "def f1():\n",
    "    print('running f1()')\n",
    "    \n",
    "@register\n",
    "def f2():\n",
    "    print('running f2()')\n",
    "\n",
    "def f3():\n",
    "    print('running f3()')\n",
    "    \n",
    "def run():\n",
    "    print('running run()')\n",
    "    print('registry', registry)\n",
    "    f1()\n",
    "    f2()\n",
    "    f3()"
   ]
  },
  {
   "cell_type": "code",
   "execution_count": 148,
   "id": "92a1c39a",
   "metadata": {},
   "outputs": [
    {
     "name": "stdout",
     "output_type": "stream",
     "text": [
      "running run()\n",
      "registry [<function f1 at 0x7f6c72626f80>, <function f2 at 0x7f6c72626ef0>]\n",
      "running f1()\n",
      "running f2()\n",
      "running f3()\n"
     ]
    }
   ],
   "source": [
    "run()"
   ]
  },
  {
   "cell_type": "markdown",
   "id": "f3af0224",
   "metadata": {},
   "source": [
    "## Декоратор-логгер"
   ]
  },
  {
   "cell_type": "markdown",
   "id": "a8f69223",
   "metadata": {},
   "source": [
    "### logging"
   ]
  },
  {
   "cell_type": "markdown",
   "id": "2bf00a2d",
   "metadata": {},
   "source": [
    " Модуль `logging` содержит набор функций для логирования различного поведения в вашей программе. Например, для понимания, что ваша программа работает как ожидается, или там идет что-то не так"
   ]
  },
  {
   "cell_type": "markdown",
   "id": "a6881c30",
   "metadata": {},
   "source": [
    "Есть разные уровни логирования: debug, info, warning, error, critical"
   ]
  },
  {
   "cell_type": "code",
   "execution_count": 1,
   "id": "9c23d957",
   "metadata": {
    "ExecuteTime": {
     "end_time": "2022-09-28T23:46:50.639247Z",
     "start_time": "2022-09-28T23:46:50.632857Z"
    }
   },
   "outputs": [],
   "source": [
    "import logging"
   ]
  },
  {
   "cell_type": "code",
   "execution_count": 2,
   "id": "f5fd9c34",
   "metadata": {
    "ExecuteTime": {
     "end_time": "2022-09-28T23:47:41.188952Z",
     "start_time": "2022-09-28T23:47:41.180336Z"
    }
   },
   "outputs": [
    {
     "name": "stderr",
     "output_type": "stream",
     "text": [
      "WARNING:root:Smth might go wrong, check this!\n"
     ]
    }
   ],
   "source": [
    "logging.info('Working as expected')\n",
    "logging.warning('Smth might go wrong, check this!')"
   ]
  },
  {
   "cell_type": "markdown",
   "id": "6a8bb9fa",
   "metadata": {},
   "source": [
    "Можно логировать в файл (надо начать новую сессию в Python)"
   ]
  },
  {
   "cell_type": "code",
   "execution_count": 15,
   "id": "bc972ba4",
   "metadata": {
    "ExecuteTime": {
     "end_time": "2022-09-29T01:26:33.713156Z",
     "start_time": "2022-09-29T01:26:33.707004Z"
    }
   },
   "outputs": [],
   "source": [
    "import os\n",
    "import logging\n",
    "\n",
    "log_filename = os.path.join('data', 'example.log')\n",
    "log_level = logging.DEBUG\n",
    "\n",
    "logging.basicConfig(\n",
    "    filename=log_filename,\n",
    "    encoding='utf-8',\n",
    "    level=log_level,\n",
    "    format='%(asctime)s %(message)s'  # add time\n",
    ")\n",
    "\n",
    "logging.debug('One very thorough message to save in our log')\n",
    "logging.info('Just some info, also in log')\n",
    "logging.warning('Something might be wrong')\n",
    "logging.error('Logging our failure')"
   ]
  },
  {
   "cell_type": "code",
   "execution_count": 2,
   "id": "6bca9c13",
   "metadata": {
    "ExecuteTime": {
     "end_time": "2022-09-29T00:04:14.323371Z",
     "start_time": "2022-09-29T00:04:14.204906Z"
    }
   },
   "outputs": [
    {
     "name": "stdout",
     "output_type": "stream",
     "text": [
      "2022-09-29 03:04:13,025 One very thorough message to save in our log\n",
      "2022-09-29 03:04:13,025 Just some info, also in log\n",
      "2022-09-29 03:04:13,025 Something might be wrong\n",
      "2022-09-29 03:04:13,025 Logging our failure\n"
     ]
    }
   ],
   "source": [
    "! cat data/example.log"
   ]
  },
  {
   "cell_type": "markdown",
   "id": "bbe63dc5",
   "metadata": {},
   "source": [
    "### Напишем log-декоратор"
   ]
  },
  {
   "cell_type": "code",
   "execution_count": 103,
   "id": "498dfe8c",
   "metadata": {
    "ExecuteTime": {
     "end_time": "2022-09-30T01:12:26.207121Z",
     "start_time": "2022-09-30T01:12:26.200982Z"
    }
   },
   "outputs": [],
   "source": [
    "import logging\n",
    "import sys\n",
    "\n",
    "from functools import wraps, partial"
   ]
  },
  {
   "cell_type": "code",
   "execution_count": 155,
   "id": "a519d2b7",
   "metadata": {
    "ExecuteTime": {
     "end_time": "2022-09-30T01:21:58.944060Z",
     "start_time": "2022-09-30T01:21:58.939111Z"
    }
   },
   "outputs": [],
   "source": [
    "logger = logging.getLogger(name='log')\n",
    "logger.setLevel(logging.DEBUG)\n",
    "logger.addHandler(logging.StreamHandler(stream=sys.stdout))"
   ]
  },
  {
   "cell_type": "code",
   "execution_count": 159,
   "id": "94e9651c",
   "metadata": {
    "ExecuteTime": {
     "end_time": "2022-09-30T01:22:36.083106Z",
     "start_time": "2022-09-30T01:22:36.077708Z"
    }
   },
   "outputs": [],
   "source": [
    "def logged(func=None,\n",
    "           *,\n",
    "           log_level=logging.INFO,\n",
    "           log_name=None,\n",
    "           log_message=None):\n",
    "    \n",
    "    if func is None:\n",
    "        return partial(logged, log_level=log_level, log_name=log_name, log_message=log_message)\n",
    "    \n",
    "    log_name = log_name if log_name else func.__name__\n",
    "    log_message = log_message if log_message else func.__name__\n",
    "        \n",
    "    logger = logging.getLogger(log_name)\n",
    "    \n",
    "    @wraps(func)\n",
    "    def wrapper(*args, **kwargs):\n",
    "        logger.log(log_level, log_message)\n",
    "        return func(*args, **kwargs)\n",
    "    \n",
    "    return wrapper"
   ]
  },
  {
   "cell_type": "code",
   "execution_count": 160,
   "id": "92ba0db5",
   "metadata": {
    "ExecuteTime": {
     "end_time": "2022-09-30T01:22:36.772640Z",
     "start_time": "2022-09-30T01:22:36.766515Z"
    }
   },
   "outputs": [],
   "source": [
    "@logged(log_name='log')\n",
    "def add(x, y):\n",
    "    return x + y"
   ]
  },
  {
   "cell_type": "code",
   "execution_count": 161,
   "id": "936987c0",
   "metadata": {
    "ExecuteTime": {
     "end_time": "2022-09-30T01:22:37.139364Z",
     "start_time": "2022-09-30T01:22:37.124512Z"
    }
   },
   "outputs": [
    {
     "name": "stdout",
     "output_type": "stream",
     "text": [
      "add\n",
      "add\n",
      "add\n",
      "add\n",
      "add\n",
      "add\n",
      "add\n",
      "add\n",
      "add\n",
      "add\n",
      "add\n",
      "add\n",
      "add\n",
      "add\n",
      "add\n",
      "add\n"
     ]
    },
    {
     "name": "stderr",
     "output_type": "stream",
     "text": [
      "INFO:log:add\n"
     ]
    },
    {
     "data": {
      "text/plain": [
       "3"
      ]
     },
     "execution_count": 161,
     "metadata": {},
     "output_type": "execute_result"
    }
   ],
   "source": [
    "add(1, 2)"
   ]
  },
  {
   "cell_type": "markdown",
   "id": "57319f62",
   "metadata": {
    "ExecuteTime": {
     "end_time": "2022-09-30T01:22:51.949782Z",
     "start_time": "2022-09-30T01:22:51.943855Z"
    }
   },
   "source": [
    "Протестируем с декоратором с прошлых семинаров"
   ]
  },
  {
   "cell_type": "code",
   "execution_count": 164,
   "id": "13e94d89",
   "metadata": {
    "ExecuteTime": {
     "end_time": "2022-09-30T01:24:48.905560Z",
     "start_time": "2022-09-30T01:24:48.900721Z"
    }
   },
   "outputs": [],
   "source": [
    "def clock(func):\n",
    "    @wraps(func)\n",
    "    def clocked(*args):\n",
    "        t_start = time.time()\n",
    "        res = func(*args)\n",
    "        total_time = time.time() - t_start\n",
    "        print(f'{func.__name__}({args}) -> {res} executed in {total_time:.2f}s')\n",
    "        return res\n",
    "    return clocked"
   ]
  },
  {
   "cell_type": "code",
   "execution_count": 168,
   "id": "42e2d70d",
   "metadata": {
    "ExecuteTime": {
     "end_time": "2022-09-30T01:25:29.399717Z",
     "start_time": "2022-09-30T01:25:29.394475Z"
    }
   },
   "outputs": [],
   "source": [
    "@logged(log_name='log')\n",
    "@clock\n",
    "def add(x, y):\n",
    "    time.sleep(2)\n",
    "    return x + y"
   ]
  },
  {
   "cell_type": "code",
   "execution_count": 169,
   "id": "2e13076a",
   "metadata": {
    "ExecuteTime": {
     "end_time": "2022-09-30T01:25:31.958253Z",
     "start_time": "2022-09-30T01:25:29.938545Z"
    }
   },
   "outputs": [
    {
     "name": "stdout",
     "output_type": "stream",
     "text": [
      "add\n",
      "add\n",
      "add\n",
      "add\n",
      "add\n",
      "add\n",
      "add\n",
      "add\n",
      "add\n",
      "add\n",
      "add\n",
      "add\n",
      "add\n",
      "add\n",
      "add\n",
      "add\n"
     ]
    },
    {
     "name": "stderr",
     "output_type": "stream",
     "text": [
      "INFO:log:add\n"
     ]
    },
    {
     "name": "stdout",
     "output_type": "stream",
     "text": [
      "add((10, 10000000000)) -> 10000000010 executed in 2.00s\n"
     ]
    },
    {
     "data": {
      "text/plain": [
       "10000000010"
      ]
     },
     "execution_count": 169,
     "metadata": {},
     "output_type": "execute_result"
    }
   ],
   "source": [
    "add(10, 10**10)"
   ]
  },
  {
   "cell_type": "markdown",
   "id": "e3043b65",
   "metadata": {
    "ExecuteTime": {
     "end_time": "2022-09-29T00:25:48.242814Z",
     "start_time": "2022-09-29T00:25:48.237247Z"
    }
   },
   "source": [
    "## Декоратор -- assert типов (3 балла)"
   ]
  },
  {
   "cell_type": "markdown",
   "id": "d7da87ae",
   "metadata": {},
   "source": [
    "Мы уже говорили про type hints, а также про то, что никаких ошибок без использования сторонних модулей некорректные типы нам не дадут. Давайте реализуем логику проверки типов с помощью декоратора.\n",
    "\n",
    "Типы могут быть заданы как стандартными названиями, так и с использованыем модуля typing. Для Any пропускайте проверку"
   ]
  },
  {
   "cell_type": "code",
   "execution_count": 11,
   "id": "4577bf9c",
   "metadata": {
    "ExecuteTime": {
     "end_time": "2022-09-29T01:24:03.359218Z",
     "start_time": "2022-09-29T01:24:03.352879Z"
    }
   },
   "outputs": [],
   "source": [
    "from typing import Any"
   ]
  },
  {
   "cell_type": "code",
   "execution_count": 9,
   "id": "4f6e4775",
   "metadata": {
    "ExecuteTime": {
     "end_time": "2022-09-29T01:22:10.141518Z",
     "start_time": "2022-09-29T01:22:10.137240Z"
    }
   },
   "outputs": [],
   "source": [
    "@check_types\n",
    "def func(a: int, b: str) -> str:\n",
    "    return a * b"
   ]
  },
  {
   "cell_type": "markdown",
   "id": "dfd6d913",
   "metadata": {
    "ExecuteTime": {
     "end_time": "2022-09-29T01:22:59.687912Z",
     "start_time": "2022-09-29T01:22:59.683005Z"
    }
   },
   "source": [
    "Стоит выбросить ValueError, если есть несовпадение между реальным и ожидаемым типом у какой-то из переданных переменных или у возвращаемого значения"
   ]
  },
  {
   "cell_type": "markdown",
   "id": "14433448",
   "metadata": {
    "ExecuteTime": {
     "end_time": "2022-09-29T01:19:25.033928Z",
     "start_time": "2022-09-29T01:19:25.028889Z"
    }
   },
   "source": []
  },
  {
   "cell_type": "markdown",
   "id": "a4ba4594",
   "metadata": {},
   "source": [
    "# OOP"
   ]
  },
  {
   "cell_type": "markdown",
   "id": "7569ce2c",
   "metadata": {},
   "source": [
    "In Python, object-oriented Programming (OOPs) is a programming paradigm that uses objects and classes in programming. It aims to implement real-world entities like inheritance, polymorphisms, encapsulation, etc. in the programming. The main concept of OOPs is to bind the data and the functions that work on that together as a single unit so that no other part of the code can access this data."
   ]
  },
  {
   "cell_type": "markdown",
   "id": "d7c8b661",
   "metadata": {},
   "source": [
    "Язык может быть ориентирован на объекты, но программу, построенную по принципам ООП, можно написать и в языках, где нет как таковых классов/объектов. Например, на C, или на Go. "
   ]
  },
  {
   "cell_type": "markdown",
   "id": "ee244201",
   "metadata": {},
   "source": [
    "- **Абстракция**. \n",
    "\n",
    "Выделение значимой информации и использование наиболее важных характеристик объекта.\n",
    "Абстракция от общего к частному. Класс -> экземпляр класса, Базовый класс -> производный класс.\n",
    "\n",
    "Выделяем общее из частного. Притом то общее, с которым мы хотим работать.\n",
    "\n",
    "Пример абстракции. Если нам нужно, чтобы утка крякала и плавала, то все то, что крякает и плавает для нас будет уткой. Мы отбросили все частное, которое нам не нужно.\n",
    "\n",
    "Также абстракция бывает горизонтальной. Когда мы моделируем нечто с помощью массива (множество, дерево и пр.). С помощью одного и того же инструмента можем определять разное.\n",
    "\n",
    "Как это относится к ООП?\n",
    "\n",
    "\n",
    "- **Инкапсуляция**\n",
    "\n",
    "Логическое объединение данных и функций для работы с ними. Инструмент, который позволяет разделить действия, необходмые для разного уровня абстракций. \n",
    "\n",
    "Минимизация необходимого информационного пространства, за счет создания иерархии пространств имен (размещаем в объектке и его описание, и методы, которые с этим объектом работают). Нотация доступа к методам объекта через точку. Методы, поля и прочее и прочее и прочее. Посмотреть методы можно с помощью команды `dir()`.\n",
    "\n",
    "Следует заметить, что также часто используется также \"сокрытие\" определенных полей. Когда мы говорим, что внутри объекта есть еще поля, но мы вам их не покажем. В некоторых языках есть, например, \n",
    "\n",
    "\n",
    "- **Наследование**\n",
    "\n",
    "Повторное использование свойств объектов с описанием различий.\n",
    "\n",
    "Хотим, когда мы используем очередной класс объектов, мы могли сказать \"А можно сделать вот так же, как тут, только в некоторых пунктах мы делаем изменений\". Повторное использование кода.\n",
    "\n",
    "\n",
    "- **Полиморфизм**\n",
    "\n",
    "Предоставление одинаковых средств взаимодействия с объектами разной природы. Возможность для одного и того же кода обрабатывать данные разных типов. Duck typing в Python -- это из коробки\n",
    "\n",
    "\n",
    "Класс можно использовать как контейнер. Мы можем складывать в него дополнительные поля. Можно делать свои \"пространства имен\", и в них складывать какие-то методы. Например, можно сделать некоторый класс и объявить в нем свою функцию минимума. Или определить какое-то поле, например, value. И тогда value будет определена только в области видимости нашего класса"
   ]
  },
  {
   "cell_type": "markdown",
   "id": "833a40dd",
   "metadata": {},
   "source": [
    "**Class** \n",
    "A class is a collection of objects. A class contains the blueprints or the prototype from which the objects are being created. It is a logical entity that contains some attributes and methods. \n",
    "\n",
    "To understand the need for creating a class let’s consider an example, let’s say you wanted to track the number of dogs that may have different attributes like breed, age. If a list is used, the first element could be the dog’s breed while the second element could represent its age. Let’s suppose there are 100 different dogs, then how would you know which element is supposed to be which? What if you wanted to add other properties to these dogs? This lacks organization and it’s the exact need for classes. \n",
    "\n",
    "Some points on Python class:  \n",
    "\n",
    "Classes are created by keyword class.\n",
    "Attributes are the variables that belong to a class.\n",
    "Attributes are always public and can be accessed using the dot (.) operator. Eg.: Myclass.Myattribute"
   ]
  },
  {
   "cell_type": "markdown",
   "id": "fbdf03ae",
   "metadata": {},
   "source": [
    "**Objects**\n",
    "The object is an entity that has a state and behavior associated with it. It may be any real-world object like a mouse, keyboard, chair, table, pen, etc. Integers, strings, floating-point numbers, even arrays, and dictionaries, are all objects. More specifically, any single integer or any single string is an object. The number 12 is an object, the string “Hello, world” is an object, a list is an object that can hold other objects, and so on. You’ve been using objects all along and may not even realize it."
   ]
  },
  {
   "cell_type": "markdown",
   "id": "f8011fcd",
   "metadata": {},
   "source": [
    "*An object consists of :*\n",
    "\n",
    "- State: It is represented by the attributes of an object. It also reflects the properties of an object.\n",
    "\n",
    "- Behavior: It is represented by the methods of an object. It also reflects the response of an object to other objects.\n",
    "\n",
    "- Identity: It gives a unique name to an object and enables one object to interact with other objects."
   ]
  },
  {
   "cell_type": "markdown",
   "id": "3fb3dea7",
   "metadata": {},
   "source": [
    "## Обработка исключений"
   ]
  },
  {
   "cell_type": "code",
   "execution_count": 4,
   "id": "5c852d00",
   "metadata": {
    "ExecuteTime": {
     "end_time": "2022-10-06T11:24:55.272633Z",
     "start_time": "2022-10-06T11:24:55.267634Z"
    }
   },
   "outputs": [
    {
     "name": "stdout",
     "output_type": "stream",
     "text": [
      "impossible to modify object\n"
     ]
    }
   ],
   "source": [
    "a = '1234'\n",
    "\n",
    "try:\n",
    "    a[0] = '10'\n",
    "except:\n",
    "    print('impossible to modify object')"
   ]
  },
  {
   "cell_type": "code",
   "execution_count": 5,
   "id": "48d8b516",
   "metadata": {
    "ExecuteTime": {
     "end_time": "2022-10-06T11:25:00.866327Z",
     "start_time": "2022-10-06T11:25:00.861712Z"
    }
   },
   "outputs": [
    {
     "name": "stdout",
     "output_type": "stream",
     "text": [
      "impossible to modify object\n"
     ]
    }
   ],
   "source": [
    "a = '1234'\n",
    "\n",
    "try:\n",
    "    a[0] = '10'\n",
    "except BaseException:\n",
    "    print('impossible to modify object')"
   ]
  },
  {
   "cell_type": "code",
   "execution_count": 6,
   "id": "f6ed4c2c",
   "metadata": {
    "ExecuteTime": {
     "end_time": "2022-10-06T11:25:18.815658Z",
     "start_time": "2022-10-06T11:25:18.810629Z"
    }
   },
   "outputs": [
    {
     "name": "stdout",
     "output_type": "stream",
     "text": [
      "impossible to modify object\n",
      "run finally in any case\n"
     ]
    }
   ],
   "source": [
    "a = '1234'\n",
    "\n",
    "try:\n",
    "    a[0] = '10'\n",
    "except BaseException:\n",
    "    print('impossible to modify object')\n",
    "finally:\n",
    "    print('run finally in any case')"
   ]
  },
  {
   "cell_type": "code",
   "execution_count": 7,
   "id": "a6c597e3",
   "metadata": {
    "ExecuteTime": {
     "end_time": "2022-10-06T11:25:32.208917Z",
     "start_time": "2022-10-06T11:25:32.204576Z"
    }
   },
   "outputs": [
    {
     "name": "stdout",
     "output_type": "stream",
     "text": [
      "run finally in any case\n"
     ]
    }
   ],
   "source": [
    "a = [1, 2]\n",
    "\n",
    "try:\n",
    "    a[0] = '10'\n",
    "except BaseException:\n",
    "    print('impossible to modify object')\n",
    "finally:\n",
    "    print('run finally in any case')"
   ]
  },
  {
   "cell_type": "code",
   "execution_count": 8,
   "id": "3b9b8d63",
   "metadata": {
    "ExecuteTime": {
     "end_time": "2022-10-06T11:25:47.172614Z",
     "start_time": "2022-10-06T11:25:47.165417Z"
    }
   },
   "outputs": [
    {
     "data": {
      "text/plain": [
       "(True, True)"
      ]
     },
     "execution_count": 8,
     "metadata": {},
     "output_type": "execute_result"
    }
   ],
   "source": [
    "issubclass(TypeError, BaseException), issubclass(ValueError, BaseException)"
   ]
  },
  {
   "cell_type": "code",
   "execution_count": 10,
   "id": "00eb7a21",
   "metadata": {
    "ExecuteTime": {
     "end_time": "2022-10-06T11:26:05.908859Z",
     "start_time": "2022-10-06T11:26:05.903372Z"
    }
   },
   "outputs": [
    {
     "data": {
      "text/plain": [
       "([TypeError, Exception, BaseException, object],\n",
       " [ValueError, Exception, BaseException, object])"
      ]
     },
     "execution_count": 10,
     "metadata": {},
     "output_type": "execute_result"
    }
   ],
   "source": [
    "TypeError.mro(), ValueError.mro()  # смотрим цепочку наследования"
   ]
  },
  {
   "cell_type": "code",
   "execution_count": 11,
   "id": "67bd2ae0",
   "metadata": {
    "ExecuteTime": {
     "end_time": "2022-10-06T11:26:50.152313Z",
     "start_time": "2022-10-06T11:26:50.146317Z"
    }
   },
   "outputs": [],
   "source": [
    "class CustomStringException(BaseException):\n",
    "    pass"
   ]
  },
  {
   "cell_type": "code",
   "execution_count": 18,
   "id": "85156eeb",
   "metadata": {
    "ExecuteTime": {
     "end_time": "2022-10-06T11:29:08.260140Z",
     "start_time": "2022-10-06T11:29:08.238132Z"
    }
   },
   "outputs": [
    {
     "ename": "CustomStringException",
     "evalue": "'str' object does not support item assignment",
     "output_type": "error",
     "traceback": [
      "\u001b[0;31m---------------------------------------------------------------------------\u001b[0m",
      "\u001b[0;31mTypeError\u001b[0m                                 Traceback (most recent call last)",
      "Cell \u001b[0;32mIn [18], line 4\u001b[0m\n\u001b[1;32m      3\u001b[0m \u001b[38;5;28;01mtry\u001b[39;00m:\n\u001b[0;32m----> 4\u001b[0m     a[\u001b[38;5;241m0\u001b[39m] \u001b[38;5;241m=\u001b[39m \u001b[38;5;124m'\u001b[39m\u001b[38;5;124m10\u001b[39m\u001b[38;5;124m'\u001b[39m\n\u001b[1;32m      6\u001b[0m \u001b[38;5;28;01mexcept\u001b[39;00m \u001b[38;5;167;01mTypeError\u001b[39;00m \u001b[38;5;28;01mas\u001b[39;00m e:\n",
      "\u001b[0;31mTypeError\u001b[0m: 'str' object does not support item assignment",
      "\nDuring handling of the above exception, another exception occurred:\n",
      "\u001b[0;31mCustomStringException\u001b[0m                     Traceback (most recent call last)",
      "Cell \u001b[0;32mIn [18], line 7\u001b[0m\n\u001b[1;32m      4\u001b[0m     a[\u001b[38;5;241m0\u001b[39m] \u001b[38;5;241m=\u001b[39m \u001b[38;5;124m'\u001b[39m\u001b[38;5;124m10\u001b[39m\u001b[38;5;124m'\u001b[39m\n\u001b[1;32m      6\u001b[0m \u001b[38;5;28;01mexcept\u001b[39;00m \u001b[38;5;167;01mTypeError\u001b[39;00m \u001b[38;5;28;01mas\u001b[39;00m e:\n\u001b[0;32m----> 7\u001b[0m     \u001b[38;5;28;01mraise\u001b[39;00m CustomStringException(e)\n\u001b[1;32m      9\u001b[0m \u001b[38;5;28;01melse\u001b[39;00m:\n\u001b[1;32m     10\u001b[0m     \u001b[38;5;28mprint\u001b[39m(\u001b[38;5;124m'\u001b[39m\u001b[38;5;124msuccessfully modified\u001b[39m\u001b[38;5;124m'\u001b[39m, a)\n",
      "\u001b[0;31mCustomStringException\u001b[0m: 'str' object does not support item assignment"
     ]
    }
   ],
   "source": [
    "a = '1234'\n",
    "\n",
    "try:\n",
    "    a[0] = '10'\n",
    "    \n",
    "except TypeError as e:\n",
    "    raise CustomStringException(e)\n",
    "\n",
    "else:\n",
    "    print('successfully modified', a)"
   ]
  },
  {
   "cell_type": "code",
   "execution_count": 19,
   "id": "c28e64cd",
   "metadata": {
    "ExecuteTime": {
     "end_time": "2022-10-06T11:29:13.667686Z",
     "start_time": "2022-10-06T11:29:13.662750Z"
    }
   },
   "outputs": [
    {
     "name": "stdout",
     "output_type": "stream",
     "text": [
      "successfully modified a=['10', 2, 3]\n"
     ]
    }
   ],
   "source": [
    "a = ['1234', 2, 3]\n",
    "\n",
    "try:\n",
    "    a[0] = '10'\n",
    "    \n",
    "except TypeError as e:\n",
    "    raise CustomStringException(e)\n",
    "\n",
    "else:\n",
    "    print(f'successfully modified {a=}')"
   ]
  },
  {
   "cell_type": "code",
   "execution_count": 20,
   "id": "6980338a",
   "metadata": {
    "ExecuteTime": {
     "end_time": "2022-10-06T11:29:39.970093Z",
     "start_time": "2022-10-06T11:29:39.956179Z"
    }
   },
   "outputs": [
    {
     "ename": "CustomStringException",
     "evalue": "some message",
     "output_type": "error",
     "traceback": [
      "\u001b[0;31m---------------------------------------------------------------------------\u001b[0m",
      "\u001b[0;31mCustomStringException\u001b[0m                     Traceback (most recent call last)",
      "Cell \u001b[0;32mIn [20], line 1\u001b[0m\n\u001b[0;32m----> 1\u001b[0m \u001b[38;5;28;01mraise\u001b[39;00m CustomStringException(\u001b[38;5;124m'\u001b[39m\u001b[38;5;124msome message\u001b[39m\u001b[38;5;124m'\u001b[39m)\n",
      "\u001b[0;31mCustomStringException\u001b[0m: some message"
     ]
    }
   ],
   "source": [
    "raise CustomStringException('some message')"
   ]
  },
  {
   "cell_type": "code",
   "execution_count": 23,
   "id": "58fefd4a",
   "metadata": {
    "ExecuteTime": {
     "end_time": "2022-10-06T11:31:11.929027Z",
     "start_time": "2022-10-06T11:31:11.923062Z"
    }
   },
   "outputs": [
    {
     "name": "stdout",
     "output_type": "stream",
     "text": [
      "raised C\n",
      "A\n",
      "raised A\n",
      "A\n",
      "raised B\n",
      "A\n"
     ]
    }
   ],
   "source": [
    "class A(Exception):\n",
    "    pass\n",
    "\n",
    "class B(A):\n",
    "    pass\n",
    "\n",
    "class C(B):\n",
    "    pass\n",
    "\n",
    "for cls in [C, A, B]:\n",
    "    try:\n",
    "        print(f'raised {cls.__name__}')\n",
    "        raise cls()\n",
    "    \n",
    "    except A:\n",
    "        print('A')\n",
    "    \n",
    "    except C:\n",
    "        print('C')\n",
    "        \n",
    "    except B:\n",
    "        print('B')\n",
    "        \n",
    "  "
   ]
  },
  {
   "cell_type": "code",
   "execution_count": 24,
   "id": "68652586",
   "metadata": {
    "ExecuteTime": {
     "end_time": "2022-10-06T11:31:30.111468Z",
     "start_time": "2022-10-06T11:31:30.106099Z"
    }
   },
   "outputs": [
    {
     "name": "stdout",
     "output_type": "stream",
     "text": [
      "raised C\n",
      "B\n",
      "raised A\n",
      "A\n",
      "raised B\n",
      "B\n"
     ]
    }
   ],
   "source": [
    "for cls in [C, A, B]:\n",
    "    try:\n",
    "        print(f'raised {cls.__name__}')\n",
    "        raise cls()\n",
    "    \n",
    "    except B:\n",
    "        print('B')\n",
    "    \n",
    "    except C:\n",
    "        print('C')\n",
    "        \n",
    "    except A:\n",
    "        print('A')\n",
    "        \n",
    "  "
   ]
  },
  {
   "cell_type": "code",
   "execution_count": 26,
   "id": "cf33451a",
   "metadata": {
    "ExecuteTime": {
     "end_time": "2022-10-06T11:32:03.847459Z",
     "start_time": "2022-10-06T11:32:03.842046Z"
    }
   },
   "outputs": [
    {
     "name": "stdout",
     "output_type": "stream",
     "text": [
      "raised C\n",
      "C\n",
      "raised A\n",
      "A\n",
      "raised B\n",
      "B\n"
     ]
    }
   ],
   "source": [
    "for cls in [C, A, B]:\n",
    "    try:\n",
    "        print(f'raised {cls.__name__}')\n",
    "        raise cls()\n",
    "    \n",
    "    except C:\n",
    "        print('C')\n",
    "    \n",
    "    except B:\n",
    "        print('B')\n",
    "        \n",
    "    except A:\n",
    "        print('A')\n",
    "        \n",
    "  "
   ]
  },
  {
   "cell_type": "markdown",
   "id": "591e90a1",
   "metadata": {},
   "source": [
    "Родительское исключение будет перехватывать исключения всех своих наследников"
   ]
  },
  {
   "cell_type": "markdown",
   "id": "a6a05461",
   "metadata": {},
   "source": [
    "## class as a decorator"
   ]
  },
  {
   "cell_type": "markdown",
   "id": "ceb65b85",
   "metadata": {},
   "source": [
    "Экземпляры класса могут быть callable. А если функция может быть декоратором, то что мешает тогда классу? Должен быть определен magic метод `__call__`"
   ]
  },
  {
   "cell_type": "code",
   "execution_count": 54,
   "id": "92446db3",
   "metadata": {},
   "outputs": [],
   "source": [
    "class ClassDecorator:\n",
    "    def __init__(self, func):\n",
    "        self.entry_str = '[decorating inner func]'\n",
    "        self.function = func\n",
    "        self.close_str = '[letting the song flow]'\n",
    "\n",
    "     \n",
    "    def __call__(self):\n",
    "        print(self.entry_str)\n",
    "        self.function()\n",
    "        print(self.close_str)\n",
    "\n",
    " \n",
    " \n",
    "@ClassDecorator\n",
    "def function():\n",
    "    print('Vanderlyle crybaby cry...')"
   ]
  },
  {
   "cell_type": "code",
   "execution_count": 56,
   "id": "4c204065",
   "metadata": {},
   "outputs": [
    {
     "name": "stdout",
     "output_type": "stream",
     "text": [
      "[decorating inner func]\n",
      "Vanderlyle crybaby cry...\n",
      "[letting the song flow]\n"
     ]
    }
   ],
   "source": [
    "function()"
   ]
  },
  {
   "cell_type": "markdown",
   "id": "cf870a4f",
   "metadata": {},
   "source": [
    "Как и в декораторах-функциях, мы тоже можем возвращать значения (а не только использовать print) и делать параметры"
   ]
  },
  {
   "cell_type": "markdown",
   "id": "f32762db",
   "metadata": {},
   "source": [
    "Сделаем таймер"
   ]
  },
  {
   "cell_type": "code",
   "execution_count": 60,
   "id": "0003e077",
   "metadata": {},
   "outputs": [],
   "source": [
    "import time\n",
    "\n",
    "class Timer:\n",
    "    def __init__(self, func):\n",
    "        self.func = func\n",
    "    \n",
    "    def __call__(self, *args):\n",
    "        t_start = time.time()\n",
    "        res = self.func(*args)\n",
    "        total_time = time.time() - t_start\n",
    "        print(f'{self.func.__name__}({args}) -> {res} executed in {total_time:.2f}s')\n",
    "        return res"
   ]
  },
  {
   "cell_type": "code",
   "execution_count": 61,
   "id": "48658a66",
   "metadata": {},
   "outputs": [],
   "source": [
    "@Timer\n",
    "def slow_func(seconds_to_sleep):\n",
    "    time.sleep(seconds_to_sleep)\n",
    "    return 73"
   ]
  },
  {
   "cell_type": "code",
   "execution_count": 62,
   "id": "a86e77a6",
   "metadata": {},
   "outputs": [
    {
     "name": "stdout",
     "output_type": "stream",
     "text": [
      "slow_func((3,)) -> 73 executed in 3.00s\n"
     ]
    },
    {
     "data": {
      "text/plain": [
       "73"
      ]
     },
     "execution_count": 62,
     "metadata": {},
     "output_type": "execute_result"
    }
   ],
   "source": [
    "slow_func(3)"
   ]
  },
  {
   "cell_type": "markdown",
   "id": "6039aa2e",
   "metadata": {},
   "source": [
    "## class as decorated"
   ]
  },
  {
   "cell_type": "markdown",
   "id": "9347aeef",
   "metadata": {},
   "source": [
    "Класс может быть тоже декорирован функцией или классом"
   ]
  },
  {
   "cell_type": "code",
   "execution_count": 27,
   "id": "9878f6c1",
   "metadata": {
    "ExecuteTime": {
     "end_time": "2022-10-06T11:33:06.359490Z",
     "start_time": "2022-10-06T11:33:06.353011Z"
    }
   },
   "outputs": [
    {
     "name": "stdout",
     "output_type": "stream",
     "text": [
      "Target running\n"
     ]
    },
    {
     "data": {
      "text/plain": [
       "{'arg_list': ('one', 1)}"
      ]
     },
     "execution_count": 27,
     "metadata": {},
     "output_type": "execute_result"
    }
   ],
   "source": [
    "def decorator_function(target):\n",
    "\n",
    "    def decorator_init(self, *args):\n",
    "        print(\"DECORATED\")\n",
    "    \n",
    "    print('I changed __init__ in class')\n",
    "    target.__init__ = decorator_init\n",
    "\n",
    "    return target\n",
    "\n",
    "\n",
    "class Target:\n",
    "\n",
    "    def __init__(self, *args):\n",
    "        self.arg_list = args\n",
    "        print(\"Target running\")\n",
    "\n",
    "\n",
    "t = Target('one', 1)\n",
    "t.__dict__"
   ]
  },
  {
   "cell_type": "code",
   "execution_count": 28,
   "id": "79d5aaf9",
   "metadata": {
    "ExecuteTime": {
     "end_time": "2022-10-06T11:33:07.188648Z",
     "start_time": "2022-10-06T11:33:07.180847Z"
    }
   },
   "outputs": [
    {
     "name": "stdout",
     "output_type": "stream",
     "text": [
      "I changed __init__ in class\n"
     ]
    }
   ],
   "source": [
    "@decorator_function\n",
    "class Target:\n",
    "\n",
    "    def __init__(self, *args):\n",
    "        self.arg_list = args\n",
    "        print(\"Target running\")"
   ]
  },
  {
   "cell_type": "code",
   "execution_count": 29,
   "id": "96c3df79",
   "metadata": {
    "ExecuteTime": {
     "end_time": "2022-10-06T11:33:08.503471Z",
     "start_time": "2022-10-06T11:33:08.497878Z"
    }
   },
   "outputs": [
    {
     "name": "stdout",
     "output_type": "stream",
     "text": [
      "DECORATED\n"
     ]
    },
    {
     "data": {
      "text/plain": [
       "{}"
      ]
     },
     "execution_count": 29,
     "metadata": {},
     "output_type": "execute_result"
    }
   ],
   "source": [
    "dt = Target('one', 1)\n",
    "dt.__dict__"
   ]
  },
  {
   "cell_type": "code",
   "execution_count": null,
   "id": "c78e2a98",
   "metadata": {},
   "outputs": [],
   "source": []
  }
 ],
 "metadata": {
  "kernelspec": {
   "display_name": "Python 3 (ipykernel)",
   "language": "python",
   "name": "python3"
  },
  "language_info": {
   "codemirror_mode": {
    "name": "ipython",
    "version": 3
   },
   "file_extension": ".py",
   "mimetype": "text/x-python",
   "name": "python",
   "nbconvert_exporter": "python",
   "pygments_lexer": "ipython3",
   "version": "3.9.12"
  },
  "toc": {
   "base_numbering": 1,
   "nav_menu": {},
   "number_sections": true,
   "sideBar": true,
   "skip_h1_title": false,
   "title_cell": "Table of Contents",
   "title_sidebar": "Contents",
   "toc_cell": false,
   "toc_position": {},
   "toc_section_display": true,
   "toc_window_display": false
  },
  "varInspector": {
   "cols": {
    "lenName": 16,
    "lenType": 16,
    "lenVar": 40
   },
   "kernels_config": {
    "python": {
     "delete_cmd_postfix": "",
     "delete_cmd_prefix": "del ",
     "library": "var_list.py",
     "varRefreshCmd": "print(var_dic_list())"
    },
    "r": {
     "delete_cmd_postfix": ") ",
     "delete_cmd_prefix": "rm(",
     "library": "var_list.r",
     "varRefreshCmd": "cat(var_dic_list()) "
    }
   },
   "types_to_exclude": [
    "module",
    "function",
    "builtin_function_or_method",
    "instance",
    "_Feature"
   ],
   "window_display": false
  }
 },
 "nbformat": 4,
 "nbformat_minor": 5
}
