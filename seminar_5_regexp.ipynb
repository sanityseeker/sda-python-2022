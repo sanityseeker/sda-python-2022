{
 "cells": [
  {
   "cell_type": "markdown",
   "id": "dc1b53be-9fe8-4624-9eee-f4cd6ff5c733",
   "metadata": {},
   "source": [
    "# Чё вообще происходит #2"
   ]
  },
  {
   "cell_type": "markdown",
   "id": "fc4fdfe9-96b5-491a-86e9-a98fbbbf1ee0",
   "metadata": {},
   "source": [
    "## Теория"
   ]
  },
  {
   "cell_type": "markdown",
   "id": "8e37a09e-d2e1-4e8d-8d39-1741b75405f9",
   "metadata": {},
   "source": [
    "- Как в памяти хранится list? В чем отличие tuple от list? \n",
    "- Что такое функция в Python? В чем ее схожесть с другими типами?\n",
    "- Что такое рекурсия? Что стоит определить в первую очередь, когда вы используете такой подход?\n",
    "- В чем идея бинарного поиска?"
   ]
  },
  {
   "cell_type": "markdown",
   "id": "64ada977-db25-4704-87d8-8371783d00cd",
   "metadata": {},
   "source": [
    "## Задачки"
   ]
  },
  {
   "cell_type": "markdown",
   "id": "3cf2d6b0-638e-4bdd-b253-2f4b71b90b42",
   "metadata": {},
   "source": [
    "### GCD"
   ]
  },
  {
   "cell_type": "code",
   "execution_count": null,
   "id": "82bba56b-6862-4b3c-9024-31b45dfd424e",
   "metadata": {},
   "outputs": [],
   "source": [
    "def gcd_recursive(a, b):\n",
    "    if b == 0:\n",
    "        return a\n",
    "    else:\n",
    "        return gcd_recursive(b, a % b)"
   ]
  },
  {
   "cell_type": "code",
   "execution_count": null,
   "id": "e33ba528-ed8b-4556-a9c5-bf1f1de3e736",
   "metadata": {},
   "outputs": [],
   "source": [
    "def gcd(a, b):\n",
    "    # your code\n",
    "    pass"
   ]
  },
  {
   "cell_type": "markdown",
   "id": "1973c9f8-68b6-4823-ae63-b1dc4d248548",
   "metadata": {},
   "source": [
    "### Проверка на палиндром"
   ]
  },
  {
   "cell_type": "markdown",
   "id": "2670c62f-9dc1-48b6-8660-6fe030c6f63b",
   "metadata": {},
   "source": [
    "A phrase is a palindrome if, after converting all uppercase letters into lowercase letters and removing all non-alphanumeric characters, it reads the same forward and backward. Alphanumeric characters include letters and numbers.\n",
    "\n",
    "Given a string s, return true if it is a palindrome, or false otherwise."
   ]
  },
  {
   "cell_type": "markdown",
   "id": "5c1a0aa6-cb86-43c8-8771-897efdad98b1",
   "metadata": {},
   "source": [
    "Напишите функцию проверки, которая принимает в качестве параметра Iterable из предложений и возвращает результат в формате:\n",
    "`[index of example: is palindrome,...]`"
   ]
  },
  {
   "cell_type": "code",
   "execution_count": 1,
   "id": "f1e2bd65-772d-402a-9ee9-96cc8480d594",
   "metadata": {},
   "outputs": [],
   "source": [
    "tests = [\n",
    "    'A nut for a jar of tuna.',\n",
    "    'Borrow or rob?',\n",
    "    'Was it a car or a cat I saw?',\n",
    "    '''Dennis, Nell, Edna, Leon, Nedra, Anita,\n",
    "    Rolf, Nora, Alice, Carol, Leo, Jane, Reed,\n",
    "    Dena, Dale, Basil, Rae, Penny, Lana, Dave,\n",
    "    Denny, Lena, Ida, Bernadette, Ben, Ray, Lila,\n",
    "    Nina, Jo, Ira, Mara, Sara, Mario, Jan, Ina,\n",
    "    Lily, Arne, Bette, Dan, Reba, Diane, Lynn,\n",
    "    Ed, Eva, Dana, Lynne, Pearl, Isabel, Ada, Ned,\n",
    "    Dee, Rena, Joel, Lora, Cecil, Aaron, Flora,\n",
    "    Tina, Arden, Noel, and Ellen sinned.''',\n",
    "    'Murder for a jar of red rum.'\n",
    "]"
   ]
  },
  {
   "cell_type": "code",
   "execution_count": 84,
   "id": "ca495af9-37b7-409c-8cd4-5d146de4bbbd",
   "metadata": {
    "ExecuteTime": {
     "end_time": "2022-09-16T09:40:27.577414Z",
     "start_time": "2022-09-16T09:40:27.571665Z"
    }
   },
   "outputs": [],
   "source": [
    "from typing import Callable, Iterable\n",
    "\n",
    "\n",
    "def is_palindrome(s: str) -> bool:\n",
    "    # your code\n",
    "    pass\n",
    "\n",
    "def check_tests(pal_func: Callable, tests: Iterable[str]) -> list:\n",
    "    # your code\n",
    "    pass"
   ]
  },
  {
   "cell_type": "markdown",
   "id": "a3436f7c",
   "metadata": {},
   "source": [
    "### Бинпоиск со сдвигом"
   ]
  },
  {
   "cell_type": "markdown",
   "id": "23740819",
   "metadata": {},
   "source": [
    "Дан отсортированный набор элементов с некоторым сдвигом.\n",
    "\n",
    "На вход подается элемент. Найти его индекс.\n",
    "\n",
    "    [9, 10, 11, 11, 12, 0, 1, 3, 7], х = 12\n",
    "    Ответ: 4\n",
    "    \n",
    "- Подсказка: подумайте, как можно модифицировать алгоритм бинпоиска для этой задачи"
   ]
  },
  {
   "cell_type": "code",
   "execution_count": null,
   "id": "cf8b2fe9",
   "metadata": {},
   "outputs": [],
   "source": [
    "# your code"
   ]
  },
  {
   "cell_type": "markdown",
   "id": "3a3b4c99-b2ab-400c-af52-b41825d55ae3",
   "metadata": {
    "tags": []
   },
   "source": [
    "# Регулярные выражения"
   ]
  },
  {
   "cell_type": "markdown",
   "id": "80dc9c32-8cf0-4a93-8c36-83d41b7e6aeb",
   "metadata": {
    "ExecuteTime": {
     "end_time": "2021-11-17T02:56:48.721812Z",
     "start_time": "2021-11-17T02:56:48.718678Z"
    }
   },
   "source": [
    "Полезные ссылки:\n",
    "\n",
    "https://habr.com/ru/post/349860/\n",
    "\n",
    "https://uneex.org/HSE/ProgrammingOS/15_Regexp\n",
    "    \n",
    "https://regexone.com/    \n",
    "    \n",
    "https://ravesli.com/regulyarnye-vyrazheniya-osnovy/\n",
    "    \n",
    "https://regex101.com/"
   ]
  },
  {
   "cell_type": "markdown",
   "id": "747c1fec-364f-49c1-96eb-701c170c95b6",
   "metadata": {},
   "source": [
    "Pattern matching / searching:\n",
    "- Pattern -- это некоторая строка из спецсимволов, которая описывает, что мы хотим найти\n",
    "- Matching -- определение, соответствует ли строка заданному паттерну\n",
    "- Searching -- поиск подстрок, соответствующих паттерну, в тексте"
   ]
  },
  {
   "cell_type": "markdown",
   "id": "0fb84c12-6460-4e86-bcce-27daaaf0e334",
   "metadata": {},
   "source": [
    "### Основные правила:\n",
    "\n",
    "#### Общее\n",
    "- любой неспециальный символ матчит себя\n",
    "- \".\" матчит любой символ\n",
    "- \"[abc]\" матчит любой символ внутри множества\n",
    "- \"[A-z]\", \"[0-9]\" и прочие сокращения (множества символов подряд в таблице ascii)\n",
    "- \"a*\" -- звездочка означает 0 или больше указанных символов подряд\n",
    "- \"a+\" -- + означает 1 или более указанных символов подряд\n",
    "- \"a{2,}\" -- N или больше символов подряд\n",
    "- \"a?\" -- один или ни одного\n",
    "- \"a{1, 5}\" -- в фигурных скобках можно указать точное количество. Левая цифра означает минимальное, правая -- максимальное\n",
    "- \"^regexp\" -- только подстроки в начале строки\n",
    "- \"rgexp$\" -- только подстроки, находящиеся в конце строки\n",
    "\n",
    "#### Специальные обобщающие символы\n",
    "`\\{small_letter}` -- специальный символ\n",
    "`\\{big_letter}` -- любой символ кроме специального символа \n",
    "\n",
    "- \\s -- пробельные символы\n",
    "- \\d -- цифра\n",
    "- \\w -- буква или _\n",
    "\n",
    "#### Lookarounds\n",
    "- \"(?=...)\" -- positive lookahead\n",
    "- \"(?<=...)\" -- positive lookbehind\n",
    "- \"(?!...)\" -- negative lookahead\n",
    "- \"(?<!...)\" -- negative loookbehind\n",
    "\n",
    "и прочее и прочее...\n",
    "\n",
    "\n",
    "**Дисклеймер**: Написать регулярку может быть гораздо сложнее, чем потом прочитать! "
   ]
  },
  {
   "cell_type": "markdown",
   "id": "02a2db12-a73e-4496-86c3-0864bc88614b",
   "metadata": {},
   "source": [
    "### Разберем несколько примеров"
   ]
  },
  {
   "cell_type": "code",
   "execution_count": 2,
   "id": "c366d902-029f-47ee-81c7-06364ad798e9",
   "metadata": {
    "collapsed": true,
    "jupyter": {
     "outputs_hidden": true
    }
   },
   "outputs": [],
   "source": [
    "import re"
   ]
  },
  {
   "cell_type": "code",
   "execution_count": 13,
   "id": "274838ed-22c5-43fd-b5bb-72563ceabfd5",
   "metadata": {
    "collapsed": true,
    "jupyter": {
     "outputs_hidden": true
    }
   },
   "outputs": [],
   "source": [
    "sample_string = 'Hello, world!'"
   ]
  },
  {
   "cell_type": "code",
   "execution_count": 15,
   "id": "66026ca2-3568-45d6-ae12-2cdef990da8d",
   "metadata": {
    "collapsed": true,
    "jupyter": {
     "outputs_hidden": true
    }
   },
   "outputs": [
    {
     "data": {
      "text/plain": [
       "<re.Match object; span=(0, 5), match='Hello'>"
      ]
     },
     "execution_count": 15,
     "metadata": {},
     "output_type": "execute_result"
    }
   ],
   "source": [
    "pattern = re.compile('[hH]ello')\n",
    "pattern.match(sample_string)"
   ]
  },
  {
   "cell_type": "code",
   "execution_count": 18,
   "id": "e7f76915-c507-407b-9829-b56d70749f16",
   "metadata": {
    "collapsed": true,
    "jupyter": {
     "outputs_hidden": true
    }
   },
   "outputs": [
    {
     "data": {
      "text/plain": [
       "['Hello']"
      ]
     },
     "execution_count": 18,
     "metadata": {},
     "output_type": "execute_result"
    }
   ],
   "source": [
    "pattern.findall(sample_string)"
   ]
  },
  {
   "cell_type": "code",
   "execution_count": 23,
   "id": "28e3de2f-ab80-44f3-9659-67a8176b4e40",
   "metadata": {
    "collapsed": true,
    "jupyter": {
     "outputs_hidden": true
    }
   },
   "outputs": [],
   "source": [
    "m = re.match(r'[hH]ello,? [a-z]*[.!]?$', sample_string)"
   ]
  },
  {
   "cell_type": "code",
   "execution_count": 33,
   "id": "dbc7170a-2293-424d-a3fd-4a07e8b6e01e",
   "metadata": {
    "collapsed": true,
    "jupyter": {
     "outputs_hidden": true
    }
   },
   "outputs": [
    {
     "data": {
      "text/plain": [
       "'Hello, world!'"
      ]
     },
     "execution_count": 33,
     "metadata": {},
     "output_type": "execute_result"
    }
   ],
   "source": [
    "sample_string[m.start():m.end()]"
   ]
  },
  {
   "cell_type": "code",
   "execution_count": 34,
   "id": "441bcfb3-7a49-4aa3-a535-826afa0b43bb",
   "metadata": {
    "collapsed": true,
    "jupyter": {
     "outputs_hidden": true
    }
   },
   "outputs": [
    {
     "data": {
      "text/plain": [
       "'Hello, world!'"
      ]
     },
     "execution_count": 34,
     "metadata": {},
     "output_type": "execute_result"
    }
   ],
   "source": [
    "m.group()"
   ]
  },
  {
   "cell_type": "code",
   "execution_count": 45,
   "id": "b1546d6e-5b45-40eb-b494-b63838d04aa7",
   "metadata": {
    "collapsed": true,
    "jupyter": {
     "outputs_hidden": true
    }
   },
   "outputs": [],
   "source": [
    "grouped_match = re.match(r'([hH]ello,?) [a-z]*[.!]?$', sample_string)"
   ]
  },
  {
   "cell_type": "code",
   "execution_count": 51,
   "id": "5a6f3ef3-a3cb-451f-add2-ca84053d5764",
   "metadata": {
    "collapsed": true,
    "jupyter": {
     "outputs_hidden": true
    }
   },
   "outputs": [
    {
     "data": {
      "text/plain": [
       "'Hello, world!'"
      ]
     },
     "execution_count": 51,
     "metadata": {},
     "output_type": "execute_result"
    }
   ],
   "source": [
    "grouped_match.group()"
   ]
  },
  {
   "cell_type": "code",
   "execution_count": 54,
   "id": "290a8722-d9f3-4f45-bdf2-86b1c391f496",
   "metadata": {
    "collapsed": true,
    "jupyter": {
     "outputs_hidden": true
    }
   },
   "outputs": [
    {
     "data": {
      "text/plain": [
       "('Hello,',)"
      ]
     },
     "execution_count": 54,
     "metadata": {},
     "output_type": "execute_result"
    }
   ],
   "source": [
    "grouped_match.groups()"
   ]
  },
  {
   "cell_type": "code",
   "execution_count": 69,
   "id": "f5154fc9-d720-4140-96df-48628eb553c3",
   "metadata": {
    "collapsed": true,
    "jupyter": {
     "outputs_hidden": true
    }
   },
   "outputs": [
    {
     "data": {
      "text/plain": [
       "<re.Match object; span=(4, 7), match='973'>"
      ]
     },
     "execution_count": 69,
     "metadata": {},
     "output_type": "execute_result"
    }
   ],
   "source": [
    "re.search(r'\\d{1,3}', 'rfhe97346fevbv78')"
   ]
  },
  {
   "cell_type": "code",
   "execution_count": 70,
   "id": "72557731-057d-4fc2-9f24-724383b26dd6",
   "metadata": {
    "collapsed": true,
    "jupyter": {
     "outputs_hidden": true
    }
   },
   "outputs": [
    {
     "data": {
      "text/plain": [
       "['973', '46', '78']"
      ]
     },
     "execution_count": 70,
     "metadata": {},
     "output_type": "execute_result"
    }
   ],
   "source": [
    "re.findall(r'\\d{1,3}', 'rfhe97346fevbv78')"
   ]
  },
  {
   "cell_type": "code",
   "execution_count": 74,
   "id": "e9a30163-1eee-4bcd-ade9-a3e129179cac",
   "metadata": {
    "collapsed": true,
    "jupyter": {
     "outputs_hidden": true
    }
   },
   "outputs": [
    {
     "data": {
      "text/plain": [
       "'rfheцифрыfevbv78'"
      ]
     },
     "execution_count": 74,
     "metadata": {},
     "output_type": "execute_result"
    }
   ],
   "source": [
    "re.sub(r'\\d{3,5}', 'цифры', 'rfhe97346fevbv78')"
   ]
  },
  {
   "cell_type": "markdown",
   "id": "e50188f2-3388-4195-98d6-af997aed78ad",
   "metadata": {},
   "source": [
    "Как можно закодировать время в формате `dd:dd`?"
   ]
  },
  {
   "cell_type": "code",
   "execution_count": null,
   "id": "d7ca92ff-1826-453f-b2d9-d7769be08ab4",
   "metadata": {
    "collapsed": true,
    "jupyter": {
     "outputs_hidden": true
    }
   },
   "outputs": [],
   "source": []
  },
  {
   "cell_type": "markdown",
   "id": "6ade0a1b-65dd-47fc-a37e-84397cc87b16",
   "metadata": {},
   "source": [
    "**Lookarounds**"
   ]
  },
  {
   "cell_type": "code",
   "execution_count": 214,
   "id": "695e964c-e3e7-4ea6-8dab-d9c075112abf",
   "metadata": {
    "collapsed": true,
    "jupyter": {
     "outputs_hidden": true
    }
   },
   "outputs": [],
   "source": [
    "er_words = 'math teacher physics teacher scheduler funny monster creepy monster'"
   ]
  },
  {
   "cell_type": "code",
   "execution_count": 220,
   "id": "ba411b5e-9091-45c7-9d71-ec794c36120b",
   "metadata": {
    "collapsed": true,
    "jupyter": {
     "outputs_hidden": true
    }
   },
   "outputs": [
    {
     "name": "stdout",
     "output_type": "stream",
     "text": [
      "math \n",
      "physics \n"
     ]
    }
   ],
   "source": [
    "for m in re.finditer('\\w+ (?=teacher)', er_words):\n",
    "    print(er_words[m.start():m.end()])"
   ]
  },
  {
   "cell_type": "code",
   "execution_count": 221,
   "id": "4b18c717-070d-4a95-b5c0-7e5181197fc7",
   "metadata": {
    "collapsed": true,
    "jupyter": {
     "outputs_hidden": true
    }
   },
   "outputs": [
    {
     "data": {
      "text/plain": [
       "['math ', 'physics ']"
      ]
     },
     "execution_count": 221,
     "metadata": {},
     "output_type": "execute_result"
    }
   ],
   "source": [
    "re.findall('\\w+ (?=teacher)', er_words)"
   ]
  },
  {
   "cell_type": "code",
   "execution_count": 224,
   "id": "ef230c2c-a8b2-4ff2-972e-e4b29522b146",
   "metadata": {
    "collapsed": true,
    "jupyter": {
     "outputs_hidden": true
    }
   },
   "outputs": [
    {
     "name": "stdout",
     "output_type": "stream",
     "text": [
      "20 28  teacher\n"
     ]
    }
   ],
   "source": [
    "for m in re.finditer('(?<!math) teacher', er_words):\n",
    "    print(m.start(), m.end(), er_words[m.start():m.end()])"
   ]
  },
  {
   "cell_type": "markdown",
   "id": "0d00e022-ae18-4da3-b1c0-73a8db14959d",
   "metadata": {},
   "source": [
    "## Fun regexp tasks"
   ]
  },
  {
   "cell_type": "markdown",
   "id": "8d99713c-2f75-4b46-9d4b-4c3bb6f9e048",
   "metadata": {},
   "source": [
    "Пример с логом apache\n",
    "\n",
    "`cat error.log.14 | grep -P '[A-Z0-9]+: .*restart'`"
   ]
  },
  {
   "cell_type": "markdown",
   "id": "aafdd4a3-5edc-410b-9e65-ca10abe155b0",
   "metadata": {},
   "source": [
    "### E-mails\n",
    "\n",
    "Вы увидели, что у соседнего курса в открытом доступе выложены личные данные лекторов, семинаристов и ассистентов! Как хорошие программисты, вы конечно же забеспокоились о приватности данных незадачливых коллег и решили тайком  удалить все их личные почты из общего файла. При этом, вы хотите, чтобы с ними можно было связаться, поэтому университетские почты вы в файле оставляете.\n",
    "\n",
    "**Задача:** \n",
    "- Прочитать данные из файла\n",
    "- Вывести все e-mail'ы из файла\n",
    "- Модифицировать файл таким образом, чтобы все почты не относящиеся к доменам @hse.ru или @edu.hse.ru были заменены на фразу \"Pr1v@cY REstorED\"\n",
    "\n",
    "\n",
    "PS Если вы умеете работать с командной строчкой в linux или mac os, попробуйте решить задачку в терминале. Вам можешь помочь команда `ssed`"
   ]
  },
  {
   "cell_type": "markdown",
   "id": "d5d92a6a-b1ef-4487-80c4-af8bdcc05d8c",
   "metadata": {},
   "source": [
    "### Погенерируем пароли\n",
    "\n",
    "Вы наконец-то обеспокоились своей безопасностью в сети и решили обновить все свои пароли. Однако придумывать все самим для всех ваших сайтов вам, конечно, лень. Поэтому вы решили написать программу, которая это сделает за вас!\n",
    "\n",
    "Сгенерируйте случайный пароль длины N. Убедитесь, что получившийся пароль на самом деле хороший. В нашем случае это:\n",
    "1. Содержит хотя бы две заглавные буквы подряд\n",
    "2. Содержит хотя бы две строчные буквы подряд\n",
    "3. Не содержит пробельные спецсимволы (\\t, \\n и подобные)\n",
    "4. Не содержит трех цифр подряд\n",
    "5. Содержит и русские, и английские буквы \n",
    "\n",
    "Ваш код должен генерировать пароли, пока они не удовлетворят заданным условиям."
   ]
  }
 ],
 "metadata": {
  "kernelspec": {
   "display_name": "base-env",
   "language": "python",
   "name": "base-env"
  },
  "language_info": {
   "codemirror_mode": {
    "name": "ipython",
    "version": 3
   },
   "file_extension": ".py",
   "mimetype": "text/x-python",
   "name": "python",
   "nbconvert_exporter": "python",
   "pygments_lexer": "ipython3",
   "version": "3.9.12"
  },
  "toc": {
   "base_numbering": 1,
   "nav_menu": {},
   "number_sections": true,
   "sideBar": true,
   "skip_h1_title": false,
   "title_cell": "Table of Contents",
   "title_sidebar": "Contents",
   "toc_cell": false,
   "toc_position": {},
   "toc_section_display": true,
   "toc_window_display": false
  },
  "varInspector": {
   "cols": {
    "lenName": 16,
    "lenType": 16,
    "lenVar": 40
   },
   "kernels_config": {
    "python": {
     "delete_cmd_postfix": "",
     "delete_cmd_prefix": "del ",
     "library": "var_list.py",
     "varRefreshCmd": "print(var_dic_list())"
    },
    "r": {
     "delete_cmd_postfix": ") ",
     "delete_cmd_prefix": "rm(",
     "library": "var_list.r",
     "varRefreshCmd": "cat(var_dic_list()) "
    }
   },
   "types_to_exclude": [
    "module",
    "function",
    "builtin_function_or_method",
    "instance",
    "_Feature"
   ],
   "window_display": false
  }
 },
 "nbformat": 4,
 "nbformat_minor": 5
}
