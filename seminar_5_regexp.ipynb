{
 "cells": [
  {
   "cell_type": "markdown",
   "id": "dc1b53be-9fe8-4624-9eee-f4cd6ff5c733",
   "metadata": {},
   "source": [
    "# Чё вообще происходит #2"
   ]
  },
  {
   "cell_type": "markdown",
   "id": "fc4fdfe9-96b5-491a-86e9-a98fbbbf1ee0",
   "metadata": {},
   "source": [
    "## Теория"
   ]
  },
  {
   "cell_type": "markdown",
   "id": "8e37a09e-d2e1-4e8d-8d39-1741b75405f9",
   "metadata": {},
   "source": [
    "- Как в памяти хранится list? В чем отличие tuple от list? \n",
    "- Что такое функция в Python? В чем ее схожесть с другими типами?\n",
    "- Что такое рекурсия? Что стоит определить в первую очередь, когда вы используете такой подход?\n",
    "- В чем идея бинарного поиска?"
   ]
  },
  {
   "cell_type": "markdown",
   "id": "64ada977-db25-4704-87d8-8371783d00cd",
   "metadata": {},
   "source": [
    "## Задачки"
   ]
  },
  {
   "cell_type": "markdown",
   "id": "3cf2d6b0-638e-4bdd-b253-2f4b71b90b42",
   "metadata": {},
   "source": [
    "### GCD"
   ]
  },
  {
   "cell_type": "code",
   "execution_count": 27,
   "id": "82bba56b-6862-4b3c-9024-31b45dfd424e",
   "metadata": {
    "ExecuteTime": {
     "end_time": "2022-09-22T10:24:35.225328Z",
     "start_time": "2022-09-22T10:24:35.217808Z"
    }
   },
   "outputs": [],
   "source": [
    "def gcd_recursive(a, b):\n",
    "    if b == 0:\n",
    "        return a\n",
    "    else:\n",
    "        return gcd_recursive(b, a % b)"
   ]
  },
  {
   "cell_type": "code",
   "execution_count": 29,
   "id": "4998ccfb",
   "metadata": {
    "ExecuteTime": {
     "end_time": "2022-09-22T10:24:47.312953Z",
     "start_time": "2022-09-22T10:24:47.307431Z"
    }
   },
   "outputs": [
    {
     "data": {
      "text/plain": [
       "2"
      ]
     },
     "execution_count": 29,
     "metadata": {},
     "output_type": "execute_result"
    }
   ],
   "source": [
    "gcd_recursive(4, 6)"
   ]
  },
  {
   "cell_type": "code",
   "execution_count": 30,
   "id": "e33ba528-ed8b-4556-a9c5-bf1f1de3e736",
   "metadata": {
    "ExecuteTime": {
     "end_time": "2022-09-22T10:26:05.625144Z",
     "start_time": "2022-09-22T10:26:05.619922Z"
    }
   },
   "outputs": [],
   "source": [
    "def gcd(a, b):\n",
    "    while b:\n",
    "        a, b = b, a % b\n",
    "    return a"
   ]
  },
  {
   "cell_type": "code",
   "execution_count": 32,
   "id": "da4d8ec7",
   "metadata": {
    "ExecuteTime": {
     "end_time": "2022-09-22T10:26:14.969960Z",
     "start_time": "2022-09-22T10:26:14.961273Z"
    }
   },
   "outputs": [
    {
     "data": {
      "text/plain": [
       "5"
      ]
     },
     "execution_count": 32,
     "metadata": {},
     "output_type": "execute_result"
    }
   ],
   "source": [
    "gcd(5, 10)"
   ]
  },
  {
   "cell_type": "markdown",
   "id": "1973c9f8-68b6-4823-ae63-b1dc4d248548",
   "metadata": {},
   "source": [
    "### Проверка на палиндром"
   ]
  },
  {
   "cell_type": "markdown",
   "id": "2670c62f-9dc1-48b6-8660-6fe030c6f63b",
   "metadata": {},
   "source": [
    "A phrase is a palindrome if, after converting all uppercase letters into lowercase letters and removing all non-alphanumeric characters, it reads the same forward and backward. Alphanumeric characters include letters and numbers.\n",
    "\n",
    "Given a string s, return true if it is a palindrome, or false otherwise."
   ]
  },
  {
   "cell_type": "markdown",
   "id": "5c1a0aa6-cb86-43c8-8771-897efdad98b1",
   "metadata": {},
   "source": [
    "Напишите функцию проверки, которая принимает в качестве параметра Iterable из предложений и возвращает результат в формате:\n",
    "`[index of example: is palindrome,...]`"
   ]
  },
  {
   "cell_type": "code",
   "execution_count": 36,
   "id": "f1e2bd65-772d-402a-9ee9-96cc8480d594",
   "metadata": {
    "ExecuteTime": {
     "end_time": "2022-09-22T10:34:59.049037Z",
     "start_time": "2022-09-22T10:34:59.043446Z"
    }
   },
   "outputs": [],
   "source": [
    "tests = [\n",
    "    'A nut for a jar of tuna.',\n",
    "    'Borrow or rob?',\n",
    "    'Was it a car or a cat I saw?',\n",
    "    '''Dennis, Nell, Edna, Leon, Nedra, Anita,\n",
    "    Rolf, Nora, Alice, Carol, Leo, Jane, Reed,\n",
    "    Dena, Dale, Basil, Rae, Penny, Lana, Dave,\n",
    "    Denny, Lena, Ida, Bernadette, Ben, Ray, Lila,\n",
    "    Nina, Jo, Ira, Mara, Sara, Mario, Jan, Ina,\n",
    "    Lily, Arne, Bette, Dan, Reba, Diane, Lynn,\n",
    "    Ed, Eva, Dana, Lynne, Pearl, Isabel, Ada, Ned,\n",
    "    Dee, Rena, Joel, Lora, Cecil, Aaron, Flora,\n",
    "    Tina, Arden, Noel, and Ellen sinned.''',\n",
    "    'Murder for a jar of red rum.'\n",
    "]"
   ]
  },
  {
   "cell_type": "code",
   "execution_count": 38,
   "id": "ca495af9-37b7-409c-8cd4-5d146de4bbbd",
   "metadata": {
    "ExecuteTime": {
     "end_time": "2022-09-22T10:35:21.049812Z",
     "start_time": "2022-09-22T10:35:21.044599Z"
    }
   },
   "outputs": [],
   "source": [
    "from typing import Callable, Iterable\n",
    "\n",
    "\n",
    "def is_palindrome(s: str) -> bool:\n",
    "    merged_s = ''.join([letter for letter in s.lower() if letter.isalpha()])\n",
    "    return merged_s[::-1] == merged_s\n",
    "    \n",
    "\n",
    "def check_tests(pal_func: Callable, tests: Iterable[str]) -> list:\n",
    "    return [(i, pal_func(t)) for i, t in enumerate(tests)]"
   ]
  },
  {
   "cell_type": "code",
   "execution_count": 39,
   "id": "ae8712d9",
   "metadata": {
    "ExecuteTime": {
     "end_time": "2022-09-22T10:35:22.086340Z",
     "start_time": "2022-09-22T10:35:22.080431Z"
    }
   },
   "outputs": [
    {
     "data": {
      "text/plain": [
       "[(0, True), (1, True), (2, True), (3, True), (4, True)]"
      ]
     },
     "execution_count": 39,
     "metadata": {},
     "output_type": "execute_result"
    }
   ],
   "source": [
    "check_tests(is_palindrome, tests)"
   ]
  },
  {
   "cell_type": "markdown",
   "id": "a3436f7c",
   "metadata": {},
   "source": [
    "### Бинпоиск со сдвигом"
   ]
  },
  {
   "cell_type": "markdown",
   "id": "23740819",
   "metadata": {},
   "source": [
    "Дан отсортированный набор элементов с некоторым сдвигом.\n",
    "\n",
    "На вход подается элемент. Найти его индекс.\n",
    "\n",
    "    [9, 10, 11, 11, 12, 0, 1, 3, 7], х = 12\n",
    "    Ответ: 4\n",
    "    \n",
    "- Подсказка: подумайте, как можно модифицировать алгоритм бинпоиска для этой задачи"
   ]
  },
  {
   "cell_type": "code",
   "execution_count": 68,
   "id": "5fa28573",
   "metadata": {
    "ExecuteTime": {
     "end_time": "2022-09-22T11:09:59.809699Z",
     "start_time": "2022-09-22T11:09:59.805106Z"
    }
   },
   "outputs": [],
   "source": [
    "a = [7, 7, 9, 10, 11, 11, 12, 0, 1, 3, 7, 7]"
   ]
  },
  {
   "cell_type": "code",
   "execution_count": 69,
   "id": "cf8b2fe9",
   "metadata": {
    "ExecuteTime": {
     "end_time": "2022-09-22T11:10:01.827926Z",
     "start_time": "2022-09-22T11:10:01.821096Z"
    }
   },
   "outputs": [],
   "source": [
    "def find_shift(arr: list) -> int:\n",
    "    if arr[0] < arr[-1]:\n",
    "        return -1\n",
    "    \n",
    "    low = 0\n",
    "    high = len(arr) - 1\n",
    "    \n",
    "    while low < high - 1:\n",
    "        mid = (low + high) // 2\n",
    "        \n",
    "        if arr[0] >= arr[mid]:\n",
    "            high = mid\n",
    "        else:\n",
    "            low = mid\n",
    "            \n",
    "    return low"
   ]
  },
  {
   "cell_type": "code",
   "execution_count": 70,
   "id": "21cce816",
   "metadata": {
    "ExecuteTime": {
     "end_time": "2022-09-22T11:10:02.133150Z",
     "start_time": "2022-09-22T11:10:02.125933Z"
    }
   },
   "outputs": [],
   "source": [
    "from bisect import bisect_left\n",
    "\n",
    "def binary_search_bisect(arr, value):\n",
    "    i = bisect_left(arr, value)\n",
    "    if i != len(arr) and arr[i] == value:\n",
    "        return i\n",
    "    else:\n",
    "        return -1"
   ]
  },
  {
   "cell_type": "code",
   "execution_count": null,
   "id": "b4edfaaf",
   "metadata": {
    "ExecuteTime": {
     "end_time": "2022-09-22T11:10:02.447930Z",
     "start_time": "2022-09-22T11:10:02.441840Z"
    }
   },
   "outputs": [],
   "source": [
    "shift = find_shift(a)\n",
    "\n",
    "value_to_find = 12\n",
    "\n",
    "if shift >= 0:\n",
    "    if value_to_find >= a[0]:\n",
    "        print(binary_search_bisect(a[:shift + 1], value_to_find))\n",
    "    else:\n",
    "        print(binary_search_bisect(a[shift + 1:], value_to_find))\n",
    "    \n",
    "else:\n",
    "    print(binary_search_bisect(a, value_to_find))"
   ]
  },
  {
   "cell_type": "markdown",
   "id": "3a3b4c99-b2ab-400c-af52-b41825d55ae3",
   "metadata": {
    "tags": []
   },
   "source": [
    "# Регулярные выражения"
   ]
  },
  {
   "cell_type": "markdown",
   "id": "80dc9c32-8cf0-4a93-8c36-83d41b7e6aeb",
   "metadata": {
    "ExecuteTime": {
     "end_time": "2021-11-17T02:56:48.721812Z",
     "start_time": "2021-11-17T02:56:48.718678Z"
    }
   },
   "source": [
    "Полезные ссылки:\n",
    "\n",
    "https://habr.com/ru/post/349860/\n",
    "\n",
    "https://uneex.org/HSE/ProgrammingOS/15_Regexp\n",
    "    \n",
    "https://regexone.com/    \n",
    "    \n",
    "https://ravesli.com/regulyarnye-vyrazheniya-osnovy/\n",
    "    \n",
    "https://regex101.com/"
   ]
  },
  {
   "cell_type": "markdown",
   "id": "747c1fec-364f-49c1-96eb-701c170c95b6",
   "metadata": {},
   "source": [
    "Pattern matching / searching:\n",
    "- Pattern -- это некоторая строка из спецсимволов, которая описывает, что мы хотим найти\n",
    "- Matching -- определение, соответствует ли строка заданному паттерну\n",
    "- Searching -- поиск подстрок, соответствующих паттерну, в тексте"
   ]
  },
  {
   "cell_type": "markdown",
   "id": "0fb84c12-6460-4e86-bcce-27daaaf0e334",
   "metadata": {},
   "source": [
    "### Основные правила:\n",
    "\n",
    "#### Общее\n",
    "- любой неспециальный символ матчит себя\n",
    "- \".\" матчит любой символ\n",
    "- \"[abc]\" матчит любой символ внутри множества\n",
    "- \"[A-z]\", \"[0-9]\" и прочие сокращения (множества символов подряд в таблице ascii)\n",
    "- \"a*\" -- звездочка означает 0 или больше указанных символов подряд\n",
    "- \"a+\" -- + означает 1 или более указанных символов подряд\n",
    "- \"a{2,}\" -- N или больше символов подряд\n",
    "- \"a?\" -- один или ни одного\n",
    "- \"a{1, 5}\" -- в фигурных скобках можно указать точное количество. Левая цифра означает минимальное, правая -- максимальное\n",
    "- \"^regexp\" -- только подстроки в начале строки\n",
    "- \"rgexp$\" -- только подстроки, находящиеся в конце строки\n",
    "\n",
    "#### Специальные обобщающие символы\n",
    "`\\{small_letter}` -- специальный символ\n",
    "`\\{big_letter}` -- любой символ кроме специального символа \n",
    "\n",
    "- \\s -- пробельные символы\n",
    "- \\d -- цифра\n",
    "- \\w -- буква или _\n",
    "\n",
    "#### Lookarounds\n",
    "- \"(?=...)\" -- positive lookahead\n",
    "- \"(?<=...)\" -- positive lookbehind\n",
    "- \"(?!...)\" -- negative lookahead\n",
    "- \"(?<!...)\" -- negative loookbehind\n",
    "\n",
    "и прочее и прочее...\n",
    "\n",
    "\n",
    "**Дисклеймер**: Написать регулярку может быть гораздо сложнее, чем потом прочитать! "
   ]
  },
  {
   "cell_type": "markdown",
   "id": "02a2db12-a73e-4496-86c3-0864bc88614b",
   "metadata": {},
   "source": [
    "### Разберем несколько примеров"
   ]
  },
  {
   "cell_type": "code",
   "execution_count": 77,
   "id": "c366d902-029f-47ee-81c7-06364ad798e9",
   "metadata": {
    "ExecuteTime": {
     "end_time": "2022-09-22T11:13:20.644829Z",
     "start_time": "2022-09-22T11:13:20.639250Z"
    },
    "collapsed": true,
    "jupyter": {
     "outputs_hidden": true
    }
   },
   "outputs": [],
   "source": [
    "import re"
   ]
  },
  {
   "cell_type": "code",
   "execution_count": 78,
   "id": "274838ed-22c5-43fd-b5bb-72563ceabfd5",
   "metadata": {
    "ExecuteTime": {
     "end_time": "2022-09-22T11:13:22.226694Z",
     "start_time": "2022-09-22T11:13:22.220932Z"
    },
    "collapsed": true,
    "jupyter": {
     "outputs_hidden": true
    }
   },
   "outputs": [],
   "source": [
    "sample_string = 'Hello, world!'"
   ]
  },
  {
   "cell_type": "code",
   "execution_count": 80,
   "id": "66026ca2-3568-45d6-ae12-2cdef990da8d",
   "metadata": {
    "ExecuteTime": {
     "end_time": "2022-09-22T11:14:02.171567Z",
     "start_time": "2022-09-22T11:14:02.166318Z"
    },
    "collapsed": true,
    "jupyter": {
     "outputs_hidden": true
    }
   },
   "outputs": [
    {
     "data": {
      "text/plain": [
       "<re.Match object; span=(0, 5), match='Hello'>"
      ]
     },
     "execution_count": 80,
     "metadata": {},
     "output_type": "execute_result"
    }
   ],
   "source": [
    "pattern = re.compile('[hH]ello')\n",
    "pattern.match(sample_string)"
   ]
  },
  {
   "cell_type": "code",
   "execution_count": 81,
   "id": "e7f76915-c507-407b-9829-b56d70749f16",
   "metadata": {
    "ExecuteTime": {
     "end_time": "2022-09-22T11:14:23.122559Z",
     "start_time": "2022-09-22T11:14:23.117361Z"
    },
    "collapsed": true,
    "jupyter": {
     "outputs_hidden": true
    }
   },
   "outputs": [
    {
     "data": {
      "text/plain": [
       "['Hello']"
      ]
     },
     "execution_count": 81,
     "metadata": {},
     "output_type": "execute_result"
    }
   ],
   "source": [
    "pattern.findall(sample_string)"
   ]
  },
  {
   "cell_type": "code",
   "execution_count": 94,
   "id": "28e3de2f-ab80-44f3-9659-67a8176b4e40",
   "metadata": {
    "ExecuteTime": {
     "end_time": "2022-09-22T11:21:07.556663Z",
     "start_time": "2022-09-22T11:21:07.550193Z"
    },
    "collapsed": true,
    "jupyter": {
     "outputs_hidden": true
    }
   },
   "outputs": [],
   "source": [
    "m = re.match(r'[hH]ello,? [A-z]*[.!]?$', sample_string)"
   ]
  },
  {
   "cell_type": "code",
   "execution_count": 95,
   "id": "dbc7170a-2293-424d-a3fd-4a07e8b6e01e",
   "metadata": {
    "ExecuteTime": {
     "end_time": "2022-09-22T11:21:08.064418Z",
     "start_time": "2022-09-22T11:21:08.058744Z"
    },
    "collapsed": true,
    "jupyter": {
     "outputs_hidden": true
    }
   },
   "outputs": [
    {
     "data": {
      "text/plain": [
       "'Hello, world!'"
      ]
     },
     "execution_count": 95,
     "metadata": {},
     "output_type": "execute_result"
    }
   ],
   "source": [
    "sample_string[m.start():m.end()]"
   ]
  },
  {
   "cell_type": "code",
   "execution_count": 96,
   "id": "441bcfb3-7a49-4aa3-a535-826afa0b43bb",
   "metadata": {
    "ExecuteTime": {
     "end_time": "2022-09-22T11:21:09.375374Z",
     "start_time": "2022-09-22T11:21:09.366931Z"
    },
    "collapsed": true,
    "jupyter": {
     "outputs_hidden": true
    }
   },
   "outputs": [
    {
     "data": {
      "text/plain": [
       "'Hello, world!'"
      ]
     },
     "execution_count": 96,
     "metadata": {},
     "output_type": "execute_result"
    }
   ],
   "source": [
    "m.group()"
   ]
  },
  {
   "cell_type": "code",
   "execution_count": 97,
   "id": "b1546d6e-5b45-40eb-b494-b63838d04aa7",
   "metadata": {
    "ExecuteTime": {
     "end_time": "2022-09-22T11:21:19.074172Z",
     "start_time": "2022-09-22T11:21:19.069276Z"
    },
    "collapsed": true,
    "jupyter": {
     "outputs_hidden": true
    }
   },
   "outputs": [],
   "source": [
    "grouped_match = re.match(r'([hH]ello,?) [a-z]*[.!]?$', sample_string)"
   ]
  },
  {
   "cell_type": "code",
   "execution_count": 98,
   "id": "5a6f3ef3-a3cb-451f-add2-ca84053d5764",
   "metadata": {
    "ExecuteTime": {
     "end_time": "2022-09-22T11:21:19.616067Z",
     "start_time": "2022-09-22T11:21:19.610702Z"
    },
    "collapsed": true,
    "jupyter": {
     "outputs_hidden": true
    }
   },
   "outputs": [
    {
     "data": {
      "text/plain": [
       "'Hello, world!'"
      ]
     },
     "execution_count": 98,
     "metadata": {},
     "output_type": "execute_result"
    }
   ],
   "source": [
    "grouped_match.group()"
   ]
  },
  {
   "cell_type": "code",
   "execution_count": 99,
   "id": "290a8722-d9f3-4f45-bdf2-86b1c391f496",
   "metadata": {
    "ExecuteTime": {
     "end_time": "2022-09-22T11:21:21.433564Z",
     "start_time": "2022-09-22T11:21:21.424581Z"
    },
    "collapsed": true,
    "jupyter": {
     "outputs_hidden": true
    }
   },
   "outputs": [
    {
     "data": {
      "text/plain": [
       "('Hello,',)"
      ]
     },
     "execution_count": 99,
     "metadata": {},
     "output_type": "execute_result"
    }
   ],
   "source": [
    "grouped_match.groups()"
   ]
  },
  {
   "cell_type": "code",
   "execution_count": 100,
   "id": "f5154fc9-d720-4140-96df-48628eb553c3",
   "metadata": {
    "ExecuteTime": {
     "end_time": "2022-09-22T11:21:43.986183Z",
     "start_time": "2022-09-22T11:21:43.980147Z"
    },
    "collapsed": true,
    "jupyter": {
     "outputs_hidden": true
    }
   },
   "outputs": [
    {
     "data": {
      "text/plain": [
       "<re.Match object; span=(4, 7), match='973'>"
      ]
     },
     "execution_count": 100,
     "metadata": {},
     "output_type": "execute_result"
    }
   ],
   "source": [
    "re.search(r'\\d{1,3}', 'rfhe97346fevbv78')"
   ]
  },
  {
   "cell_type": "code",
   "execution_count": 103,
   "id": "72557731-057d-4fc2-9f24-724383b26dd6",
   "metadata": {
    "ExecuteTime": {
     "end_time": "2022-09-22T11:23:03.213058Z",
     "start_time": "2022-09-22T11:23:03.207476Z"
    },
    "collapsed": true,
    "jupyter": {
     "outputs_hidden": true
    }
   },
   "outputs": [
    {
     "data": {
      "text/plain": [
       "['97346', '78']"
      ]
     },
     "execution_count": 103,
     "metadata": {},
     "output_type": "execute_result"
    }
   ],
   "source": [
    "re.findall(r'\\d{1,}', 'rfhe97346fevbv78')"
   ]
  },
  {
   "cell_type": "code",
   "execution_count": 104,
   "id": "e9a30163-1eee-4bcd-ade9-a3e129179cac",
   "metadata": {
    "ExecuteTime": {
     "end_time": "2022-09-22T11:23:24.658219Z",
     "start_time": "2022-09-22T11:23:24.652600Z"
    },
    "collapsed": true,
    "jupyter": {
     "outputs_hidden": true
    }
   },
   "outputs": [
    {
     "data": {
      "text/plain": [
       "'rfheцифрыfevbv78'"
      ]
     },
     "execution_count": 104,
     "metadata": {},
     "output_type": "execute_result"
    }
   ],
   "source": [
    "re.sub(r'\\d{3,5}', 'цифры', 'rfhe97346fevbv78')"
   ]
  },
  {
   "cell_type": "markdown",
   "id": "6ade0a1b-65dd-47fc-a37e-84397cc87b16",
   "metadata": {},
   "source": [
    "**Lookarounds**"
   ]
  },
  {
   "cell_type": "code",
   "execution_count": 105,
   "id": "695e964c-e3e7-4ea6-8dab-d9c075112abf",
   "metadata": {
    "ExecuteTime": {
     "end_time": "2022-09-22T11:24:29.746250Z",
     "start_time": "2022-09-22T11:24:29.740580Z"
    },
    "collapsed": true,
    "jupyter": {
     "outputs_hidden": true
    }
   },
   "outputs": [],
   "source": [
    "er_words = 'math teacher physics teacher scheduler funny monster creepy monster'"
   ]
  },
  {
   "cell_type": "code",
   "execution_count": 107,
   "id": "ba411b5e-9091-45c7-9d71-ec794c36120b",
   "metadata": {
    "ExecuteTime": {
     "end_time": "2022-09-22T11:25:02.426626Z",
     "start_time": "2022-09-22T11:25:02.421646Z"
    },
    "collapsed": true,
    "jupyter": {
     "outputs_hidden": true
    }
   },
   "outputs": [
    {
     "name": "stdout",
     "output_type": "stream",
     "text": [
      "math \n",
      "physics \n"
     ]
    }
   ],
   "source": [
    "for m in re.finditer('\\w+ (?=teacher)', er_words):\n",
    "    print(er_words[m.start():m.end()])"
   ]
  },
  {
   "cell_type": "code",
   "execution_count": 108,
   "id": "4b18c717-070d-4a95-b5c0-7e5181197fc7",
   "metadata": {
    "ExecuteTime": {
     "end_time": "2022-09-22T11:25:04.088951Z",
     "start_time": "2022-09-22T11:25:04.083443Z"
    },
    "collapsed": true,
    "jupyter": {
     "outputs_hidden": true
    }
   },
   "outputs": [
    {
     "data": {
      "text/plain": [
       "['math ', 'physics ']"
      ]
     },
     "execution_count": 108,
     "metadata": {},
     "output_type": "execute_result"
    }
   ],
   "source": [
    "re.findall('\\w+ (?=teacher)', er_words)"
   ]
  },
  {
   "cell_type": "code",
   "execution_count": 109,
   "id": "ef230c2c-a8b2-4ff2-972e-e4b29522b146",
   "metadata": {
    "ExecuteTime": {
     "end_time": "2022-09-22T11:25:24.874403Z",
     "start_time": "2022-09-22T11:25:24.869709Z"
    },
    "collapsed": true,
    "jupyter": {
     "outputs_hidden": true
    }
   },
   "outputs": [
    {
     "name": "stdout",
     "output_type": "stream",
     "text": [
      "20 28  teacher\n"
     ]
    }
   ],
   "source": [
    "for m in re.finditer('(?<!math) teacher', er_words):\n",
    "    print(m.start(), m.end(), er_words[m.start():m.end()])"
   ]
  },
  {
   "cell_type": "markdown",
   "id": "00828b3f-1d17-48fd-bbb0-8a8e4832da9c",
   "metadata": {},
   "source": [
    "## Practice Tasks"
   ]
  },
  {
   "cell_type": "markdown",
   "id": "73b91ede",
   "metadata": {},
   "source": [
    "### Remove stops"
   ]
  },
  {
   "cell_type": "code",
   "execution_count": 123,
   "id": "705a23bf",
   "metadata": {
    "ExecuteTime": {
     "end_time": "2022-09-23T08:34:50.585496Z",
     "start_time": "2022-09-23T08:34:50.579437Z"
    }
   },
   "outputs": [
    {
     "data": {
      "text/plain": [
       "' внедорожник не бит не крашен фиолетовый '"
      ]
     },
     "execution_count": 123,
     "metadata": {},
     "output_type": "execute_result"
    }
   ],
   "source": [
    "stopwords = ['продам', 'отличный', 'авто', 'автомобиль', 'хороший']\n",
    "regexp_stops = '|'.join(fr\"\\b{word}\\b\" for word in stopwords)\n",
    "regexp_chars = r'[!?.,\\s\\n\\t-_]+'\n",
    "\n",
    "text = 'Продам отличный автомобиль внедорожник не бит, не крашен фиолетовый!!'\n",
    "\n",
    "cleaned_text = re.sub(regexp_stops, '', text, flags=re.IGNORECASE)\n",
    "cleaned_text = re.sub(regexp_chars, ' ', cleaned_text)\n",
    "cleaned_text"
   ]
  },
  {
   "cell_type": "markdown",
   "id": "01c88741-258a-414e-b171-8cc35d3a02be",
   "metadata": {},
   "source": [
    "### Ошибся со временем\n",
    "\n",
    "Вы написали длинное письмо, где описали свои планы на день с указанием конкретных временных промежутков. Однако позже вы осознали, что на самом деле забыли об одном важном деле, и теперь все даты в вашем письме неверные. Напишите программу, которая заменяет все временные указания на строчку TBD\n",
    "\n",
    "*Пример:*\n",
    "\n",
    "`Уважаемый Д.! Если вы к 11:00 пятницы не подготовите свой семинар, то уже в 11:00:01 я за себя не отвечаю. \n",
    "Нужно нагененировать хотя бы 4 задачи и успеть разобрать в идеале 80:100 из них` \n",
    "\n",
    "->\n",
    "\n",
    "`Уважаемый Д.! Если вы к (TBD) пятницы не подготовите свой семинар, то уже в (TBD) я за себя не отвечаю. \n",
    "Нужно нагененировать хотя бы 4 задачи и успеть разобрать в идеале 80:100 из них` "
   ]
  },
  {
   "cell_type": "code",
   "execution_count": 129,
   "id": "fb23868c-20e9-4fe8-b8f3-305d941b741d",
   "metadata": {
    "ExecuteTime": {
     "end_time": "2022-09-23T08:51:26.105141Z",
     "start_time": "2022-09-23T08:51:26.099519Z"
    }
   },
   "outputs": [
    {
     "data": {
      "text/plain": [
       "'Уважаемый Д.! Если вы к (TBD) пятницы не подготовите свой семинар, то уже в (TBD) я за себя не отвечаю. Нужно нагененировать хотя бы 4 задачи и успеть разобрать в идеале 80:100 из них'"
      ]
     },
     "execution_count": 129,
     "metadata": {},
     "output_type": "execute_result"
    }
   ],
   "source": [
    "# your code\n",
    "\n",
    "text = 'Уважаемый Д.! Если вы к 11:00 пятницы не подготовите свой семинар, то уже в 11:00:01 я за себя не отвечаю. Нужно нагененировать хотя бы 4 задачи и успеть разобрать в идеале 80:100 из них'\n",
    "\n",
    "regexp_time = r'\\b(([01][0-9])|(2[0-4])):([0-5][0-9])(:[0-5][0-9])?\\b'\n",
    "\n",
    "re.sub(regexp_time, '(TBD)', text)"
   ]
  },
  {
   "cell_type": "markdown",
   "id": "7ba46717",
   "metadata": {},
   "source": [
    "## Опциональные задачи на бонусы"
   ]
  },
  {
   "cell_type": "markdown",
   "id": "36d229a0-cc31-412a-8ef5-712b0ea69073",
   "metadata": {},
   "source": [
    "### Парсинг таблицы игр (0.5)"
   ]
  },
  {
   "cell_type": "code",
   "execution_count": 1,
   "id": "3bc02365-f8ea-435e-87b9-73c4637b27a8",
   "metadata": {},
   "outputs": [],
   "source": [
    "match_results = '''\n",
    "Aston Villa (London) 1 1 Man City (Manchester)\n",
    "Brentford (Brentford) 5 2 Leeds United (Leeds)\n",
    "Chelsea (London) 2 1 West Ham (London)\n",
    "Newcastle United (Newcastle) 0 0 Crystal Palace (London)\n",
    "Nottm Forest (Nottighham) 2 3 AFC Bournemouth (Bournemouth)\n",
    "Tottenham (London) 2 1 Fulham (London)\n",
    "Wolverhampton Wanderers (Wolverhampton) 1 1 Southampton (Southampton)\n",
    "Everton (Liverpool) 0 0 Liverpool (Liverpool)\n",
    "'''"
   ]
  },
  {
   "cell_type": "markdown",
   "id": "3b48fb46-aba5-41c0-b83f-c24d9611ee5e",
   "metadata": {},
   "source": [
    "1. Достаньте все города из текста"
   ]
  },
  {
   "cell_type": "code",
   "execution_count": 3,
   "id": "9507cf22-31bf-41f7-9383-6e1581b8e645",
   "metadata": {},
   "outputs": [],
   "source": [
    "# your code"
   ]
  },
  {
   "cell_type": "markdown",
   "id": "9055916a-d4e7-481a-aeef-bb2d7eea748c",
   "metadata": {},
   "source": [
    "2. Все названия команд"
   ]
  },
  {
   "cell_type": "code",
   "execution_count": 4,
   "id": "25e7ce14-09ee-4631-b0d9-32d6f9906d3c",
   "metadata": {},
   "outputs": [],
   "source": [
    "# your code"
   ]
  },
  {
   "cell_type": "markdown",
   "id": "fd283360-a821-4474-ace5-a6e67e92e3fa",
   "metadata": {},
   "source": [
    "3. Все счета матчей"
   ]
  },
  {
   "cell_type": "code",
   "execution_count": 5,
   "id": "18a3b29c-c862-415d-8600-25ffc8dd97b6",
   "metadata": {},
   "outputs": [],
   "source": [
    "# your code"
   ]
  },
  {
   "cell_type": "markdown",
   "id": "aafdd4a3-5edc-410b-9e65-ca10abe155b0",
   "metadata": {},
   "source": [
    "### E-mails (1)\n",
    "\n",
    "Вы увидели, что у соседнего курса в открытом доступе выложены личные данные лекторов, семинаристов и ассистентов! Как хорошие программисты, вы конечно же забеспокоились о приватности данных незадачливых коллег и решили тайком  удалить все их личные почты из общего файла. При этом, вы хотите, чтобы с ними можно было связаться, поэтому университетские почты вы в файле оставляете.\n",
    "\n",
    "**Задача:** \n",
    "- Прочитать данные из файла\n",
    "- Вывести все e-mail'ы из файла\n",
    "- Модифицировать файл таким образом, чтобы все почты не относящиеся к доменам @hse.ru или @edu.hse.ru были заменены на фразу \"Pr1v@cY REstorED\"\n",
    "\n",
    "\n",
    "PS Если вы умеете работать с командной строчкой в linux или mac os, попробуйте решить задачку в терминале. Вам можешь помочь команда `ssed`"
   ]
  },
  {
   "cell_type": "markdown",
   "id": "d5d92a6a-b1ef-4487-80c4-af8bdcc05d8c",
   "metadata": {},
   "source": [
    "### Погенерируем пароли (1.5)\n",
    "\n",
    "Вы наконец-то обеспокоились своей безопасностью в сети и решили обновить все свои пароли. Однако придумывать все самим для всех ваших сайтов вам, конечно, лень. Поэтому вы решили написать программу, которая это сделает за вас!\n",
    "\n",
    "Сгенерируйте случайный пароль длины N. Убедитесь, что получившийся пароль на самом деле хороший. В нашем случае это:\n",
    "1. Содержит хотя бы две заглавные буквы подряд\n",
    "2. Содержит хотя бы две строчные буквы подряд\n",
    "3. Не содержит пробельные спецсимволы (\\t, \\n и подобные)\n",
    "4. Не содержит трех цифр подряд\n",
    "5. Содержит и русские, и английские буквы \n",
    "\n",
    "Ваш код должен генерировать пароли, пока они не удовлетворят заданным условиям."
   ]
  },
  {
   "cell_type": "markdown",
   "id": "cfd1e2d4",
   "metadata": {},
   "source": [
    "hint: используйте модуль random"
   ]
  },
  {
   "cell_type": "code",
   "execution_count": null,
   "id": "3e517684",
   "metadata": {},
   "outputs": [],
   "source": []
  }
 ],
 "metadata": {
  "kernelspec": {
   "display_name": "base-env",
   "language": "python",
   "name": "base-env"
  },
  "language_info": {
   "codemirror_mode": {
    "name": "ipython",
    "version": 3
   },
   "file_extension": ".py",
   "mimetype": "text/x-python",
   "name": "python",
   "nbconvert_exporter": "python",
   "pygments_lexer": "ipython3",
   "version": "3.9.12"
  },
  "toc": {
   "base_numbering": 1,
   "nav_menu": {},
   "number_sections": true,
   "sideBar": true,
   "skip_h1_title": false,
   "title_cell": "Table of Contents",
   "title_sidebar": "Contents",
   "toc_cell": false,
   "toc_position": {},
   "toc_section_display": true,
   "toc_window_display": false
  },
  "varInspector": {
   "cols": {
    "lenName": 16,
    "lenType": 16,
    "lenVar": 40
   },
   "kernels_config": {
    "python": {
     "delete_cmd_postfix": "",
     "delete_cmd_prefix": "del ",
     "library": "var_list.py",
     "varRefreshCmd": "print(var_dic_list())"
    },
    "r": {
     "delete_cmd_postfix": ") ",
     "delete_cmd_prefix": "rm(",
     "library": "var_list.r",
     "varRefreshCmd": "cat(var_dic_list()) "
    }
   },
   "types_to_exclude": [
    "module",
    "function",
    "builtin_function_or_method",
    "instance",
    "_Feature"
   ],
   "window_display": false
  }
 },
 "nbformat": 4,
 "nbformat_minor": 5
}
