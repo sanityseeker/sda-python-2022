{
 "cells": [
  {
   "cell_type": "markdown",
   "id": "3a44d2c7",
   "metadata": {},
   "source": [
    "# reduce, accumulate"
   ]
  },
  {
   "cell_type": "code",
   "execution_count": 5,
   "id": "027b5845",
   "metadata": {
    "ExecuteTime": {
     "end_time": "2022-09-29T10:09:36.972804Z",
     "start_time": "2022-09-29T10:09:36.966549Z"
    }
   },
   "outputs": [],
   "source": [
    "import operator\n",
    "\n",
    "from functools import reduce\n",
    "from itertools import accumulate"
   ]
  },
  {
   "cell_type": "markdown",
   "id": "84d183f0",
   "metadata": {},
   "source": [
    "**reduce**"
   ]
  },
  {
   "cell_type": "code",
   "execution_count": 12,
   "id": "63281206",
   "metadata": {
    "ExecuteTime": {
     "end_time": "2022-09-29T10:19:40.093559Z",
     "start_time": "2022-09-29T10:19:40.087534Z"
    }
   },
   "outputs": [
    {
     "data": {
      "text/plain": [
       "[(0, 0),\n",
       " (1, 100),\n",
       " (2, 200),\n",
       " (3, 300),\n",
       " (4, 400),\n",
       " (5, 500),\n",
       " (6, 600),\n",
       " (7, 700),\n",
       " (8, 800),\n",
       " (9, 900)]"
      ]
     },
     "execution_count": 12,
     "metadata": {},
     "output_type": "execute_result"
    }
   ],
   "source": [
    "a = [(i, i*100) for i in range(100)]\n",
    "a[:10]"
   ]
  },
  {
   "cell_type": "code",
   "execution_count": 14,
   "id": "0992d843",
   "metadata": {
    "ExecuteTime": {
     "end_time": "2022-09-29T10:20:05.513204Z",
     "start_time": "2022-09-29T10:20:05.507517Z"
    }
   },
   "outputs": [
    {
     "data": {
      "text/plain": [
       "(99, 495000)"
      ]
     },
     "execution_count": 14,
     "metadata": {},
     "output_type": "execute_result"
    }
   ],
   "source": [
    "reduce(lambda tup_one, tup_two: (max(tup_one[0], tup_two[0]), tup_one[1] + tup_two[1]), a)"
   ]
  },
  {
   "cell_type": "code",
   "execution_count": 15,
   "id": "b50dd3c9",
   "metadata": {
    "ExecuteTime": {
     "end_time": "2022-09-29T10:21:15.090587Z",
     "start_time": "2022-09-29T10:21:15.084908Z"
    }
   },
   "outputs": [
    {
     "data": {
      "text/plain": [
       "[0, 1, 2, 3, 4, 5, 6, 7, 8, 9]"
      ]
     },
     "execution_count": 15,
     "metadata": {},
     "output_type": "execute_result"
    }
   ],
   "source": [
    "a = list(range(10))\n",
    "a"
   ]
  },
  {
   "cell_type": "code",
   "execution_count": 16,
   "id": "60689c7a",
   "metadata": {
    "ExecuteTime": {
     "end_time": "2022-09-29T10:21:17.176004Z",
     "start_time": "2022-09-29T10:21:17.170460Z"
    }
   },
   "outputs": [
    {
     "data": {
      "text/plain": [
       "45"
      ]
     },
     "execution_count": 16,
     "metadata": {},
     "output_type": "execute_result"
    }
   ],
   "source": [
    "reduce(lambda x, y: x + y, a)"
   ]
  },
  {
   "cell_type": "markdown",
   "id": "2e071dc5",
   "metadata": {},
   "source": [
    "**accumulate**"
   ]
  },
  {
   "cell_type": "code",
   "execution_count": 22,
   "id": "69aed884",
   "metadata": {
    "ExecuteTime": {
     "end_time": "2022-09-29T10:24:26.917202Z",
     "start_time": "2022-09-29T10:24:26.911677Z"
    }
   },
   "outputs": [
    {
     "data": {
      "text/plain": [
       "[1, 2, 6, 24, 120, 720, 5040, 40320, 362880]"
      ]
     },
     "execution_count": 22,
     "metadata": {},
     "output_type": "execute_result"
    }
   ],
   "source": [
    "list(accumulate(a[1:], lambda x, y: x * y))"
   ]
  },
  {
   "cell_type": "markdown",
   "id": "73fd0adf",
   "metadata": {},
   "source": [
    "**Count certain type of events**"
   ]
  },
  {
   "cell_type": "code",
   "execution_count": 26,
   "id": "767797fe",
   "metadata": {
    "ExecuteTime": {
     "end_time": "2022-09-29T10:32:21.979984Z",
     "start_time": "2022-09-29T10:32:21.973350Z"
    }
   },
   "outputs": [],
   "source": [
    "event_log = [\n",
    "    (11214, 'search', 5),\n",
    "    (11215, 'item_view', 1),\n",
    "    (11216, 'item_viewphone', 10),\n",
    "    (11217, 'item_view', 2),\n",
    "    (11218, 'item_viewphone', 4),\n",
    "    (11219, 'item_view', 6),\n",
    "    (11210, 'item_viewphone', 2),\n",
    "    (11234, 'item_view', 4),\n",
    "    (11264, 'item_view', 3),\n",
    "    (11224, 'item_viewphone', 1),\n",
    "    (11204, 'search', 6),\n",
    "    (12214, 'search', 34),\n",
    "    (13214, 'item_view', 3),\n",
    "    (14214, 'item_view', 1000),\n",
    "    (15214, 'item_viewphone', 2000),\n",
    "    (16214, 'item_viewphone', 3444),\n",
    "    (17214, 'item_view', 0),\n",
    "    (18214, 'item_viewphone', 12),\n",
    "    (19214, 'search', 244),\n",
    "    (29214, 'item_viewphone', 4),\n",
    "    (30214, 'item_view', 56),\n",
    "    (48214, 'item_viewphone', 5),\n",
    "    (67214, 'item_view', 2),\n",
    "]"
   ]
  },
  {
   "cell_type": "markdown",
   "id": "fabedeb9",
   "metadata": {},
   "source": [
    "1. Посчитать количество аномальных полей. Будем считать поле аномальным, если у него какое-то слишком большое значение для метрики. Например, количество событий > 999\n",
    "\n",
    "Можно, например, использовать filter() или list-comp"
   ]
  },
  {
   "cell_type": "code",
   "execution_count": 32,
   "id": "20f6274a",
   "metadata": {
    "ExecuteTime": {
     "end_time": "2022-09-29T10:33:35.006413Z",
     "start_time": "2022-09-29T10:33:35.001677Z"
    }
   },
   "outputs": [
    {
     "data": {
      "text/plain": [
       "3"
      ]
     },
     "execution_count": 32,
     "metadata": {},
     "output_type": "execute_result"
    }
   ],
   "source": [
    "anomaly_events_num = 999\n",
    "\n",
    "len(list(filter(lambda elem: elem[2] > anomaly_events_num, event_log)))"
   ]
  },
  {
   "cell_type": "code",
   "execution_count": 33,
   "id": "ffdea0f3",
   "metadata": {
    "ExecuteTime": {
     "end_time": "2022-09-29T10:34:13.896702Z",
     "start_time": "2022-09-29T10:34:13.891948Z"
    }
   },
   "outputs": [],
   "source": [
    "cnt = 0\n",
    "\n",
    "for elem in filter(lambda elem: elem[2] > anomaly_events_num, event_log):\n",
    "    cnt += 1"
   ]
  },
  {
   "cell_type": "markdown",
   "id": "126b90a8",
   "metadata": {},
   "source": [
    "2. Посчитать общее количество событий по неаномальным полям"
   ]
  },
  {
   "cell_type": "code",
   "execution_count": 47,
   "id": "5e7c792d",
   "metadata": {
    "ExecuteTime": {
     "end_time": "2022-09-29T10:44:49.379701Z",
     "start_time": "2022-09-29T10:44:49.373695Z"
    }
   },
   "outputs": [
    {
     "data": {
      "text/plain": [
       "(67214, 'item_view', 77)"
      ]
     },
     "execution_count": 47,
     "metadata": {},
     "output_type": "execute_result"
    }
   ],
   "source": [
    "eventtype = 'item_view'\n",
    "\n",
    "# code\n",
    "reduce(\n",
    "    lambda tup_one, tup_two: (max(tup_one[0], tup_two[0]), eventtype, tup_one[-1] + tup_two[-1]),\n",
    "    filter(lambda elem: elem[1] == eventtype and elem[-1] <= anomaly_events_num, event_log),\n",
    ")"
   ]
  },
  {
   "cell_type": "markdown",
   "id": "ce0ab696",
   "metadata": {},
   "source": [
    "# Dicts"
   ]
  },
  {
   "cell_type": "markdown",
   "id": "bd126c63",
   "metadata": {},
   "source": [
    "## Creation"
   ]
  },
  {
   "cell_type": "code",
   "execution_count": 48,
   "id": "157e4657",
   "metadata": {
    "ExecuteTime": {
     "end_time": "2022-09-29T10:45:30.960391Z",
     "start_time": "2022-09-29T10:45:30.955621Z"
    }
   },
   "outputs": [
    {
     "name": "stdout",
     "output_type": "stream",
     "text": [
      "{} <class 'dict'>\n"
     ]
    }
   ],
   "source": [
    "some_empty_dict = dict()\n",
    "print(some_empty_dict, type(some_empty_dict))"
   ]
  },
  {
   "cell_type": "markdown",
   "id": "442dc1e0",
   "metadata": {},
   "source": [
    "### Simple example"
   ]
  },
  {
   "cell_type": "code",
   "execution_count": 50,
   "id": "cc2ce912",
   "metadata": {
    "ExecuteTime": {
     "end_time": "2022-09-29T10:46:28.959440Z",
     "start_time": "2022-09-29T10:46:28.952739Z"
    }
   },
   "outputs": [
    {
     "data": {
      "text/plain": [
       "{'name': 'Denis',\n",
       " 'year': 2015,\n",
       " 'core subjects': ('Statistics', 'Algorimthms'),\n",
       " 'optional subjects': ['Urban Studies', 'Basic Physics'],\n",
       " 42: 'always the answer',\n",
       " (42,): 'always the answer'}"
      ]
     },
     "execution_count": 50,
     "metadata": {},
     "output_type": "execute_result"
    }
   ],
   "source": [
    "student_card = {\n",
    "    'name': 'Denis',\n",
    "    'year': 2015,\n",
    "    'core subjects': ('Statistics', 'Algorimthms'),\n",
    "    'optional subjects': ['Urban Studies', 'Basic Physics'],\n",
    "    42: 'always the answer',\n",
    "    (42,): 'always the answer',\n",
    "}\n",
    "\n",
    "student_card"
   ]
  },
  {
   "cell_type": "code",
   "execution_count": 52,
   "id": "d62cd3c8",
   "metadata": {
    "ExecuteTime": {
     "end_time": "2022-09-29T10:46:48.493675Z",
     "start_time": "2022-09-29T10:46:48.487761Z"
    }
   },
   "outputs": [],
   "source": [
    "student_card['surname'] = 'Belyakov'"
   ]
  },
  {
   "cell_type": "code",
   "execution_count": 53,
   "id": "8c53b2d0",
   "metadata": {
    "ExecuteTime": {
     "end_time": "2022-09-29T10:46:52.976135Z",
     "start_time": "2022-09-29T10:46:52.970574Z"
    }
   },
   "outputs": [
    {
     "data": {
      "text/plain": [
       "{'name': 'Denis',\n",
       " 'year': 2015,\n",
       " 'core subjects': ('Statistics', 'Algorimthms'),\n",
       " 'optional subjects': ['Urban Studies', 'Basic Physics'],\n",
       " 42: 'always the answer',\n",
       " (42,): 'always the answer',\n",
       " 'surname': 'Belyakov'}"
      ]
     },
     "execution_count": 53,
     "metadata": {},
     "output_type": "execute_result"
    }
   ],
   "source": [
    "student_card"
   ]
  },
  {
   "cell_type": "markdown",
   "id": "8ec20b73",
   "metadata": {},
   "source": [
    "## Внутри"
   ]
  },
  {
   "cell_type": "markdown",
   "id": "0af4eb35",
   "metadata": {},
   "source": [
    "Ключ может быть только hashable"
   ]
  },
  {
   "cell_type": "markdown",
   "id": "f7c07457",
   "metadata": {},
   "source": [
    "    An object is hashable if it has a hash value which never changes during its lifetime (it\n",
    "    needs a __hash__() method), and can be compared to other objects (it needs an\n",
    "    __eq__() method). Hashable objects which compare equal must have the same hash\n",
    "    value. […]"
   ]
  },
  {
   "cell_type": "markdown",
   "id": "6e7627ef",
   "metadata": {},
   "source": [
    "Данное требование существует, потому что внутри dict -- это hash таблица!"
   ]
  },
  {
   "cell_type": "markdown",
   "id": "44cac078",
   "metadata": {},
   "source": [
    "Операции доставания значения по ключу, добавления и проверки нахождения -- в среднем **O(1)**. \n",
    "\n",
    "` Может быть O(n), если у вас отвратительная хеш-функция `"
   ]
  },
  {
   "cell_type": "markdown",
   "id": "a6e29f62",
   "metadata": {},
   "source": [
    "![hashtable](https://upload.wikimedia.org/wikipedia/commons/thumb/7/7d/Hash_table_3_1_1_0_1_0_0_SP.svg/1200px-Hash_table_3_1_1_0_1_0_0_SP.svg.png)"
   ]
  },
  {
   "cell_type": "markdown",
   "id": "35680796",
   "metadata": {},
   "source": [
    "## Basic operations"
   ]
  },
  {
   "cell_type": "markdown",
   "id": "b1162add",
   "metadata": {},
   "source": [
    "### Get values"
   ]
  },
  {
   "cell_type": "code",
   "execution_count": 55,
   "id": "4e79e416",
   "metadata": {
    "ExecuteTime": {
     "end_time": "2022-09-29T10:51:56.818945Z",
     "start_time": "2022-09-29T10:51:56.813925Z"
    }
   },
   "outputs": [
    {
     "data": {
      "text/plain": [
       "'key is not there'"
      ]
     },
     "execution_count": 55,
     "metadata": {},
     "output_type": "execute_result"
    }
   ],
   "source": [
    "student_card.get('name', 'key is not there')"
   ]
  },
  {
   "cell_type": "markdown",
   "id": "2e0b6efa",
   "metadata": {},
   "source": [
    "### Remove values"
   ]
  },
  {
   "cell_type": "code",
   "execution_count": 57,
   "id": "b7825737",
   "metadata": {
    "ExecuteTime": {
     "end_time": "2022-09-29T10:52:36.577905Z",
     "start_time": "2022-09-29T10:52:36.572474Z"
    }
   },
   "outputs": [
    {
     "data": {
      "text/plain": [
       "'always the answer'"
      ]
     },
     "execution_count": 57,
     "metadata": {},
     "output_type": "execute_result"
    }
   ],
   "source": [
    "student_card.pop((42,))"
   ]
  },
  {
   "cell_type": "code",
   "execution_count": 58,
   "id": "b3681e1d",
   "metadata": {
    "ExecuteTime": {
     "end_time": "2022-09-29T10:52:40.384217Z",
     "start_time": "2022-09-29T10:52:40.374694Z"
    }
   },
   "outputs": [
    {
     "data": {
      "text/plain": [
       "{'name': 'Denis',\n",
       " 'year': 2015,\n",
       " 'core subjects': ('Statistics', 'Algorimthms'),\n",
       " 'optional subjects': ['Urban Studies', 'Basic Physics'],\n",
       " 42: 'always the answer',\n",
       " 'surname': 'Belyakov'}"
      ]
     },
     "execution_count": 58,
     "metadata": {},
     "output_type": "execute_result"
    }
   ],
   "source": [
    "student_card"
   ]
  },
  {
   "cell_type": "markdown",
   "id": "00c71455",
   "metadata": {},
   "source": [
    "### Update with many `key:value` pairs"
   ]
  },
  {
   "cell_type": "code",
   "execution_count": 61,
   "id": "8a038738",
   "metadata": {
    "ExecuteTime": {
     "end_time": "2022-09-29T10:53:10.637785Z",
     "start_time": "2022-09-29T10:53:10.633331Z"
    }
   },
   "outputs": [],
   "source": [
    "student_card.update({'name': 1, 'b': 2})"
   ]
  },
  {
   "cell_type": "code",
   "execution_count": 62,
   "id": "c33f67e2",
   "metadata": {
    "ExecuteTime": {
     "end_time": "2022-09-29T10:53:11.149492Z",
     "start_time": "2022-09-29T10:53:11.144024Z"
    }
   },
   "outputs": [
    {
     "data": {
      "text/plain": [
       "{'name': 1,\n",
       " 'year': 2015,\n",
       " 'core subjects': ('Statistics', 'Algorimthms'),\n",
       " 'optional subjects': ['Urban Studies', 'Basic Physics'],\n",
       " 42: 'always the answer',\n",
       " 'surname': 'Belyakov',\n",
       " 'a': 1,\n",
       " 'b': 2}"
      ]
     },
     "execution_count": 62,
     "metadata": {},
     "output_type": "execute_result"
    }
   ],
   "source": [
    "student_card"
   ]
  },
  {
   "cell_type": "markdown",
   "id": "fcdd6263",
   "metadata": {},
   "source": [
    "### Iterate over"
   ]
  },
  {
   "cell_type": "code",
   "execution_count": 63,
   "id": "0fbb7ccd",
   "metadata": {
    "ExecuteTime": {
     "end_time": "2022-09-29T10:53:34.565055Z",
     "start_time": "2022-09-29T10:53:34.557961Z"
    }
   },
   "outputs": [
    {
     "name": "stdout",
     "output_type": "stream",
     "text": [
      "name\n",
      "year\n",
      "core subjects\n",
      "optional subjects\n",
      "42\n",
      "surname\n",
      "a\n",
      "b\n"
     ]
    }
   ],
   "source": [
    "for key in student_card:\n",
    "    print(key)"
   ]
  },
  {
   "cell_type": "code",
   "execution_count": 64,
   "id": "a517d82f",
   "metadata": {
    "ExecuteTime": {
     "end_time": "2022-09-29T10:53:45.237922Z",
     "start_time": "2022-09-29T10:53:45.233125Z"
    }
   },
   "outputs": [
    {
     "name": "stdout",
     "output_type": "stream",
     "text": [
      "name 1\n",
      "year 2015\n",
      "core subjects ('Statistics', 'Algorimthms')\n",
      "optional subjects ['Urban Studies', 'Basic Physics']\n",
      "42 always the answer\n",
      "surname Belyakov\n",
      "a 1\n",
      "b 2\n"
     ]
    }
   ],
   "source": [
    "for key, value in student_card.items():\n",
    "    print(key, value)"
   ]
  },
  {
   "cell_type": "code",
   "execution_count": 65,
   "id": "9bd592b0",
   "metadata": {
    "ExecuteTime": {
     "end_time": "2022-09-29T10:53:48.017634Z",
     "start_time": "2022-09-29T10:53:48.012746Z"
    }
   },
   "outputs": [
    {
     "data": {
      "text/plain": [
       "dict_values([1, 2015, ('Statistics', 'Algorimthms'), ['Urban Studies', 'Basic Physics'], 'always the answer', 'Belyakov', 1, 2])"
      ]
     },
     "execution_count": 65,
     "metadata": {},
     "output_type": "execute_result"
    }
   ],
   "source": [
    "student_card.values()"
   ]
  },
  {
   "cell_type": "markdown",
   "id": "c8f8a6b5",
   "metadata": {},
   "source": [
    "### clear"
   ]
  },
  {
   "cell_type": "code",
   "execution_count": 66,
   "id": "a37529b2",
   "metadata": {
    "ExecuteTime": {
     "end_time": "2022-09-29T10:53:53.687218Z",
     "start_time": "2022-09-29T10:53:53.681441Z"
    }
   },
   "outputs": [],
   "source": [
    "student_card.clear()"
   ]
  },
  {
   "cell_type": "code",
   "execution_count": 67,
   "id": "bc082cf8",
   "metadata": {
    "ExecuteTime": {
     "end_time": "2022-09-29T10:53:55.497666Z",
     "start_time": "2022-09-29T10:53:55.492440Z"
    }
   },
   "outputs": [
    {
     "data": {
      "text/plain": [
       "{}"
      ]
     },
     "execution_count": 67,
     "metadata": {},
     "output_type": "execute_result"
    }
   ],
   "source": [
    "student_card"
   ]
  },
  {
   "cell_type": "markdown",
   "id": "9e2dd433",
   "metadata": {},
   "source": [
    "## Sample task\n",
    "\n",
    "### Let's count unique symbols in a string!"
   ]
  },
  {
   "cell_type": "code",
   "execution_count": 68,
   "id": "de0f8733",
   "metadata": {
    "ExecuteTime": {
     "end_time": "2022-09-29T10:55:54.722336Z",
     "start_time": "2022-09-29T10:55:54.718780Z"
    }
   },
   "outputs": [],
   "source": [
    "sample_string = 'Eddie ate dynamite, goodbye Eddie'"
   ]
  },
  {
   "cell_type": "code",
   "execution_count": 72,
   "id": "84901775",
   "metadata": {
    "ExecuteTime": {
     "end_time": "2022-09-29T10:57:07.830534Z",
     "start_time": "2022-09-29T10:57:07.824421Z"
    }
   },
   "outputs": [],
   "source": [
    "symbols = {}\n",
    "\n",
    "# your code\n",
    "# {s.lower(): sample_string.lower().count(s) for s in sample_string} -- не очень эффективно из-за count()"
   ]
  },
  {
   "cell_type": "code",
   "execution_count": 73,
   "id": "2b8c94f8",
   "metadata": {
    "ExecuteTime": {
     "end_time": "2022-09-29T10:58:51.575252Z",
     "start_time": "2022-09-29T10:58:51.570798Z"
    }
   },
   "outputs": [],
   "source": [
    "for s in sample_string.lower():\n",
    "    if s not in symbols:\n",
    "        symbols[s] = 1\n",
    "    else:\n",
    "        symbols[s] += 1"
   ]
  },
  {
   "cell_type": "code",
   "execution_count": 74,
   "id": "11f442c5",
   "metadata": {
    "ExecuteTime": {
     "end_time": "2022-09-29T10:58:51.920540Z",
     "start_time": "2022-09-29T10:58:51.910213Z"
    }
   },
   "outputs": [
    {
     "data": {
      "text/plain": [
       "{'e': 7,\n",
       " 'd': 6,\n",
       " 'i': 3,\n",
       " ' ': 4,\n",
       " 'a': 2,\n",
       " 't': 2,\n",
       " 'y': 2,\n",
       " 'n': 1,\n",
       " 'm': 1,\n",
       " ',': 1,\n",
       " 'g': 1,\n",
       " 'o': 2,\n",
       " 'b': 1}"
      ]
     },
     "execution_count": 74,
     "metadata": {},
     "output_type": "execute_result"
    }
   ],
   "source": [
    "symbols"
   ]
  },
  {
   "cell_type": "code",
   "execution_count": 75,
   "id": "0ead69c2",
   "metadata": {
    "ExecuteTime": {
     "end_time": "2022-09-29T10:59:05.906581Z",
     "start_time": "2022-09-29T10:59:05.900415Z"
    }
   },
   "outputs": [],
   "source": [
    "from collections import defaultdict"
   ]
  },
  {
   "cell_type": "code",
   "execution_count": 80,
   "id": "496efeb0",
   "metadata": {
    "ExecuteTime": {
     "end_time": "2022-09-29T11:00:40.552715Z",
     "start_time": "2022-09-29T11:00:40.546215Z"
    }
   },
   "outputs": [],
   "source": [
    "symbols = defaultdict(int)"
   ]
  },
  {
   "cell_type": "code",
   "execution_count": 81,
   "id": "81463421",
   "metadata": {
    "ExecuteTime": {
     "end_time": "2022-09-29T11:00:43.407367Z",
     "start_time": "2022-09-29T11:00:43.403271Z"
    }
   },
   "outputs": [],
   "source": [
    "for s in sample_string.lower():\n",
    "    symbols[s] += 1"
   ]
  },
  {
   "cell_type": "code",
   "execution_count": 82,
   "id": "951d8526",
   "metadata": {
    "ExecuteTime": {
     "end_time": "2022-09-29T11:00:47.604540Z",
     "start_time": "2022-09-29T11:00:47.598733Z"
    }
   },
   "outputs": [
    {
     "data": {
      "text/plain": [
       "defaultdict(int,\n",
       "            {'e': 7,\n",
       "             'd': 6,\n",
       "             'i': 3,\n",
       "             ' ': 4,\n",
       "             'a': 2,\n",
       "             't': 2,\n",
       "             'y': 2,\n",
       "             'n': 1,\n",
       "             'm': 1,\n",
       "             ',': 1,\n",
       "             'g': 1,\n",
       "             'o': 2,\n",
       "             'b': 1})"
      ]
     },
     "execution_count": 82,
     "metadata": {},
     "output_type": "execute_result"
    }
   ],
   "source": [
    "symbols"
   ]
  },
  {
   "cell_type": "markdown",
   "id": "fa9043db",
   "metadata": {},
   "source": [
    "What can we do to make our solution above better?\n",
    "\n",
    "Bonus: try to use `defaultdict` *(from collections import defaultdict)*"
   ]
  },
  {
   "cell_type": "markdown",
   "id": "d1101d46",
   "metadata": {},
   "source": [
    "# Sets"
   ]
  },
  {
   "cell_type": "markdown",
   "id": "f237c19c",
   "metadata": {},
   "source": [
    "Коллекция уникальных объектов"
   ]
  },
  {
   "cell_type": "code",
   "execution_count": 83,
   "id": "3050d765",
   "metadata": {
    "ExecuteTime": {
     "end_time": "2022-09-29T11:02:03.345520Z",
     "start_time": "2022-09-29T11:02:03.339739Z"
    }
   },
   "outputs": [
    {
     "data": {
      "text/plain": [
       "{'one', 'two'}"
      ]
     },
     "execution_count": 83,
     "metadata": {},
     "output_type": "execute_result"
    }
   ],
   "source": [
    "a = ['one', 'two', 'two', 'one']\n",
    "set(a)"
   ]
  },
  {
   "cell_type": "markdown",
   "id": "6354a3c1",
   "metadata": {},
   "source": [
    "set -- mutable, frozenset -- immutable"
   ]
  },
  {
   "cell_type": "code",
   "execution_count": 84,
   "id": "3de613e7",
   "metadata": {
    "ExecuteTime": {
     "end_time": "2022-09-29T11:02:09.214140Z",
     "start_time": "2022-09-29T11:02:09.209693Z"
    }
   },
   "outputs": [],
   "source": [
    "first_set = {1, 2, 3, 4, 5}\n",
    "second_set = {4, 5, 6, 7, 8}"
   ]
  },
  {
   "cell_type": "code",
   "execution_count": 85,
   "id": "3f04a1d8",
   "metadata": {
    "ExecuteTime": {
     "end_time": "2022-09-29T11:02:26.106745Z",
     "start_time": "2022-09-29T11:02:26.101744Z"
    }
   },
   "outputs": [
    {
     "data": {
      "text/plain": [
       "({4, 5}, {4, 5})"
      ]
     },
     "execution_count": 85,
     "metadata": {},
     "output_type": "execute_result"
    }
   ],
   "source": [
    "first_set & second_set, first_set.intersection(second_set)"
   ]
  },
  {
   "cell_type": "code",
   "execution_count": 86,
   "id": "029c0fb6",
   "metadata": {
    "ExecuteTime": {
     "end_time": "2022-09-29T11:02:29.655710Z",
     "start_time": "2022-09-29T11:02:29.649761Z"
    }
   },
   "outputs": [
    {
     "data": {
      "text/plain": [
       "({1, 2, 3, 4, 5, 6, 7, 8}, {1, 2, 3, 4, 5, 6, 7, 8})"
      ]
     },
     "execution_count": 86,
     "metadata": {},
     "output_type": "execute_result"
    }
   ],
   "source": [
    "first_set | second_set, first_set.union(second_set)"
   ]
  },
  {
   "cell_type": "code",
   "execution_count": 90,
   "id": "e9d83bcd",
   "metadata": {
    "ExecuteTime": {
     "end_time": "2022-09-29T11:03:30.185556Z",
     "start_time": "2022-09-29T11:03:30.180464Z"
    }
   },
   "outputs": [
    {
     "data": {
      "text/plain": [
       "{6, 7, 8}"
      ]
     },
     "execution_count": 90,
     "metadata": {},
     "output_type": "execute_result"
    }
   ],
   "source": [
    "second_set - first_set"
   ]
  },
  {
   "cell_type": "markdown",
   "id": "7eec30ac",
   "metadata": {},
   "source": [
    "Внутри хеш-таблица, что дает нам операцию проверки вхождения за O(1) при хорошей хеш-функции\n",
    "\n",
    "Пример:"
   ]
  },
  {
   "cell_type": "code",
   "execution_count": 91,
   "id": "dea35448",
   "metadata": {
    "ExecuteTime": {
     "end_time": "2022-09-29T11:03:51.650652Z",
     "start_time": "2022-09-29T11:03:51.644391Z"
    }
   },
   "outputs": [],
   "source": [
    "import random"
   ]
  },
  {
   "cell_type": "code",
   "execution_count": 92,
   "id": "3ec4ce04",
   "metadata": {
    "ExecuteTime": {
     "end_time": "2022-09-29T11:04:29.591280Z",
     "start_time": "2022-09-29T11:04:29.533857Z"
    }
   },
   "outputs": [],
   "source": [
    "good_values = set(range(100))\n",
    "\n",
    "filtered_values = []\n",
    "for i in range(100000):\n",
    "    val = random.randint(1, 500)\n",
    "    if val in good_values:\n",
    "        filtered_values.append(val)"
   ]
  },
  {
   "cell_type": "code",
   "execution_count": 93,
   "id": "22d437d0",
   "metadata": {
    "ExecuteTime": {
     "end_time": "2022-09-29T11:05:05.964849Z",
     "start_time": "2022-09-29T11:05:05.959204Z"
    }
   },
   "outputs": [],
   "source": [
    "assert len(list(filter(lambda x: x >= 100, filtered_values))) == 0"
   ]
  },
  {
   "cell_type": "markdown",
   "id": "d8fafb74",
   "metadata": {},
   "source": [
    "Задачка. Дедуплицируем список с сохранением порядка"
   ]
  },
  {
   "cell_type": "code",
   "execution_count": 119,
   "id": "a2ef88f8",
   "metadata": {
    "ExecuteTime": {
     "end_time": "2022-09-29T11:27:15.308033Z",
     "start_time": "2022-09-29T11:27:15.303105Z"
    }
   },
   "outputs": [],
   "source": [
    "a = list(range(10000)) + list(range(10000)) + list(range(10000))"
   ]
  },
  {
   "cell_type": "code",
   "execution_count": 105,
   "id": "02cef8c9",
   "metadata": {
    "ExecuteTime": {
     "end_time": "2022-09-29T11:12:15.542788Z",
     "start_time": "2022-09-29T11:12:15.087460Z"
    }
   },
   "outputs": [
    {
     "name": "stdout",
     "output_type": "stream",
     "text": [
      "CPU times: user 452 ms, sys: 0 ns, total: 452 ms\n",
      "Wall time: 451 ms\n"
     ]
    }
   ],
   "source": [
    "%%time\n",
    "\n",
    "seen_values = []\n",
    "dedup_a = []\n",
    "\n",
    "for value in a:\n",
    "    if value not in seen_values:\n",
    "        dedup_a.append(value)\n",
    "        seen_values.append(value)\n",
    "        "
   ]
  },
  {
   "cell_type": "code",
   "execution_count": 106,
   "id": "3c52da63",
   "metadata": {
    "ExecuteTime": {
     "end_time": "2022-09-29T11:12:44.893102Z",
     "start_time": "2022-09-29T11:12:44.880454Z"
    }
   },
   "outputs": [
    {
     "name": "stdout",
     "output_type": "stream",
     "text": [
      "CPU times: user 5.36 ms, sys: 105 µs, total: 5.47 ms\n",
      "Wall time: 5.16 ms\n"
     ]
    }
   ],
   "source": [
    "%%time\n",
    "\n",
    "seen_values = set()\n",
    "dedup_a = []\n",
    "\n",
    "for value in a:\n",
    "    if value not in seen_values:\n",
    "        dedup_a.append(value)\n",
    "        seen_values.add(value)"
   ]
  },
  {
   "cell_type": "markdown",
   "id": "7a9a2ff0",
   "metadata": {},
   "source": [
    "Другая задачка. 2-sum"
   ]
  },
  {
   "cell_type": "code",
   "execution_count": 111,
   "id": "dfdaa35c",
   "metadata": {
    "ExecuteTime": {
     "end_time": "2022-09-29T11:22:09.435886Z",
     "start_time": "2022-09-29T11:22:09.429734Z"
    }
   },
   "outputs": [
    {
     "data": {
      "text/plain": [
       "{(-3, 10), (-1, 8), (1, 6), (2, 5), (3, 4)}"
      ]
     },
     "execution_count": 111,
     "metadata": {},
     "output_type": "execute_result"
    }
   ],
   "source": [
    "a = [-1, -6, -3, 1, 2, 3, 4, 5, 6, 7, 3, 6, 8, 2, 10]\n",
    "target_sum = 7\n",
    "\n",
    "set_a = set(a)\n",
    "ans = set()\n",
    "\n",
    "for elem in a:\n",
    "    pair_elem = target_sum - elem\n",
    "    if pair_elem in a:\n",
    "        ans.add((min(elem, pair_elem), max(elem, pair_elem)))\n",
    "\n",
    "ans"
   ]
  },
  {
   "cell_type": "markdown",
   "id": "c3ec30a5",
   "metadata": {
    "ExecuteTime": {
     "end_time": "2022-09-29T01:19:25.033928Z",
     "start_time": "2022-09-29T01:19:25.028889Z"
    }
   },
   "source": []
  }
 ],
 "metadata": {
  "kernelspec": {
   "display_name": "base-env",
   "language": "python",
   "name": "base-env"
  },
  "language_info": {
   "codemirror_mode": {
    "name": "ipython",
    "version": 3
   },
   "file_extension": ".py",
   "mimetype": "text/x-python",
   "name": "python",
   "nbconvert_exporter": "python",
   "pygments_lexer": "ipython3",
   "version": "3.9.12"
  },
  "toc": {
   "base_numbering": 1,
   "nav_menu": {},
   "number_sections": true,
   "sideBar": true,
   "skip_h1_title": false,
   "title_cell": "Table of Contents",
   "title_sidebar": "Contents",
   "toc_cell": false,
   "toc_position": {},
   "toc_section_display": true,
   "toc_window_display": true
  },
  "varInspector": {
   "cols": {
    "lenName": 16,
    "lenType": 16,
    "lenVar": 40
   },
   "kernels_config": {
    "python": {
     "delete_cmd_postfix": "",
     "delete_cmd_prefix": "del ",
     "library": "var_list.py",
     "varRefreshCmd": "print(var_dic_list())"
    },
    "r": {
     "delete_cmd_postfix": ") ",
     "delete_cmd_prefix": "rm(",
     "library": "var_list.r",
     "varRefreshCmd": "cat(var_dic_list()) "
    }
   },
   "types_to_exclude": [
    "module",
    "function",
    "builtin_function_or_method",
    "instance",
    "_Feature"
   ],
   "window_display": false
  }
 },
 "nbformat": 4,
 "nbformat_minor": 5
}
