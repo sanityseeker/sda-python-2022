{
 "cells": [
  {
   "cell_type": "markdown",
   "id": "399b899b",
   "metadata": {},
   "source": [
    "# Тестирование"
   ]
  },
  {
   "cell_type": "markdown",
   "id": "7b7b2f8c",
   "metadata": {},
   "source": [
    "[Levels of testing](https://softwaretestingfundamentals.com/software-testing-levels/):\n",
    "\n",
    "- Unit Testing: \tA level of the software testing process where individual units of a software are tested. The purpose is to validate that each unit of the software performs as designed.\n",
    "\n",
    "- Integration Testing: \tA level of the software testing process where individual units are combined and tested as a group. The purpose of this level of testing is to expose faults in the interaction between integrated units.\n",
    "\n",
    "- System Testing: \tA level of the software testing process where a complete, integrated system is tested. The purpose of this test is to evaluate the system’s compliance with the specified requirements.\n",
    "\n",
    "- Acceptance Testing: \tA level of the software testing process where a system is tested for acceptability. The purpose of this test is to evaluate the system’s compliance with the business requirements and assess whether it is acceptable for delivery."
   ]
  },
  {
   "cell_type": "markdown",
   "id": "56580b12",
   "metadata": {},
   "source": [
    "Сегодня мы концентрируемся на первом уровне -- юнит тестах. И конкретно на стандартной имплементации с помощью модуля [unittest](https://docs.python.org/3/library/unittest.html)"
   ]
  },
  {
   "cell_type": "markdown",
   "id": "cf9277ee",
   "metadata": {},
   "source": [
    "## Doctest"
   ]
  },
  {
   "cell_type": "code",
   "execution_count": 15,
   "id": "02bb7448",
   "metadata": {
    "ExecuteTime": {
     "end_time": "2022-10-14T08:26:33.787349Z",
     "start_time": "2022-10-14T08:26:33.781789Z"
    }
   },
   "outputs": [
    {
     "name": "stdout",
     "output_type": "stream",
     "text": [
      "Overwriting gaf.py\n"
     ]
    }
   ],
   "source": [
    "%%writefile gaf.py\n",
    "\n",
    "def gaf(length=1, end=''):\n",
    "    '''\n",
    "    Гавкнуть длиной length с end в конце\n",
    "    Параметры необязательные\n",
    "    \n",
    "    >>> gaf()\n",
    "    'Gaf'\n",
    "    \n",
    "    >>> gaf(3)\n",
    "    'Gaaaf'\n",
    "    \n",
    "    >>> gaf(4, '!')\n",
    "    'Gaaaaf!'\n",
    "    \n",
    "    '''\n",
    "    \n",
    "    \n",
    "    return 'G' + 'a' * length + 'f' + end"
   ]
  },
  {
   "cell_type": "code",
   "execution_count": 16,
   "id": "9fe0a74e",
   "metadata": {
    "ExecuteTime": {
     "end_time": "2022-10-14T08:26:36.282490Z",
     "start_time": "2022-10-14T08:26:36.136319Z"
    }
   },
   "outputs": [],
   "source": [
    "! python3 -m doctest gaf.py"
   ]
  },
  {
   "cell_type": "markdown",
   "id": "649c0096",
   "metadata": {},
   "source": [
    "## Unittest"
   ]
  },
  {
   "cell_type": "markdown",
   "id": "f648116f",
   "metadata": {},
   "source": [
    "### Тестируем отдельные функции"
   ]
  },
  {
   "cell_type": "code",
   "execution_count": 67,
   "id": "4110d7a2",
   "metadata": {
    "ExecuteTime": {
     "end_time": "2022-10-14T08:55:34.439253Z",
     "start_time": "2022-10-14T08:55:34.433600Z"
    }
   },
   "outputs": [
    {
     "name": "stdout",
     "output_type": "stream",
     "text": [
      "Overwriting calculations.py\n"
     ]
    }
   ],
   "source": [
    "%%writefile calculations.py\n",
    "\n",
    "def add(x: float, y: float) -> float:\n",
    "    return x + y\n",
    "\n",
    "def divide(x: float, y: float) -> float:\n",
    "    \n",
    "    try:\n",
    "        res = x / y\n",
    "        \n",
    "    except ZeroDivisionError as e:\n",
    "        raise ValueError(e)\n",
    "        res = 0\n",
    "    \n",
    "    return res"
   ]
  },
  {
   "cell_type": "code",
   "execution_count": 72,
   "id": "4c094b0a",
   "metadata": {
    "ExecuteTime": {
     "end_time": "2022-10-14T08:56:40.489783Z",
     "start_time": "2022-10-14T08:56:40.484307Z"
    }
   },
   "outputs": [
    {
     "name": "stdout",
     "output_type": "stream",
     "text": [
      "Overwriting test_calculations.py\n"
     ]
    }
   ],
   "source": [
    "%%writefile test_calculations.py\n",
    "\n",
    "import unittest\n",
    "\n",
    "import calculations\n",
    "\n",
    "\n",
    "class TestCase(unittest.TestCase):\n",
    "    \n",
    "    def test_add(self):\n",
    "        \n",
    "        test_cases = [(4, 4), (10, 15), (-10, 10), (0.1, 0.2)]\n",
    "        test_answers = [8, 25, 0, 0.3]\n",
    "        \n",
    "        for inputs, answer in zip(test_cases, test_answers):\n",
    "            result = calculations.add(*inputs)\n",
    "            self.assertAlmostEqual(result, answer)\n",
    "#             self.assertEqual(result, answer)\n",
    "    \n",
    "    \n",
    "    def test_divide(self):\n",
    "        test_cases = [(10, 1), (10, 2), (5, 2)]\n",
    "        test_answers = [10, 5, 2.5]\n",
    "        \n",
    "        for inputs, answer in zip(test_cases, test_answers):\n",
    "            result = calculations.divide(*inputs)\n",
    "            self.assertAlmostEqual(result, answer)\n",
    "        \n",
    "        with self.assertRaises(ValueError):\n",
    "            res = calculations.divide(1, 0)\n",
    "        \n",
    "if __name__ == '__main__':\n",
    "    unittest.main()"
   ]
  },
  {
   "cell_type": "code",
   "execution_count": 73,
   "id": "1e733488",
   "metadata": {
    "ExecuteTime": {
     "end_time": "2022-10-14T08:56:44.220403Z",
     "start_time": "2022-10-14T08:56:44.081256Z"
    }
   },
   "outputs": [
    {
     "name": "stdout",
     "output_type": "stream",
     "text": [
      "test_add (test_calculations.TestCase) ... ok\r\n",
      "test_divide (test_calculations.TestCase) ... ok\r\n",
      "\r\n",
      "----------------------------------------------------------------------\r\n",
      "Ran 2 tests in 0.000s\r\n",
      "\r\n",
      "OK\r\n"
     ]
    }
   ],
   "source": [
    "! python3 -m unittest -v test_calculations.py"
   ]
  },
  {
   "cell_type": "markdown",
   "id": "c1f150c9",
   "metadata": {},
   "source": [
    "### Тестируем класс"
   ]
  },
  {
   "cell_type": "code",
   "execution_count": 83,
   "id": "677a502d",
   "metadata": {
    "ExecuteTime": {
     "end_time": "2022-10-14T09:04:49.870594Z",
     "start_time": "2022-10-14T09:04:49.864946Z"
    }
   },
   "outputs": [
    {
     "name": "stdout",
     "output_type": "stream",
     "text": [
      "Overwriting student.py\n"
     ]
    }
   ],
   "source": [
    "%%writefile student.py\n",
    "\n",
    "class Student:\n",
    "    \n",
    "    coeff_scholarship = 2\n",
    "    \n",
    "    def __init__(self, first_name, second_name, year, scholarship):\n",
    "        self.first_name = first_name\n",
    "        self.second_name = second_name\n",
    "        self.year = year\n",
    "        self.scholarship = scholarship\n",
    "        \n",
    "    @property\n",
    "    def email(self):\n",
    "        return f'{self.first_name.lower()[0]}{self.second_name.lower()}@edu.hse.ru'\n",
    "    \n",
    "    def increase_scholarship(self):\n",
    "        self.scholarship = int(self.scholarship * self.coeff_scholarship)"
   ]
  },
  {
   "cell_type": "code",
   "execution_count": 98,
   "id": "8917eaaf",
   "metadata": {
    "ExecuteTime": {
     "end_time": "2022-10-14T09:16:27.485647Z",
     "start_time": "2022-10-14T09:16:27.479787Z"
    }
   },
   "outputs": [
    {
     "name": "stdout",
     "output_type": "stream",
     "text": [
      "Overwriting test_student.py\n"
     ]
    }
   ],
   "source": [
    "%%writefile test_student.py\n",
    "\n",
    "import unittest\n",
    "\n",
    "from student import Student\n",
    "\n",
    "class TestStudent(unittest.TestCase):\n",
    "    \n",
    "    def setUp(self):\n",
    "        '''\n",
    "        Выполняется перед тестами\n",
    "        '''\n",
    "        \n",
    "        self.default_name = 'Denis'\n",
    "        self.default_surname = 'Belyakov'\n",
    "        self.default_year = 2015\n",
    "        self.default_scholar = 1\n",
    "        \n",
    "        self.t_st = Student(\n",
    "            self.default_name,\n",
    "            self.default_surname,\n",
    "            self.default_year,\n",
    "            self.default_scholar,\n",
    "        )\n",
    "    \n",
    "    def tearDown(self):\n",
    "        '''\n",
    "        Выполняется, когда все тесты отработали\n",
    "        '''\n",
    "        \n",
    "        pass\n",
    "    \n",
    "    def test_email(self):\n",
    "        self.assertEqual(self.t_st.email, 'dbelyakov@edu.hse.ru')\n",
    "        \n",
    "        self.t_st.first_name = 'Kirill'\n",
    "        self.assertEqual(self.t_st.email, 'kbelyakov@edu.hse.ru')\n",
    "        \n",
    "        self.t_st.first_name = self.default_name  # возвращаем атрибуты к дефолтным значениям\n",
    "    \n",
    "    def test_increase_scholarship(self):\n",
    "        self.t_st.increase_scholarship()\n",
    "        self.assertGreaterEqual(self.t_st.scholarship, self.default_scholar)\n",
    "        \n",
    "        self.t_st.scholarship = self.default_scholar\n",
    "    \n",
    "    \n",
    "if __name__ == '__main__':\n",
    "    unittest.main()"
   ]
  },
  {
   "cell_type": "code",
   "execution_count": 99,
   "id": "aad5241b",
   "metadata": {
    "ExecuteTime": {
     "end_time": "2022-10-14T09:16:28.716423Z",
     "start_time": "2022-10-14T09:16:28.577105Z"
    }
   },
   "outputs": [
    {
     "name": "stdout",
     "output_type": "stream",
     "text": [
      "test_email (test_student.TestStudent) ... ok\r\n",
      "test_increase_scholarship (test_student.TestStudent) ... ok\r\n",
      "\r\n",
      "----------------------------------------------------------------------\r\n",
      "Ran 2 tests in 0.000s\r\n",
      "\r\n",
      "OK\r\n"
     ]
    }
   ],
   "source": [
    "! python3 -m unittest -v test_student.py"
   ]
  },
  {
   "cell_type": "markdown",
   "id": "ba334847",
   "metadata": {},
   "source": [
    "### Тестируем Балабобу с прошлого семинара"
   ]
  },
  {
   "cell_type": "markdown",
   "id": "fa05f128",
   "metadata": {},
   "source": [
    "Для того, чтобы протестировать функции получения ответа от Яндекса, нам надо их вынести в отдельный файл.\n",
    "\n",
    "Или переписать исходный файл с кодом бота, завернув логику его запуска в \n",
    "\n",
    "```python \n",
    "if __name__ = '__main__':\n",
    "    bot = ...\n",
    "    ...\n",
    "```"
   ]
  },
  {
   "cell_type": "code",
   "execution_count": 123,
   "id": "b4d81635",
   "metadata": {
    "ExecuteTime": {
     "end_time": "2022-10-14T09:38:37.790516Z",
     "start_time": "2022-10-14T09:38:37.784675Z"
    }
   },
   "outputs": [
    {
     "name": "stdout",
     "output_type": "stream",
     "text": [
      "Overwriting balaboba.py\n"
     ]
    }
   ],
   "source": [
    "%%writefile balaboba.py\n",
    "\n",
    "import time\n",
    "import requests\n",
    "import json\n",
    "\n",
    "\n",
    "DAY2MONTH_RU = {\n",
    "    1: 'Январь',\n",
    "    2: 'Февраль',\n",
    "    3: 'Март',\n",
    "    4: 'Апрель',\n",
    "    5: 'Май',\n",
    "    6: 'Июнь',\n",
    "    7: 'Июль',\n",
    "    8: 'Август',\n",
    "    9: 'Сентябрь',\n",
    "    10: 'Октябрь',\n",
    "    11: 'Ноябрь',\n",
    "    12: 'Декабрь',\n",
    "}\n",
    "\n",
    "DAY2MONTH_EN = {\n",
    "    1: \"January\",\n",
    "    2: \"February\",\n",
    "    3: \"March\",\n",
    "    4: \"April\",\n",
    "    5: \"May\",\n",
    "    6: \"June\",\n",
    "    7: \"July\",\n",
    "    8: \"August\",\n",
    "    9: \"September\",\n",
    "    10: \"October\",\n",
    "    11: \"November\",\n",
    "    12: \"December\",\n",
    "}\n",
    "\n",
    "DEFAULT_PHRASE = 'There is nothing.'\n",
    "\n",
    "\n",
    "def add_date_remainder(day_of_month: int):\n",
    "    '''\n",
    "    Add day_of_month remainder for English language\n",
    "    (contributed by strudent)\n",
    "    '''\n",
    "    return f'the {day_of_month}{\"st\" if (remainder := day_of_month % 10) == 1 and day_of_month != 11 else \"nd\" if remainder == 2 and day_of_month != 12 else \"rd\" if remainder == 3 and day_of_month != 13 else \"th\"}'\n",
    "\n",
    "\n",
    "def generate_data_phrase(phrase: str='Armenia', lang: str='en'):\n",
    "    time_struct = time.localtime()\n",
    "        \n",
    "    if lang == 'ru':    \n",
    "        date_str = f'{phrase}, {time_struct.tm_mday} число, {DAY2MONTH_RU[time_struct.tm_mon]}, {time_struct.tm_hour:02}:{time_struct.tm_min:02}:{time_struct.tm_sec:02}.'\n",
    "    else:\n",
    "        date_str = f'{phrase}, {add_date_remainder(time_struct.tm_mday)} of {DAY2MONTH_EN[time_struct.tm_mon]}, {time_struct.tm_hour:02}:{time_struct.tm_min:02}:{time_struct.tm_sec:02}.'\n",
    "                \n",
    "    return date_str\n",
    "\n",
    "\n",
    "def ask_balaboba(phrase: str = 'Russia',\n",
    "                 lang: str = 'en',\n",
    "                 url: str = 'https://yandex.ru/lab/api/yalm/text3',\n",
    "                 delay: int = 0,\n",
    "                 intro: int = 28):\n",
    "    time.sleep(delay)\n",
    "\n",
    "    query = generate_data_phrase(phrase=phrase, lang=lang)\n",
    "\n",
    "    headers = {\n",
    "        'Content-Type': 'application/json',\n",
    "        'Origin': 'https://yandex.com',\n",
    "        'Referer': 'https://yandex.com',\n",
    "        'User-Agent': 'Mozilla/5.0 (X11; Ubuntu; Linux x86_64; rv:105.0) Gecko/20100101 Firefox/105.0',\n",
    "    }\n",
    "    \n",
    "    if lang == 'ru':\n",
    "        intro = 24\n",
    "        \n",
    "    payload = json.dumps({\n",
    "        \"query\": query,\n",
    "        \"intro\": intro,  # 28\n",
    "        \"filter\": 1,\n",
    "    })\n",
    "\n",
    "    response = requests.request('POST', url, headers=headers, data=payload)\n",
    "\n",
    "    if response.ok:\n",
    "        text = response.json()['text']\n",
    "        text = DEFAULT_PHRASE if not text else text\n",
    "\n",
    "        return f'{query} {text}'\n",
    "\n",
    "    else:\n",
    "        return f'No story. Status code {response.status_code}'"
   ]
  },
  {
   "cell_type": "markdown",
   "id": "689e8e37",
   "metadata": {},
   "source": [
    "Функция похода по api зависит от того, как работает Яндекс, а мы хотим проверять именно наш код. Можно использовать механизм \"моков\" и определить (\"замокать\") какие-то значения для функции `requests.request`, как будто мы ее правда вызвали."
   ]
  },
  {
   "cell_type": "code",
   "execution_count": 124,
   "id": "bd3efdfe",
   "metadata": {
    "ExecuteTime": {
     "end_time": "2022-10-14T09:42:25.919486Z",
     "start_time": "2022-10-14T09:42:25.913082Z"
    }
   },
   "outputs": [
    {
     "name": "stdout",
     "output_type": "stream",
     "text": [
      "Overwriting test_balaboba.py\n"
     ]
    }
   ],
   "source": [
    "%%writefile test_balaboba.py\n",
    "\n",
    "import unittest\n",
    "import time\n",
    "\n",
    "import balaboba\n",
    "\n",
    "from unittest.mock import patch, Mock\n",
    "\n",
    "class TestBalaboba(unittest.TestCase):\n",
    "    \n",
    "    def test_ask_balaboba(self):\n",
    "        with patch('balaboba.requests.request') as mocked_request:\n",
    "            # задаем выходные значения для requests.request для случая ошибки от сервиса Яндекса\n",
    "            mocked_request.return_value.ok = False\n",
    "            mocked_request.return_value.status_code = 403\n",
    "            expected_value = 'No story. Status code 403'\n",
    "            \n",
    "            actual_value = balaboba.ask_balaboba()\n",
    "            mocked_request.assert_called()\n",
    "            self.assertEqual(actual_value, expected_value)\n",
    "            \n",
    "            # задаем выходные значения для функции requests.request для случая корректного поведения\n",
    "            mocked_request.return_value = Mock( \n",
    "                status_code=200,\n",
    "                ok=True,\n",
    "                json=lambda : {'text': 'Some short story'}\n",
    "            )\n",
    "            \n",
    "            start_time = time.time()  # считаем время для проверки корректности работы параметра delay\n",
    "            actual_value = balaboba.ask_balaboba('Armenia', delay=1)\n",
    "            total_time = time.time() - start_time\n",
    "\n",
    "            self.assertIn('Armenia', actual_value)\n",
    "            self.assertIn('Some short story', actual_value)\n",
    "            self.assertGreater(total_time, 1)\n",
    "            \n",
    "    \n",
    "if __name__ == '__main__':\n",
    "    unittest.main()"
   ]
  },
  {
   "cell_type": "code",
   "execution_count": 125,
   "id": "037b558b",
   "metadata": {
    "ExecuteTime": {
     "end_time": "2022-10-14T09:42:30.890617Z",
     "start_time": "2022-10-14T09:42:29.677337Z"
    }
   },
   "outputs": [
    {
     "name": "stdout",
     "output_type": "stream",
     "text": [
      "test_ask_balaboba (test_balaboba.TestBalaboba) ... ok\n",
      "\n",
      "----------------------------------------------------------------------\n",
      "Ran 1 test in 1.002s\n",
      "\n",
      "OK\n"
     ]
    }
   ],
   "source": [
    "! python3 -m unittest -v test_balaboba.py"
   ]
  },
  {
   "cell_type": "code",
   "execution_count": null,
   "id": "20d21e39",
   "metadata": {},
   "outputs": [],
   "source": []
  }
 ],
 "metadata": {
  "kernelspec": {
   "display_name": "base-env",
   "language": "python",
   "name": "base-env"
  },
  "language_info": {
   "codemirror_mode": {
    "name": "ipython",
    "version": 3
   },
   "file_extension": ".py",
   "mimetype": "text/x-python",
   "name": "python",
   "nbconvert_exporter": "python",
   "pygments_lexer": "ipython3",
   "version": "3.9.12"
  },
  "toc": {
   "base_numbering": 1,
   "nav_menu": {},
   "number_sections": true,
   "sideBar": true,
   "skip_h1_title": false,
   "title_cell": "Table of Contents",
   "title_sidebar": "Contents",
   "toc_cell": false,
   "toc_position": {},
   "toc_section_display": true,
   "toc_window_display": false
  },
  "varInspector": {
   "cols": {
    "lenName": 16,
    "lenType": 16,
    "lenVar": 40
   },
   "kernels_config": {
    "python": {
     "delete_cmd_postfix": "",
     "delete_cmd_prefix": "del ",
     "library": "var_list.py",
     "varRefreshCmd": "print(var_dic_list())"
    },
    "r": {
     "delete_cmd_postfix": ") ",
     "delete_cmd_prefix": "rm(",
     "library": "var_list.r",
     "varRefreshCmd": "cat(var_dic_list()) "
    }
   },
   "types_to_exclude": [
    "module",
    "function",
    "builtin_function_or_method",
    "instance",
    "_Feature"
   ],
   "window_display": false
  }
 },
 "nbformat": 4,
 "nbformat_minor": 5
}
