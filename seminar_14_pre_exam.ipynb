{
 "cells": [
  {
   "cell_type": "markdown",
   "id": "3999df67",
   "metadata": {},
   "source": [
    "# Задачи"
   ]
  },
  {
   "cell_type": "markdown",
   "id": "37cedbad",
   "metadata": {},
   "source": [
    "## A. Замечательные числа - 4\n",
    "\n",
    "https://contest.yandex.ru/contest/30238/problems/A/"
   ]
  },
  {
   "cell_type": "markdown",
   "id": "65dbb668",
   "metadata": {},
   "source": [
    "Даны два четырёхзначных числа A и B. Выведите все четырёхзначные числа на отрезке от A до B, запись которых является палиндромом. "
   ]
  },
  {
   "cell_type": "code",
   "execution_count": 6,
   "id": "a0495c75",
   "metadata": {
    "ExecuteTime": {
     "end_time": "2022-10-21T08:21:34.119777Z",
     "start_time": "2022-10-21T08:21:34.114636Z"
    }
   },
   "outputs": [],
   "source": [
    "def find_pals_between(a: int, b: int):\n",
    "    for elem in range(a, b + 1):\n",
    "        if str(elem) == str(elem)[::-1]:\n",
    "            print(elem)"
   ]
  },
  {
   "cell_type": "markdown",
   "id": "a8aeee7e",
   "metadata": {},
   "source": [
    "## B. Soundex\n",
    "\n",
    "https://contest.yandex.ru/contest/30238/problems/B/"
   ]
  },
  {
   "cell_type": "markdown",
   "id": "9505cced",
   "metadata": {},
   "source": [
    "\n",
    "\n",
    "Известный алгоритм Soundex (https://ru.wikipedia.org/wiki/Soundex) определяет, похожи ли два английских слова по звучанию. На вход он принимает слово и заменяет его на некоторый четырёхсимвольный код. Если коды двух слов совпадают, то слова, как правило, звучат похоже.\n",
    "\n",
    "Вам требуется реализовать этот алгоритм. Он работает так: \n",
    "\n",
    "```\n",
    "\n",
    "    1. Первая буква слова сохраняется.\n",
    "    2. В остальной части слова:\n",
    "       - буквы, обозначающие, как правило, гласные звуки: a, e, h, i, o, u, w и y — отбрасываются;\n",
    "       - оставшиеся буквы (согласные) заменяются на цифры от 1 до 6, причём похожим по звучанию буквам соответствуют одинаковые цифры:\n",
    "        1: b, f, p, v\n",
    "        2: c, g, j, k, q, s, x, z\n",
    "        3: d, t\n",
    "        4: l\n",
    "        5: m, n\n",
    "        6: r\n",
    "    3. Любая последовательность одинаковых цифр сокращается до одной такой цифры.\n",
    "    4. Итоговая строка обрезается до первых четырёх символов. Если длина строки меньше требуемой, недостающие символы заменяются знаком 0.\n",
    "\n",
    "\n",
    "```"
   ]
  },
  {
   "cell_type": "markdown",
   "id": "d8c3bd21",
   "metadata": {},
   "source": [
    "аmmonium → ammnm → a5555 → a5 → a500\n",
    "\n",
    "implementation → implmnttn → i51455335 → i514535 → i514 "
   ]
  },
  {
   "cell_type": "code",
   "execution_count": 7,
   "id": "e408f19b",
   "metadata": {
    "ExecuteTime": {
     "end_time": "2022-10-21T08:53:17.767958Z",
     "start_time": "2022-10-21T08:53:17.762149Z"
    }
   },
   "outputs": [],
   "source": [
    "def word2soundex(word: str, max_len: int = 4) -> str:\n",
    "    \n",
    "    if not word:\n",
    "        return ''\n",
    "    \n",
    "    vowels = {'a', 'e', 'h', 'i', 'o', 'u', 'w', 'y'}\n",
    "    consonants = {\n",
    "        'b': 1,\n",
    "        'f': 1,\n",
    "        'p': 1,\n",
    "        'v': 1,\n",
    "        'c': 2,\n",
    "        'g': 2,\n",
    "        'j': 2,\n",
    "        'k': 2,\n",
    "        'q': 2,\n",
    "        's': 2,\n",
    "        'x': 2,\n",
    "        'z': 2,\n",
    "        'd': 3,\n",
    "        't': 3,\n",
    "        'l': 4,\n",
    "        'm': 5,\n",
    "        'n': 5,\n",
    "        'r': 6,\n",
    "    }\n",
    "    \n",
    "    new_word = [word[0]]\n",
    "    \n",
    "    for s in word[1:]:\n",
    "        if s not in vowels:\n",
    "            digit = str(consonants[s])\n",
    "            if digit != new_word[-1]:\n",
    "                new_word.append(digit)\n",
    "    \n",
    "    new_word = ''.join(new_word[:4])\n",
    "    \n",
    "    if len(new_word) < max_len:\n",
    "        new_word += '0' * (max_len - len(new_word))\n",
    "        \n",
    "    return new_word"
   ]
  },
  {
   "cell_type": "code",
   "execution_count": 8,
   "id": "cf09ded6",
   "metadata": {
    "ExecuteTime": {
     "end_time": "2022-10-21T08:53:18.917754Z",
     "start_time": "2022-10-21T08:53:18.910063Z"
    }
   },
   "outputs": [
    {
     "data": {
      "text/plain": [
       "'a500'"
      ]
     },
     "execution_count": 8,
     "metadata": {},
     "output_type": "execute_result"
    }
   ],
   "source": [
    "word2soundex('ammonium')"
   ]
  },
  {
   "cell_type": "code",
   "execution_count": 9,
   "id": "bed124ac",
   "metadata": {
    "ExecuteTime": {
     "end_time": "2022-10-21T08:53:38.174178Z",
     "start_time": "2022-10-21T08:53:38.169144Z"
    }
   },
   "outputs": [
    {
     "data": {
      "text/plain": [
       "'i514'"
      ]
     },
     "execution_count": 9,
     "metadata": {},
     "output_type": "execute_result"
    }
   ],
   "source": [
    "word2soundex('implementation')"
   ]
  },
  {
   "cell_type": "markdown",
   "id": "553c5881",
   "metadata": {},
   "source": [
    "## C. Автомобильные номера\n",
    "\n",
    "https://contest.yandex.ru/contest/30238/problems/C/"
   ]
  },
  {
   "cell_type": "markdown",
   "id": "96c345a2",
   "metadata": {},
   "source": [
    "Неизвестный водитель совершил ДТП и скрылся с места происшествия. Полиция опрашивает свидетелей. Каждый из них говорит, что запомнил какие-то буквы и цифры номера. Но при этом свидетели не помнят порядок этих цифр и букв. Полиция хочет проверить несколько подозреваемых автомобилей. Будем говорить, что номер согласуется с показанием свидетеля, если все символы, которые назвал свидетель, присутствуют в этом номере (не важно, сколько раз). "
   ]
  },
  {
   "cell_type": "markdown",
   "id": "085bedb0",
   "metadata": {},
   "source": [
    "**Формат ввода**\n",
    "\n",
    "Сначала задано число $M \\leq 100$ -- количество свидетелей. Далее идет $M$ строк, каждая из которых описывает показания очередного свидетеля. Эти строки непустые и состоят из не более чем 20 символов. Каждый символ в строке - либо цифра, либо заглавная латинская буква, причём символы могут повторяться.\n",
    "\n",
    "Затем идёт число $N \\leq 1000$ -- количество номеров. Следующие строки представляют из себя номера подозреваемых машин и имеют такой же формат, как и показания свидетелей.\n",
    "\n",
    "**Формат вывода**\n",
    "\n",
    "Выпишите номера автомобилей, согласующиеся с максимальным количеством свидетелей. Если таких номеров несколько, то выведите их в том же порядке, в котором они были заданы на входе."
   ]
  },
  {
   "cell_type": "markdown",
   "id": "b0904660",
   "metadata": {},
   "source": [
    "Input:\n",
    "\n",
    "    3\n",
    "    ABC\n",
    "    A37\n",
    "    BCDA\n",
    "    2\n",
    "    A317BD\n",
    "    B137AC\n",
    "\n",
    "Output:\n",
    "\n",
    "    B137AC"
   ]
  },
  {
   "cell_type": "code",
   "execution_count": 14,
   "id": "01c24d03",
   "metadata": {
    "ExecuteTime": {
     "end_time": "2022-10-21T08:59:31.549241Z",
     "start_time": "2022-10-21T08:59:31.542961Z"
    }
   },
   "outputs": [],
   "source": [
    "from collections import defaultdict"
   ]
  },
  {
   "cell_type": "code",
   "execution_count": 11,
   "id": "2f4d8a8c",
   "metadata": {
    "ExecuteTime": {
     "end_time": "2022-10-21T08:58:36.762795Z",
     "start_time": "2022-10-21T08:58:14.736821Z"
    }
   },
   "outputs": [
    {
     "name": "stdout",
     "output_type": "stream",
     "text": [
      "ABC A37 BCDA\n",
      "A317BD B137AC\n"
     ]
    }
   ],
   "source": [
    "witnesses = tuple(map(frozenset, input().split()))\n",
    "criminals = {elem: frozenset(elem) for elem in input().split()}"
   ]
  },
  {
   "cell_type": "code",
   "execution_count": 16,
   "id": "034b3399",
   "metadata": {
    "ExecuteTime": {
     "end_time": "2022-10-21T09:01:41.152394Z",
     "start_time": "2022-10-21T09:01:41.146951Z"
    }
   },
   "outputs": [],
   "source": [
    "witnesses_counts = defaultdict(list)\n",
    "\n",
    "for criminal_name, criminal_set in criminals.items():\n",
    "    cnt = 0\n",
    "    for witness in witnesses:\n",
    "        if witness.issubset(criminal_set):\n",
    "            cnt += 1\n",
    "    \n",
    "    witnesses_counts[cnt].append(criminal_name)"
   ]
  },
  {
   "cell_type": "code",
   "execution_count": 17,
   "id": "b8b1a730",
   "metadata": {
    "ExecuteTime": {
     "end_time": "2022-10-21T09:01:45.556272Z",
     "start_time": "2022-10-21T09:01:45.550742Z"
    }
   },
   "outputs": [
    {
     "data": {
      "text/plain": [
       "defaultdict(list, {1: ['A317BD'], 2: ['B137AC']})"
      ]
     },
     "execution_count": 17,
     "metadata": {},
     "output_type": "execute_result"
    }
   ],
   "source": [
    "witnesses_counts"
   ]
  },
  {
   "cell_type": "code",
   "execution_count": 21,
   "id": "65f25ae3",
   "metadata": {
    "ExecuteTime": {
     "end_time": "2022-10-21T09:03:24.950153Z",
     "start_time": "2022-10-21T09:03:24.942916Z"
    }
   },
   "outputs": [
    {
     "name": "stdout",
     "output_type": "stream",
     "text": [
      "B137AC\n"
     ]
    }
   ],
   "source": [
    "for answer in witnesses_counts[max(witnesses_counts)]:\n",
    "    print(answer)"
   ]
  },
  {
   "cell_type": "markdown",
   "id": "b30e3b0f",
   "metadata": {},
   "source": [
    "## D. Схема Горнера"
   ]
  },
  {
   "cell_type": "markdown",
   "id": "965a03db",
   "metadata": {},
   "source": [
    "\n",
    "\n",
    "Дан многочлен $P(x)=a_nx^n+a_{n-1}x^{n-1} + \\ldots + a_1x + a_0$ и число x. Вычислите значение этого многочлена, воспользовавшись схемой Горнера:\n",
    "\n",
    "$P(x)= ( \\dots ( ( ( a_nx + a_{n-1} ) x + a_{n-2} ) x + a_{n-3} ) \\ldots ) x + a_0$"
   ]
  },
  {
   "cell_type": "markdown",
   "id": "c0e79506",
   "metadata": {},
   "source": [
    "**Формат ввода**\n",
    "\n",
    "Сначала программе подается на вход целое неотрицательное число $n \\leq 20$, затем действительное число x, затем следует $n + 1$ вещественное число — коэффициенты многочлена от старшего к младшему. \n",
    "\n",
    "**Формат вывода**\n",
    "\n",
    "Значение многочлена\n",
    "\n",
    "Input:\n",
    "\n",
    "    2\n",
    "    0.500\n",
    "    1.000\n",
    "    1.000\n",
    "    1.000\n",
    "\n",
    "Output:\n",
    "\n",
    "    1.75\n",
    " \n",
    "--\n",
    "    \n",
    "Input:\n",
    "\n",
    "    5\n",
    "    7.100\n",
    "    1.000\n",
    "    2.000\n",
    "    3.000\n",
    "    4.000\n",
    "    5.000\n",
    "    6.000\n",
    "\n",
    "Output:\n",
    "\n",
    "    24441.5"
   ]
  },
  {
   "cell_type": "code",
   "execution_count": 22,
   "id": "2dd60353",
   "metadata": {
    "ExecuteTime": {
     "end_time": "2022-10-21T09:07:45.090053Z",
     "start_time": "2022-10-21T09:07:29.869161Z"
    }
   },
   "outputs": [
    {
     "name": "stdout",
     "output_type": "stream",
     "text": [
      "5\n",
      "7.1\n",
      "1\n",
      "2\n",
      "3\n",
      "4\n",
      "5\n",
      "6\n",
      "24441.502709999997\n"
     ]
    }
   ],
   "source": [
    "n = int(input())\n",
    "x = float(input())\n",
    "\n",
    "value = 0\n",
    "\n",
    "for i in range(n + 1):\n",
    "    value += float(input())\n",
    "    if i < n:\n",
    "        value *= x\n",
    "\n",
    "print(value)"
   ]
  },
  {
   "cell_type": "code",
   "execution_count": 23,
   "id": "7803f60c",
   "metadata": {
    "ExecuteTime": {
     "end_time": "2022-10-21T09:08:43.806790Z",
     "start_time": "2022-10-21T09:08:36.599040Z"
    }
   },
   "outputs": [
    {
     "name": "stdout",
     "output_type": "stream",
     "text": [
      "5\n",
      "7.1\n",
      "1\n",
      "2\n",
      "3\n",
      "4\n",
      "5\n",
      "6\n",
      "24441.502709999997\n"
     ]
    }
   ],
   "source": [
    "n = int(input())\n",
    "x = float(input())\n",
    "\n",
    "value = 0\n",
    "\n",
    "while n:\n",
    "    value += float(input())\n",
    "    value *= x\n",
    "    n -= 1\n",
    "\n",
    "value += float(input())\n",
    "\n",
    "print(value)"
   ]
  },
  {
   "cell_type": "markdown",
   "id": "5f91c5ad",
   "metadata": {},
   "source": [
    "## E. Класс"
   ]
  },
  {
   "cell_type": "markdown",
   "id": "9aa75286",
   "metadata": {
    "ExecuteTime": {
     "end_time": "2022-10-20T23:41:53.206265Z",
     "start_time": "2022-10-20T23:41:53.200804Z"
    }
   },
   "source": [
    "\n",
    "\n",
    "Реализуйте класс **Matrix**. Он должен содержать:\n",
    "\n",
    "- Конструктор от списка списков. Гарантируется, что списки состоят из чисел, не пусты и все имеют одинаковый размер. Конструктор должен *копировать* содержимое списка списков, т.е. при изменении списков, от которых была сконструирована матрица, содержимое матрицы изменяться не должно.\n",
    "- Метод `__str__` переводящий матрицу в строку. При этом элементы внутри одной строки должны быть разделены знаками табуляции, а строки — переносами строк. При этом после каждой строки не должно быть символа табуляции и в конце не должно быть переноса строки.\n",
    "- Метод `size` без аргументов, возвращающий кортеж вида `(число строк, число столбцов)`"
   ]
  },
  {
   "cell_type": "code",
   "execution_count": 52,
   "id": "dcbd54a8",
   "metadata": {
    "ExecuteTime": {
     "end_time": "2022-10-21T09:20:12.560416Z",
     "start_time": "2022-10-21T09:20:12.554448Z"
    }
   },
   "outputs": [],
   "source": [
    "import copy\n",
    "\n",
    "from __future__ import annotations\n",
    "\n",
    "class Matrix:\n",
    "    \n",
    "    data = [[]]\n",
    "    \n",
    "    def __init__(self, data: list[list]):\n",
    "        self.data = copy.deepcopy(data)\n",
    "        \n",
    "    def __str__(self):\n",
    "        return '\\n'.join(['\\t'.join(map(str, row)) for row in self.data])\n",
    "    \n",
    "    def __repr__(self):\n",
    "        return f'Matrix({self.data})'\n",
    "    \n",
    "    def size(self):\n",
    "        return len(self.data), len(self.data[0])\n",
    "    \n",
    "    @staticmethod\n",
    "    def transposed(matrix: Matrix) -> Matrix:\n",
    "        return Matrix(list(map(list, zip(*matrix.data))))  # contributed by student"
   ]
  },
  {
   "cell_type": "markdown",
   "id": "a74ed99d",
   "metadata": {},
   "source": [
    "Ремарка про аннотации. В некоторых версиях Python нельзя для аннотации использовать свой же класс (в данном случае, `Matrix` в классе `Matrix`). Можно решить это двумя основными способами:\n",
    "\n",
    "1. `from __future__ import annotations`\n",
    "2. Использовать строки в качетсве хинтов. Например, можно указать `'Matrix'` (в кавычках как строку) и всем будет понятно, что вы имеете в виду"
   ]
  },
  {
   "cell_type": "code",
   "execution_count": 53,
   "id": "8d4497fd",
   "metadata": {
    "ExecuteTime": {
     "end_time": "2022-10-21T09:20:13.444647Z",
     "start_time": "2022-10-21T09:20:13.437210Z"
    }
   },
   "outputs": [],
   "source": [
    "mat = Matrix([[1, 2, 3], [4, 3, 2], [6, 7, 4], [4, 5, 3]])"
   ]
  },
  {
   "cell_type": "code",
   "execution_count": 54,
   "id": "d0730dd0",
   "metadata": {
    "ExecuteTime": {
     "end_time": "2022-10-21T09:20:13.452718Z",
     "start_time": "2022-10-21T09:20:13.450848Z"
    }
   },
   "outputs": [
    {
     "data": {
      "text/plain": [
       "(4, 3)"
      ]
     },
     "execution_count": 54,
     "metadata": {},
     "output_type": "execute_result"
    }
   ],
   "source": [
    "mat.size()"
   ]
  },
  {
   "cell_type": "code",
   "execution_count": 55,
   "id": "d9e6aadc",
   "metadata": {
    "ExecuteTime": {
     "end_time": "2022-10-21T09:20:13.466186Z",
     "start_time": "2022-10-21T09:20:13.464754Z"
    }
   },
   "outputs": [
    {
     "name": "stdout",
     "output_type": "stream",
     "text": [
      "1\t2\t3\n",
      "4\t3\t2\n",
      "6\t7\t4\n",
      "4\t5\t3\n"
     ]
    }
   ],
   "source": [
    "print(mat)  # mat.__str__()"
   ]
  },
  {
   "cell_type": "code",
   "execution_count": 56,
   "id": "d31543f9",
   "metadata": {
    "ExecuteTime": {
     "end_time": "2022-10-21T09:20:13.567625Z",
     "start_time": "2022-10-21T09:20:13.559318Z"
    }
   },
   "outputs": [
    {
     "data": {
      "text/plain": [
       "Matrix([[1, 2, 3], [4, 3, 2], [6, 7, 4], [4, 5, 3]])"
      ]
     },
     "execution_count": 56,
     "metadata": {},
     "output_type": "execute_result"
    }
   ],
   "source": [
    "mat  # mat.__repr__()"
   ]
  },
  {
   "cell_type": "code",
   "execution_count": 57,
   "id": "12e37ed1",
   "metadata": {
    "ExecuteTime": {
     "end_time": "2022-10-21T09:20:14.203339Z",
     "start_time": "2022-10-21T09:20:14.194066Z"
    }
   },
   "outputs": [
    {
     "data": {
      "text/plain": [
       "Matrix([[1, 4, 6, 4], [2, 3, 7, 5], [3, 2, 4, 3]])"
      ]
     },
     "execution_count": 57,
     "metadata": {},
     "output_type": "execute_result"
    }
   ],
   "source": [
    "Matrix.transposed(mat)"
   ]
  },
  {
   "cell_type": "code",
   "execution_count": 58,
   "id": "53640f1e",
   "metadata": {
    "ExecuteTime": {
     "end_time": "2022-10-21T09:20:14.734706Z",
     "start_time": "2022-10-21T09:20:14.725005Z"
    }
   },
   "outputs": [
    {
     "data": {
      "text/plain": [
       "{'matrix': 'Matrix', 'return': 'Matrix'}"
      ]
     },
     "execution_count": 58,
     "metadata": {},
     "output_type": "execute_result"
    }
   ],
   "source": [
    "Matrix.transposed.__annotations__"
   ]
  }
 ],
 "metadata": {
  "kernelspec": {
   "display_name": "base-env",
   "language": "python",
   "name": "base-env"
  },
  "language_info": {
   "codemirror_mode": {
    "name": "ipython",
    "version": 3
   },
   "file_extension": ".py",
   "mimetype": "text/x-python",
   "name": "python",
   "nbconvert_exporter": "python",
   "pygments_lexer": "ipython3",
   "version": "3.9.12"
  },
  "toc": {
   "base_numbering": 1,
   "nav_menu": {},
   "number_sections": true,
   "sideBar": true,
   "skip_h1_title": false,
   "title_cell": "Table of Contents",
   "title_sidebar": "Contents",
   "toc_cell": false,
   "toc_position": {},
   "toc_section_display": true,
   "toc_window_display": false
  },
  "varInspector": {
   "cols": {
    "lenName": 16,
    "lenType": 16,
    "lenVar": 40
   },
   "kernels_config": {
    "python": {
     "delete_cmd_postfix": "",
     "delete_cmd_prefix": "del ",
     "library": "var_list.py",
     "varRefreshCmd": "print(var_dic_list())"
    },
    "r": {
     "delete_cmd_postfix": ") ",
     "delete_cmd_prefix": "rm(",
     "library": "var_list.r",
     "varRefreshCmd": "cat(var_dic_list()) "
    }
   },
   "types_to_exclude": [
    "module",
    "function",
    "builtin_function_or_method",
    "instance",
    "_Feature"
   ],
   "window_display": false
  }
 },
 "nbformat": 4,
 "nbformat_minor": 5
}
