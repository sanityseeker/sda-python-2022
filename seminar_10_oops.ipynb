{
 "cells": [
  {
   "cell_type": "markdown",
   "id": "4a7a3b80",
   "metadata": {},
   "source": [
    "# Descriptors"
   ]
  },
  {
   "cell_type": "markdown",
   "id": "3a8c49cb",
   "metadata": {},
   "source": [
    "Короткое описание в [доке](https://docs.python.org/3/reference/datamodel.html#invoking-descriptors)\n",
    "\n",
    "Должны быть методы `__get__`, `__set__`, `__del__`\n",
    "\n",
    "Обычно когда в Python мы хотим получить доступ к атрибуту класса, то сначала мы ищем его в `__dict__` инстанса класса, потом в классе, и далее выше по цепочке наследования."
   ]
  },
  {
   "cell_type": "code",
   "execution_count": 11,
   "id": "f3c44eeb",
   "metadata": {
    "ExecuteTime": {
     "end_time": "2022-10-07T08:18:40.257732Z",
     "start_time": "2022-10-07T08:18:40.252492Z"
    }
   },
   "outputs": [],
   "source": [
    "class BestConstant:\n",
    "    def __get__(self, obj, objtype=None):\n",
    "        print('Using descriptor!')\n",
    "        return 73\n",
    "    \n",
    "class Number:\n",
    "    x = 10\n",
    "    y = BestConstant()  # our descriptor"
   ]
  },
  {
   "cell_type": "code",
   "execution_count": 12,
   "id": "4ce3973d",
   "metadata": {
    "ExecuteTime": {
     "end_time": "2022-10-07T08:18:40.765261Z",
     "start_time": "2022-10-07T08:18:40.759961Z"
    }
   },
   "outputs": [],
   "source": [
    "num = Number()"
   ]
  },
  {
   "cell_type": "code",
   "execution_count": 15,
   "id": "b6a59212",
   "metadata": {
    "ExecuteTime": {
     "end_time": "2022-10-07T08:18:49.218062Z",
     "start_time": "2022-10-07T08:18:49.212432Z"
    }
   },
   "outputs": [
    {
     "name": "stdout",
     "output_type": "stream",
     "text": [
      "Using descriptor!\n"
     ]
    },
    {
     "data": {
      "text/plain": [
       "(10, 73)"
      ]
     },
     "execution_count": 15,
     "metadata": {},
     "output_type": "execute_result"
    }
   ],
   "source": [
    "num.x, num.y"
   ]
  },
  {
   "cell_type": "code",
   "execution_count": 16,
   "id": "ee1deb30",
   "metadata": {
    "ExecuteTime": {
     "end_time": "2022-10-07T08:19:11.073557Z",
     "start_time": "2022-10-07T08:19:11.068439Z"
    }
   },
   "outputs": [
    {
     "data": {
      "text/plain": [
       "{}"
      ]
     },
     "execution_count": 16,
     "metadata": {},
     "output_type": "execute_result"
    }
   ],
   "source": [
    "num.__dict__"
   ]
  },
  {
   "cell_type": "code",
   "execution_count": 17,
   "id": "9aca4f46",
   "metadata": {
    "ExecuteTime": {
     "end_time": "2022-10-07T08:19:35.376222Z",
     "start_time": "2022-10-07T08:19:35.370330Z"
    }
   },
   "outputs": [
    {
     "data": {
      "text/plain": [
       "mappingproxy({'__module__': '__main__',\n",
       "              'x': 10,\n",
       "              'y': <__main__.BestConstant at 0x7fe58bc7dfa0>,\n",
       "              '__dict__': <attribute '__dict__' of 'Number' objects>,\n",
       "              '__weakref__': <attribute '__weakref__' of 'Number' objects>,\n",
       "              '__doc__': None})"
      ]
     },
     "execution_count": 17,
     "metadata": {},
     "output_type": "execute_result"
    }
   ],
   "source": [
    "Number.__dict__"
   ]
  },
  {
   "cell_type": "code",
   "execution_count": 18,
   "id": "590f30ba",
   "metadata": {
    "ExecuteTime": {
     "end_time": "2022-10-07T08:20:27.309329Z",
     "start_time": "2022-10-07T08:20:27.305012Z"
    }
   },
   "outputs": [],
   "source": [
    "num.__dict__['y'] = 42"
   ]
  },
  {
   "cell_type": "code",
   "execution_count": 19,
   "id": "22524e5b",
   "metadata": {
    "ExecuteTime": {
     "end_time": "2022-10-07T08:20:55.598418Z",
     "start_time": "2022-10-07T08:20:55.593472Z"
    }
   },
   "outputs": [
    {
     "data": {
      "text/plain": [
       "42"
      ]
     },
     "execution_count": 19,
     "metadata": {},
     "output_type": "execute_result"
    }
   ],
   "source": [
    "num.y"
   ]
  },
  {
   "cell_type": "code",
   "execution_count": 20,
   "id": "470fadeb",
   "metadata": {
    "ExecuteTime": {
     "end_time": "2022-10-07T08:21:22.948084Z",
     "start_time": "2022-10-07T08:21:22.941307Z"
    }
   },
   "outputs": [],
   "source": [
    "num.y = 32"
   ]
  },
  {
   "cell_type": "code",
   "execution_count": 21,
   "id": "bd95027f",
   "metadata": {
    "ExecuteTime": {
     "end_time": "2022-10-07T08:21:27.345789Z",
     "start_time": "2022-10-07T08:21:27.340434Z"
    }
   },
   "outputs": [
    {
     "data": {
      "text/plain": [
       "32"
      ]
     },
     "execution_count": 21,
     "metadata": {},
     "output_type": "execute_result"
    }
   ],
   "source": [
    "num.y"
   ]
  },
  {
   "cell_type": "markdown",
   "id": "4f30469e",
   "metadata": {},
   "source": [
    "Видим, что мы переписали значение. Дескриптор, у которого определен только get, называется non-data дескриптором"
   ]
  },
  {
   "cell_type": "markdown",
   "id": "e200d09b",
   "metadata": {
    "ExecuteTime": {
     "end_time": "2022-10-07T08:21:41.696553Z",
     "start_time": "2022-10-07T08:21:41.688443Z"
    }
   },
   "source": [
    "---"
   ]
  },
  {
   "cell_type": "code",
   "execution_count": 39,
   "id": "ab6548b9",
   "metadata": {
    "ExecuteTime": {
     "end_time": "2022-10-07T08:29:41.044859Z",
     "start_time": "2022-10-07T08:29:41.039454Z"
    }
   },
   "outputs": [],
   "source": [
    "class BestConstantComplete:\n",
    "    def __get__(self, obj, objtype=None):\n",
    "        print('Using descriptor!')\n",
    "        return obj._y\n",
    "    \n",
    "    def __set__(self, obj, value):\n",
    "        obj._y = value\n",
    "        \n",
    "    def __del__(self, obj):\n",
    "        del obj._y\n",
    "        \n",
    "\n",
    "class Number:\n",
    "    y = BestConstantComplete()  # our new descriptor\n",
    "    \n",
    "    def __init__(self, x: int = 10, y: int = 42):\n",
    "        self.x = x\n",
    "        self.y = y"
   ]
  },
  {
   "cell_type": "code",
   "execution_count": 40,
   "id": "caf6af8e",
   "metadata": {
    "ExecuteTime": {
     "end_time": "2022-10-07T08:29:41.207291Z",
     "start_time": "2022-10-07T08:29:41.201699Z"
    }
   },
   "outputs": [],
   "source": [
    "num = Number()"
   ]
  },
  {
   "cell_type": "code",
   "execution_count": 41,
   "id": "cf54b07b",
   "metadata": {
    "ExecuteTime": {
     "end_time": "2022-10-07T08:29:41.382373Z",
     "start_time": "2022-10-07T08:29:41.373249Z"
    }
   },
   "outputs": [
    {
     "data": {
      "text/plain": [
       "{'x': 10, '_y': 42}"
      ]
     },
     "execution_count": 41,
     "metadata": {},
     "output_type": "execute_result"
    }
   ],
   "source": [
    "num.__dict__"
   ]
  },
  {
   "cell_type": "code",
   "execution_count": 42,
   "id": "eaca8390",
   "metadata": {
    "ExecuteTime": {
     "end_time": "2022-10-07T08:29:41.515897Z",
     "start_time": "2022-10-07T08:29:41.506477Z"
    }
   },
   "outputs": [
    {
     "name": "stdout",
     "output_type": "stream",
     "text": [
      "Using descriptor!\n"
     ]
    },
    {
     "data": {
      "text/plain": [
       "42"
      ]
     },
     "execution_count": 42,
     "metadata": {},
     "output_type": "execute_result"
    }
   ],
   "source": [
    "num.y"
   ]
  },
  {
   "cell_type": "code",
   "execution_count": 43,
   "id": "f90387c8",
   "metadata": {
    "ExecuteTime": {
     "end_time": "2022-10-07T08:29:41.855692Z",
     "start_time": "2022-10-07T08:29:41.849695Z"
    }
   },
   "outputs": [],
   "source": [
    "num.y = 73"
   ]
  },
  {
   "cell_type": "code",
   "execution_count": 44,
   "id": "d6204ab0",
   "metadata": {
    "ExecuteTime": {
     "end_time": "2022-10-07T08:29:42.786531Z",
     "start_time": "2022-10-07T08:29:42.781578Z"
    }
   },
   "outputs": [
    {
     "name": "stdout",
     "output_type": "stream",
     "text": [
      "Using descriptor!\n"
     ]
    },
    {
     "data": {
      "text/plain": [
       "73"
      ]
     },
     "execution_count": 44,
     "metadata": {},
     "output_type": "execute_result"
    }
   ],
   "source": [
    "num.y"
   ]
  },
  {
   "cell_type": "code",
   "execution_count": 45,
   "id": "cd5f4927",
   "metadata": {
    "ExecuteTime": {
     "end_time": "2022-10-07T08:29:42.955703Z",
     "start_time": "2022-10-07T08:29:42.946261Z"
    }
   },
   "outputs": [
    {
     "data": {
      "text/plain": [
       "{'x': 10, '_y': 73}"
      ]
     },
     "execution_count": 45,
     "metadata": {},
     "output_type": "execute_result"
    }
   ],
   "source": [
    "num.__dict__"
   ]
  },
  {
   "cell_type": "code",
   "execution_count": 46,
   "id": "416bb01c",
   "metadata": {
    "ExecuteTime": {
     "end_time": "2022-10-07T08:29:45.867338Z",
     "start_time": "2022-10-07T08:29:45.861050Z"
    }
   },
   "outputs": [],
   "source": [
    "num.__dict__['y'] = 100"
   ]
  },
  {
   "cell_type": "code",
   "execution_count": 47,
   "id": "14836989",
   "metadata": {
    "ExecuteTime": {
     "end_time": "2022-10-07T08:29:47.540030Z",
     "start_time": "2022-10-07T08:29:47.530004Z"
    }
   },
   "outputs": [
    {
     "data": {
      "text/plain": [
       "{'x': 10, '_y': 73, 'y': 100}"
      ]
     },
     "execution_count": 47,
     "metadata": {},
     "output_type": "execute_result"
    }
   ],
   "source": [
    "num.__dict__"
   ]
  },
  {
   "cell_type": "code",
   "execution_count": 49,
   "id": "1bf0f4e2",
   "metadata": {
    "ExecuteTime": {
     "end_time": "2022-10-07T08:30:03.932135Z",
     "start_time": "2022-10-07T08:30:03.922326Z"
    }
   },
   "outputs": [
    {
     "name": "stdout",
     "output_type": "stream",
     "text": [
      "Using descriptor!\n"
     ]
    },
    {
     "data": {
      "text/plain": [
       "73"
      ]
     },
     "execution_count": 49,
     "metadata": {},
     "output_type": "execute_result"
    }
   ],
   "source": [
    "num.y"
   ]
  },
  {
   "cell_type": "markdown",
   "id": "be569d3a",
   "metadata": {},
   "source": [
    "Если у дескриптора определен `__set__`, то Python при попытке достать атрибут по названию, будет доставать сначала дескриптор, даже если в `__dict__` объекта лежит что-то одноименное "
   ]
  },
  {
   "cell_type": "markdown",
   "id": "c9e741d8",
   "metadata": {},
   "source": [
    "---"
   ]
  },
  {
   "cell_type": "code",
   "execution_count": 50,
   "id": "981cac2d",
   "metadata": {
    "ExecuteTime": {
     "end_time": "2022-10-07T08:31:36.128765Z",
     "start_time": "2022-10-07T08:31:36.123004Z"
    }
   },
   "outputs": [],
   "source": [
    "import os"
   ]
  },
  {
   "cell_type": "code",
   "execution_count": 51,
   "id": "62b9eae1",
   "metadata": {
    "ExecuteTime": {
     "end_time": "2022-10-07T08:33:40.024914Z",
     "start_time": "2022-10-07T08:33:40.019976Z"
    }
   },
   "outputs": [],
   "source": [
    "class DirectorySize:\n",
    "    \n",
    "    def __get__(self, obj, objtype=None):\n",
    "        return len(os.listdir(obj.dirname))\n",
    "    \n",
    "class Directory:\n",
    "    size = DirectorySize()\n",
    "    \n",
    "    def __init__(self, dirname):\n",
    "        self.dirname = dirname"
   ]
  },
  {
   "cell_type": "code",
   "execution_count": 54,
   "id": "55568099",
   "metadata": {
    "ExecuteTime": {
     "end_time": "2022-10-07T08:34:08.991918Z",
     "start_time": "2022-10-07T08:34:08.870880Z"
    }
   },
   "outputs": [
    {
     "name": "stdout",
     "output_type": "stream",
     "text": [
      "data\t\t    seminar_10_oops.ipynb\t seminar_5_regexp.ipynb\r\n",
      "img\t\t    seminar_1_intro.ipynb\t seminar_6_decorators.ipynb\r\n",
      "lecture_live.ipynb  seminar_2_strings.ipynb\t seminar_7_dicts.ipynb\r\n",
      "lecture_oop.ipynb   seminar_3_sequences.ipynb\t seminar_8_various.ipynb\r\n",
      "README.md\t    seminar_4_func_basics.ipynb  seminar_9_classes_decos.ipynb\r\n"
     ]
    }
   ],
   "source": [
    "! ls"
   ]
  },
  {
   "cell_type": "code",
   "execution_count": 59,
   "id": "f5ebc517",
   "metadata": {
    "ExecuteTime": {
     "end_time": "2022-10-07T08:35:14.637482Z",
     "start_time": "2022-10-07T08:35:14.630969Z"
    }
   },
   "outputs": [],
   "source": [
    "a = Directory('data')\n",
    "\n",
    "b = Directory('img')"
   ]
  },
  {
   "cell_type": "code",
   "execution_count": 60,
   "id": "7217b283",
   "metadata": {
    "ExecuteTime": {
     "end_time": "2022-10-07T08:35:15.145651Z",
     "start_time": "2022-10-07T08:35:15.135780Z"
    }
   },
   "outputs": [
    {
     "data": {
      "text/plain": [
       "3"
      ]
     },
     "execution_count": 60,
     "metadata": {},
     "output_type": "execute_result"
    }
   ],
   "source": [
    "a.size"
   ]
  },
  {
   "cell_type": "code",
   "execution_count": 64,
   "id": "08e4b45b",
   "metadata": {
    "ExecuteTime": {
     "end_time": "2022-10-07T08:36:20.629557Z",
     "start_time": "2022-10-07T08:36:20.619937Z"
    }
   },
   "outputs": [
    {
     "data": {
      "text/plain": [
       "1"
      ]
     },
     "execution_count": 64,
     "metadata": {},
     "output_type": "execute_result"
    }
   ],
   "source": [
    "b.size"
   ]
  },
  {
   "cell_type": "code",
   "execution_count": 66,
   "id": "8f70d976",
   "metadata": {
    "ExecuteTime": {
     "end_time": "2022-10-07T08:36:56.761671Z",
     "start_time": "2022-10-07T08:36:56.641506Z"
    }
   },
   "outputs": [],
   "source": [
    "! touch data/tempfile"
   ]
  },
  {
   "cell_type": "code",
   "execution_count": 68,
   "id": "49a7d423",
   "metadata": {
    "ExecuteTime": {
     "end_time": "2022-10-07T08:37:21.356889Z",
     "start_time": "2022-10-07T08:37:21.354234Z"
    }
   },
   "outputs": [
    {
     "data": {
      "text/plain": [
       "4"
      ]
     },
     "execution_count": 68,
     "metadata": {},
     "output_type": "execute_result"
    }
   ],
   "source": [
    "a.size"
   ]
  },
  {
   "cell_type": "markdown",
   "id": "738d27b2",
   "metadata": {},
   "source": [
    "Дескриптор вызывается при обращении к атрибуту *size*. При этом, код дескриптора выполняется каждый раз"
   ]
  },
  {
   "cell_type": "markdown",
   "id": "038d0f06",
   "metadata": {},
   "source": [
    "---"
   ]
  },
  {
   "cell_type": "markdown",
   "id": "695a4ab4",
   "metadata": {},
   "source": [
    "**Класс Nuts**:\n",
    "\n",
    "~можно создавать из чего угодно~\n",
    "\n",
    "~можно индексировать по любому индексу~\n",
    "\n",
    "~присваивать значения по индексу~\n",
    "\n",
    "~- содержит любое поле~\n",
    "\n",
    "~можно удалять и присваивать любые поля~\n",
    "\n",
    "~по нeму можно итерироваться~\n",
    "\n",
    "~имеет \"красивое\"  строковое представление~\n",
    "\n",
    "~имеет формальное строковое представление~"
   ]
  },
  {
   "cell_type": "code",
   "execution_count": 173,
   "id": "ead769fd",
   "metadata": {
    "ExecuteTime": {
     "end_time": "2022-10-07T09:04:21.974370Z",
     "start_time": "2022-10-07T09:04:21.967940Z"
    }
   },
   "outputs": [],
   "source": [
    "class Nuts:\n",
    "    \n",
    "    def __init__(self, *args, **kwargs):\n",
    "        self.args = args\n",
    "        self.kwargs = kwargs\n",
    "        \n",
    "    \n",
    "    def __getattr__(self, obj):\n",
    "        return obj\n",
    "    \n",
    "    def __delattr__(self, obj):\n",
    "        pass\n",
    "    \n",
    "    def __getitem__(self, key):\n",
    "        return key\n",
    "    \n",
    "    def __setitem__(self, obj, value):\n",
    "        pass\n",
    "    \n",
    "    def __delitem__(self, obj):\n",
    "        pass\n",
    "    \n",
    "    def __iter__(self):\n",
    "        return self\n",
    "    \n",
    "    def __next__(self):\n",
    "        raise StopIteration()\n",
    "    \n",
    "    \n",
    "    def __str__(self):\n",
    "        return 'The prettiest and the nuttiest!'\n",
    "    \n",
    "    def __repr__(self):\n",
    "        return f'Nuts({self.args}, {self.kwargs})'"
   ]
  },
  {
   "cell_type": "code",
   "execution_count": 174,
   "id": "c4aca743",
   "metadata": {
    "ExecuteTime": {
     "end_time": "2022-10-07T09:04:22.127686Z",
     "start_time": "2022-10-07T09:04:22.120938Z"
    }
   },
   "outputs": [],
   "source": [
    "nuts = Nuts(1, 2, 4, 10, item='gsdgdsg')"
   ]
  },
  {
   "cell_type": "code",
   "execution_count": 175,
   "id": "8da89775",
   "metadata": {
    "ExecuteTime": {
     "end_time": "2022-10-07T09:04:22.271137Z",
     "start_time": "2022-10-07T09:04:22.265017Z"
    }
   },
   "outputs": [],
   "source": [
    "for item in nuts:\n",
    "    print(item)"
   ]
  },
  {
   "cell_type": "code",
   "execution_count": 176,
   "id": "3b86d973",
   "metadata": {
    "ExecuteTime": {
     "end_time": "2022-10-07T09:04:22.608599Z",
     "start_time": "2022-10-07T09:04:22.601884Z"
    }
   },
   "outputs": [
    {
     "name": "stdout",
     "output_type": "stream",
     "text": [
      "The prettiest and the nuttiest!\n"
     ]
    }
   ],
   "source": [
    "print(nuts)"
   ]
  },
  {
   "cell_type": "code",
   "execution_count": 177,
   "id": "76da7cd6",
   "metadata": {
    "ExecuteTime": {
     "end_time": "2022-10-07T09:04:23.248678Z",
     "start_time": "2022-10-07T09:04:23.242957Z"
    }
   },
   "outputs": [
    {
     "data": {
      "text/plain": [
       "(1, 2, 4, 10)"
      ]
     },
     "execution_count": 177,
     "metadata": {},
     "output_type": "execute_result"
    }
   ],
   "source": [
    "nuts.args"
   ]
  },
  {
   "cell_type": "code",
   "execution_count": 178,
   "id": "b8fd8cb5",
   "metadata": {
    "ExecuteTime": {
     "end_time": "2022-10-07T09:04:24.532635Z",
     "start_time": "2022-10-07T09:04:24.524460Z"
    }
   },
   "outputs": [
    {
     "data": {
      "text/plain": [
       "Nuts((1, 2, 4, 10), {'item': 'gsdgdsg'})"
      ]
     },
     "execution_count": 178,
     "metadata": {},
     "output_type": "execute_result"
    }
   ],
   "source": [
    "nuts"
   ]
  },
  {
   "cell_type": "code",
   "execution_count": 143,
   "id": "0aff497d",
   "metadata": {
    "ExecuteTime": {
     "end_time": "2022-10-07T08:57:18.807141Z",
     "start_time": "2022-10-07T08:57:18.801577Z"
    }
   },
   "outputs": [],
   "source": [
    "del nuts.args"
   ]
  },
  {
   "cell_type": "code",
   "execution_count": 144,
   "id": "0851db7d",
   "metadata": {
    "ExecuteTime": {
     "end_time": "2022-10-07T08:57:19.010436Z",
     "start_time": "2022-10-07T08:57:19.006208Z"
    }
   },
   "outputs": [
    {
     "data": {
      "text/plain": [
       "'args'"
      ]
     },
     "execution_count": 144,
     "metadata": {},
     "output_type": "execute_result"
    }
   ],
   "source": [
    "nuts.args"
   ]
  },
  {
   "cell_type": "code",
   "execution_count": 145,
   "id": "f187fb10",
   "metadata": {
    "ExecuteTime": {
     "end_time": "2022-10-07T08:57:19.209628Z",
     "start_time": "2022-10-07T08:57:19.200870Z"
    }
   },
   "outputs": [
    {
     "data": {
      "text/plain": [
       "'kwargs'"
      ]
     },
     "execution_count": 145,
     "metadata": {},
     "output_type": "execute_result"
    }
   ],
   "source": [
    "nuts.kwargs"
   ]
  },
  {
   "cell_type": "code",
   "execution_count": 146,
   "id": "1cc433cc",
   "metadata": {
    "ExecuteTime": {
     "end_time": "2022-10-07T08:57:19.551882Z",
     "start_time": "2022-10-07T08:57:19.546655Z"
    }
   },
   "outputs": [
    {
     "data": {
      "text/plain": [
       "'afasfas'"
      ]
     },
     "execution_count": 146,
     "metadata": {},
     "output_type": "execute_result"
    }
   ],
   "source": [
    "nuts.afasfas"
   ]
  },
  {
   "cell_type": "code",
   "execution_count": 147,
   "id": "70d6ee3b",
   "metadata": {
    "ExecuteTime": {
     "end_time": "2022-10-07T08:57:20.917295Z",
     "start_time": "2022-10-07T08:57:20.912012Z"
    }
   },
   "outputs": [
    {
     "data": {
      "text/plain": [
       "12412412412"
      ]
     },
     "execution_count": 147,
     "metadata": {},
     "output_type": "execute_result"
    }
   ],
   "source": [
    "nuts[12412412412]"
   ]
  },
  {
   "cell_type": "code",
   "execution_count": 148,
   "id": "04bc38c1",
   "metadata": {
    "ExecuteTime": {
     "end_time": "2022-10-07T08:57:21.087674Z",
     "start_time": "2022-10-07T08:57:21.081955Z"
    }
   },
   "outputs": [],
   "source": [
    "nuts[12] = 42"
   ]
  },
  {
   "cell_type": "code",
   "execution_count": 150,
   "id": "d8b97870",
   "metadata": {
    "ExecuteTime": {
     "end_time": "2022-10-07T08:57:29.899110Z",
     "start_time": "2022-10-07T08:57:29.893375Z"
    }
   },
   "outputs": [],
   "source": [
    "for item in nuts:\n",
    "    print('142132')"
   ]
  },
  {
   "cell_type": "markdown",
   "id": "11c40b25",
   "metadata": {},
   "source": [
    "Получилась тренировка на использование magic методов :)\n",
    "\n",
    "Важно, чтобы методы были объявлены. Задания \"разумной\" логики для их работы с точки зрения синтаксиса не требуется"
   ]
  },
  {
   "cell_type": "markdown",
   "id": "83952304",
   "metadata": {},
   "source": [
    "---"
   ]
  },
  {
   "cell_type": "markdown",
   "id": "9c08f582",
   "metadata": {},
   "source": [
    "В чем могут быть проблемы при наследовании от стандартных типов"
   ]
  },
  {
   "cell_type": "code",
   "execution_count": 192,
   "id": "40bf097f",
   "metadata": {
    "ExecuteTime": {
     "end_time": "2022-10-07T09:12:24.397869Z",
     "start_time": "2022-10-07T09:12:24.392568Z"
    }
   },
   "outputs": [],
   "source": [
    "class DoubleDict(dict):\n",
    "    def __setitem__(self, key, value):\n",
    "        super().__setitem__(key, value * 2)\n",
    "        \n",
    "#     def update(self, d: dict):\n",
    "#         for key, val in d.items():\n",
    "#             self.__setitem__(key, val)"
   ]
  },
  {
   "cell_type": "code",
   "execution_count": 189,
   "id": "702b3dcb",
   "metadata": {
    "ExecuteTime": {
     "end_time": "2022-10-07T09:11:43.511849Z",
     "start_time": "2022-10-07T09:11:43.505908Z"
    }
   },
   "outputs": [],
   "source": [
    "double_d = DoubleDict()"
   ]
  },
  {
   "cell_type": "code",
   "execution_count": 190,
   "id": "4d9866ae",
   "metadata": {
    "ExecuteTime": {
     "end_time": "2022-10-07T09:11:43.707780Z",
     "start_time": "2022-10-07T09:11:43.698087Z"
    }
   },
   "outputs": [
    {
     "data": {
      "text/plain": [
       "{'sdf': 4}"
      ]
     },
     "execution_count": 190,
     "metadata": {},
     "output_type": "execute_result"
    }
   ],
   "source": [
    "double_d['sdf'] = 2\n",
    "double_d"
   ]
  },
  {
   "cell_type": "code",
   "execution_count": 191,
   "id": "7504be4b",
   "metadata": {
    "ExecuteTime": {
     "end_time": "2022-10-07T09:11:44.399580Z",
     "start_time": "2022-10-07T09:11:44.393248Z"
    }
   },
   "outputs": [
    {
     "data": {
      "text/plain": [
       "{'sdf': 4, 'afaf': 48, '41': 24}"
      ]
     },
     "execution_count": 191,
     "metadata": {},
     "output_type": "execute_result"
    }
   ],
   "source": [
    "double_d.update({'afaf': 24, '41': 12})\n",
    "double_d"
   ]
  },
  {
   "cell_type": "markdown",
   "id": "0f61f438",
   "metadata": {},
   "source": [
    "Проигнорили setitem"
   ]
  },
  {
   "cell_type": "code",
   "execution_count": 193,
   "id": "e65c9968",
   "metadata": {
    "ExecuteTime": {
     "end_time": "2022-10-07T09:13:14.155127Z",
     "start_time": "2022-10-07T09:13:14.150174Z"
    }
   },
   "outputs": [],
   "source": [
    "class AnswerDict(dict):\n",
    "    def __getitem__(self, key):\n",
    "        return 42"
   ]
  },
  {
   "cell_type": "code",
   "execution_count": 194,
   "id": "07c24ae3",
   "metadata": {
    "ExecuteTime": {
     "end_time": "2022-10-07T09:13:41.134371Z",
     "start_time": "2022-10-07T09:13:41.127825Z"
    }
   },
   "outputs": [],
   "source": [
    "ad = AnswerDict(a='answer')"
   ]
  },
  {
   "cell_type": "code",
   "execution_count": 196,
   "id": "b6c831fb",
   "metadata": {
    "ExecuteTime": {
     "end_time": "2022-10-07T09:13:58.953558Z",
     "start_time": "2022-10-07T09:13:58.948458Z"
    }
   },
   "outputs": [
    {
     "data": {
      "text/plain": [
       "42"
      ]
     },
     "execution_count": 196,
     "metadata": {},
     "output_type": "execute_result"
    }
   ],
   "source": [
    "ad['a']"
   ]
  },
  {
   "cell_type": "code",
   "execution_count": 199,
   "id": "83cec0bf",
   "metadata": {
    "ExecuteTime": {
     "end_time": "2022-10-07T09:14:58.692482Z",
     "start_time": "2022-10-07T09:14:58.685991Z"
    }
   },
   "outputs": [],
   "source": [
    "simple_dict = {}\n",
    "simple_dict.update(ad)"
   ]
  },
  {
   "cell_type": "code",
   "execution_count": 200,
   "id": "089cc4c1",
   "metadata": {
    "ExecuteTime": {
     "end_time": "2022-10-07T09:14:59.481806Z",
     "start_time": "2022-10-07T09:14:59.476651Z"
    }
   },
   "outputs": [
    {
     "data": {
      "text/plain": [
       "{'a': 'answer'}"
      ]
     },
     "execution_count": 200,
     "metadata": {},
     "output_type": "execute_result"
    }
   ],
   "source": [
    "simple_dict"
   ]
  },
  {
   "cell_type": "markdown",
   "id": "6ad2546c",
   "metadata": {},
   "source": [
    "Проигнорили getitem"
   ]
  },
  {
   "cell_type": "markdown",
   "id": "c59bc21d",
   "metadata": {},
   "source": [
    "Так произошло потому, что реализация метода update не использует измененные методы. Пофиксить можно наследованием от \"пользовательского словаря\" из модуля collections."
   ]
  },
  {
   "cell_type": "code",
   "execution_count": 201,
   "id": "37ea7592",
   "metadata": {
    "ExecuteTime": {
     "end_time": "2022-10-07T09:16:09.152098Z",
     "start_time": "2022-10-07T09:16:09.148966Z"
    }
   },
   "outputs": [],
   "source": [
    "from collections import UserDict"
   ]
  },
  {
   "cell_type": "code",
   "execution_count": 202,
   "id": "911cc569",
   "metadata": {
    "ExecuteTime": {
     "end_time": "2022-10-07T09:16:25.642942Z",
     "start_time": "2022-10-07T09:16:25.637985Z"
    }
   },
   "outputs": [],
   "source": [
    "class DoubleDict(UserDict):\n",
    "    def __setitem__(self, key, value):\n",
    "        super().__setitem__(key, value * 2)"
   ]
  },
  {
   "cell_type": "code",
   "execution_count": 203,
   "id": "7ce65c74",
   "metadata": {
    "ExecuteTime": {
     "end_time": "2022-10-07T09:16:31.854420Z",
     "start_time": "2022-10-07T09:16:31.851861Z"
    }
   },
   "outputs": [],
   "source": [
    "double_d = DoubleDict()"
   ]
  },
  {
   "cell_type": "code",
   "execution_count": 204,
   "id": "d2544c13",
   "metadata": {
    "ExecuteTime": {
     "end_time": "2022-10-07T09:16:36.141579Z",
     "start_time": "2022-10-07T09:16:36.136538Z"
    }
   },
   "outputs": [
    {
     "data": {
      "text/plain": [
       "{'sdf': 4}"
      ]
     },
     "execution_count": 204,
     "metadata": {},
     "output_type": "execute_result"
    }
   ],
   "source": [
    "double_d['sdf'] = 2\n",
    "double_d"
   ]
  },
  {
   "cell_type": "code",
   "execution_count": 205,
   "id": "29fe5fbb",
   "metadata": {
    "ExecuteTime": {
     "end_time": "2022-10-07T09:16:40.261725Z",
     "start_time": "2022-10-07T09:16:40.255988Z"
    }
   },
   "outputs": [
    {
     "data": {
      "text/plain": [
       "{'sdf': 4, 'afaf': 48, '41': 24}"
      ]
     },
     "execution_count": 205,
     "metadata": {},
     "output_type": "execute_result"
    }
   ],
   "source": [
    "double_d.update({'afaf': 24, '41': 12})\n",
    "double_d"
   ]
  },
  {
   "cell_type": "code",
   "execution_count": 215,
   "id": "235ca24d",
   "metadata": {
    "ExecuteTime": {
     "end_time": "2022-10-07T09:17:39.790393Z",
     "start_time": "2022-10-07T09:17:39.783870Z"
    }
   },
   "outputs": [],
   "source": [
    "class AnswerDict(UserDict):\n",
    "    def __getitem__(self, key):\n",
    "        return 42"
   ]
  },
  {
   "cell_type": "code",
   "execution_count": 213,
   "id": "fddfbdd0",
   "metadata": {
    "ExecuteTime": {
     "end_time": "2022-10-07T09:17:33.578599Z",
     "start_time": "2022-10-07T09:17:33.571980Z"
    }
   },
   "outputs": [],
   "source": [
    "ad = AnswerDict(a='answer')"
   ]
  },
  {
   "cell_type": "code",
   "execution_count": 217,
   "id": "115e735d",
   "metadata": {
    "ExecuteTime": {
     "end_time": "2022-10-07T09:17:45.928096Z",
     "start_time": "2022-10-07T09:17:45.918833Z"
    }
   },
   "outputs": [
    {
     "data": {
      "text/plain": [
       "42"
      ]
     },
     "execution_count": 217,
     "metadata": {},
     "output_type": "execute_result"
    }
   ],
   "source": [
    "ad['a']"
   ]
  },
  {
   "cell_type": "code",
   "execution_count": 221,
   "id": "089827a0",
   "metadata": {
    "ExecuteTime": {
     "end_time": "2022-10-07T09:18:24.390052Z",
     "start_time": "2022-10-07T09:18:24.381289Z"
    }
   },
   "outputs": [
    {
     "data": {
      "text/plain": [
       "{'data': {'a': 'answer'}}"
      ]
     },
     "execution_count": 221,
     "metadata": {},
     "output_type": "execute_result"
    }
   ],
   "source": [
    "ad.__dict__"
   ]
  },
  {
   "cell_type": "code",
   "execution_count": 218,
   "id": "8a7a6e3a",
   "metadata": {
    "ExecuteTime": {
     "end_time": "2022-10-07T09:18:02.810125Z",
     "start_time": "2022-10-07T09:18:02.805935Z"
    }
   },
   "outputs": [],
   "source": [
    "simple_dict = {}\n",
    "simple_dict.update(ad)"
   ]
  },
  {
   "cell_type": "code",
   "execution_count": 219,
   "id": "547d1342",
   "metadata": {
    "ExecuteTime": {
     "end_time": "2022-10-07T09:18:05.142612Z",
     "start_time": "2022-10-07T09:18:05.137599Z"
    }
   },
   "outputs": [
    {
     "data": {
      "text/plain": [
       "{'a': 42}"
      ]
     },
     "execution_count": 219,
     "metadata": {},
     "output_type": "execute_result"
    }
   ],
   "source": [
    "simple_dict"
   ]
  },
  {
   "cell_type": "markdown",
   "id": "6e659dc4",
   "metadata": {},
   "source": [
    "---"
   ]
  },
  {
   "cell_type": "markdown",
   "id": "fa5edc76",
   "metadata": {},
   "source": [
    "Выше мы видели, что можем объявить логику итерирования задав только один метод"
   ]
  },
  {
   "cell_type": "code",
   "execution_count": 240,
   "id": "dfb2a81f",
   "metadata": {
    "ExecuteTime": {
     "end_time": "2022-10-07T09:25:21.682991Z",
     "start_time": "2022-10-07T09:25:21.677992Z"
    }
   },
   "outputs": [],
   "source": [
    "class Digits:\n",
    "    digits = '0123456789'\n",
    "    \n",
    "    def __getitem__(self, i):\n",
    "        return self.digits[i]\n",
    "    \n",
    "#     def __setitem__(self, i, value):  # не будет работать, потому что строки все еще неизменяемые\n",
    "#         self.digits[i] = value"
   ]
  },
  {
   "cell_type": "code",
   "execution_count": 241,
   "id": "fe98bc36",
   "metadata": {
    "ExecuteTime": {
     "end_time": "2022-10-07T09:25:23.883465Z",
     "start_time": "2022-10-07T09:25:23.877022Z"
    }
   },
   "outputs": [],
   "source": [
    "digits = Digits()"
   ]
  },
  {
   "cell_type": "code",
   "execution_count": 242,
   "id": "a9508f51",
   "metadata": {
    "ExecuteTime": {
     "end_time": "2022-10-07T09:25:24.060602Z",
     "start_time": "2022-10-07T09:25:24.053065Z"
    }
   },
   "outputs": [
    {
     "name": "stdout",
     "output_type": "stream",
     "text": [
      "0\n",
      "1\n",
      "2\n",
      "3\n",
      "4\n",
      "5\n",
      "6\n",
      "7\n",
      "8\n",
      "9\n"
     ]
    }
   ],
   "source": [
    "for d in digits: print(d)"
   ]
  },
  {
   "cell_type": "code",
   "execution_count": 243,
   "id": "ef8e6cab",
   "metadata": {
    "ExecuteTime": {
     "end_time": "2022-10-07T09:25:24.250065Z",
     "start_time": "2022-10-07T09:25:24.224443Z"
    }
   },
   "outputs": [
    {
     "ename": "TypeError",
     "evalue": "'Digits' object does not support item assignment",
     "output_type": "error",
     "traceback": [
      "\u001b[0;31m---------------------------------------------------------------------------\u001b[0m",
      "\u001b[0;31mTypeError\u001b[0m                                 Traceback (most recent call last)",
      "Cell \u001b[0;32mIn [243], line 1\u001b[0m\n\u001b[0;32m----> 1\u001b[0m digits[\u001b[38;5;241m1\u001b[39m] \u001b[38;5;241m=\u001b[39m \u001b[38;5;124m'\u001b[39m\u001b[38;5;124m0\u001b[39m\u001b[38;5;124m'\u001b[39m\n",
      "\u001b[0;31mTypeError\u001b[0m: 'Digits' object does not support item assignment"
     ]
    }
   ],
   "source": [
    "digits[1] = '0'"
   ]
  },
  {
   "cell_type": "code",
   "execution_count": 244,
   "id": "6e1ced62",
   "metadata": {
    "ExecuteTime": {
     "end_time": "2022-10-07T09:25:24.879886Z",
     "start_time": "2022-10-07T09:25:24.866799Z"
    }
   },
   "outputs": [
    {
     "ename": "TypeError",
     "evalue": "object of type 'Digits' has no len()",
     "output_type": "error",
     "traceback": [
      "\u001b[0;31m---------------------------------------------------------------------------\u001b[0m",
      "\u001b[0;31mTypeError\u001b[0m                                 Traceback (most recent call last)",
      "Cell \u001b[0;32mIn [244], line 1\u001b[0m\n\u001b[0;32m----> 1\u001b[0m \u001b[38;5;28mlen\u001b[39m(digits)\n",
      "\u001b[0;31mTypeError\u001b[0m: object of type 'Digits' has no len()"
     ]
    }
   ],
   "source": [
    "len(digits)"
   ]
  },
  {
   "cell_type": "markdown",
   "id": "07b35bfa",
   "metadata": {},
   "source": [
    "Получается, что итерироваться можем, а длину не знаем.. Если вдруг передадим такой класс в код, который ожидает последовательность, можно получить ошибку в неожиданный момент\n",
    "\n",
    "Можно задать явно недостающий метод"
   ]
  },
  {
   "cell_type": "code",
   "execution_count": 245,
   "id": "5dc9c3fc",
   "metadata": {
    "ExecuteTime": {
     "end_time": "2022-10-07T09:26:36.181529Z",
     "start_time": "2022-10-07T09:26:36.175962Z"
    }
   },
   "outputs": [],
   "source": [
    "class Digits:\n",
    "    \n",
    "    def __init__(self, items:str):\n",
    "        self.digits = items\n",
    "    \n",
    "    def __getitem__(self, i):\n",
    "        return self.digits[i]\n",
    "    \n",
    "    def __len__(self):\n",
    "        return len(self.digits)\n",
    "    \n",
    "#     def __setitem__(self, i, value):\n",
    "#         self.digits[i] = value"
   ]
  },
  {
   "cell_type": "code",
   "execution_count": 246,
   "id": "a3295b7e",
   "metadata": {
    "ExecuteTime": {
     "end_time": "2022-10-07T09:26:50.315356Z",
     "start_time": "2022-10-07T09:26:50.310868Z"
    }
   },
   "outputs": [],
   "source": [
    "fixed_digits = Digits('4817491724971')"
   ]
  },
  {
   "cell_type": "code",
   "execution_count": 247,
   "id": "73a7b7b5",
   "metadata": {
    "ExecuteTime": {
     "end_time": "2022-10-07T09:26:58.389743Z",
     "start_time": "2022-10-07T09:26:58.384981Z"
    }
   },
   "outputs": [
    {
     "name": "stdout",
     "output_type": "stream",
     "text": [
      "4\n",
      "8\n",
      "1\n",
      "7\n",
      "4\n",
      "9\n",
      "1\n",
      "7\n",
      "2\n",
      "4\n",
      "9\n",
      "7\n",
      "1\n"
     ]
    }
   ],
   "source": [
    "for i in fixed_digits:\n",
    "    print(i)"
   ]
  },
  {
   "cell_type": "code",
   "execution_count": 248,
   "id": "a9cdc34c",
   "metadata": {
    "ExecuteTime": {
     "end_time": "2022-10-07T09:27:07.953225Z",
     "start_time": "2022-10-07T09:27:07.947749Z"
    }
   },
   "outputs": [
    {
     "data": {
      "text/plain": [
       "13"
      ]
     },
     "execution_count": 248,
     "metadata": {},
     "output_type": "execute_result"
    }
   ],
   "source": [
    "len(fixed_digits)"
   ]
  },
  {
   "cell_type": "code",
   "execution_count": 249,
   "id": "65dbc439",
   "metadata": {
    "ExecuteTime": {
     "end_time": "2022-10-07T09:27:44.340845Z",
     "start_time": "2022-10-07T09:27:44.334651Z"
    }
   },
   "outputs": [],
   "source": [
    "from random import choice"
   ]
  },
  {
   "cell_type": "code",
   "execution_count": 250,
   "id": "f80ddedf",
   "metadata": {
    "ExecuteTime": {
     "end_time": "2022-10-07T09:27:57.619978Z",
     "start_time": "2022-10-07T09:27:57.615158Z"
    }
   },
   "outputs": [
    {
     "data": {
      "text/plain": [
       "'4'"
      ]
     },
     "execution_count": 250,
     "metadata": {},
     "output_type": "execute_result"
    }
   ],
   "source": [
    "choice(fixed_digits)"
   ]
  },
  {
   "cell_type": "markdown",
   "id": "6941bd9b",
   "metadata": {},
   "source": [
    "---"
   ]
  },
  {
   "cell_type": "markdown",
   "id": "65410136",
   "metadata": {},
   "source": [
    "Также можно добавить в код некоторую проверку на соответсвию интерфейсу. Например, так мы проверяем наш класс на следованию интерфейсу абстрактной последовательности"
   ]
  },
  {
   "cell_type": "code",
   "execution_count": 253,
   "id": "188d0722",
   "metadata": {
    "ExecuteTime": {
     "end_time": "2022-10-07T09:30:50.114376Z",
     "start_time": "2022-10-07T09:30:50.110024Z"
    }
   },
   "outputs": [],
   "source": [
    "from collections import abc\n",
    "\n",
    "class Digits(abc.Sequence):\n",
    "    \n",
    "    digits = '0123456789'\n",
    "    \n",
    "    def __getitem__(self, i):\n",
    "        return self.digits[i]\n",
    "    \n",
    "    "
   ]
  },
  {
   "cell_type": "code",
   "execution_count": 252,
   "id": "c440015c",
   "metadata": {
    "ExecuteTime": {
     "end_time": "2022-10-07T09:29:29.497048Z",
     "start_time": "2022-10-07T09:29:29.483883Z"
    }
   },
   "outputs": [
    {
     "ename": "TypeError",
     "evalue": "Can't instantiate abstract class Digits with abstract method __len__",
     "output_type": "error",
     "traceback": [
      "\u001b[0;31m---------------------------------------------------------------------------\u001b[0m",
      "\u001b[0;31mTypeError\u001b[0m                                 Traceback (most recent call last)",
      "Cell \u001b[0;32mIn [252], line 1\u001b[0m\n\u001b[0;32m----> 1\u001b[0m digits \u001b[38;5;241m=\u001b[39m Digits()\n",
      "\u001b[0;31mTypeError\u001b[0m: Can't instantiate abstract class Digits with abstract method __len__"
     ]
    }
   ],
   "source": [
    "digits = Digits()"
   ]
  },
  {
   "cell_type": "markdown",
   "id": "5da75056",
   "metadata": {},
   "source": [
    "И получаем ошибку при создании объекта, потому что без операции длины это не последовательность в полном смысле"
   ]
  },
  {
   "cell_type": "code",
   "execution_count": 257,
   "id": "3366dd61",
   "metadata": {
    "ExecuteTime": {
     "end_time": "2022-10-07T09:31:35.550005Z",
     "start_time": "2022-10-07T09:31:35.545017Z"
    }
   },
   "outputs": [],
   "source": [
    "class Digits(abc.Sequence):\n",
    "    \n",
    "    digits = '0123456789'\n",
    "    \n",
    "    def __getitem__(self, i):\n",
    "        return self.digits[i]\n",
    "    \n",
    "    \n",
    "    def __len__(self):\n",
    "        return 0"
   ]
  },
  {
   "cell_type": "code",
   "execution_count": 258,
   "id": "bebef943",
   "metadata": {
    "ExecuteTime": {
     "end_time": "2022-10-07T09:31:35.727036Z",
     "start_time": "2022-10-07T09:31:35.720586Z"
    }
   },
   "outputs": [],
   "source": [
    "digits = Digits()"
   ]
  },
  {
   "cell_type": "code",
   "execution_count": 259,
   "id": "9a5610a3",
   "metadata": {
    "ExecuteTime": {
     "end_time": "2022-10-07T09:31:35.903048Z",
     "start_time": "2022-10-07T09:31:35.893475Z"
    }
   },
   "outputs": [
    {
     "data": {
      "text/plain": [
       "0"
      ]
     },
     "execution_count": 259,
     "metadata": {},
     "output_type": "execute_result"
    }
   ],
   "source": [
    "len(digits)"
   ]
  }
 ],
 "metadata": {
  "kernelspec": {
   "display_name": "base-env",
   "language": "python",
   "name": "base-env"
  },
  "language_info": {
   "codemirror_mode": {
    "name": "ipython",
    "version": 3
   },
   "file_extension": ".py",
   "mimetype": "text/x-python",
   "name": "python",
   "nbconvert_exporter": "python",
   "pygments_lexer": "ipython3",
   "version": "3.9.12"
  },
  "toc": {
   "base_numbering": 1,
   "nav_menu": {},
   "number_sections": true,
   "sideBar": true,
   "skip_h1_title": false,
   "title_cell": "Table of Contents",
   "title_sidebar": "Contents",
   "toc_cell": false,
   "toc_position": {},
   "toc_section_display": true,
   "toc_window_display": false
  },
  "varInspector": {
   "cols": {
    "lenName": 16,
    "lenType": 16,
    "lenVar": 40
   },
   "kernels_config": {
    "python": {
     "delete_cmd_postfix": "",
     "delete_cmd_prefix": "del ",
     "library": "var_list.py",
     "varRefreshCmd": "print(var_dic_list())"
    },
    "r": {
     "delete_cmd_postfix": ") ",
     "delete_cmd_prefix": "rm(",
     "library": "var_list.r",
     "varRefreshCmd": "cat(var_dic_list()) "
    }
   },
   "types_to_exclude": [
    "module",
    "function",
    "builtin_function_or_method",
    "instance",
    "_Feature"
   ],
   "window_display": false
  }
 },
 "nbformat": 4,
 "nbformat_minor": 5
}
