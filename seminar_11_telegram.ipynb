{
 "cells": [
  {
   "cell_type": "markdown",
   "id": "571e2ec7",
   "metadata": {},
   "source": [
    "# Telegram Bot"
   ]
  },
  {
   "cell_type": "markdown",
   "id": "605f3b1f",
   "metadata": {},
   "source": [
    "Для бота нужно установить соответствующую библиотеку\n",
    "\n",
    "https://pytba.readthedocs.io/en/latest/index.html\n",
    "\n",
    "`! pip install pyTelegramBotAPI`"
   ]
  },
  {
   "cell_type": "code",
   "execution_count": 2,
   "id": "347c593c",
   "metadata": {
    "ExecuteTime": {
     "end_time": "2022-10-13T10:12:52.925758Z",
     "start_time": "2022-10-13T10:12:52.919753Z"
    }
   },
   "outputs": [],
   "source": [
    "import json\n",
    "import time\n",
    "import requests\n",
    "\n",
    "\n",
    "import telebot"
   ]
  },
  {
   "cell_type": "code",
   "execution_count": 95,
   "id": "845eae4f",
   "metadata": {
    "ExecuteTime": {
     "end_time": "2022-10-13T11:42:26.089373Z",
     "start_time": "2022-10-13T11:42:26.083833Z"
    }
   },
   "outputs": [],
   "source": [
    "import inspect\n",
    "\n",
    "\n",
    "CONFIG_PATH = '.bot_data.json'\n",
    "\n",
    "with open(CONFIG_PATH, 'r') as f:\n",
    "    BOT_DATA = json.load(f)\n",
    "    \n",
    "bot = telebot.TeleBot(BOT_DATA['token'])"
   ]
  },
  {
   "cell_type": "code",
   "execution_count": 96,
   "id": "1b153fba",
   "metadata": {
    "ExecuteTime": {
     "end_time": "2022-10-13T11:42:40.171978Z",
     "start_time": "2022-10-13T11:42:40.166716Z"
    }
   },
   "outputs": [
    {
     "name": "stdout",
     "output_type": "stream",
     "text": [
      "    def message_handler(self, commands: Optional[List[str]]=None, regexp: Optional[str]=None, func: Optional[Callable]=None,\n",
      "                    content_types: Optional[List[str]]=None, chat_types: Optional[List[str]]=None, **kwargs):\n",
      "        \"\"\"\n",
      "        Handles New incoming message of any kind - text, photo, sticker, etc.\n",
      "        As a parameter to the decorator function, it passes :class:`telebot.types.Message` object.\n",
      "        All message handlers are tested in the order they were added.\n",
      "\n",
      "        Example:\n",
      "\n",
      "        .. code-block:: python3\n",
      "            :caption: Usage of message_handler\n",
      "\n",
      "            bot = TeleBot('TOKEN')\n",
      "\n",
      "            # Handles all messages which text matches regexp.\n",
      "            @bot.message_handler(regexp='someregexp')\n",
      "            def command_help(message):\n",
      "                bot.send_message(message.chat.id, 'Did someone call for help?')\n",
      "\n",
      "            # Handles messages in private chat\n",
      "            @bot.message_handler(chat_types=['private']) # You can add more chat types\n",
      "            def command_help(message):\n",
      "                bot.send_message(message.chat.id, 'Private chat detected, sir!')\n",
      "\n",
      "            # Handle all sent documents of type 'text/plain'.\n",
      "            @bot.message_handler(func=lambda message: message.document.mime_type == 'text/plain',\n",
      "                content_types=['document'])\n",
      "            def command_handle_document(message):\n",
      "                bot.send_message(message.chat.id, 'Document received, sir!')\n",
      "\n",
      "            # Handle all other messages.\n",
      "            @bot.message_handler(func=lambda message: True, content_types=['audio', 'photo', 'voice', 'video', 'document',\n",
      "                'text', 'location', 'contact', 'sticker'])\n",
      "            def default_command(message):\n",
      "                bot.send_message(message.chat.id, \"This is the default command handler.\")\n",
      "\n",
      "        :param commands: Optional list of strings (commands to handle).\n",
      "        :type commands: :obj:`list` of :obj:`str`\n",
      "\n",
      "        :param regexp: Optional regular expression.\n",
      "        :type regexp: :obj:`str`\n",
      "\n",
      "        :param func: Optional lambda function. The lambda receives the message to test as the first parameter.\n",
      "            It must return True if the command should handle the message.\n",
      "        :type func: :obj:`lambda`\n",
      "\n",
      "        :param content_types: Supported message content types. Must be a list. Defaults to ['text'].\n",
      "        :type content_types: :obj:`list` of :obj:`str`\n",
      "\n",
      "        :param chat_types: list of chat types\n",
      "        :type chat_types: :obj:`list` of :obj:`str`\n",
      "\n",
      "        :param kwargs: Optional keyword arguments(custom filters)\n",
      "\n",
      "        :return: decorated function\n",
      "        \"\"\"\n",
      "        if content_types is None:\n",
      "            content_types = [\"text\"]\n",
      "\n",
      "        method_name = \"message_handler\"\n",
      "\n",
      "        if commands is not None:\n",
      "            self.check_commands_input(commands, method_name)\n",
      "            if isinstance(commands, str):\n",
      "                commands = [commands]\n",
      "\n",
      "        if regexp is not None:\n",
      "            self.check_regexp_input(regexp, method_name)\n",
      "\n",
      "        if isinstance(content_types, str):\n",
      "            logger.warning(\"message_handler: 'content_types' filter should be List of strings (content types), not string.\")\n",
      "            content_types = [content_types]\n",
      "\n",
      "        def decorator(handler):\n",
      "            handler_dict = self._build_handler_dict(handler,\n",
      "                                                    chat_types=chat_types,\n",
      "                                                    content_types=content_types,\n",
      "                                                    commands=commands,\n",
      "                                                    regexp=regexp,\n",
      "                                                    func=func,\n",
      "                                                    **kwargs)\n",
      "            self.add_message_handler(handler_dict)\n",
      "            return handler\n",
      "\n",
      "        return decorator\n",
      "\n"
     ]
    }
   ],
   "source": [
    "print(inspect.getsource(bot.message_handler))  # можно посмотреть на код функций"
   ]
  },
  {
   "cell_type": "code",
   "execution_count": 102,
   "id": "1fc66739",
   "metadata": {
    "ExecuteTime": {
     "end_time": "2022-10-13T12:33:39.753410Z",
     "start_time": "2022-10-13T12:33:39.747559Z"
    }
   },
   "outputs": [
    {
     "name": "stdout",
     "output_type": "stream",
     "text": [
      "Overwriting csda_bot.py\n"
     ]
    }
   ],
   "source": [
    "%%writefile csda_bot.py\n",
    "\n",
    "import json\n",
    "import time\n",
    "import requests\n",
    "\n",
    "import telebot\n",
    "\n",
    "DAY2MONTH_RU = {\n",
    "    1: 'Январь',\n",
    "    2: 'Февраль',\n",
    "    3: 'Март',\n",
    "    4: 'Апрель',\n",
    "    5: 'Май',\n",
    "    6: 'Июнь',\n",
    "    7: 'Июль',\n",
    "    8: 'Август',\n",
    "    9: 'Сентябрь',\n",
    "    10: 'Октябрь',\n",
    "    11: 'Ноябрь',\n",
    "    12: 'Декабрь',\n",
    "}\n",
    "\n",
    "DAY2MONTH_EN = {\n",
    "    1: \"January\",\n",
    "    2: \"February\",\n",
    "    3: \"March\",\n",
    "    4: \"April\",\n",
    "    5: \"May\",\n",
    "    6: \"June\",\n",
    "    7: \"July\",\n",
    "    8: \"August\",\n",
    "    9: \"September\",\n",
    "    10: \"October\",\n",
    "    11: \"November\",\n",
    "    12: \"December\",\n",
    "}\n",
    "\n",
    "CONFIG_PATH = '.bot_data.json'\n",
    "\n",
    "with open(CONFIG_PATH, 'r') as f:\n",
    "    BOT_DATA = json.load(f)\n",
    "    \n",
    "API_TOKEN = BOT_DATA['token']\n",
    "\n",
    "\n",
    "def add_date_remainder(day_of_month: int):\n",
    "    '''\n",
    "    Add day_of_month remainder for English language\n",
    "    (contributed by strudent)\n",
    "    '''\n",
    "    return f'the {day_of_month}{\"st\" if (remainder := day_of_month % 10) == 1 and day_of_month != 11 else \"nd\" if remainder == 2 and day_of_month != 12 else \"rd\" if remainder == 3 and day_of_month != 13 else \"th\"}'\n",
    "\n",
    "def generate_data_phrase(location: str='Armenia', lang: str='en'):\n",
    "    time_struct = time.gmtime()\n",
    "        \n",
    "    if lang == 'ru':    \n",
    "        date_str = f'{location}, {time_struct.tm_mday} число, {DAY2MONTH_RU[time_struct.tm_mon]}, {time_struct.tm_hour:02}:{time_struct.tm_min:02}:{time_struct.tm_sec:02}.'\n",
    "    else:\n",
    "        date_str = f'Today in {location}, {add_date_remainder(time_struct.tm_mday)} of {DAY2MONTH_EN[time_struct.tm_mon]}, {time_struct.tm_hour:02}:{time_struct.tm_min:02}:{time_struct.tm_sec:02}.'\n",
    "                \n",
    "    return date_str\n",
    "\n",
    "\n",
    "def ask_balaboba(location: str = 'Russia',\n",
    "                 lang: str = 'en',\n",
    "                 url: str = 'https://yandex.ru/lab/api/yalm/text3',\n",
    "                 delay: int = 0):\n",
    "    time.sleep(delay)\n",
    "\n",
    "    query = generate_data_phrase(location=location, lang=lang)\n",
    "\n",
    "    headers = {\n",
    "        'Content-Type': 'application/json',\n",
    "        'Origin': 'https://yandex.com',\n",
    "        'Referer': 'https://yandex.com',\n",
    "        'User-Agent': 'Mozilla/5.0 (X11; Ubuntu; Linux x86_64; rv:105.0) Gecko/20100101 Firefox/105.0',\n",
    "    }\n",
    "\n",
    "    payload = json.dumps({\n",
    "        \"query\": query,\n",
    "        \"intro\": 28,  # 28\n",
    "        \"filter\": 1,\n",
    "    })\n",
    "\n",
    "    response = requests.request('POST', url, headers=headers, data=payload)\n",
    "\n",
    "    if response.ok:\n",
    "        text = response.json()['text']\n",
    "        text = 'There is nothing.' if not text else text\n",
    "\n",
    "        return f'{query} {text}'\n",
    "\n",
    "    else:\n",
    "        return f'No story. Status code {response.status_code}'\n",
    "\n",
    "\n",
    "bot = telebot.TeleBot(API_TOKEN)\n",
    "\n",
    "@bot.message_handler(commands=['start'])\n",
    "def start(message):\n",
    "    markup = telebot.types.ReplyKeyboardMarkup(resize_keyboard=True)\n",
    "    markup.add(telebot.types.KeyboardButton(\"Story Armenia En\"))\n",
    "    markup.add(telebot.types.KeyboardButton(\"Story Армения Ru\"))\n",
    "    markup.add(telebot.types.KeyboardButton(\"Story Russia En\"))\n",
    "    markup.add(telebot.types.KeyboardButton(\"Story Россия Ru\"))\n",
    "    \n",
    "    bot.send_message(\n",
    "        message.chat.id,\n",
    "        'Press to get an amazing story!',\n",
    "        reply_markup=markup\n",
    "    )\n",
    "\n",
    "    \n",
    "@bot.message_handler(content_types=['text'])\n",
    "def answer_message(message):\n",
    "    try:\n",
    "        command = message.text.strip().split()[0]\n",
    "        if command.lower() == 'story':\n",
    "            country, lang = message.text.strip().split()[1:]\n",
    "\n",
    "            if country and lang:\n",
    "                story = ask_balaboba(location=country, lang=lang.lower(), delay=2)\n",
    "            else:\n",
    "                story = ask_balaboba(delay=2)\n",
    "            \n",
    "            reply = f'Here is your story:\\n```\\n{story}\\n```'\n",
    "            bot.send_message(BOT_DATA['channel'], reply, parse_mode='Markdown')\n",
    "        \n",
    "        else:\n",
    "            story = f'I see your \"{message.text}\", so what?'\n",
    "    \n",
    "    except ValueError:\n",
    "            story = f'I see your \"{message.text}\", are you sure you wanted to formulate it in this way?'\n",
    "            \n",
    "    reply = f'Here is your story:\\n```\\n{story}\\n```'\n",
    "    bot.reply_to(message, reply, parse_mode='Markdown')\n",
    "    \n",
    "    \n",
    "bot.infinity_polling()"
   ]
  },
  {
   "cell_type": "code",
   "execution_count": null,
   "id": "d02f26ed",
   "metadata": {},
   "outputs": [],
   "source": []
  }
 ],
 "metadata": {
  "kernelspec": {
   "display_name": "base-env",
   "language": "python",
   "name": "base-env"
  },
  "language_info": {
   "codemirror_mode": {
    "name": "ipython",
    "version": 3
   },
   "file_extension": ".py",
   "mimetype": "text/x-python",
   "name": "python",
   "nbconvert_exporter": "python",
   "pygments_lexer": "ipython3",
   "version": "3.9.12"
  },
  "toc": {
   "base_numbering": 1,
   "nav_menu": {},
   "number_sections": true,
   "sideBar": true,
   "skip_h1_title": false,
   "title_cell": "Table of Contents",
   "title_sidebar": "Contents",
   "toc_cell": false,
   "toc_position": {},
   "toc_section_display": true,
   "toc_window_display": false
  },
  "varInspector": {
   "cols": {
    "lenName": 16,
    "lenType": 16,
    "lenVar": 40
   },
   "kernels_config": {
    "python": {
     "delete_cmd_postfix": "",
     "delete_cmd_prefix": "del ",
     "library": "var_list.py",
     "varRefreshCmd": "print(var_dic_list())"
    },
    "r": {
     "delete_cmd_postfix": ") ",
     "delete_cmd_prefix": "rm(",
     "library": "var_list.r",
     "varRefreshCmd": "cat(var_dic_list()) "
    }
   },
   "types_to_exclude": [
    "module",
    "function",
    "builtin_function_or_method",
    "instance",
    "_Feature"
   ],
   "window_display": false
  }
 },
 "nbformat": 4,
 "nbformat_minor": 5
}
